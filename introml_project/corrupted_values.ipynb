{
 "cells": [
  {
   "cell_type": "markdown",
   "id": "57da75c6-9378-4cbb-aff7-9bc016fc8072",
   "metadata": {
    "tags": []
   },
   "source": [
    "# 0. Imports"
   ]
  },
  {
   "cell_type": "code",
   "execution_count": 1,
   "id": "2102ca8f-4d72-4eb2-a361-09244c8d9968",
   "metadata": {
    "cell_id": "3f85548a-39d6-4cda-83bc-61ce3077eb94",
    "deepnote_cell_height": 189,
    "deepnote_cell_type": "code",
    "deepnote_to_be_reexecuted": false,
    "execution_millis": 2730,
    "execution_start": 1652263161409,
    "source_hash": "fd9ca64a",
    "tags": []
   },
   "outputs": [],
   "source": [
    "import pandas as pd\n",
    "import numpy as np\n",
    "import scipy\n",
    "from typing import Any, Callable\n",
    "import helpers\n",
    "import matplotlib.pyplot as plt\n",
    "import seaborn as sns\n",
    "from sklearn.linear_model import LinearRegression\n",
    "from sklearn.metrics import mean_squared_error, r2_score\n",
    "from tqdm import tqdm\n",
    "from sklearn.model_selection import cross_val_score\n",
    "from sklearn.neural_network import MLPRegressor\n",
    "from sklearn.model_selection import train_test_split\n",
    "from zipfile import ZipFile"
   ]
  },
  {
   "cell_type": "code",
   "execution_count": 2,
   "id": "af990389-5317-4bc0-b8a8-96172839eb01",
   "metadata": {},
   "outputs": [
    {
     "data": {
      "text/html": [
       "<style>\n",
       "table {float:left}\n",
       "</style>\n"
      ],
      "text/plain": [
       "<IPython.core.display.HTML object>"
      ]
     },
     "metadata": {},
     "output_type": "display_data"
    }
   ],
   "source": [
    "%%html\n",
    "<style>\n",
    "table {float:left}\n",
    "</style>"
   ]
  },
  {
   "cell_type": "code",
   "execution_count": 3,
   "id": "1c5a7eb4-a91c-4199-bced-3cad9df3d0c7",
   "metadata": {
    "cell_id": "00001-ec7f0b25-463d-4360-a8b8-d46f48175ef8",
    "deepnote_cell_height": 261,
    "deepnote_cell_type": "code",
    "deepnote_to_be_reexecuted": false,
    "execution_millis": 4,
    "execution_start": 1652263164142,
    "source_hash": "705f51f9",
    "tags": []
   },
   "outputs": [],
   "source": [
    "#Settings for the plots \n",
    "sns.set_style(\"ticks\")\n",
    "colors= sns.color_palette('colorblind')\n",
    "plt.rc('xtick', labelsize=12) \n",
    "plt.rc('ytick', labelsize=12) \n",
    "plt.rc('axes', titlesize=18)\n",
    "plt.rc('axes', labelsize=13)\n",
    "plt.rcParams['ytick.major.size'] = 7\n",
    "plt.rcParams['ytick.minor.size'] = 6\n",
    "\n",
    "sns.set_style(\"darkgrid\", {'axes.grid' : False, 'ytick.left': True, 'xtick.bottom': True})"
   ]
  },
  {
   "cell_type": "code",
   "execution_count": 4,
   "id": "f57ef8d9-9559-4272-9b74-5b3560825e20",
   "metadata": {
    "cell_id": "00002-97f92ba4-eeb4-4e7a-adb1-3f2f2d59684f",
    "deepnote_cell_height": 81,
    "deepnote_cell_type": "code",
    "deepnote_to_be_reexecuted": false,
    "execution_millis": 471,
    "execution_start": 1652263164190,
    "source_hash": "b85b4859"
   },
   "outputs": [],
   "source": [
    "X_train = pd.read_csv(\"project-data-interpolated/df_X_train.csv\", index_col=0)\n",
    "y_train = pd.read_csv(\"project-data-interpolated/df_y_train.csv\", index_col=0)\n",
    "\n",
    "X_val = pd.read_csv(\"project-data-interpolated/df_X_val.csv\", index_col=0)\n",
    "y_val = pd.read_csv(\"project-data-interpolated/df_y_val.csv\", index_col=0)\n",
    "\n",
    "X_test = pd.read_csv(\"project-data-interpolated/df_X_test.csv\", index_col=0)"
   ]
  },
  {
   "cell_type": "code",
   "execution_count": 5,
   "id": "b4a8c660-3e5e-4345-b28f-825fce796619",
   "metadata": {
    "cell_id": "651a012370724907808fc5ac280a2c59",
    "deepnote_cell_height": 99,
    "deepnote_cell_type": "code",
    "deepnote_to_be_reexecuted": false,
    "execution_millis": 3,
    "execution_start": 1652266498524,
    "source_hash": "a6310317",
    "tags": []
   },
   "outputs": [],
   "source": [
    "X_train.replace(['NO','YES'],[False,True],inplace=True)\n",
    "X_val.replace(['NO','YES'],[False,True],inplace=True)\n",
    "Sa_T_values = [float(x) for x in X_train.columns[:105]]"
   ]
  },
  {
   "cell_type": "markdown",
   "id": "11036d26-57fa-4545-9dba-861a2d905019",
   "metadata": {},
   "source": [
    "## 0.1. Where are corrupted values (-999)?"
   ]
  },
  {
   "cell_type": "markdown",
   "id": "8d12d233-6673-4229-a7fc-dfd0fcae9105",
   "metadata": {},
   "source": [
    "First, we study where the corrupted values of `-999` usually stand.  "
   ]
  },
  {
   "cell_type": "code",
   "execution_count": 6,
   "id": "1c47a76f-5b5c-4252-ab7b-8694b1846a52",
   "metadata": {},
   "outputs": [
    {
     "name": "stdout",
     "output_type": "stream",
     "text": [
      "In X_train, corrupted values are in columns: ['magnitude' 'distance_closest' 'lowest_usable_frequency']\n",
      "In X_val, corrupted values are in columns: ['magnitude' 'distance_closest' 'lowest_usable_frequency']\n",
      "In X_test, corrupted values are in columns: ['magnitude' 'distance_closest' 'lowest_usable_frequency']\n"
     ]
    }
   ],
   "source": [
    "X_train_corrupted_columns = X_train.columns[X_train.eq(-999).any(axis=0)==True].values\n",
    "print(f'In X_train, corrupted values are in columns: {X_train_corrupted_columns}')\n",
    "\n",
    "X_val_corrupted_columns = X_val.columns[X_val.eq(-999).any(axis=0)==True].values\n",
    "print(f'In X_val, corrupted values are in columns: {X_val_corrupted_columns}')\n",
    "\n",
    "X_test_corrupted_columns = X_test.columns[X_test.eq(-999).any(axis=0)==True].values\n",
    "print(f'In X_test, corrupted values are in columns: {X_test_corrupted_columns}')\n",
    "\n",
    "corrupted_columns = X_test.columns[X_test.eq(-999).any(axis=0)==True].values"
   ]
  },
  {
   "cell_type": "markdown",
   "id": "7675bd48-143b-4e8f-b041-e6c74cf08126",
   "metadata": {},
   "source": [
    "We see that we only have corrupted values in the columns `magnitude`, `distance_closest` and `lowest_usable_frequency`."
   ]
  },
  {
   "cell_type": "markdown",
   "id": "a96cc432-c267-4dce-9a5e-09dc09be653e",
   "metadata": {},
   "source": [
    "How many corrupted values per column? "
   ]
  },
  {
   "cell_type": "code",
   "execution_count": 7,
   "id": "88cf0d18-b6bf-4ebf-a2a8-182e7c7f7c5e",
   "metadata": {},
   "outputs": [
    {
     "name": "stdout",
     "output_type": "stream",
     "text": [
      "There is 7955 number of -999 in X_train, magnitude\n",
      "There is 8323 number of -999 in X_train, distance_closest\n",
      "There is 7949 number of -999 in X_train, lowest_usable_frequency\n",
      "And there is in TOTAL: 8340 number of -999 in X_train\n"
     ]
    }
   ],
   "source": [
    "print(f\"There is {X_train['magnitude'].eq(-999).sum()} number of -999 in X_train, magnitude\")\n",
    "print(f\"There is {X_train['distance_closest'].eq(-999).sum()} number of -999 in X_train, distance_closest\")\n",
    "print(f\"There is {X_train['lowest_usable_frequency'].eq(-999).sum()} number of -999 in X_train, lowest_usable_frequency\")\n",
    "print(f\"And there is in TOTAL: {X_train.eq(-999).any(axis=1).sum()} number of -999 in X_train\")"
   ]
  },
  {
   "cell_type": "markdown",
   "id": "74b09797-2b24-4848-ad2c-e3cd1607ef2e",
   "metadata": {},
   "source": [
    "This means that there are several rows where at least two of the three columns have corrupted values simultaneously"
   ]
  },
  {
   "cell_type": "code",
   "execution_count": 8,
   "id": "144022a7-cef2-4c54-bfc7-2da623a5eb18",
   "metadata": {},
   "outputs": [],
   "source": [
    "Id_train_magn = X_train.index[X_train['magnitude'].eq(-999)]\n",
    "Id_train_dcl = X_train.index[X_train['distance_closest'].eq(-999)]\n",
    "Id_train_lfreq = X_train.index[X_train['lowest_usable_frequency'].eq(-999)]"
   ]
  },
  {
   "cell_type": "code",
   "execution_count": 9,
   "id": "ae07b162-3318-4df1-9613-b09d6afe2fab",
   "metadata": {},
   "outputs": [
    {
     "name": "stdout",
     "output_type": "stream",
     "text": [
      "There is 95.0% of the rows that have the 3 columns corrupted at the same time\n"
     ]
    }
   ],
   "source": [
    "magn_inter_dcl = np.intersect1d(Id_train_magn, Id_train_dcl)\n",
    "magn_inter_lfreq = np.intersect1d(Id_train_magn, Id_train_lfreq)\n",
    "lfreq_inter_dcl = np.intersect1d(Id_train_dcl, Id_train_lfreq)\n",
    "magn_inter_dcl_inter_lfreq = np.intersect1d(magn_inter_dcl,magn_inter_lfreq)\n",
    "print(f'There is {np.round(len(magn_inter_dcl_inter_lfreq)/8340*100,0)}% of the rows that have the 3 columns corrupted at the same time')"
   ]
  },
  {
   "cell_type": "code",
   "execution_count": 10,
   "id": "c0266a90-9aab-4300-a3b1-8164a35a818a",
   "metadata": {},
   "outputs": [],
   "source": [
    "id_corrupted = X_train.index[X_train.eq(-999).any(axis=1)==True].to_list()\n",
    "id_healthy = X_train.index[X_train.eq(-999).any(axis=1)==False].to_list()"
   ]
  },
  {
   "cell_type": "markdown",
   "id": "19302361-d21c-41e1-9a99-8f52a7c9afdd",
   "metadata": {},
   "source": [
    "First we try to do regression on values where there was no NaNs. Then we do the same with a larger dataset where we include the interpolated Sa(T)s. "
   ]
  },
  {
   "cell_type": "markdown",
   "id": "1160dc4f-3d5f-4227-a4eb-0e05a9a9a213",
   "metadata": {},
   "source": [
    "# 1. Regression using SVM"
   ]
  },
  {
   "cell_type": "markdown",
   "id": "03d5e684-aa83-40d3-9812-32e7c8340fb5",
   "metadata": {},
   "source": [
    "## 1.1 Using only full rows"
   ]
  },
  {
   "cell_type": "markdown",
   "id": "3e2959a4-f123-4b77-8314-1dfe35ef86ce",
   "metadata": {},
   "source": [
    "### 1.1.1 Define the dataset"
   ]
  },
  {
   "cell_type": "code",
   "execution_count": 1,
   "id": "7e66e1be-3776-4c27-b095-a8b6fda2162a",
   "metadata": {
    "cell_id": "3f85548a-39d6-4cda-83bc-61ce3077eb94",
    "deepnote_cell_height": 189,
    "deepnote_cell_type": "code",
    "deepnote_to_be_reexecuted": false,
    "execution_millis": 2730,
    "execution_start": 1652263161409,
    "source_hash": "fd9ca64a",
    "tags": []
   },
   "outputs": [],
   "source": [
    "import pandas as pd\n",
    "import numpy as np\n",
    "import scipy\n",
    "from typing import Any, Callable\n",
    "import helpers\n",
    "import matplotlib.pyplot as plt\n",
    "import seaborn as sns\n",
    "from sklearn.linear_model import LinearRegression\n",
    "from sklearn.metrics import mean_squared_error, r2_score\n",
    "from tqdm import tqdm\n",
    "from sklearn.model_selection import cross_val_score\n",
    "from sklearn.neural_network import MLPRegressor\n",
    "from sklearn.model_selection import train_test_split\n",
    "from zipfile import ZipFile"
   ]
  },
  {
   "cell_type": "code",
   "execution_count": 2,
   "id": "e1037d8d-d83f-44df-a0e0-ea6247f7cb4b",
   "metadata": {},
   "outputs": [],
   "source": [
    "X_train = pd.read_csv(\"project-data-merged/df_X_train.csv\", index_col=0)\n",
    "y_train = pd.read_csv(\"project-data-merged/df_y_train.csv\", index_col=0)\n",
    "\n",
    "X_val = pd.read_csv(\"project-data-merged/df_X_val.csv\", index_col=0)\n",
    "y_val = pd.read_csv(\"project-data-merged/df_y_val.csv\", index_col=0)\n",
    "\n",
    "X_test = pd.read_csv(\"project-data-merged/df_X_test.csv\", index_col=0)"
   ]
  },
  {
   "cell_type": "code",
   "execution_count": 3,
   "id": "cb988f61-b084-4e40-8080-feff62934a8f",
   "metadata": {
    "cell_id": "651a012370724907808fc5ac280a2c59",
    "deepnote_cell_height": 99,
    "deepnote_cell_type": "code",
    "deepnote_to_be_reexecuted": false,
    "execution_millis": 3,
    "execution_start": 1652266498524,
    "source_hash": "a6310317",
    "tags": []
   },
   "outputs": [],
   "source": [
    "X_train.replace(['NO','YES'],[False,True],inplace=True)\n",
    "X_val.replace(['NO','YES'],[False,True],inplace=True)\n",
    "Sa_T_values = [float(x) for x in X_train.columns[:105]]"
   ]
  },
  {
   "cell_type": "code",
   "execution_count": 4,
   "id": "1b1afc8b-0d36-4ce5-97df-ae6db7c2b603",
   "metadata": {},
   "outputs": [],
   "source": [
    "full_rows_train = X_train.index[X_train.isnull().any(axis=1) == False].tolist()\n",
    "full_rows_val = X_val.index[X_val.isnull().any(axis=1) == False].tolist()"
   ]
  },
  {
   "cell_type": "code",
   "execution_count": 5,
   "id": "1e9a8563-31fd-4c58-8c39-d55f1f19703b",
   "metadata": {},
   "outputs": [],
   "source": [
    "#Keep only the rows that are empty\n",
    "empty_rows = X_train.index.to_list()\n",
    "for ele in sorted(full_rows_train, reverse = True):\n",
    "    del empty_rows[ele]"
   ]
  },
  {
   "cell_type": "code",
   "execution_count": 6,
   "id": "9a0c6a6a-b496-4a91-b0c8-834d99b33efd",
   "metadata": {},
   "outputs": [],
   "source": [
    "X_data = pd.concat([X_train.loc[full_rows_train], X_val], ignore_index=True)"
   ]
  },
  {
   "cell_type": "code",
   "execution_count": 7,
   "id": "145c5f68-e73f-4be9-a3d2-01157df95882",
   "metadata": {},
   "outputs": [
    {
     "name": "stdout",
     "output_type": "stream",
     "text": [
      "There is 1933 number of -999 in X_data, magnitude\n",
      "There is 1941 number of -999 in X_data, distance_closest\n",
      "There is 1933 number of -999 in X_data, lowest_usable_frequency\n",
      "And there is in TOTAL: 1941 number of -999 in X_data of size 5943\n"
     ]
    }
   ],
   "source": [
    "print(f\"There is {X_data['magnitude'].eq(-999).sum()} number of -999 in X_data, magnitude\")\n",
    "print(f\"There is {X_data['distance_closest'].eq(-999).sum()} number of -999 in X_data, distance_closest\")\n",
    "print(f\"There is {X_data['lowest_usable_frequency'].eq(-999).sum()} number of -999 in X_data, lowest_usable_frequency\")\n",
    "print(f\"And there is in TOTAL: {X_data.eq(-999).any(axis=1).sum()} number of -999 in X_data of size {X_data.shape[0]}\")"
   ]
  },
  {
   "cell_type": "markdown",
   "id": "f5963f85-216d-4703-8d48-72719943c855",
   "metadata": {},
   "source": [
    "So approximately 6.7% of the rows in X_data have -999s. We shall only take the healty rows to train our model. "
   ]
  },
  {
   "cell_type": "code",
   "execution_count": 8,
   "id": "66062d10-6efd-4da3-b3fa-a95e2d5ee738",
   "metadata": {},
   "outputs": [],
   "source": [
    "corrupted_columns = X_data.columns[X_data.eq(-999).any(axis=0)==True].values\n",
    "\n",
    "id_corrupted = X_data.index[X_data.eq(-999).any(axis=1)==True].to_list()\n",
    "id_healthy = X_data.index[X_data.eq(-999).any(axis=1)==False].to_list()"
   ]
  },
  {
   "cell_type": "code",
   "execution_count": 9,
   "id": "ca2fbb2d-1051-4a18-9d46-d6324908d8c2",
   "metadata": {},
   "outputs": [],
   "source": [
    "X_data = X_data.iloc[id_healthy,:]"
   ]
  },
  {
   "cell_type": "code",
   "execution_count": 10,
   "id": "4fbb037a-4de5-422a-b917-c4b0f63bdb79",
   "metadata": {},
   "outputs": [],
   "source": [
    "X_training, X_testing = helpers.create_train_test_dataset_for_regression(X_data,0.8,0.2)"
   ]
  },
  {
   "cell_type": "code",
   "execution_count": 11,
   "id": "a3943f7d-b4a9-4784-b5a6-c1fb6dc7a2bf",
   "metadata": {},
   "outputs": [],
   "source": [
    "X_testing_original, X_testing_missing = helpers.hide_values_999(X_testing, percentage = 0.067 )"
   ]
  },
  {
   "cell_type": "code",
   "execution_count": 12,
   "id": "1872bdc3-9d01-45b6-bade-9930b7e1a282",
   "metadata": {},
   "outputs": [
    {
     "name": "stdout",
     "output_type": "stream",
     "text": [
      "In X_testing_missing, 6.617% of the rows have -999s.\n"
     ]
    }
   ],
   "source": [
    "sum_empty = len(X_testing_missing.index[X_testing_missing.isnull().any(axis=1)==True].to_list())/len(X_testing_missing)\n",
    "print(f'In X_testing_missing, {np.round(sum_empty*100,3)}% of the rows have -999s.')"
   ]
  },
  {
   "cell_type": "markdown",
   "id": "3f708d7e-1305-402b-8882-e9b41d1e0ed3",
   "metadata": {},
   "source": [
    "The training set is ready"
   ]
  },
  {
   "cell_type": "markdown",
   "id": "0421c8ad-a6d0-4e24-85e7-ee7d6d85b99c",
   "metadata": {
    "cell_id": "00029-99f43225-c071-4bd7-8b81-448b45e36c5f",
    "deepnote_cell_height": 52.399993896484375,
    "deepnote_cell_type": "markdown"
   },
   "source": [
    "### 1.1.2. Imports for sci-kit learn"
   ]
  },
  {
   "cell_type": "code",
   "execution_count": 13,
   "id": "09805c7a-d932-457f-b3b1-7f648bc7e01e",
   "metadata": {
    "cell_id": "00030-05c201b9-3571-4bf8-b16e-63138e37c04d",
    "deepnote_cell_height": 117,
    "deepnote_cell_type": "code",
    "deepnote_to_be_reexecuted": false,
    "execution_millis": 44,
    "execution_start": 1652263170611,
    "owner_user_id": "dbb60ec9-fb43-4975-bfb1-9ceed7d857e2",
    "source_hash": "8b1c4371"
   },
   "outputs": [],
   "source": [
    "from sklearn.experimental import enable_iterative_imputer\n",
    "from sklearn.impute import IterativeImputer\n",
    "from sklearn.linear_model import BayesianRidge\n",
    "from sklearn.tree import DecisionTreeRegressor\n",
    "from sklearn.ensemble import ExtraTreesRegressor\n",
    "from sklearn.neighbors import KNeighborsRegressor\n",
    "from sklearn import svm"
   ]
  },
  {
   "cell_type": "code",
   "execution_count": 14,
   "id": "e6a5dbc9-bd2e-4151-abdc-5e4af3a9ab07",
   "metadata": {},
   "outputs": [
    {
     "data": {
      "text/plain": [
       "SVR()"
      ]
     },
     "execution_count": 14,
     "metadata": {},
     "output_type": "execute_result"
    }
   ],
   "source": [
    "regr_magn = svm.SVR()\n",
    "regr_magn.fit(X_training.drop(columns='magnitude'), X_training['magnitude'])\n",
    "\n",
    "regr_dist = svm.SVR()\n",
    "regr_dist.fit(X_training.drop(columns='distance_closest'), X_training['distance_closest'])\n",
    "\n",
    "regr_freq = svm.SVR()\n",
    "regr_freq.fit(X_training.drop(columns='lowest_usable_frequency'), X_training['lowest_usable_frequency'])"
   ]
  },
  {
   "cell_type": "code",
   "execution_count": 15,
   "id": "70ef58ad-c6fb-4b68-a132-519c1fdc3082",
   "metadata": {},
   "outputs": [],
   "source": [
    "pred_magn = regr_magn.predict(X_testing_original.drop(columns='magnitude'))\n",
    "pred_dist = regr_dist.predict(X_testing_original.drop(columns='distance_closest'))\n",
    "pred_freq = regr_freq.predict(X_testing_original.drop(columns='lowest_usable_frequency'))"
   ]
  },
  {
   "cell_type": "code",
   "execution_count": 16,
   "id": "fde9a0f3-a604-402d-8f66-13ce381c12eb",
   "metadata": {},
   "outputs": [
    {
     "name": "stdout",
     "output_type": "stream",
     "text": [
      "The score for magnitude regression is : 0.5469430664635353\n",
      "The score for distance_closest regression is : 72.83983060546805\n",
      "The score for lowest_usable_frequency regression is : 0.20735687721131105\n"
     ]
    }
   ],
   "source": [
    "score_magn = helpers.score_estimation(X_testing_original['magnitude'].to_numpy(),pred_magn)\n",
    "print(f'The score for magnitude regression is : {score_magn}')\n",
    "\n",
    "score_dist = helpers.score_estimation(X_testing_original['distance_closest'].to_numpy(),pred_dist)\n",
    "print(f'The score for distance_closest regression is : {score_dist}')\n",
    "\n",
    "score_freq = helpers.score_estimation(X_testing_original['lowest_usable_frequency'].to_numpy(),pred_freq)\n",
    "print(f'The score for lowest_usable_frequency regression is : {score_freq}')"
   ]
  },
  {
   "cell_type": "markdown",
   "id": "b9d8553e-70e9-4b0d-b4e8-f6bde900bc43",
   "metadata": {},
   "source": [
    "## 1.2. Using interpolated dataset"
   ]
  },
  {
   "cell_type": "markdown",
   "id": "5d4b419a-13b4-47c7-ae56-f0ac8046cb47",
   "metadata": {},
   "source": [
    "### 1.2.1 Define the dataset"
   ]
  },
  {
   "cell_type": "code",
   "execution_count": 1,
   "id": "baaff6fe-aec5-4f2e-9bf9-443e80e5abbb",
   "metadata": {
    "cell_id": "3f85548a-39d6-4cda-83bc-61ce3077eb94",
    "deepnote_cell_height": 189,
    "deepnote_cell_type": "code",
    "deepnote_to_be_reexecuted": false,
    "execution_millis": 2730,
    "execution_start": 1652263161409,
    "source_hash": "fd9ca64a",
    "tags": []
   },
   "outputs": [],
   "source": [
    "import pandas as pd\n",
    "import numpy as np\n",
    "import scipy\n",
    "from typing import Any, Callable\n",
    "import helpers\n",
    "import matplotlib.pyplot as plt\n",
    "import seaborn as sns\n",
    "from sklearn.linear_model import LinearRegression\n",
    "from sklearn.metrics import mean_squared_error, r2_score\n",
    "from tqdm import tqdm\n",
    "from sklearn.model_selection import cross_val_score\n",
    "from sklearn.neural_network import MLPRegressor\n",
    "from sklearn.model_selection import train_test_split\n",
    "from zipfile import ZipFile"
   ]
  },
  {
   "cell_type": "code",
   "execution_count": 2,
   "id": "e5092e44-78ee-4fdb-95d4-93afffac04d0",
   "metadata": {},
   "outputs": [],
   "source": [
    "X_train = pd.read_csv(\"project-data-interpolated/df_X_train.csv\", index_col=0)\n",
    "y_train = pd.read_csv(\"project-data-interpolated/df_y_train.csv\", index_col=0)\n",
    "\n",
    "X_val = pd.read_csv(\"project-data-interpolated/df_X_val.csv\", index_col=0)\n",
    "y_val = pd.read_csv(\"project-data-interpolated/df_y_val.csv\", index_col=0)\n",
    "\n",
    "X_test = pd.read_csv(\"project-data-interpolated/df_X_test.csv\", index_col=0)"
   ]
  },
  {
   "cell_type": "code",
   "execution_count": 3,
   "id": "b0182fa8-6ac7-4e20-84f9-3728a6020152",
   "metadata": {
    "cell_id": "651a012370724907808fc5ac280a2c59",
    "deepnote_cell_height": 99,
    "deepnote_cell_type": "code",
    "deepnote_to_be_reexecuted": false,
    "execution_millis": 3,
    "execution_start": 1652266498524,
    "source_hash": "a6310317",
    "tags": []
   },
   "outputs": [],
   "source": [
    "X_train.replace(['NO','YES'],[False,True],inplace=True)\n",
    "X_val.replace(['NO','YES'],[False,True],inplace=True)\n",
    "Sa_T_values = [float(x) for x in X_train.columns[:105]]"
   ]
  },
  {
   "cell_type": "code",
   "execution_count": 4,
   "id": "7af8a2dc-2ee1-413d-8a64-f7db218ec8b0",
   "metadata": {},
   "outputs": [],
   "source": [
    "X_data = pd.concat([X_train, X_val], ignore_index=True)"
   ]
  },
  {
   "cell_type": "code",
   "execution_count": 5,
   "id": "0d52779c-5132-45f9-9e31-ddc538663d0e",
   "metadata": {},
   "outputs": [
    {
     "name": "stdout",
     "output_type": "stream",
     "text": [
      "There is 8122 number of -999 in X_data, magnitude\n",
      "There is 8490 number of -999 in X_data, distance_closest\n",
      "There is 8116 number of -999 in X_data, lowest_usable_frequency\n",
      "And there is in TOTAL: 8507 number of -999 in X_data of size 119648\n"
     ]
    }
   ],
   "source": [
    "print(f\"There is {X_data['magnitude'].eq(-999).sum()} number of -999 in X_data, magnitude\")\n",
    "print(f\"There is {X_data['distance_closest'].eq(-999).sum()} number of -999 in X_data, distance_closest\")\n",
    "print(f\"There is {X_data['lowest_usable_frequency'].eq(-999).sum()} number of -999 in X_data, lowest_usable_frequency\")\n",
    "print(f\"And there is in TOTAL: {X_data.eq(-999).any(axis=1).sum()} number of -999 in X_data of size {X_data.shape[0]}\")"
   ]
  },
  {
   "cell_type": "markdown",
   "id": "0e26c0e1-1f60-49da-8c7d-b5f57326abb4",
   "metadata": {},
   "source": [
    "So approximately 7.1% of the rows in X_data have -999s. We shall only take the healty rows to train our model. "
   ]
  },
  {
   "cell_type": "code",
   "execution_count": 6,
   "id": "145f8d7e-bf58-4487-a94c-6c1d392d96d6",
   "metadata": {},
   "outputs": [],
   "source": [
    "corrupted_columns = X_data.columns[X_data.eq(-999).any(axis=0)==True].values\n",
    "\n",
    "id_corrupted = X_data.index[X_data.eq(-999).any(axis=1)==True].to_list()\n",
    "id_healthy = X_data.index[X_data.eq(-999).any(axis=1)==False].to_list()"
   ]
  },
  {
   "cell_type": "code",
   "execution_count": 7,
   "id": "12196de2-e7e9-453e-848c-d49cdad84235",
   "metadata": {},
   "outputs": [],
   "source": [
    "X_data = X_data.iloc[id_healthy,:]"
   ]
  },
  {
   "cell_type": "code",
   "execution_count": 8,
   "id": "1c492360-5770-4eb6-a5ac-d9778e80961f",
   "metadata": {},
   "outputs": [
    {
     "name": "stdout",
     "output_type": "stream",
     "text": [
      "And there is in TOTAL: 0 number of -999 in X_data of size 111141\n"
     ]
    }
   ],
   "source": [
    "print(f\"And there is in TOTAL: {X_data.eq(-999).any(axis=1).sum()} number of -999 in X_data of size {X_data.shape[0]}\")"
   ]
  },
  {
   "cell_type": "markdown",
   "id": "a82f8971-c3ff-4aad-be89-a2948ddead6b",
   "metadata": {},
   "source": [
    "Change the -999 into NaNs"
   ]
  },
  {
   "cell_type": "code",
   "execution_count": 9,
   "id": "dd03e158-17bb-49af-b15c-79acd9e77cf3",
   "metadata": {},
   "outputs": [
    {
     "name": "stdout",
     "output_type": "stream",
     "text": [
      "In X_data, 7.654% of the rows have -999s.\n"
     ]
    }
   ],
   "source": [
    "frac_empty = len(id_corrupted)/len(X_data)\n",
    "print(f'In X_data, {np.round(frac_empty*100,3)}% of the rows have -999s.')"
   ]
  },
  {
   "cell_type": "code",
   "execution_count": 10,
   "id": "a5564e54-7dec-48fd-b2bf-8f8d090416e6",
   "metadata": {},
   "outputs": [],
   "source": [
    "X_training, X_testing = helpers.create_train_test_dataset_for_regression(X_data,0.8,0.2)"
   ]
  },
  {
   "cell_type": "code",
   "execution_count": 11,
   "id": "17f4903d-557c-4b61-9147-aca042a928e2",
   "metadata": {},
   "outputs": [],
   "source": [
    "X_testing_original, X_testing_missing = helpers.hide_values_999(X_testing,percentage=frac_empty)"
   ]
  },
  {
   "cell_type": "code",
   "execution_count": 12,
   "id": "b222d1e6-9c09-4c5a-ac78-b304d5dfbe0a",
   "metadata": {},
   "outputs": [
    {
     "name": "stdout",
     "output_type": "stream",
     "text": [
      "In X_testing_missing, 7.405% of the rows have -999s.\n"
     ]
    }
   ],
   "source": [
    "sum_empty = len(X_testing_missing.index[X_testing_missing.isnull().any(axis=1)==True].to_list())/len(X_testing_missing)\n",
    "print(f'In X_testing_missing, {np.round(sum_empty*100,3)}% of the rows have -999s.')"
   ]
  },
  {
   "cell_type": "markdown",
   "id": "a5f38e41-c210-40ef-b41d-abee3d996215",
   "metadata": {},
   "source": [
    "The training set is ready"
   ]
  },
  {
   "cell_type": "markdown",
   "id": "b094c514-db07-4e97-be4a-bd447f1efa22",
   "metadata": {
    "cell_id": "00029-99f43225-c071-4bd7-8b81-448b45e36c5f",
    "deepnote_cell_height": 52.399993896484375,
    "deepnote_cell_type": "markdown"
   },
   "source": [
    "### 1.2.2. Imports for sci-kit learn"
   ]
  },
  {
   "cell_type": "code",
   "execution_count": 13,
   "id": "7a41b3f9-5b63-4882-b4f2-196c2b360e11",
   "metadata": {
    "cell_id": "00030-05c201b9-3571-4bf8-b16e-63138e37c04d",
    "deepnote_cell_height": 117,
    "deepnote_cell_type": "code",
    "deepnote_to_be_reexecuted": false,
    "execution_millis": 44,
    "execution_start": 1652263170611,
    "owner_user_id": "dbb60ec9-fb43-4975-bfb1-9ceed7d857e2",
    "source_hash": "8b1c4371"
   },
   "outputs": [],
   "source": [
    "from sklearn.experimental import enable_iterative_imputer\n",
    "from sklearn.impute import IterativeImputer\n",
    "from sklearn.linear_model import BayesianRidge\n",
    "from sklearn.tree import DecisionTreeRegressor\n",
    "from sklearn.ensemble import ExtraTreesRegressor\n",
    "from sklearn.neighbors import KNeighborsRegressor\n",
    "from sklearn import svm"
   ]
  },
  {
   "cell_type": "code",
   "execution_count": 14,
   "id": "b6556379-4c76-43e7-9ee6-5ac57314e891",
   "metadata": {},
   "outputs": [
    {
     "data": {
      "text/plain": [
       "SVR()"
      ]
     },
     "execution_count": 14,
     "metadata": {},
     "output_type": "execute_result"
    }
   ],
   "source": [
    "regr_magn = svm.SVR()\n",
    "regr_magn.fit(X_training.drop(columns=corrupted_columns), X_training['magnitude'])"
   ]
  },
  {
   "cell_type": "code",
   "execution_count": 21,
   "id": "d9aaaa77-f07a-4709-950f-52863263f36f",
   "metadata": {},
   "outputs": [
    {
     "data": {
      "text/plain": [
       "SVR()"
      ]
     },
     "execution_count": 21,
     "metadata": {},
     "output_type": "execute_result"
    }
   ],
   "source": [
    "regr_dist = svm.SVR()\n",
    "regr_dist.fit(X_training.drop(columns=corrupted_columns), X_training['distance_closest'])"
   ]
  },
  {
   "cell_type": "code",
   "execution_count": 17,
   "id": "0ff21760-b2f2-4643-9d4e-22dc9f4bb739",
   "metadata": {},
   "outputs": [
    {
     "data": {
      "text/plain": [
       "SVR()"
      ]
     },
     "execution_count": 17,
     "metadata": {},
     "output_type": "execute_result"
    }
   ],
   "source": [
    "regr_freq = svm.SVR()\n",
    "regr_freq.fit(X_training.drop(columns=corrupted_columns), X_training['lowest_usable_frequency'])"
   ]
  },
  {
   "cell_type": "code",
   "execution_count": 15,
   "id": "91b54d0d-39b4-4ec5-a4b3-dc0b2677f595",
   "metadata": {},
   "outputs": [],
   "source": [
    "pred_magn = regr_magn.predict(X_testing_original.drop(columns=corrupted_columns))"
   ]
  },
  {
   "cell_type": "code",
   "execution_count": 22,
   "id": "a8aa8937-3497-46df-8420-505925dd5840",
   "metadata": {},
   "outputs": [],
   "source": [
    "pred_dist = regr_dist.predict(X_testing_original.drop(columns=corrupted_columns))"
   ]
  },
  {
   "cell_type": "code",
   "execution_count": 18,
   "id": "d964bf4e-9859-4d8b-adba-872b1c226b66",
   "metadata": {},
   "outputs": [],
   "source": [
    "pred_freq = regr_freq.predict(X_testing_original.drop(columns=corrupted_columns))"
   ]
  },
  {
   "cell_type": "code",
   "execution_count": 23,
   "id": "70ed1eb5-6b7c-4a49-8501-f0487841ed8f",
   "metadata": {},
   "outputs": [
    {
     "name": "stdout",
     "output_type": "stream",
     "text": [
      "The score for magnitude regression is : 0.5910170080728514\n",
      "The score for distance_closest regression is : 126.86491554934966\n",
      "The score for lowest_usable_frequency regression is : 0.17330662201485872\n"
     ]
    }
   ],
   "source": [
    "score_magn = helpers.score_estimation(X_testing_original['magnitude'].to_numpy(),pred_magn)\n",
    "print(f'The score for magnitude regression is : {score_magn}')\n",
    "\n",
    "score_dist = helpers.score_estimation(X_testing_original['distance_closest'].to_numpy(),pred_dist)\n",
    "print(f'The score for distance_closest regression is : {score_dist}')\n",
    "\n",
    "score_freq = helpers.score_estimation(X_testing_original['lowest_usable_frequency'].to_numpy(),pred_freq)\n",
    "print(f'The score for lowest_usable_frequency regression is : {score_freq}')"
   ]
  },
  {
   "cell_type": "markdown",
   "id": "f02ed568-a9da-492f-8a8e-dffd2d59dfa9",
   "metadata": {},
   "source": [
    "The regression works well for `magnitude` and `lowest_usable_frequency` features but poorly for `distance_closest`. Therefore this method should be used only to impute the corrupted data of `magnitude` and `lowest_usable_frequency`. The remaining column could be dropped."
   ]
  },
  {
   "cell_type": "markdown",
   "id": "799f20ae-f752-464b-81a9-8132c8dea010",
   "metadata": {},
   "source": [
    "## 1.3. Finding the corrupted values for `magnitude` and `lowest_usable_frequency`"
   ]
  },
  {
   "cell_type": "markdown",
   "id": "c740cbee-7431-4223-8e2f-2d4f21480f69",
   "metadata": {},
   "source": [
    "### 1.3.1. Import and prep the data "
   ]
  },
  {
   "cell_type": "code",
   "execution_count": 1,
   "id": "f8763760-2259-4edf-9c86-ab6ca346f090",
   "metadata": {
    "cell_id": "3f85548a-39d6-4cda-83bc-61ce3077eb94",
    "deepnote_cell_height": 189,
    "deepnote_cell_type": "code",
    "deepnote_to_be_reexecuted": false,
    "execution_millis": 2730,
    "execution_start": 1652263161409,
    "source_hash": "fd9ca64a",
    "tags": []
   },
   "outputs": [],
   "source": [
    "import pandas as pd\n",
    "import numpy as np\n",
    "import scipy\n",
    "from typing import Any, Callable\n",
    "import helpers\n",
    "import matplotlib.pyplot as plt\n",
    "import seaborn as sns\n",
    "from sklearn.linear_model import LinearRegression\n",
    "from sklearn.metrics import mean_squared_error, r2_score\n",
    "from tqdm import tqdm\n",
    "from sklearn.model_selection import cross_val_score\n",
    "from sklearn.neural_network import MLPRegressor\n",
    "from sklearn.model_selection import train_test_split\n",
    "from zipfile import ZipFile"
   ]
  },
  {
   "cell_type": "code",
   "execution_count": 25,
   "id": "7526fbcf-2bdc-4fbe-b594-f7adf7b0aebe",
   "metadata": {},
   "outputs": [],
   "source": [
    "X_train = pd.read_csv(\"project-data-interpolated/df_X_train.csv\", index_col=0)\n",
    "y_train = pd.read_csv(\"project-data-interpolated/df_y_train.csv\", index_col=0)\n",
    "\n",
    "X_val = pd.read_csv(\"project-data-interpolated/df_X_val.csv\", index_col=0)\n",
    "y_val = pd.read_csv(\"project-data-interpolated/df_y_val.csv\", index_col=0)\n",
    "\n",
    "X_test = pd.read_csv(\"project-data-interpolated/df_X_test.csv\", index_col=0)"
   ]
  },
  {
   "cell_type": "code",
   "execution_count": 34,
   "id": "3160f54d-4161-4a96-b010-bbb6817ab729",
   "metadata": {
    "cell_id": "651a012370724907808fc5ac280a2c59",
    "deepnote_cell_height": 99,
    "deepnote_cell_type": "code",
    "deepnote_to_be_reexecuted": false,
    "execution_millis": 3,
    "execution_start": 1652266498524,
    "source_hash": "a6310317",
    "tags": []
   },
   "outputs": [],
   "source": [
    "X_train.replace(['NO','YES'],[False,True],inplace=True)\n",
    "X_val.replace(['NO','YES'],[False,True],inplace=True)\n",
    "X_test.replace(['NO','YES'],[False,True],inplace=True)\n",
    "Sa_T_values = [float(x) for x in X_train.columns[:105]]"
   ]
  },
  {
   "cell_type": "markdown",
   "id": "fba5bf27-18f9-40fb-9756-bc7c5cb31f7b",
   "metadata": {},
   "source": [
    "#### 1.3.1.1. Prep the training data"
   ]
  },
  {
   "cell_type": "code",
   "execution_count": 4,
   "id": "4a825b65-ea7b-4711-b34d-5231bee765bb",
   "metadata": {},
   "outputs": [],
   "source": [
    "X_data = pd.concat([X_train, X_val], ignore_index=True)"
   ]
  },
  {
   "cell_type": "code",
   "execution_count": 5,
   "id": "7bbcd24e-e3d2-46a8-b1ee-e5001e1449a0",
   "metadata": {},
   "outputs": [
    {
     "name": "stdout",
     "output_type": "stream",
     "text": [
      "There is 8122 number of -999 in X_data, magnitude\n",
      "There is 8490 number of -999 in X_data, distance_closest\n",
      "There is 8116 number of -999 in X_data, lowest_usable_frequency\n",
      "And there is in TOTAL: 8507 number of -999 in X_data of size 119648\n"
     ]
    }
   ],
   "source": [
    "print(f\"There is {X_data['magnitude'].eq(-999).sum()} number of -999 in X_data, magnitude\")\n",
    "print(f\"There is {X_data['distance_closest'].eq(-999).sum()} number of -999 in X_data, distance_closest\")\n",
    "print(f\"There is {X_data['lowest_usable_frequency'].eq(-999).sum()} number of -999 in X_data, lowest_usable_frequency\")\n",
    "print(f\"And there is in TOTAL: {X_data.eq(-999).any(axis=1).sum()} number of -999 in X_data of size {X_data.shape[0]}\")"
   ]
  },
  {
   "cell_type": "markdown",
   "id": "18eb0d0e-0ff6-46fe-906b-818aa3a1b3e5",
   "metadata": {},
   "source": [
    "So approximately 7.1% of the rows in X_data have -999s. We shall only take the healty rows to train our model. "
   ]
  },
  {
   "cell_type": "code",
   "execution_count": 26,
   "id": "6a72b794-bef6-4fe5-a22c-1e3cfe06b5c0",
   "metadata": {},
   "outputs": [],
   "source": [
    "corrupted_columns = X_data.columns[X_data.eq(-999).any(axis=0)==True].values\n",
    "\n",
    "id_corrupted = X_data.index[X_data.eq(-999).any(axis=1)==True].to_list()\n",
    "id_healthy = X_data.index[X_data.eq(-999).any(axis=1)==False].to_list()"
   ]
  },
  {
   "cell_type": "code",
   "execution_count": 7,
   "id": "e3816b6b-ebb3-4866-ae6e-60bfd51409f8",
   "metadata": {},
   "outputs": [],
   "source": [
    "X_data = X_data.iloc[id_healthy,:]"
   ]
  },
  {
   "cell_type": "code",
   "execution_count": 8,
   "id": "450f7423-8c10-46b2-ba17-fc09ca328487",
   "metadata": {},
   "outputs": [
    {
     "name": "stdout",
     "output_type": "stream",
     "text": [
      "And there is in TOTAL: 0 number of -999 in X_data of size 111141\n"
     ]
    }
   ],
   "source": [
    "print(f\"And there is in TOTAL: {X_data.eq(-999).any(axis=1).sum()} number of -999 in X_data of size {X_data.shape[0]}\")"
   ]
  },
  {
   "cell_type": "markdown",
   "id": "e22a19be-3141-4e43-b265-e878e9ec24a6",
   "metadata": {},
   "source": [
    "Change the -999 into NaNs"
   ]
  },
  {
   "cell_type": "code",
   "execution_count": 9,
   "id": "87ba9f91-18a4-4126-827a-df9b59b53f00",
   "metadata": {},
   "outputs": [
    {
     "name": "stdout",
     "output_type": "stream",
     "text": [
      "In X_data, 7.654% of the rows have -999s.\n"
     ]
    }
   ],
   "source": [
    "frac_empty = len(id_corrupted)/len(X_data)\n",
    "print(f'In X_data, {np.round(frac_empty*100,3)}% of the rows have -999s.')"
   ]
  },
  {
   "cell_type": "markdown",
   "id": "54686fb2-9741-41c0-9e4e-b82495f7eba4",
   "metadata": {},
   "source": [
    "Training data is ready"
   ]
  },
  {
   "cell_type": "markdown",
   "id": "e1a5fc40-0860-41cf-9827-d3065cb54c62",
   "metadata": {},
   "source": [
    "#### 1.3.1.2. Prep the corrupted data"
   ]
  },
  {
   "cell_type": "code",
   "execution_count": 36,
   "id": "f3eee19e-b9d6-4ce8-bd9c-6b1d60d82359",
   "metadata": {},
   "outputs": [],
   "source": [
    "id_train_corrupted = X_train.index[X_train.eq(-999).any(axis=1)==True].to_list()\n",
    "id_val_corrupted = X_val.index[X_val.eq(-999).any(axis=1)==True].to_list()\n",
    "id_test_corrupted = X_test.index[X_test.eq(-999).any(axis=1)==True].to_list()\n",
    "\n",
    "train_corrupted = X_train.loc[id_train_corrupted,:]\n",
    "val_corrupted = X_val.loc[id_val_corrupted,:]\n",
    "test_corrupted = X_test.loc[id_test_corrupted,:]"
   ]
  },
  {
   "cell_type": "code",
   "execution_count": 11,
   "id": "89670267-e6c0-48c6-b112-569cc5feb084",
   "metadata": {},
   "outputs": [
    {
     "name": "stdout",
     "output_type": "stream",
     "text": [
      "And there is in TOTAL: 0 number of -999 in X_train of size 117136\n",
      "And there is in TOTAL: 0 number of -999 in X_val of size 2512\n",
      "And there is in TOTAL: 0 number of -999 in X_test of size 48352\n"
     ]
    }
   ],
   "source": [
    "print(f\"And there is in TOTAL: {X_train.eq(-999).any(axis=1).sum()} number of -999 in X_train of size {X_train.shape[0]}\")\n",
    "print(f\"And there is in TOTAL: {X_val.eq(-999).any(axis=1).sum()} number of -999 in X_val of size {X_val.shape[0]}\")\n",
    "print(f\"And there is in TOTAL: {X_test.eq(-999).any(axis=1).sum()} number of -999 in X_test of size {X_test.shape[0]}\")"
   ]
  },
  {
   "cell_type": "markdown",
   "id": "6f1403fc-5950-4811-8960-f0705ff50b1b",
   "metadata": {},
   "source": [
    "Corrupted data is ready"
   ]
  },
  {
   "cell_type": "markdown",
   "id": "cdcf77ee-a885-4851-82c5-deaa237a6476",
   "metadata": {},
   "source": [
    "### 1.3.2. Train the SVR"
   ]
  },
  {
   "cell_type": "code",
   "execution_count": 12,
   "id": "3dc96f71-8267-49c5-9d30-7e35b05cd7ef",
   "metadata": {
    "cell_id": "00030-05c201b9-3571-4bf8-b16e-63138e37c04d",
    "deepnote_cell_height": 117,
    "deepnote_cell_type": "code",
    "deepnote_to_be_reexecuted": false,
    "execution_millis": 44,
    "execution_start": 1652263170611,
    "owner_user_id": "dbb60ec9-fb43-4975-bfb1-9ceed7d857e2",
    "source_hash": "8b1c4371"
   },
   "outputs": [],
   "source": [
    "from sklearn.experimental import enable_iterative_imputer\n",
    "from sklearn.impute import IterativeImputer\n",
    "from sklearn.linear_model import BayesianRidge\n",
    "from sklearn.tree import DecisionTreeRegressor\n",
    "from sklearn.ensemble import ExtraTreesRegressor\n",
    "from sklearn.neighbors import KNeighborsRegressor\n",
    "from sklearn import svm"
   ]
  },
  {
   "cell_type": "code",
   "execution_count": 14,
   "id": "42325aca-fb67-483b-b28d-ffda46b06690",
   "metadata": {},
   "outputs": [
    {
     "data": {
      "text/plain": [
       "SVR()"
      ]
     },
     "execution_count": 14,
     "metadata": {},
     "output_type": "execute_result"
    }
   ],
   "source": [
    "regr_magn = svm.SVR()\n",
    "regr_magn.fit(X_data.drop(columns=corrupted_columns), X_data['magnitude'])"
   ]
  },
  {
   "cell_type": "code",
   "execution_count": 15,
   "id": "e2691b34-942e-444e-88eb-77e88f6a170c",
   "metadata": {},
   "outputs": [
    {
     "data": {
      "text/plain": [
       "SVR()"
      ]
     },
     "execution_count": 15,
     "metadata": {},
     "output_type": "execute_result"
    }
   ],
   "source": [
    "regr_freq = svm.SVR()\n",
    "regr_freq.fit(X_data.drop(columns=corrupted_columns), X_data['lowest_usable_frequency'])"
   ]
  },
  {
   "cell_type": "markdown",
   "id": "2a812db8-5b4f-42c7-b589-c2dfab00f843",
   "metadata": {},
   "source": [
    "### 1.3.3. Predict the corrupted data"
   ]
  },
  {
   "cell_type": "code",
   "execution_count": 37,
   "id": "4b4b1b93-fbb6-4114-9d94-6014442e59d7",
   "metadata": {},
   "outputs": [],
   "source": [
    "pred_train_magn = regr_magn.predict(train_corrupted.drop(columns=corrupted_columns))"
   ]
  },
  {
   "cell_type": "code",
   "execution_count": 38,
   "id": "9366bf48-5236-45f2-9c1e-07bbe3d3c1f8",
   "metadata": {},
   "outputs": [],
   "source": [
    "pred_train_freq = regr_freq.predict(train_corrupted.drop(columns=corrupted_columns))"
   ]
  },
  {
   "cell_type": "code",
   "execution_count": 39,
   "id": "d98f1f57-8a7d-4c53-a96d-ff16e3a5aa95",
   "metadata": {},
   "outputs": [],
   "source": [
    "pred_val_magn = regr_magn.predict(val_corrupted.drop(columns=corrupted_columns))"
   ]
  },
  {
   "cell_type": "code",
   "execution_count": 40,
   "id": "4336c90b-12f4-432e-aca4-ee487e2da94f",
   "metadata": {},
   "outputs": [],
   "source": [
    "pred_val_freq = regr_freq.predict(val_corrupted.drop(columns=corrupted_columns))"
   ]
  },
  {
   "cell_type": "code",
   "execution_count": 45,
   "id": "d5524812-7d4f-49ee-909c-0eae7f299095",
   "metadata": {},
   "outputs": [],
   "source": [
    "pred_test_magn = regr_magn.predict(test_corrupted.drop(columns=corrupted_columns))"
   ]
  },
  {
   "cell_type": "code",
   "execution_count": 46,
   "id": "e87a8a1c-9335-4029-8b90-f96f6ed4aeae",
   "metadata": {},
   "outputs": [],
   "source": [
    "pred_test_freq = regr_freq.predict(test_corrupted.drop(columns=corrupted_columns))"
   ]
  },
  {
   "cell_type": "markdown",
   "id": "0e660315-4d8e-4672-a90a-d75759f3a0d4",
   "metadata": {},
   "source": [
    "### 1.3.4. Export the corrected data"
   ]
  },
  {
   "cell_type": "code",
   "execution_count": 43,
   "id": "45a59fd5-9c9d-4ba3-b93d-39c1aeeb2a45",
   "metadata": {},
   "outputs": [],
   "source": [
    "X_train.loc[id_train_corrupted,'magnitude']=pred_train_magn\n",
    "X_train.loc[id_train_corrupted,'lowest_usable_frequency']=pred_train_freq"
   ]
  },
  {
   "cell_type": "code",
   "execution_count": 44,
   "id": "b8612b6e-d9a2-48fb-b22d-3801622d8a25",
   "metadata": {},
   "outputs": [],
   "source": [
    "X_val.loc[id_val_corrupted,'magnitude']=pred_val_magn\n",
    "X_val.loc[id_val_corrupted,'lowest_usable_frequency']=pred_val_freq"
   ]
  },
  {
   "cell_type": "code",
   "execution_count": 47,
   "id": "b40c56fd-e932-403f-9658-0e8fd23ad6ea",
   "metadata": {},
   "outputs": [],
   "source": [
    "X_test.loc[id_test_corrupted,'magnitude']=pred_test_magn\n",
    "X_test.loc[id_test_corrupted,'lowest_usable_frequency']=pred_test_freq"
   ]
  },
  {
   "cell_type": "raw",
   "id": "015b40d4-1c1a-4786-a24c-b1e28ebe6808",
   "metadata": {},
   "source": [
    "X_train.columns['magnitude'] = pred_train_magn\n",
    "X_train.columns['lowest_usable_frequency'] = pred_train_freq\n",
    "#df_X_train = X_train.copy(deep=True)\n",
    "\n",
    "X_val.columns['magnitude'] = pred_train_magn\n",
    "X_val.columns['lowest_usable_frequency'] = pred_train_freq\n",
    "#df_X_val = X_val.copy(deep=True)\n",
    "\n",
    "X_test.columns['magnitude'] = pred_train_magn\n",
    "X_test.columns['lowest_usable_frequency'] = pred_train_freq\n",
    "#df_X_test = X_test.copy(deep=True)\n"
   ]
  },
  {
   "cell_type": "code",
   "execution_count": 51,
   "id": "f09ad798-4d2b-43df-91e3-07ec3dd30602",
   "metadata": {},
   "outputs": [],
   "source": [
    "EXPORT = True\n",
    "\n",
    "if EXPORT :\n",
    "    X_train.to_csv(\"project-data-interpolated-corrected/df_X_train.csv\")\n",
    "    y_train.to_csv(\"project-data-interpolated-corrected/df_y_train.csv\")\n",
    "\n",
    "    X_val.to_csv(\"project-data-interpolated-corrected/df_X_val.csv\")\n",
    "    y_val.to_csv(\"project-data-interpolated-corrected/df_y_val.csv\")\n",
    "\n",
    "    X_test.to_csv(\"project-data-interpolated-corrected/df_X_test.csv\")\n",
    "    \n",
    "    # create a ZipFile object\n",
    "    zipObj = ZipFile('project-data-interpolated-corrected/data-interpolated-corrected.zip', 'w')\n",
    "\n",
    "    # Add multiple files to the zip\n",
    "    zipObj.write('project-data-interpolated-corrected/df_X_train.csv')\n",
    "    zipObj.write('project-data-interpolated-corrected/df_y_train.csv')\n",
    "    zipObj.write('project-data-interpolated-corrected/df_X_val.csv')\n",
    "    zipObj.write('project-data-interpolated-corrected/df_y_val.csv')\n",
    "    zipObj.write('project-data-interpolated-corrected/df_X_test.csv')\n",
    "\n",
    "    # close the Zip File\n",
    "    zipObj.close()"
   ]
  }
 ],
 "metadata": {
  "kernelspec": {
   "display_name": "Python 3 (ipykernel)",
   "language": "python",
   "name": "python3"
  },
  "language_info": {
   "codemirror_mode": {
    "name": "ipython",
    "version": 3
   },
   "file_extension": ".py",
   "mimetype": "text/x-python",
   "name": "python",
   "nbconvert_exporter": "python",
   "pygments_lexer": "ipython3",
   "version": "3.8.12"
  },
  "widgets": {
   "application/vnd.jupyter.widget-state+json": {
    "state": {},
    "version_major": 2,
    "version_minor": 0
   }
  }
 },
 "nbformat": 4,
 "nbformat_minor": 5
}
