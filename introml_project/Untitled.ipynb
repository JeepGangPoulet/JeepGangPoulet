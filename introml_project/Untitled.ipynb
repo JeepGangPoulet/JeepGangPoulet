{
 "cells": [
  {
   "cell_type": "code",
   "execution_count": 3,
   "id": "1acc6862-7299-47d4-ab49-dca84c81c83c",
   "metadata": {},
   "outputs": [
    {
     "name": "stdout",
     "output_type": "stream",
     "text": [
      "tensor([[[-1.1018],\n",
      "         [ 0.7551],\n",
      "         [ 0.1954],\n",
      "         ...,\n",
      "         [ 1.0077],\n",
      "         [-0.0586],\n",
      "         [ 0.1065]],\n",
      "\n",
      "        [[-0.3999],\n",
      "         [-0.2608],\n",
      "         [-0.1151],\n",
      "         ...,\n",
      "         [ 0.5370],\n",
      "         [-1.3552],\n",
      "         [ 0.5342]],\n",
      "\n",
      "        [[ 1.0736],\n",
      "         [ 0.2771],\n",
      "         [ 0.0981],\n",
      "         ...,\n",
      "         [ 0.8166],\n",
      "         [-0.0843],\n",
      "         [ 0.2493]],\n",
      "\n",
      "        ...,\n",
      "\n",
      "        [[-0.4159],\n",
      "         [-0.8425],\n",
      "         [ 0.2147],\n",
      "         ...,\n",
      "         [ 0.0998],\n",
      "         [-0.0834],\n",
      "         [-0.1855]],\n",
      "\n",
      "        [[-1.0676],\n",
      "         [ 0.0927],\n",
      "         [ 1.0471],\n",
      "         ...,\n",
      "         [ 0.0055],\n",
      "         [-0.5090],\n",
      "         [ 0.6703]],\n",
      "\n",
      "        [[-0.4095],\n",
      "         [-1.2851],\n",
      "         [ 0.3343],\n",
      "         ...,\n",
      "         [ 0.6450],\n",
      "         [ 0.5131],\n",
      "         [ 0.4899]]], grad_fn=<ConvolutionBackward0>)\n",
      "Conv1d(100, 100, kernel_size=(1,), stride=(1,))\n"
     ]
    }
   ],
   "source": [
    "import torch\n",
    "from torch import nn\n",
    "\n",
    "a = torch.randn(32, 100, 1)  \n",
    "m = nn.Conv1d(100, 100, 1) \n",
    "out = m(a)\n",
    "print(out)\n",
    "print(m)"
   ]
  }
 ],
 "metadata": {
  "kernelspec": {
   "display_name": "Python 3 (ipykernel)",
   "language": "python",
   "name": "python3"
  },
  "language_info": {
   "codemirror_mode": {
    "name": "ipython",
    "version": 3
   },
   "file_extension": ".py",
   "mimetype": "text/x-python",
   "name": "python",
   "nbconvert_exporter": "python",
   "pygments_lexer": "ipython3",
   "version": "3.8.12"
  },
  "widgets": {
   "application/vnd.jupyter.widget-state+json": {
    "state": {},
    "version_major": 2,
    "version_minor": 0
   }
  }
 },
 "nbformat": 4,
 "nbformat_minor": 5
}
