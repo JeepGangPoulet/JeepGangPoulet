{
 "cells": [
  {
   "cell_type": "markdown",
   "id": "0b0cf0f4-789e-425e-a9a3-c53259639f83",
   "metadata": {
    "tags": []
   },
   "source": [
    "# 0. Imports"
   ]
  },
  {
   "cell_type": "code",
   "execution_count": 1,
   "id": "45a64b3d",
   "metadata": {
    "cell_id": "3f85548a-39d6-4cda-83bc-61ce3077eb94",
    "deepnote_cell_height": 189,
    "deepnote_cell_type": "code",
    "deepnote_to_be_reexecuted": false,
    "execution_millis": 2730,
    "execution_start": 1652263161409,
    "source_hash": "fd9ca64a",
    "tags": []
   },
   "outputs": [],
   "source": [
    "import pandas as pd\n",
    "import numpy as np\n",
    "import scipy\n",
    "import matplotlib.pyplot as plt\n",
    "import seaborn as sns\n",
    "from sklearn.linear_model import LinearRegression\n",
    "from sklearn.metrics import mean_squared_error, r2_score"
   ]
  },
  {
   "cell_type": "code",
   "execution_count": 2,
   "id": "ae19f52a",
   "metadata": {
    "cell_id": "00001-ec7f0b25-463d-4360-a8b8-d46f48175ef8",
    "deepnote_cell_height": 261,
    "deepnote_cell_type": "code",
    "deepnote_to_be_reexecuted": false,
    "execution_millis": 4,
    "execution_start": 1652263164142,
    "source_hash": "705f51f9",
    "tags": []
   },
   "outputs": [],
   "source": [
    "#Settings for the plots \n",
    "sns.set_style(\"ticks\")\n",
    "colors= sns.color_palette('colorblind')\n",
    "plt.rc('xtick', labelsize=12) \n",
    "plt.rc('ytick', labelsize=12) \n",
    "plt.rc('axes', titlesize=18)\n",
    "plt.rc('axes', labelsize=13)\n",
    "plt.rcParams['ytick.major.size'] = 7\n",
    "plt.rcParams['ytick.minor.size'] = 6\n",
    "\n",
    "sns.set_style(\"darkgrid\", {'axes.grid' : False, 'ytick.left': True, 'xtick.bottom': True})"
   ]
  },
  {
   "cell_type": "code",
   "execution_count": 3,
   "id": "aca034e6",
   "metadata": {
    "cell_id": "00002-97f92ba4-eeb4-4e7a-adb1-3f2f2d59684f",
    "deepnote_cell_height": 81,
    "deepnote_cell_type": "code",
    "deepnote_to_be_reexecuted": false,
    "execution_millis": 471,
    "execution_start": 1652263164190,
    "source_hash": "b85b4859"
   },
   "outputs": [],
   "source": [
    "X_train = pd.read_csv(\"project-data-merged/df_X_train.csv\", index_col=0)\n",
    "y_train = pd.read_csv(\"project-data-merged/df_y_train.csv\", index_col=0)\n",
    "\n",
    "X_val = pd.read_csv(\"project-data-merged/df_X_val.csv\", index_col=0)\n",
    "y_val = pd.read_csv(\"project-data-merged/df_y_val.csv\", index_col=0)\n",
    "\n",
    "X_test = pd.read_csv(\"project-data-merged/df_X_test.csv\", index_col=0)"
   ]
  },
  {
   "cell_type": "markdown",
   "id": "9321994e-7534-47a0-bc5b-48ae217463c7",
   "metadata": {
    "toc-hr-collapsed": true
   },
   "source": [
    "# 1. Study the missing data"
   ]
  },
  {
   "cell_type": "code",
   "execution_count": 4,
   "id": "972e1be3",
   "metadata": {
    "cell_id": "00004-658202a5-b666-4d9c-943a-129a2ceb3373",
    "deepnote_cell_height": 617,
    "deepnote_cell_type": "code",
    "deepnote_output_heights": [
     399
    ],
    "deepnote_to_be_reexecuted": false,
    "execution_millis": 332,
    "execution_start": 1652263164667,
    "source_hash": "f84b74d4"
   },
   "outputs": [
    {
     "data": {
      "text/html": [
       "<div>\n",
       "<style scoped>\n",
       "    .dataframe tbody tr th:only-of-type {\n",
       "        vertical-align: middle;\n",
       "    }\n",
       "\n",
       "    .dataframe tbody tr th {\n",
       "        vertical-align: top;\n",
       "    }\n",
       "\n",
       "    .dataframe thead th {\n",
       "        text-align: right;\n",
       "    }\n",
       "</style>\n",
       "<table border=\"1\" class=\"dataframe\">\n",
       "  <thead>\n",
       "    <tr style=\"text-align: right;\">\n",
       "      <th></th>\n",
       "      <th>0.01</th>\n",
       "      <th>0.02</th>\n",
       "      <th>0.022</th>\n",
       "      <th>0.025</th>\n",
       "      <th>0.029</th>\n",
       "      <th>0.03</th>\n",
       "      <th>0.032</th>\n",
       "      <th>0.035</th>\n",
       "      <th>0.036</th>\n",
       "      <th>0.04</th>\n",
       "      <th>...</th>\n",
       "      <th>da5_75</th>\n",
       "      <th>da5_95</th>\n",
       "      <th>fiv3</th>\n",
       "      <th>magnitude</th>\n",
       "      <th>distance_closest</th>\n",
       "      <th>lowest_usable_frequency</th>\n",
       "      <th>sa_ratio</th>\n",
       "      <th>fiv3_ratio</th>\n",
       "      <th>is_pulselike</th>\n",
       "      <th>scale factor</th>\n",
       "    </tr>\n",
       "  </thead>\n",
       "  <tbody>\n",
       "    <tr>\n",
       "      <th>0</th>\n",
       "      <td>0.045185</td>\n",
       "      <td>0.046608</td>\n",
       "      <td>0.046368</td>\n",
       "      <td>0.04686</td>\n",
       "      <td>0.049411</td>\n",
       "      <td>0.050919</td>\n",
       "      <td>0.050419</td>\n",
       "      <td>0.054394</td>\n",
       "      <td>0.054137</td>\n",
       "      <td>0.050810</td>\n",
       "      <td>...</td>\n",
       "      <td>5.32652</td>\n",
       "      <td>9.25004</td>\n",
       "      <td>0.752159</td>\n",
       "      <td>5.5</td>\n",
       "      <td>13.76</td>\n",
       "      <td>2.500</td>\n",
       "      <td>0.456032</td>\n",
       "      <td>0.179829</td>\n",
       "      <td>NO</td>\n",
       "      <td>227.966544</td>\n",
       "    </tr>\n",
       "    <tr>\n",
       "      <th>1</th>\n",
       "      <td>0.045185</td>\n",
       "      <td>0.046608</td>\n",
       "      <td>0.046368</td>\n",
       "      <td>0.04686</td>\n",
       "      <td>0.049411</td>\n",
       "      <td>0.050919</td>\n",
       "      <td>0.050419</td>\n",
       "      <td>0.054394</td>\n",
       "      <td>0.054137</td>\n",
       "      <td>0.050810</td>\n",
       "      <td>...</td>\n",
       "      <td>5.32652</td>\n",
       "      <td>9.25004</td>\n",
       "      <td>0.752159</td>\n",
       "      <td>5.5</td>\n",
       "      <td>13.76</td>\n",
       "      <td>2.500</td>\n",
       "      <td>0.456032</td>\n",
       "      <td>0.179829</td>\n",
       "      <td>NO</td>\n",
       "      <td>355.207497</td>\n",
       "    </tr>\n",
       "    <tr>\n",
       "      <th>2</th>\n",
       "      <td>0.045185</td>\n",
       "      <td>0.046608</td>\n",
       "      <td>0.046368</td>\n",
       "      <td>0.04686</td>\n",
       "      <td>0.049411</td>\n",
       "      <td>0.050919</td>\n",
       "      <td>0.050419</td>\n",
       "      <td>0.054394</td>\n",
       "      <td>0.054137</td>\n",
       "      <td>0.050810</td>\n",
       "      <td>...</td>\n",
       "      <td>5.32652</td>\n",
       "      <td>9.25004</td>\n",
       "      <td>0.752159</td>\n",
       "      <td>5.5</td>\n",
       "      <td>13.76</td>\n",
       "      <td>2.500</td>\n",
       "      <td>0.456032</td>\n",
       "      <td>0.179829</td>\n",
       "      <td>NO</td>\n",
       "      <td>491.118492</td>\n",
       "    </tr>\n",
       "    <tr>\n",
       "      <th>3</th>\n",
       "      <td>0.045185</td>\n",
       "      <td>0.046608</td>\n",
       "      <td>0.046368</td>\n",
       "      <td>0.04686</td>\n",
       "      <td>0.049411</td>\n",
       "      <td>0.050919</td>\n",
       "      <td>0.050419</td>\n",
       "      <td>0.054394</td>\n",
       "      <td>0.054137</td>\n",
       "      <td>0.050810</td>\n",
       "      <td>...</td>\n",
       "      <td>5.32652</td>\n",
       "      <td>9.25004</td>\n",
       "      <td>0.752159</td>\n",
       "      <td>5.5</td>\n",
       "      <td>13.76</td>\n",
       "      <td>2.500</td>\n",
       "      <td>0.456032</td>\n",
       "      <td>0.179829</td>\n",
       "      <td>NO</td>\n",
       "      <td>720.015093</td>\n",
       "    </tr>\n",
       "    <tr>\n",
       "      <th>4</th>\n",
       "      <td>0.045185</td>\n",
       "      <td>0.046608</td>\n",
       "      <td>0.046368</td>\n",
       "      <td>0.04686</td>\n",
       "      <td>0.049411</td>\n",
       "      <td>0.050919</td>\n",
       "      <td>0.050419</td>\n",
       "      <td>0.054394</td>\n",
       "      <td>0.054137</td>\n",
       "      <td>0.050810</td>\n",
       "      <td>...</td>\n",
       "      <td>5.32652</td>\n",
       "      <td>9.25004</td>\n",
       "      <td>0.752159</td>\n",
       "      <td>5.5</td>\n",
       "      <td>13.76</td>\n",
       "      <td>2.500</td>\n",
       "      <td>0.456032</td>\n",
       "      <td>0.179829</td>\n",
       "      <td>NO</td>\n",
       "      <td>980.160161</td>\n",
       "    </tr>\n",
       "    <tr>\n",
       "      <th>...</th>\n",
       "      <td>...</td>\n",
       "      <td>...</td>\n",
       "      <td>...</td>\n",
       "      <td>...</td>\n",
       "      <td>...</td>\n",
       "      <td>...</td>\n",
       "      <td>...</td>\n",
       "      <td>...</td>\n",
       "      <td>...</td>\n",
       "      <td>...</td>\n",
       "      <td>...</td>\n",
       "      <td>...</td>\n",
       "      <td>...</td>\n",
       "      <td>...</td>\n",
       "      <td>...</td>\n",
       "      <td>...</td>\n",
       "      <td>...</td>\n",
       "      <td>...</td>\n",
       "      <td>...</td>\n",
       "      <td>...</td>\n",
       "      <td>...</td>\n",
       "    </tr>\n",
       "    <tr>\n",
       "      <th>117131</th>\n",
       "      <td>0.007915</td>\n",
       "      <td>0.008107</td>\n",
       "      <td>NaN</td>\n",
       "      <td>NaN</td>\n",
       "      <td>0.008441</td>\n",
       "      <td>0.008701</td>\n",
       "      <td>0.009005</td>\n",
       "      <td>0.008805</td>\n",
       "      <td>0.008772</td>\n",
       "      <td>0.009389</td>\n",
       "      <td>...</td>\n",
       "      <td>11.32000</td>\n",
       "      <td>27.49000</td>\n",
       "      <td>1.069364</td>\n",
       "      <td>5.0</td>\n",
       "      <td>60.79</td>\n",
       "      <td>0.375</td>\n",
       "      <td>2.323039</td>\n",
       "      <td>0.290045</td>\n",
       "      <td>NO</td>\n",
       "      <td>30.514603</td>\n",
       "    </tr>\n",
       "    <tr>\n",
       "      <th>117132</th>\n",
       "      <td>0.007915</td>\n",
       "      <td>0.008107</td>\n",
       "      <td>NaN</td>\n",
       "      <td>NaN</td>\n",
       "      <td>0.008441</td>\n",
       "      <td>0.008701</td>\n",
       "      <td>0.009005</td>\n",
       "      <td>0.008805</td>\n",
       "      <td>0.008772</td>\n",
       "      <td>0.009389</td>\n",
       "      <td>...</td>\n",
       "      <td>11.32000</td>\n",
       "      <td>27.49000</td>\n",
       "      <td>1.069364</td>\n",
       "      <td>5.0</td>\n",
       "      <td>60.79</td>\n",
       "      <td>0.375</td>\n",
       "      <td>2.323039</td>\n",
       "      <td>0.290045</td>\n",
       "      <td>NO</td>\n",
       "      <td>93.197859</td>\n",
       "    </tr>\n",
       "    <tr>\n",
       "      <th>117133</th>\n",
       "      <td>0.007915</td>\n",
       "      <td>0.008107</td>\n",
       "      <td>NaN</td>\n",
       "      <td>NaN</td>\n",
       "      <td>0.008441</td>\n",
       "      <td>0.008701</td>\n",
       "      <td>0.009005</td>\n",
       "      <td>0.008805</td>\n",
       "      <td>0.008772</td>\n",
       "      <td>0.009389</td>\n",
       "      <td>...</td>\n",
       "      <td>11.32000</td>\n",
       "      <td>27.49000</td>\n",
       "      <td>1.069364</td>\n",
       "      <td>5.0</td>\n",
       "      <td>60.79</td>\n",
       "      <td>0.375</td>\n",
       "      <td>2.323039</td>\n",
       "      <td>0.290045</td>\n",
       "      <td>NO</td>\n",
       "      <td>133.039235</td>\n",
       "    </tr>\n",
       "    <tr>\n",
       "      <th>117134</th>\n",
       "      <td>0.007915</td>\n",
       "      <td>0.008107</td>\n",
       "      <td>NaN</td>\n",
       "      <td>NaN</td>\n",
       "      <td>0.008441</td>\n",
       "      <td>0.008701</td>\n",
       "      <td>0.009005</td>\n",
       "      <td>0.008805</td>\n",
       "      <td>0.008772</td>\n",
       "      <td>0.009389</td>\n",
       "      <td>...</td>\n",
       "      <td>11.32000</td>\n",
       "      <td>27.49000</td>\n",
       "      <td>1.069364</td>\n",
       "      <td>5.0</td>\n",
       "      <td>60.79</td>\n",
       "      <td>0.375</td>\n",
       "      <td>2.323039</td>\n",
       "      <td>0.290045</td>\n",
       "      <td>NO</td>\n",
       "      <td>49.865800</td>\n",
       "    </tr>\n",
       "    <tr>\n",
       "      <th>117135</th>\n",
       "      <td>0.007915</td>\n",
       "      <td>0.008107</td>\n",
       "      <td>NaN</td>\n",
       "      <td>NaN</td>\n",
       "      <td>0.008441</td>\n",
       "      <td>0.008701</td>\n",
       "      <td>0.009005</td>\n",
       "      <td>0.008805</td>\n",
       "      <td>0.008772</td>\n",
       "      <td>0.009389</td>\n",
       "      <td>...</td>\n",
       "      <td>11.32000</td>\n",
       "      <td>27.49000</td>\n",
       "      <td>1.069364</td>\n",
       "      <td>5.0</td>\n",
       "      <td>60.79</td>\n",
       "      <td>0.375</td>\n",
       "      <td>2.323039</td>\n",
       "      <td>0.290045</td>\n",
       "      <td>NO</td>\n",
       "      <td>50.291958</td>\n",
       "    </tr>\n",
       "  </tbody>\n",
       "</table>\n",
       "<p>117136 rows × 116 columns</p>\n",
       "</div>"
      ],
      "text/plain": [
       "            0.01      0.02     0.022    0.025     0.029      0.03     0.032  \\\n",
       "0       0.045185  0.046608  0.046368  0.04686  0.049411  0.050919  0.050419   \n",
       "1       0.045185  0.046608  0.046368  0.04686  0.049411  0.050919  0.050419   \n",
       "2       0.045185  0.046608  0.046368  0.04686  0.049411  0.050919  0.050419   \n",
       "3       0.045185  0.046608  0.046368  0.04686  0.049411  0.050919  0.050419   \n",
       "4       0.045185  0.046608  0.046368  0.04686  0.049411  0.050919  0.050419   \n",
       "...          ...       ...       ...      ...       ...       ...       ...   \n",
       "117131  0.007915  0.008107       NaN      NaN  0.008441  0.008701  0.009005   \n",
       "117132  0.007915  0.008107       NaN      NaN  0.008441  0.008701  0.009005   \n",
       "117133  0.007915  0.008107       NaN      NaN  0.008441  0.008701  0.009005   \n",
       "117134  0.007915  0.008107       NaN      NaN  0.008441  0.008701  0.009005   \n",
       "117135  0.007915  0.008107       NaN      NaN  0.008441  0.008701  0.009005   \n",
       "\n",
       "           0.035     0.036      0.04  ...    da5_75    da5_95      fiv3  \\\n",
       "0       0.054394  0.054137  0.050810  ...   5.32652   9.25004  0.752159   \n",
       "1       0.054394  0.054137  0.050810  ...   5.32652   9.25004  0.752159   \n",
       "2       0.054394  0.054137  0.050810  ...   5.32652   9.25004  0.752159   \n",
       "3       0.054394  0.054137  0.050810  ...   5.32652   9.25004  0.752159   \n",
       "4       0.054394  0.054137  0.050810  ...   5.32652   9.25004  0.752159   \n",
       "...          ...       ...       ...  ...       ...       ...       ...   \n",
       "117131  0.008805  0.008772  0.009389  ...  11.32000  27.49000  1.069364   \n",
       "117132  0.008805  0.008772  0.009389  ...  11.32000  27.49000  1.069364   \n",
       "117133  0.008805  0.008772  0.009389  ...  11.32000  27.49000  1.069364   \n",
       "117134  0.008805  0.008772  0.009389  ...  11.32000  27.49000  1.069364   \n",
       "117135  0.008805  0.008772  0.009389  ...  11.32000  27.49000  1.069364   \n",
       "\n",
       "        magnitude  distance_closest  lowest_usable_frequency  sa_ratio  \\\n",
       "0             5.5             13.76                    2.500  0.456032   \n",
       "1             5.5             13.76                    2.500  0.456032   \n",
       "2             5.5             13.76                    2.500  0.456032   \n",
       "3             5.5             13.76                    2.500  0.456032   \n",
       "4             5.5             13.76                    2.500  0.456032   \n",
       "...           ...               ...                      ...       ...   \n",
       "117131        5.0             60.79                    0.375  2.323039   \n",
       "117132        5.0             60.79                    0.375  2.323039   \n",
       "117133        5.0             60.79                    0.375  2.323039   \n",
       "117134        5.0             60.79                    0.375  2.323039   \n",
       "117135        5.0             60.79                    0.375  2.323039   \n",
       "\n",
       "        fiv3_ratio  is_pulselike  scale factor  \n",
       "0         0.179829            NO    227.966544  \n",
       "1         0.179829            NO    355.207497  \n",
       "2         0.179829            NO    491.118492  \n",
       "3         0.179829            NO    720.015093  \n",
       "4         0.179829            NO    980.160161  \n",
       "...            ...           ...           ...  \n",
       "117131    0.290045            NO     30.514603  \n",
       "117132    0.290045            NO     93.197859  \n",
       "117133    0.290045            NO    133.039235  \n",
       "117134    0.290045            NO     49.865800  \n",
       "117135    0.290045            NO     50.291958  \n",
       "\n",
       "[117136 rows x 116 columns]"
      ]
     },
     "metadata": {},
     "output_type": "display_data"
    }
   ],
   "source": [
    "display(X_train)"
   ]
  },
  {
   "cell_type": "markdown",
   "id": "7037929a-89ad-45ee-8ccb-fdf4ace31ce2",
   "metadata": {},
   "source": [
    "Rescale using the scaling factor all the scalable values (Sa(T), sa_avg, fiv3)"
   ]
  },
  {
   "cell_type": "code",
   "execution_count": 5,
   "id": "8793fcfa-47b8-47cb-a4b9-b24e0581b49a",
   "metadata": {},
   "outputs": [],
   "source": [
    "cols_to_be_changed = np.append(X_train.columns[:106].values,X_train.columns[108])\n",
    "X_train[cols_to_be_changed] = X_train[cols_to_be_changed].mul(X_train['scale factor'], axis=0)\n",
    "X_train = X_train.drop(columns = 'scale factor')"
   ]
  },
  {
   "cell_type": "markdown",
   "id": "d424ee9f-82ea-445b-9362-75d664c3913f",
   "metadata": {},
   "source": [
    "## 1.1. Randomly picked samples"
   ]
  },
  {
   "cell_type": "code",
   "execution_count": 6,
   "id": "fc0213c2",
   "metadata": {
    "cell_id": "00005-b9d21f4e-2d4e-4555-9c1d-4ec873ee2714",
    "deepnote_cell_height": 438,
    "deepnote_cell_type": "code",
    "deepnote_output_heights": [
     21,
     253
    ],
    "deepnote_to_be_reexecuted": false,
    "execution_millis": 613,
    "execution_start": 1652263165001,
    "source_hash": "247f8117"
   },
   "outputs": [
    {
     "data": {
      "text/plain": [
       "<AxesSubplot:>"
      ]
     },
     "execution_count": 6,
     "metadata": {},
     "output_type": "execute_result"
    },
    {
     "data": {
      "image/png": "[encoded data removed]",
      "text/plain": [
       "<Figure size 432x288 with 1 Axes>"
      ]
     },
     "metadata": {},
     "output_type": "display_data"
    }
   ],
   "source": [
    "#X_plot = X_train.iloc[[4000,4015,5000,6000,7000],:105]\n",
    "#check the different scales !! \n",
    "X_plot = X_train.iloc[[5000, 5070, 6050],:105]\n",
    "#display(X_plot)\n",
    "X_plot.T.plot(logx=True)"
   ]
  },
  {
   "cell_type": "code",
   "execution_count": 7,
   "id": "1b4061bc",
   "metadata": {
    "cell_id": "00006-549feb2b-9e3f-4f3d-93a7-c2b1839978c1",
    "deepnote_cell_height": 329,
    "deepnote_cell_type": "code",
    "deepnote_output_heights": [
     232
    ],
    "deepnote_to_be_reexecuted": false,
    "execution_millis": 6,
    "execution_start": 1652263165661,
    "source_hash": "38825aab"
   },
   "outputs": [
    {
     "data": {
      "text/plain": [
       "0.01                        True\n",
       "0.02                        True\n",
       "0.022                       True\n",
       "0.025                       True\n",
       "0.029                       True\n",
       "                           ...  \n",
       "distance_closest           False\n",
       "lowest_usable_frequency    False\n",
       "sa_ratio                   False\n",
       "fiv3_ratio                 False\n",
       "is_pulselike               False\n",
       "Length: 115, dtype: bool"
      ]
     },
     "execution_count": 7,
     "metadata": {},
     "output_type": "execute_result"
    }
   ],
   "source": [
    "X_train.isnull().any()"
   ]
  },
  {
   "cell_type": "markdown",
   "id": "90d786fc",
   "metadata": {
    "cell_id": "00007-7bd43e50-d917-41d7-a46d-f8f41c1fef6d",
    "deepnote_cell_height": 74.80000305175781,
    "deepnote_cell_type": "markdown"
   },
   "source": [
    "We see that only the Sa(T) values have NaNs."
   ]
  },
  {
   "cell_type": "code",
   "execution_count": 8,
   "id": "9351d35a",
   "metadata": {
    "cell_id": "00008-b9e1b786-b4f2-4983-b7f6-93c82ec66371",
    "deepnote_cell_height": 117,
    "deepnote_cell_type": "code",
    "deepnote_to_be_reexecuted": false,
    "execution_millis": 0,
    "execution_start": 1652263165662,
    "source_hash": "9371d4fe"
   },
   "outputs": [],
   "source": [
    "#Replacing the string column titles by their value in float: \n",
    "Sa_T_values = [float(x) for x in X_train.columns[:105]]\n",
    "X_plot.columns = Sa_T_values\n"
   ]
  },
  {
   "cell_type": "markdown",
   "id": "b5a994dd-4ab1-4264-a82e-339f18d19454",
   "metadata": {
    "toc-hr-collapsed": true
   },
   "source": [
    "# 2. Interpolation of values using different methods"
   ]
  },
  {
   "cell_type": "markdown",
   "id": "218a1e00",
   "metadata": {
    "cell_id": "00009-f6106be2-3727-4b68-8c8b-fd0874d69d5f",
    "deepnote_cell_height": 62,
    "deepnote_cell_type": "markdown"
   },
   "source": [
    "## 2.1. Interpolation method = 'linear'"
   ]
  },
  {
   "cell_type": "code",
   "execution_count": 9,
   "id": "723e81e6",
   "metadata": {
    "cell_id": "00010-4f9163be-217b-4c9c-bd3d-e210eafd5e6e",
    "deepnote_cell_height": 640,
    "deepnote_cell_type": "code",
    "deepnote_output_heights": [
     167,
     21,
     257
    ],
    "deepnote_to_be_reexecuted": false,
    "execution_millis": 1475,
    "execution_start": 1652263165663,
    "source_hash": "9dcb822b"
   },
   "outputs": [
    {
     "data": {
      "text/html": [
       "<div>\n",
       "<style scoped>\n",
       "    .dataframe tbody tr th:only-of-type {\n",
       "        vertical-align: middle;\n",
       "    }\n",
       "\n",
       "    .dataframe tbody tr th {\n",
       "        vertical-align: top;\n",
       "    }\n",
       "\n",
       "    .dataframe thead th {\n",
       "        text-align: right;\n",
       "    }\n",
       "</style>\n",
       "<table border=\"1\" class=\"dataframe\">\n",
       "  <thead>\n",
       "    <tr style=\"text-align: right;\">\n",
       "      <th></th>\n",
       "      <th>0.010</th>\n",
       "      <th>0.020</th>\n",
       "      <th>0.022</th>\n",
       "      <th>0.025</th>\n",
       "      <th>0.029</th>\n",
       "      <th>0.030</th>\n",
       "      <th>0.032</th>\n",
       "      <th>0.035</th>\n",
       "      <th>0.036</th>\n",
       "      <th>0.040</th>\n",
       "      <th>...</th>\n",
       "      <th>5.500</th>\n",
       "      <th>6.000</th>\n",
       "      <th>6.500</th>\n",
       "      <th>7.000</th>\n",
       "      <th>7.500</th>\n",
       "      <th>8.000</th>\n",
       "      <th>8.500</th>\n",
       "      <th>9.000</th>\n",
       "      <th>9.500</th>\n",
       "      <th>10.000</th>\n",
       "    </tr>\n",
       "  </thead>\n",
       "  <tbody>\n",
       "    <tr>\n",
       "      <th>5000</th>\n",
       "      <td>3.299475</td>\n",
       "      <td>3.299475</td>\n",
       "      <td>3.294318</td>\n",
       "      <td>3.296878</td>\n",
       "      <td>3.321778</td>\n",
       "      <td>3.346679</td>\n",
       "      <td>3.420574</td>\n",
       "      <td>3.494469</td>\n",
       "      <td>3.484067</td>\n",
       "      <td>3.432916</td>\n",
       "      <td>...</td>\n",
       "      <td>0.090354</td>\n",
       "      <td>0.075934</td>\n",
       "      <td>0.061514</td>\n",
       "      <td>0.048606</td>\n",
       "      <td>0.037384</td>\n",
       "      <td>0.029558</td>\n",
       "      <td>0.025172</td>\n",
       "      <td>0.021543</td>\n",
       "      <td>0.017915</td>\n",
       "      <td>0.017915</td>\n",
       "    </tr>\n",
       "    <tr>\n",
       "      <th>5070</th>\n",
       "      <td>8.207758</td>\n",
       "      <td>8.207758</td>\n",
       "      <td>8.284363</td>\n",
       "      <td>8.360968</td>\n",
       "      <td>8.100641</td>\n",
       "      <td>8.344449</td>\n",
       "      <td>8.588257</td>\n",
       "      <td>8.673290</td>\n",
       "      <td>8.758323</td>\n",
       "      <td>9.634955</td>\n",
       "      <td>...</td>\n",
       "      <td>0.130995</td>\n",
       "      <td>0.095859</td>\n",
       "      <td>0.072810</td>\n",
       "      <td>0.049760</td>\n",
       "      <td>0.040178</td>\n",
       "      <td>0.034961</td>\n",
       "      <td>0.032014</td>\n",
       "      <td>0.029066</td>\n",
       "      <td>0.026670</td>\n",
       "      <td>0.024353</td>\n",
       "    </tr>\n",
       "    <tr>\n",
       "      <th>6050</th>\n",
       "      <td>4.987187</td>\n",
       "      <td>4.872964</td>\n",
       "      <td>4.886946</td>\n",
       "      <td>4.917360</td>\n",
       "      <td>4.974263</td>\n",
       "      <td>4.997757</td>\n",
       "      <td>5.021251</td>\n",
       "      <td>5.086068</td>\n",
       "      <td>5.118983</td>\n",
       "      <td>5.228604</td>\n",
       "      <td>...</td>\n",
       "      <td>0.037478</td>\n",
       "      <td>0.031882</td>\n",
       "      <td>0.026286</td>\n",
       "      <td>0.018093</td>\n",
       "      <td>0.014237</td>\n",
       "      <td>0.014030</td>\n",
       "      <td>0.011352</td>\n",
       "      <td>0.008675</td>\n",
       "      <td>0.007470</td>\n",
       "      <td>0.006573</td>\n",
       "    </tr>\n",
       "  </tbody>\n",
       "</table>\n",
       "<p>3 rows × 105 columns</p>\n",
       "</div>"
      ],
      "text/plain": [
       "        0.010     0.020     0.022     0.025     0.029     0.030     0.032   \\\n",
       "5000  3.299475  3.299475  3.294318  3.296878  3.321778  3.346679  3.420574   \n",
       "5070  8.207758  8.207758  8.284363  8.360968  8.100641  8.344449  8.588257   \n",
       "6050  4.987187  4.872964  4.886946  4.917360  4.974263  4.997757  5.021251   \n",
       "\n",
       "        0.035     0.036     0.040   ...    5.500     6.000     6.500   \\\n",
       "5000  3.494469  3.484067  3.432916  ...  0.090354  0.075934  0.061514   \n",
       "5070  8.673290  8.758323  9.634955  ...  0.130995  0.095859  0.072810   \n",
       "6050  5.086068  5.118983  5.228604  ...  0.037478  0.031882  0.026286   \n",
       "\n",
       "        7.000     7.500     8.000     8.500     9.000     9.500     10.000  \n",
       "5000  0.048606  0.037384  0.029558  0.025172  0.021543  0.017915  0.017915  \n",
       "5070  0.049760  0.040178  0.034961  0.032014  0.029066  0.026670  0.024353  \n",
       "6050  0.018093  0.014237  0.014030  0.011352  0.008675  0.007470  0.006573  \n",
       "\n",
       "[3 rows x 105 columns]"
      ]
     },
     "metadata": {},
     "output_type": "display_data"
    },
    {
     "data": {
      "text/plain": [
       "<AxesSubplot:>"
      ]
     },
     "execution_count": 9,
     "metadata": {},
     "output_type": "execute_result"
    },
    {
     "data": {
      "image/png": "[encoded data removed]",
      "text/plain": [
       "<Figure size 432x288 with 1 Axes>"
      ]
     },
     "metadata": {},
     "output_type": "display_data"
    }
   ],
   "source": [
    "X_plot_interp_lin = X_plot.interpolate(method='linear', axis = 1, limit_direction='both')\n",
    "display(X_plot_interp_lin)\n",
    "X_plot_interp_lin.T.plot(logx=True)"
   ]
  },
  {
   "cell_type": "markdown",
   "id": "c32eb544",
   "metadata": {
    "cell_id": "00011-9ced93aa-b0ad-407a-87f7-3cbbdd712caf",
    "deepnote_cell_height": 74.80000305175781,
    "deepnote_cell_type": "markdown"
   },
   "source": [
    "We observe that if the first values where NaN, the method cannot guess the next number which logical as NaN is a \"propagating variable\".\n",
    "\n",
    "To solve this problem, we can first have a look at the distribution of the values Sa(T=0.01)"
   ]
  },
  {
   "cell_type": "code",
   "execution_count": 10,
   "id": "0d1c92dd",
   "metadata": {
    "cell_id": "00012-49ecdf4e-414f-4871-82dd-3f7d021f6fd1",
    "deepnote_cell_height": 414.20001220703125,
    "deepnote_cell_type": "code",
    "deepnote_output_heights": [
     null,
     253
    ],
    "deepnote_to_be_reexecuted": false,
    "execution_millis": 411,
    "execution_start": 1652263167017,
    "source_hash": "5a748006"
   },
   "outputs": [
    {
     "name": "stdout",
     "output_type": "stream",
     "text": [
      "The mean is: 6.335820620431721\n",
      "The median is: 1.27698565373954\n"
     ]
    },
    {
     "data": {
      "image/png": "[encoded data removed]",
      "text/plain": [
       "<Figure size 432x288 with 1 Axes>"
      ]
     },
     "metadata": {},
     "output_type": "display_data"
    }
   ],
   "source": [
    "X_train['0.01'].plot()\n",
    "print(f'The mean is: {X_train.iloc[:,0].mean()}')\n",
    "print(f'The median is: {X_train.iloc[:,0].median()}')"
   ]
  },
  {
   "cell_type": "markdown",
   "id": "9dd19afc",
   "metadata": {
    "cell_id": "00013-4fb0fd6f-e578-4e0e-b3c7-1c4fc376f1ec",
    "deepnote_cell_height": 111.19999694824219,
    "deepnote_cell_type": "markdown"
   },
   "source": [
    "We see that most of the values for Sa(T=0.01) in the DataSet are close to 0 with an average of `avg = 0.06` and a median of `med = 0.02`. \n",
    "Therefore, the most effective method would be to propagate backward the first value of Sa(T) encountered.\n",
    "This can be done by simply adding: `limit_direction='both'` in the argument "
   ]
  },
  {
   "cell_type": "code",
   "execution_count": 11,
   "id": "18beaa0f-37c6-4c93-b5e1-f3bbf237e3be",
   "metadata": {},
   "outputs": [
    {
     "data": {
      "text/html": [
       "<div>\n",
       "<style scoped>\n",
       "    .dataframe tbody tr th:only-of-type {\n",
       "        vertical-align: middle;\n",
       "    }\n",
       "\n",
       "    .dataframe tbody tr th {\n",
       "        vertical-align: top;\n",
       "    }\n",
       "\n",
       "    .dataframe thead th {\n",
       "        text-align: right;\n",
       "    }\n",
       "</style>\n",
       "<table border=\"1\" class=\"dataframe\">\n",
       "  <thead>\n",
       "    <tr style=\"text-align: right;\">\n",
       "      <th></th>\n",
       "      <th>0.010</th>\n",
       "      <th>0.020</th>\n",
       "      <th>0.022</th>\n",
       "      <th>0.025</th>\n",
       "      <th>0.029</th>\n",
       "      <th>0.030</th>\n",
       "      <th>0.032</th>\n",
       "      <th>0.035</th>\n",
       "      <th>0.036</th>\n",
       "      <th>0.040</th>\n",
       "      <th>...</th>\n",
       "      <th>5.500</th>\n",
       "      <th>6.000</th>\n",
       "      <th>6.500</th>\n",
       "      <th>7.000</th>\n",
       "      <th>7.500</th>\n",
       "      <th>8.000</th>\n",
       "      <th>8.500</th>\n",
       "      <th>9.000</th>\n",
       "      <th>9.500</th>\n",
       "      <th>10.000</th>\n",
       "    </tr>\n",
       "  </thead>\n",
       "  <tbody>\n",
       "    <tr>\n",
       "      <th>5000</th>\n",
       "      <td>3.299475</td>\n",
       "      <td>3.299475</td>\n",
       "      <td>3.294318</td>\n",
       "      <td>3.296878</td>\n",
       "      <td>3.321778</td>\n",
       "      <td>3.346679</td>\n",
       "      <td>3.420574</td>\n",
       "      <td>3.494469</td>\n",
       "      <td>3.484067</td>\n",
       "      <td>3.432916</td>\n",
       "      <td>...</td>\n",
       "      <td>0.090354</td>\n",
       "      <td>0.075934</td>\n",
       "      <td>0.061514</td>\n",
       "      <td>0.048606</td>\n",
       "      <td>0.037384</td>\n",
       "      <td>0.029558</td>\n",
       "      <td>0.025172</td>\n",
       "      <td>0.021543</td>\n",
       "      <td>0.017915</td>\n",
       "      <td>0.017915</td>\n",
       "    </tr>\n",
       "    <tr>\n",
       "      <th>5070</th>\n",
       "      <td>8.207758</td>\n",
       "      <td>8.207758</td>\n",
       "      <td>8.284363</td>\n",
       "      <td>8.360968</td>\n",
       "      <td>8.100641</td>\n",
       "      <td>8.344449</td>\n",
       "      <td>8.588257</td>\n",
       "      <td>8.673290</td>\n",
       "      <td>8.758323</td>\n",
       "      <td>9.634955</td>\n",
       "      <td>...</td>\n",
       "      <td>0.130995</td>\n",
       "      <td>0.095859</td>\n",
       "      <td>0.072810</td>\n",
       "      <td>0.049760</td>\n",
       "      <td>0.040178</td>\n",
       "      <td>0.034961</td>\n",
       "      <td>0.032014</td>\n",
       "      <td>0.029066</td>\n",
       "      <td>0.026670</td>\n",
       "      <td>0.024353</td>\n",
       "    </tr>\n",
       "    <tr>\n",
       "      <th>6050</th>\n",
       "      <td>4.987187</td>\n",
       "      <td>4.872964</td>\n",
       "      <td>4.886946</td>\n",
       "      <td>4.917360</td>\n",
       "      <td>4.974263</td>\n",
       "      <td>4.997757</td>\n",
       "      <td>5.021251</td>\n",
       "      <td>5.086068</td>\n",
       "      <td>5.118983</td>\n",
       "      <td>5.228604</td>\n",
       "      <td>...</td>\n",
       "      <td>0.037478</td>\n",
       "      <td>0.031882</td>\n",
       "      <td>0.026286</td>\n",
       "      <td>0.018093</td>\n",
       "      <td>0.014237</td>\n",
       "      <td>0.014030</td>\n",
       "      <td>0.011352</td>\n",
       "      <td>0.008675</td>\n",
       "      <td>0.007470</td>\n",
       "      <td>0.006573</td>\n",
       "    </tr>\n",
       "  </tbody>\n",
       "</table>\n",
       "<p>3 rows × 105 columns</p>\n",
       "</div>"
      ],
      "text/plain": [
       "        0.010     0.020     0.022     0.025     0.029     0.030     0.032   \\\n",
       "5000  3.299475  3.299475  3.294318  3.296878  3.321778  3.346679  3.420574   \n",
       "5070  8.207758  8.207758  8.284363  8.360968  8.100641  8.344449  8.588257   \n",
       "6050  4.987187  4.872964  4.886946  4.917360  4.974263  4.997757  5.021251   \n",
       "\n",
       "        0.035     0.036     0.040   ...    5.500     6.000     6.500   \\\n",
       "5000  3.494469  3.484067  3.432916  ...  0.090354  0.075934  0.061514   \n",
       "5070  8.673290  8.758323  9.634955  ...  0.130995  0.095859  0.072810   \n",
       "6050  5.086068  5.118983  5.228604  ...  0.037478  0.031882  0.026286   \n",
       "\n",
       "        7.000     7.500     8.000     8.500     9.000     9.500     10.000  \n",
       "5000  0.048606  0.037384  0.029558  0.025172  0.021543  0.017915  0.017915  \n",
       "5070  0.049760  0.040178  0.034961  0.032014  0.029066  0.026670  0.024353  \n",
       "6050  0.018093  0.014237  0.014030  0.011352  0.008675  0.007470  0.006573  \n",
       "\n",
       "[3 rows x 105 columns]"
      ]
     },
     "metadata": {},
     "output_type": "display_data"
    },
    {
     "data": {
      "text/plain": [
       "<AxesSubplot:>"
      ]
     },
     "execution_count": 11,
     "metadata": {},
     "output_type": "execute_result"
    },
    {
     "data": {
      "image/png": "[encoded data removed]",
      "text/plain": [
       "<Figure size 432x288 with 1 Axes>"
      ]
     },
     "metadata": {},
     "output_type": "display_data"
    }
   ],
   "source": [
    "X_plot_interp_lin = X_plot.interpolate(method='linear', axis = 1, limit_direction='both')\n",
    "display(X_plot_interp_lin)\n",
    "X_plot_interp_lin.T.plot(logx=True)"
   ]
  },
  {
   "cell_type": "markdown",
   "id": "4e0d10c9",
   "metadata": {
    "cell_id": "00014-e80b3d87-3e48-41fb-b246-afe15a428c46",
    "deepnote_cell_height": 62,
    "deepnote_cell_type": "markdown"
   },
   "source": [
    "## 2.2. Interpolation method = 'values'"
   ]
  },
  {
   "cell_type": "code",
   "execution_count": 12,
   "id": "df17bf67",
   "metadata": {
    "cell_id": "00015-47198a32-9687-465d-adb0-d54d32db4415",
    "deepnote_cell_height": 640,
    "deepnote_cell_type": "code",
    "deepnote_output_heights": [
     167,
     21,
     257
    ],
    "deepnote_to_be_reexecuted": false,
    "execution_millis": 1140,
    "execution_start": 1652263167436,
    "source_hash": "df3cdc50"
   },
   "outputs": [
    {
     "data": {
      "text/html": [
       "<div>\n",
       "<style scoped>\n",
       "    .dataframe tbody tr th:only-of-type {\n",
       "        vertical-align: middle;\n",
       "    }\n",
       "\n",
       "    .dataframe tbody tr th {\n",
       "        vertical-align: top;\n",
       "    }\n",
       "\n",
       "    .dataframe thead th {\n",
       "        text-align: right;\n",
       "    }\n",
       "</style>\n",
       "<table border=\"1\" class=\"dataframe\">\n",
       "  <thead>\n",
       "    <tr style=\"text-align: right;\">\n",
       "      <th></th>\n",
       "      <th>0.010</th>\n",
       "      <th>0.020</th>\n",
       "      <th>0.022</th>\n",
       "      <th>0.025</th>\n",
       "      <th>0.029</th>\n",
       "      <th>0.030</th>\n",
       "      <th>0.032</th>\n",
       "      <th>0.035</th>\n",
       "      <th>0.036</th>\n",
       "      <th>0.040</th>\n",
       "      <th>...</th>\n",
       "      <th>5.500</th>\n",
       "      <th>6.000</th>\n",
       "      <th>6.500</th>\n",
       "      <th>7.000</th>\n",
       "      <th>7.500</th>\n",
       "      <th>8.000</th>\n",
       "      <th>8.500</th>\n",
       "      <th>9.000</th>\n",
       "      <th>9.500</th>\n",
       "      <th>10.000</th>\n",
       "    </tr>\n",
       "  </thead>\n",
       "  <tbody>\n",
       "    <tr>\n",
       "      <th>5000</th>\n",
       "      <td>3.299475</td>\n",
       "      <td>3.299475</td>\n",
       "      <td>3.294318</td>\n",
       "      <td>3.296878</td>\n",
       "      <td>3.336719</td>\n",
       "      <td>3.346679</td>\n",
       "      <td>3.405795</td>\n",
       "      <td>3.494469</td>\n",
       "      <td>3.484067</td>\n",
       "      <td>3.415866</td>\n",
       "      <td>...</td>\n",
       "      <td>0.090354</td>\n",
       "      <td>0.075934</td>\n",
       "      <td>0.061514</td>\n",
       "      <td>0.048606</td>\n",
       "      <td>0.037384</td>\n",
       "      <td>0.029558</td>\n",
       "      <td>0.025172</td>\n",
       "      <td>0.021543</td>\n",
       "      <td>0.017915</td>\n",
       "      <td>0.017915</td>\n",
       "    </tr>\n",
       "    <tr>\n",
       "      <th>5070</th>\n",
       "      <td>8.207758</td>\n",
       "      <td>8.207758</td>\n",
       "      <td>8.269042</td>\n",
       "      <td>8.360968</td>\n",
       "      <td>8.100641</td>\n",
       "      <td>8.263180</td>\n",
       "      <td>8.588257</td>\n",
       "      <td>8.715806</td>\n",
       "      <td>8.758323</td>\n",
       "      <td>9.634955</td>\n",
       "      <td>...</td>\n",
       "      <td>0.130995</td>\n",
       "      <td>0.095859</td>\n",
       "      <td>0.072810</td>\n",
       "      <td>0.049760</td>\n",
       "      <td>0.040178</td>\n",
       "      <td>0.034961</td>\n",
       "      <td>0.032014</td>\n",
       "      <td>0.029066</td>\n",
       "      <td>0.026670</td>\n",
       "      <td>0.024353</td>\n",
       "    </tr>\n",
       "    <tr>\n",
       "      <th>6050</th>\n",
       "      <td>4.987187</td>\n",
       "      <td>4.872964</td>\n",
       "      <td>4.886946</td>\n",
       "      <td>4.917360</td>\n",
       "      <td>4.974263</td>\n",
       "      <td>4.989926</td>\n",
       "      <td>5.021251</td>\n",
       "      <td>5.086068</td>\n",
       "      <td>5.118983</td>\n",
       "      <td>5.283414</td>\n",
       "      <td>...</td>\n",
       "      <td>0.037478</td>\n",
       "      <td>0.031882</td>\n",
       "      <td>0.026286</td>\n",
       "      <td>0.018093</td>\n",
       "      <td>0.014237</td>\n",
       "      <td>0.014030</td>\n",
       "      <td>0.011352</td>\n",
       "      <td>0.008675</td>\n",
       "      <td>0.007470</td>\n",
       "      <td>0.006573</td>\n",
       "    </tr>\n",
       "  </tbody>\n",
       "</table>\n",
       "<p>3 rows × 105 columns</p>\n",
       "</div>"
      ],
      "text/plain": [
       "        0.010     0.020     0.022     0.025     0.029     0.030     0.032   \\\n",
       "5000  3.299475  3.299475  3.294318  3.296878  3.336719  3.346679  3.405795   \n",
       "5070  8.207758  8.207758  8.269042  8.360968  8.100641  8.263180  8.588257   \n",
       "6050  4.987187  4.872964  4.886946  4.917360  4.974263  4.989926  5.021251   \n",
       "\n",
       "        0.035     0.036     0.040   ...    5.500     6.000     6.500   \\\n",
       "5000  3.494469  3.484067  3.415866  ...  0.090354  0.075934  0.061514   \n",
       "5070  8.715806  8.758323  9.634955  ...  0.130995  0.095859  0.072810   \n",
       "6050  5.086068  5.118983  5.283414  ...  0.037478  0.031882  0.026286   \n",
       "\n",
       "        7.000     7.500     8.000     8.500     9.000     9.500     10.000  \n",
       "5000  0.048606  0.037384  0.029558  0.025172  0.021543  0.017915  0.017915  \n",
       "5070  0.049760  0.040178  0.034961  0.032014  0.029066  0.026670  0.024353  \n",
       "6050  0.018093  0.014237  0.014030  0.011352  0.008675  0.007470  0.006573  \n",
       "\n",
       "[3 rows x 105 columns]"
      ]
     },
     "metadata": {},
     "output_type": "display_data"
    },
    {
     "data": {
      "text/plain": [
       "<AxesSubplot:>"
      ]
     },
     "execution_count": 12,
     "metadata": {},
     "output_type": "execute_result"
    },
    {
     "data": {
      "image/png": "[encoded data removed]",
      "text/plain": [
       "<Figure size 432x288 with 1 Axes>"
      ]
     },
     "metadata": {},
     "output_type": "display_data"
    }
   ],
   "source": [
    "X_plot_interp_values = X_plot.interpolate(method = 'values', axis = 1, limit_direction='both')\n",
    "display(X_plot_interp_values)\n",
    "X_plot_interp_values.T.plot(logx=True)"
   ]
  },
  {
   "cell_type": "code",
   "execution_count": 13,
   "id": "3d2263eb",
   "metadata": {
    "cell_id": "00016-a02836f6-aa1a-4226-9afc-c9b71b3e6621",
    "deepnote_cell_height": 330,
    "deepnote_cell_type": "code",
    "deepnote_output_heights": [
     167
    ],
    "deepnote_to_be_reexecuted": false,
    "execution_millis": 230,
    "execution_start": 1652263168577,
    "source_hash": "cb4011f9"
   },
   "outputs": [
    {
     "data": {
      "text/html": [
       "<div>\n",
       "<style scoped>\n",
       "    .dataframe tbody tr th:only-of-type {\n",
       "        vertical-align: middle;\n",
       "    }\n",
       "\n",
       "    .dataframe tbody tr th {\n",
       "        vertical-align: top;\n",
       "    }\n",
       "\n",
       "    .dataframe thead th {\n",
       "        text-align: right;\n",
       "    }\n",
       "</style>\n",
       "<table border=\"1\" class=\"dataframe\">\n",
       "  <thead>\n",
       "    <tr style=\"text-align: right;\">\n",
       "      <th></th>\n",
       "      <th>0.010</th>\n",
       "      <th>0.020</th>\n",
       "      <th>0.022</th>\n",
       "      <th>0.025</th>\n",
       "      <th>0.029</th>\n",
       "      <th>0.030</th>\n",
       "      <th>0.032</th>\n",
       "      <th>0.035</th>\n",
       "      <th>0.036</th>\n",
       "      <th>0.040</th>\n",
       "      <th>...</th>\n",
       "      <th>5.500</th>\n",
       "      <th>6.000</th>\n",
       "      <th>6.500</th>\n",
       "      <th>7.000</th>\n",
       "      <th>7.500</th>\n",
       "      <th>8.000</th>\n",
       "      <th>8.500</th>\n",
       "      <th>9.000</th>\n",
       "      <th>9.500</th>\n",
       "      <th>10.000</th>\n",
       "    </tr>\n",
       "  </thead>\n",
       "  <tbody>\n",
       "    <tr>\n",
       "      <th>5000</th>\n",
       "      <td>True</td>\n",
       "      <td>True</td>\n",
       "      <td>True</td>\n",
       "      <td>True</td>\n",
       "      <td>False</td>\n",
       "      <td>True</td>\n",
       "      <td>False</td>\n",
       "      <td>True</td>\n",
       "      <td>True</td>\n",
       "      <td>False</td>\n",
       "      <td>...</td>\n",
       "      <td>True</td>\n",
       "      <td>True</td>\n",
       "      <td>True</td>\n",
       "      <td>True</td>\n",
       "      <td>True</td>\n",
       "      <td>True</td>\n",
       "      <td>True</td>\n",
       "      <td>True</td>\n",
       "      <td>True</td>\n",
       "      <td>True</td>\n",
       "    </tr>\n",
       "    <tr>\n",
       "      <th>5070</th>\n",
       "      <td>True</td>\n",
       "      <td>True</td>\n",
       "      <td>False</td>\n",
       "      <td>True</td>\n",
       "      <td>True</td>\n",
       "      <td>False</td>\n",
       "      <td>True</td>\n",
       "      <td>False</td>\n",
       "      <td>True</td>\n",
       "      <td>True</td>\n",
       "      <td>...</td>\n",
       "      <td>True</td>\n",
       "      <td>True</td>\n",
       "      <td>True</td>\n",
       "      <td>True</td>\n",
       "      <td>True</td>\n",
       "      <td>True</td>\n",
       "      <td>True</td>\n",
       "      <td>True</td>\n",
       "      <td>True</td>\n",
       "      <td>True</td>\n",
       "    </tr>\n",
       "    <tr>\n",
       "      <th>6050</th>\n",
       "      <td>True</td>\n",
       "      <td>True</td>\n",
       "      <td>True</td>\n",
       "      <td>True</td>\n",
       "      <td>True</td>\n",
       "      <td>False</td>\n",
       "      <td>True</td>\n",
       "      <td>True</td>\n",
       "      <td>True</td>\n",
       "      <td>False</td>\n",
       "      <td>...</td>\n",
       "      <td>True</td>\n",
       "      <td>True</td>\n",
       "      <td>True</td>\n",
       "      <td>True</td>\n",
       "      <td>True</td>\n",
       "      <td>True</td>\n",
       "      <td>True</td>\n",
       "      <td>True</td>\n",
       "      <td>True</td>\n",
       "      <td>True</td>\n",
       "    </tr>\n",
       "  </tbody>\n",
       "</table>\n",
       "<p>3 rows × 105 columns</p>\n",
       "</div>"
      ],
      "text/plain": [
       "      0.010   0.020   0.022   0.025   0.029   0.030   0.032   0.035   0.036   \\\n",
       "5000    True    True    True    True   False    True   False    True    True   \n",
       "5070    True    True   False    True    True   False    True   False    True   \n",
       "6050    True    True    True    True    True   False    True    True    True   \n",
       "\n",
       "      0.040   ...  5.500   6.000   6.500   7.000   7.500   8.000   8.500   \\\n",
       "5000   False  ...    True    True    True    True    True    True    True   \n",
       "5070    True  ...    True    True    True    True    True    True    True   \n",
       "6050   False  ...    True    True    True    True    True    True    True   \n",
       "\n",
       "      9.000   9.500   10.000  \n",
       "5000    True    True    True  \n",
       "5070    True    True    True  \n",
       "6050    True    True    True  \n",
       "\n",
       "[3 rows x 105 columns]"
      ]
     },
     "execution_count": 13,
     "metadata": {},
     "output_type": "execute_result"
    }
   ],
   "source": [
    "X_plot_interp_values == X_plot_interp_lin"
   ]
  },
  {
   "cell_type": "markdown",
   "id": "e28cf61e",
   "metadata": {
    "cell_id": "00017-277631a6-f58a-4c74-a4fe-62e4ee6b666a",
    "deepnote_cell_height": 74.80000305175781,
    "deepnote_cell_type": "markdown"
   },
   "source": [
    "The \"linear\" and \"values\" methods yields approximately the same results. It is hard to define which one is the most efficient one though.For high period values, the results are exactly the same but they differ sligthly for smaller periods."
   ]
  },
  {
   "cell_type": "markdown",
   "id": "b12843c4",
   "metadata": {
    "cell_id": "00018-f9e17719-0afc-4250-b037-fb9c0082d2d1",
    "deepnote_cell_height": 62,
    "deepnote_cell_type": "markdown"
   },
   "source": [
    "## 2.3. Interpolation method = 'quadratic'"
   ]
  },
  {
   "cell_type": "code",
   "execution_count": 14,
   "id": "467da902",
   "metadata": {
    "cell_id": "00019-ee9d9544-bdd0-401f-960d-d2935119b535",
    "deepnote_cell_height": 640,
    "deepnote_cell_type": "code",
    "deepnote_output_heights": [
     167,
     21,
     257
    ],
    "deepnote_to_be_reexecuted": false,
    "execution_millis": 978,
    "execution_start": 1652263168808,
    "source_hash": "cdc4bfe"
   },
   "outputs": [
    {
     "data": {
      "text/html": [
       "<div>\n",
       "<style scoped>\n",
       "    .dataframe tbody tr th:only-of-type {\n",
       "        vertical-align: middle;\n",
       "    }\n",
       "\n",
       "    .dataframe tbody tr th {\n",
       "        vertical-align: top;\n",
       "    }\n",
       "\n",
       "    .dataframe thead th {\n",
       "        text-align: right;\n",
       "    }\n",
       "</style>\n",
       "<table border=\"1\" class=\"dataframe\">\n",
       "  <thead>\n",
       "    <tr style=\"text-align: right;\">\n",
       "      <th></th>\n",
       "      <th>0.010</th>\n",
       "      <th>0.020</th>\n",
       "      <th>0.022</th>\n",
       "      <th>0.025</th>\n",
       "      <th>0.029</th>\n",
       "      <th>0.030</th>\n",
       "      <th>0.032</th>\n",
       "      <th>0.035</th>\n",
       "      <th>0.036</th>\n",
       "      <th>0.040</th>\n",
       "      <th>...</th>\n",
       "      <th>5.500</th>\n",
       "      <th>6.000</th>\n",
       "      <th>6.500</th>\n",
       "      <th>7.000</th>\n",
       "      <th>7.500</th>\n",
       "      <th>8.000</th>\n",
       "      <th>8.500</th>\n",
       "      <th>9.000</th>\n",
       "      <th>9.500</th>\n",
       "      <th>10.000</th>\n",
       "    </tr>\n",
       "  </thead>\n",
       "  <tbody>\n",
       "    <tr>\n",
       "      <th>5000</th>\n",
       "      <td>NaN</td>\n",
       "      <td>3.299475</td>\n",
       "      <td>3.294318</td>\n",
       "      <td>3.296878</td>\n",
       "      <td>3.324550</td>\n",
       "      <td>3.346679</td>\n",
       "      <td>3.415960</td>\n",
       "      <td>3.494469</td>\n",
       "      <td>3.484067</td>\n",
       "      <td>3.394747</td>\n",
       "      <td>...</td>\n",
       "      <td>0.090354</td>\n",
       "      <td>0.073262</td>\n",
       "      <td>0.061514</td>\n",
       "      <td>0.048606</td>\n",
       "      <td>0.037384</td>\n",
       "      <td>0.029558</td>\n",
       "      <td>0.025172</td>\n",
       "      <td>0.021448</td>\n",
       "      <td>0.017915</td>\n",
       "      <td>NaN</td>\n",
       "    </tr>\n",
       "    <tr>\n",
       "      <th>5070</th>\n",
       "      <td>NaN</td>\n",
       "      <td>8.207758</td>\n",
       "      <td>8.380206</td>\n",
       "      <td>8.360968</td>\n",
       "      <td>8.100641</td>\n",
       "      <td>8.227011</td>\n",
       "      <td>8.588257</td>\n",
       "      <td>8.661568</td>\n",
       "      <td>8.758323</td>\n",
       "      <td>9.634955</td>\n",
       "      <td>...</td>\n",
       "      <td>0.130995</td>\n",
       "      <td>0.095859</td>\n",
       "      <td>0.068377</td>\n",
       "      <td>0.049760</td>\n",
       "      <td>0.040178</td>\n",
       "      <td>0.034961</td>\n",
       "      <td>0.031592</td>\n",
       "      <td>0.029066</td>\n",
       "      <td>0.026670</td>\n",
       "      <td>0.024353</td>\n",
       "    </tr>\n",
       "    <tr>\n",
       "      <th>6050</th>\n",
       "      <td>4.987187</td>\n",
       "      <td>4.872964</td>\n",
       "      <td>4.886946</td>\n",
       "      <td>4.917360</td>\n",
       "      <td>4.974263</td>\n",
       "      <td>4.989331</td>\n",
       "      <td>5.021251</td>\n",
       "      <td>5.086068</td>\n",
       "      <td>5.118983</td>\n",
       "      <td>5.279041</td>\n",
       "      <td>...</td>\n",
       "      <td>0.037478</td>\n",
       "      <td>0.027011</td>\n",
       "      <td>0.026286</td>\n",
       "      <td>0.018093</td>\n",
       "      <td>0.014237</td>\n",
       "      <td>0.014030</td>\n",
       "      <td>0.011632</td>\n",
       "      <td>0.008675</td>\n",
       "      <td>0.007470</td>\n",
       "      <td>0.006573</td>\n",
       "    </tr>\n",
       "  </tbody>\n",
       "</table>\n",
       "<p>3 rows × 105 columns</p>\n",
       "</div>"
      ],
      "text/plain": [
       "        0.010     0.020     0.022     0.025     0.029     0.030     0.032   \\\n",
       "5000       NaN  3.299475  3.294318  3.296878  3.324550  3.346679  3.415960   \n",
       "5070       NaN  8.207758  8.380206  8.360968  8.100641  8.227011  8.588257   \n",
       "6050  4.987187  4.872964  4.886946  4.917360  4.974263  4.989331  5.021251   \n",
       "\n",
       "        0.035     0.036     0.040   ...    5.500     6.000     6.500   \\\n",
       "5000  3.494469  3.484067  3.394747  ...  0.090354  0.073262  0.061514   \n",
       "5070  8.661568  8.758323  9.634955  ...  0.130995  0.095859  0.068377   \n",
       "6050  5.086068  5.118983  5.279041  ...  0.037478  0.027011  0.026286   \n",
       "\n",
       "        7.000     7.500     8.000     8.500     9.000     9.500     10.000  \n",
       "5000  0.048606  0.037384  0.029558  0.025172  0.021448  0.017915       NaN  \n",
       "5070  0.049760  0.040178  0.034961  0.031592  0.029066  0.026670  0.024353  \n",
       "6050  0.018093  0.014237  0.014030  0.011632  0.008675  0.007470  0.006573  \n",
       "\n",
       "[3 rows x 105 columns]"
      ]
     },
     "metadata": {},
     "output_type": "display_data"
    },
    {
     "data": {
      "text/plain": [
       "<AxesSubplot:>"
      ]
     },
     "execution_count": 14,
     "metadata": {},
     "output_type": "execute_result"
    },
    {
     "data": {
      "image/png": "[encoded data removed]",
      "text/plain": [
       "<Figure size 432x288 with 1 Axes>"
      ]
     },
     "metadata": {},
     "output_type": "display_data"
    }
   ],
   "source": [
    "X_plot_interp_quad = X_plot.interpolate(method = 'quadratic', axis = 1, limit_direction='both')\n",
    "display(X_plot_interp_quad)\n",
    "X_plot_interp_quad.T.plot(logx=True)"
   ]
  },
  {
   "cell_type": "markdown",
   "id": "98d918b0",
   "metadata": {
    "cell_id": "00020-d4541566-8734-47a0-bfba-107927b4a374",
    "deepnote_cell_height": 62,
    "deepnote_cell_type": "markdown"
   },
   "source": [
    "## 2.4. Interpolation method = 'cubic'"
   ]
  },
  {
   "cell_type": "code",
   "execution_count": 15,
   "id": "906e9010",
   "metadata": {
    "cell_id": "00021-3f09d9d3-72bc-4929-8805-8d0ac1ad6bd9",
    "deepnote_cell_height": 640,
    "deepnote_cell_type": "code",
    "deepnote_output_heights": [
     167,
     21,
     257
    ],
    "deepnote_to_be_reexecuted": false,
    "execution_millis": 731,
    "execution_start": 1652263169635,
    "source_hash": "d586c4d"
   },
   "outputs": [
    {
     "data": {
      "text/html": [
       "<div>\n",
       "<style scoped>\n",
       "    .dataframe tbody tr th:only-of-type {\n",
       "        vertical-align: middle;\n",
       "    }\n",
       "\n",
       "    .dataframe tbody tr th {\n",
       "        vertical-align: top;\n",
       "    }\n",
       "\n",
       "    .dataframe thead th {\n",
       "        text-align: right;\n",
       "    }\n",
       "</style>\n",
       "<table border=\"1\" class=\"dataframe\">\n",
       "  <thead>\n",
       "    <tr style=\"text-align: right;\">\n",
       "      <th></th>\n",
       "      <th>0.010</th>\n",
       "      <th>0.020</th>\n",
       "      <th>0.022</th>\n",
       "      <th>0.025</th>\n",
       "      <th>0.029</th>\n",
       "      <th>0.030</th>\n",
       "      <th>0.032</th>\n",
       "      <th>0.035</th>\n",
       "      <th>0.036</th>\n",
       "      <th>0.040</th>\n",
       "      <th>...</th>\n",
       "      <th>5.500</th>\n",
       "      <th>6.000</th>\n",
       "      <th>6.500</th>\n",
       "      <th>7.000</th>\n",
       "      <th>7.500</th>\n",
       "      <th>8.000</th>\n",
       "      <th>8.500</th>\n",
       "      <th>9.000</th>\n",
       "      <th>9.500</th>\n",
       "      <th>10.000</th>\n",
       "    </tr>\n",
       "  </thead>\n",
       "  <tbody>\n",
       "    <tr>\n",
       "      <th>5000</th>\n",
       "      <td>NaN</td>\n",
       "      <td>3.299475</td>\n",
       "      <td>3.294318</td>\n",
       "      <td>3.296878</td>\n",
       "      <td>3.322648</td>\n",
       "      <td>3.346679</td>\n",
       "      <td>3.420663</td>\n",
       "      <td>3.494469</td>\n",
       "      <td>3.484067</td>\n",
       "      <td>3.400872</td>\n",
       "      <td>...</td>\n",
       "      <td>0.090354</td>\n",
       "      <td>0.073390</td>\n",
       "      <td>0.061514</td>\n",
       "      <td>0.048606</td>\n",
       "      <td>0.037384</td>\n",
       "      <td>0.029558</td>\n",
       "      <td>0.025172</td>\n",
       "      <td>0.022152</td>\n",
       "      <td>0.017915</td>\n",
       "      <td>NaN</td>\n",
       "    </tr>\n",
       "    <tr>\n",
       "      <th>5070</th>\n",
       "      <td>NaN</td>\n",
       "      <td>8.207758</td>\n",
       "      <td>8.570739</td>\n",
       "      <td>8.360968</td>\n",
       "      <td>8.100641</td>\n",
       "      <td>8.246273</td>\n",
       "      <td>8.588257</td>\n",
       "      <td>8.664872</td>\n",
       "      <td>8.758323</td>\n",
       "      <td>9.634955</td>\n",
       "      <td>...</td>\n",
       "      <td>0.130995</td>\n",
       "      <td>0.095859</td>\n",
       "      <td>0.068371</td>\n",
       "      <td>0.049760</td>\n",
       "      <td>0.040178</td>\n",
       "      <td>0.034961</td>\n",
       "      <td>0.031597</td>\n",
       "      <td>0.029066</td>\n",
       "      <td>0.026670</td>\n",
       "      <td>0.024353</td>\n",
       "    </tr>\n",
       "    <tr>\n",
       "      <th>6050</th>\n",
       "      <td>4.987187</td>\n",
       "      <td>4.872964</td>\n",
       "      <td>4.886946</td>\n",
       "      <td>4.917360</td>\n",
       "      <td>4.974263</td>\n",
       "      <td>4.989475</td>\n",
       "      <td>5.021251</td>\n",
       "      <td>5.086068</td>\n",
       "      <td>5.118983</td>\n",
       "      <td>5.282008</td>\n",
       "      <td>...</td>\n",
       "      <td>0.037478</td>\n",
       "      <td>0.026359</td>\n",
       "      <td>0.026286</td>\n",
       "      <td>0.018093</td>\n",
       "      <td>0.014237</td>\n",
       "      <td>0.014030</td>\n",
       "      <td>0.011675</td>\n",
       "      <td>0.008675</td>\n",
       "      <td>0.007470</td>\n",
       "      <td>0.006573</td>\n",
       "    </tr>\n",
       "  </tbody>\n",
       "</table>\n",
       "<p>3 rows × 105 columns</p>\n",
       "</div>"
      ],
      "text/plain": [
       "        0.010     0.020     0.022     0.025     0.029     0.030     0.032   \\\n",
       "5000       NaN  3.299475  3.294318  3.296878  3.322648  3.346679  3.420663   \n",
       "5070       NaN  8.207758  8.570739  8.360968  8.100641  8.246273  8.588257   \n",
       "6050  4.987187  4.872964  4.886946  4.917360  4.974263  4.989475  5.021251   \n",
       "\n",
       "        0.035     0.036     0.040   ...    5.500     6.000     6.500   \\\n",
       "5000  3.494469  3.484067  3.400872  ...  0.090354  0.073390  0.061514   \n",
       "5070  8.664872  8.758323  9.634955  ...  0.130995  0.095859  0.068371   \n",
       "6050  5.086068  5.118983  5.282008  ...  0.037478  0.026359  0.026286   \n",
       "\n",
       "        7.000     7.500     8.000     8.500     9.000     9.500     10.000  \n",
       "5000  0.048606  0.037384  0.029558  0.025172  0.022152  0.017915       NaN  \n",
       "5070  0.049760  0.040178  0.034961  0.031597  0.029066  0.026670  0.024353  \n",
       "6050  0.018093  0.014237  0.014030  0.011675  0.008675  0.007470  0.006573  \n",
       "\n",
       "[3 rows x 105 columns]"
      ]
     },
     "metadata": {},
     "output_type": "display_data"
    },
    {
     "data": {
      "text/plain": [
       "<AxesSubplot:>"
      ]
     },
     "execution_count": 15,
     "metadata": {},
     "output_type": "execute_result"
    },
    {
     "data": {
      "image/png": "[encoded data removed]",
      "text/plain": [
       "<Figure size 432x288 with 1 Axes>"
      ]
     },
     "metadata": {},
     "output_type": "display_data"
    }
   ],
   "source": [
    "X_plot_interp_cub = X_plot.interpolate(method = 'cubic', axis = 1, limit_direction='both')\n",
    "display(X_plot_interp_cub)\n",
    "X_plot_interp_cub.T.plot(logx=True)"
   ]
  },
  {
   "cell_type": "markdown",
   "id": "3bbc4a20-27bd-47e9-92f9-76c7131f1396",
   "metadata": {},
   "source": [
    "## 2.5 Interpolation method = 'piecewise_polynomial'"
   ]
  },
  {
   "cell_type": "code",
   "execution_count": 16,
   "id": "3a5f5059-c671-403f-8f11-c4aeee243f68",
   "metadata": {},
   "outputs": [
    {
     "data": {
      "text/html": [
       "<div>\n",
       "<style scoped>\n",
       "    .dataframe tbody tr th:only-of-type {\n",
       "        vertical-align: middle;\n",
       "    }\n",
       "\n",
       "    .dataframe tbody tr th {\n",
       "        vertical-align: top;\n",
       "    }\n",
       "\n",
       "    .dataframe thead th {\n",
       "        text-align: right;\n",
       "    }\n",
       "</style>\n",
       "<table border=\"1\" class=\"dataframe\">\n",
       "  <thead>\n",
       "    <tr style=\"text-align: right;\">\n",
       "      <th></th>\n",
       "      <th>0.010</th>\n",
       "      <th>0.020</th>\n",
       "      <th>0.022</th>\n",
       "      <th>0.025</th>\n",
       "      <th>0.029</th>\n",
       "      <th>0.030</th>\n",
       "      <th>0.032</th>\n",
       "      <th>0.035</th>\n",
       "      <th>0.036</th>\n",
       "      <th>0.040</th>\n",
       "      <th>...</th>\n",
       "      <th>5.500</th>\n",
       "      <th>6.000</th>\n",
       "      <th>6.500</th>\n",
       "      <th>7.000</th>\n",
       "      <th>7.500</th>\n",
       "      <th>8.000</th>\n",
       "      <th>8.500</th>\n",
       "      <th>9.000</th>\n",
       "      <th>9.500</th>\n",
       "      <th>10.000</th>\n",
       "    </tr>\n",
       "  </thead>\n",
       "  <tbody>\n",
       "    <tr>\n",
       "      <th>5000</th>\n",
       "      <td>NaN</td>\n",
       "      <td>3.299475</td>\n",
       "      <td>3.294318</td>\n",
       "      <td>3.296878</td>\n",
       "      <td>3.322648</td>\n",
       "      <td>3.346679</td>\n",
       "      <td>3.420663</td>\n",
       "      <td>3.494469</td>\n",
       "      <td>3.484067</td>\n",
       "      <td>3.400872</td>\n",
       "      <td>...</td>\n",
       "      <td>0.090354</td>\n",
       "      <td>0.073390</td>\n",
       "      <td>0.061514</td>\n",
       "      <td>0.048606</td>\n",
       "      <td>0.037384</td>\n",
       "      <td>0.029558</td>\n",
       "      <td>0.025172</td>\n",
       "      <td>0.022152</td>\n",
       "      <td>0.017915</td>\n",
       "      <td>NaN</td>\n",
       "    </tr>\n",
       "    <tr>\n",
       "      <th>5070</th>\n",
       "      <td>NaN</td>\n",
       "      <td>8.207758</td>\n",
       "      <td>8.570739</td>\n",
       "      <td>8.360968</td>\n",
       "      <td>8.100641</td>\n",
       "      <td>8.246273</td>\n",
       "      <td>8.588257</td>\n",
       "      <td>8.664872</td>\n",
       "      <td>8.758323</td>\n",
       "      <td>9.634955</td>\n",
       "      <td>...</td>\n",
       "      <td>0.130995</td>\n",
       "      <td>0.095859</td>\n",
       "      <td>0.068371</td>\n",
       "      <td>0.049760</td>\n",
       "      <td>0.040178</td>\n",
       "      <td>0.034961</td>\n",
       "      <td>0.031597</td>\n",
       "      <td>0.029066</td>\n",
       "      <td>0.026670</td>\n",
       "      <td>0.024353</td>\n",
       "    </tr>\n",
       "    <tr>\n",
       "      <th>6050</th>\n",
       "      <td>4.987187</td>\n",
       "      <td>4.872964</td>\n",
       "      <td>4.886946</td>\n",
       "      <td>4.917360</td>\n",
       "      <td>4.974263</td>\n",
       "      <td>4.989475</td>\n",
       "      <td>5.021251</td>\n",
       "      <td>5.086068</td>\n",
       "      <td>5.118983</td>\n",
       "      <td>5.282008</td>\n",
       "      <td>...</td>\n",
       "      <td>0.037478</td>\n",
       "      <td>0.026359</td>\n",
       "      <td>0.026286</td>\n",
       "      <td>0.018093</td>\n",
       "      <td>0.014237</td>\n",
       "      <td>0.014030</td>\n",
       "      <td>0.011675</td>\n",
       "      <td>0.008675</td>\n",
       "      <td>0.007470</td>\n",
       "      <td>0.006573</td>\n",
       "    </tr>\n",
       "  </tbody>\n",
       "</table>\n",
       "<p>3 rows × 105 columns</p>\n",
       "</div>"
      ],
      "text/plain": [
       "        0.010     0.020     0.022     0.025     0.029     0.030     0.032   \\\n",
       "5000       NaN  3.299475  3.294318  3.296878  3.322648  3.346679  3.420663   \n",
       "5070       NaN  8.207758  8.570739  8.360968  8.100641  8.246273  8.588257   \n",
       "6050  4.987187  4.872964  4.886946  4.917360  4.974263  4.989475  5.021251   \n",
       "\n",
       "        0.035     0.036     0.040   ...    5.500     6.000     6.500   \\\n",
       "5000  3.494469  3.484067  3.400872  ...  0.090354  0.073390  0.061514   \n",
       "5070  8.664872  8.758323  9.634955  ...  0.130995  0.095859  0.068371   \n",
       "6050  5.086068  5.118983  5.282008  ...  0.037478  0.026359  0.026286   \n",
       "\n",
       "        7.000     7.500     8.000     8.500     9.000     9.500     10.000  \n",
       "5000  0.048606  0.037384  0.029558  0.025172  0.022152  0.017915       NaN  \n",
       "5070  0.049760  0.040178  0.034961  0.031597  0.029066  0.026670  0.024353  \n",
       "6050  0.018093  0.014237  0.014030  0.011675  0.008675  0.007470  0.006573  \n",
       "\n",
       "[3 rows x 105 columns]"
      ]
     },
     "metadata": {},
     "output_type": "display_data"
    },
    {
     "data": {
      "text/plain": [
       "<AxesSubplot:>"
      ]
     },
     "execution_count": 16,
     "metadata": {},
     "output_type": "execute_result"
    },
    {
     "data": {
      "image/png": "[encoded data removed]",
      "text/plain": [
       "<Figure size 432x288 with 1 Axes>"
      ]
     },
     "metadata": {},
     "output_type": "display_data"
    }
   ],
   "source": [
    "X_plot_interp_pwpol = X_plot.interpolate(method = 'piecewise_polynomial', axis = 1, limit_direction='both')\n",
    "display(X_plot_interp_cub)\n",
    "X_plot_interp_pwpol.T.plot(logx=True)"
   ]
  },
  {
   "cell_type": "markdown",
   "id": "a1982bfc-66a6-4451-8235-60ee9c053b97",
   "metadata": {},
   "source": [
    "## 2.6 Interpolation method = 'spline'"
   ]
  },
  {
   "cell_type": "code",
   "execution_count": 17,
   "id": "6e9b7d8b-cd15-4394-bf39-6d976a0c0b99",
   "metadata": {},
   "outputs": [
    {
     "data": {
      "text/html": [
       "<div>\n",
       "<style scoped>\n",
       "    .dataframe tbody tr th:only-of-type {\n",
       "        vertical-align: middle;\n",
       "    }\n",
       "\n",
       "    .dataframe tbody tr th {\n",
       "        vertical-align: top;\n",
       "    }\n",
       "\n",
       "    .dataframe thead th {\n",
       "        text-align: right;\n",
       "    }\n",
       "</style>\n",
       "<table border=\"1\" class=\"dataframe\">\n",
       "  <thead>\n",
       "    <tr style=\"text-align: right;\">\n",
       "      <th></th>\n",
       "      <th>0.010</th>\n",
       "      <th>0.020</th>\n",
       "      <th>0.022</th>\n",
       "      <th>0.025</th>\n",
       "      <th>0.029</th>\n",
       "      <th>0.030</th>\n",
       "      <th>0.032</th>\n",
       "      <th>0.035</th>\n",
       "      <th>0.036</th>\n",
       "      <th>0.040</th>\n",
       "      <th>...</th>\n",
       "      <th>5.500</th>\n",
       "      <th>6.000</th>\n",
       "      <th>6.500</th>\n",
       "      <th>7.000</th>\n",
       "      <th>7.500</th>\n",
       "      <th>8.000</th>\n",
       "      <th>8.500</th>\n",
       "      <th>9.000</th>\n",
       "      <th>9.500</th>\n",
       "      <th>10.000</th>\n",
       "    </tr>\n",
       "  </thead>\n",
       "  <tbody>\n",
       "    <tr>\n",
       "      <th>5000</th>\n",
       "      <td>NaN</td>\n",
       "      <td>3.299475</td>\n",
       "      <td>3.294318</td>\n",
       "      <td>3.296878</td>\n",
       "      <td>3.322648</td>\n",
       "      <td>3.346679</td>\n",
       "      <td>3.420663</td>\n",
       "      <td>3.494469</td>\n",
       "      <td>3.484067</td>\n",
       "      <td>3.400872</td>\n",
       "      <td>...</td>\n",
       "      <td>0.090354</td>\n",
       "      <td>0.073390</td>\n",
       "      <td>0.061514</td>\n",
       "      <td>0.048606</td>\n",
       "      <td>0.037384</td>\n",
       "      <td>0.029558</td>\n",
       "      <td>0.025172</td>\n",
       "      <td>0.022152</td>\n",
       "      <td>0.017915</td>\n",
       "      <td>NaN</td>\n",
       "    </tr>\n",
       "    <tr>\n",
       "      <th>5070</th>\n",
       "      <td>NaN</td>\n",
       "      <td>8.207758</td>\n",
       "      <td>8.570739</td>\n",
       "      <td>8.360968</td>\n",
       "      <td>8.100641</td>\n",
       "      <td>8.246273</td>\n",
       "      <td>8.588257</td>\n",
       "      <td>8.664872</td>\n",
       "      <td>8.758323</td>\n",
       "      <td>9.634955</td>\n",
       "      <td>...</td>\n",
       "      <td>0.130995</td>\n",
       "      <td>0.095859</td>\n",
       "      <td>0.068371</td>\n",
       "      <td>0.049760</td>\n",
       "      <td>0.040178</td>\n",
       "      <td>0.034961</td>\n",
       "      <td>0.031597</td>\n",
       "      <td>0.029066</td>\n",
       "      <td>0.026670</td>\n",
       "      <td>0.024353</td>\n",
       "    </tr>\n",
       "    <tr>\n",
       "      <th>6050</th>\n",
       "      <td>4.987187</td>\n",
       "      <td>4.872964</td>\n",
       "      <td>4.886946</td>\n",
       "      <td>4.917360</td>\n",
       "      <td>4.974263</td>\n",
       "      <td>4.989475</td>\n",
       "      <td>5.021251</td>\n",
       "      <td>5.086068</td>\n",
       "      <td>5.118983</td>\n",
       "      <td>5.282008</td>\n",
       "      <td>...</td>\n",
       "      <td>0.037478</td>\n",
       "      <td>0.026359</td>\n",
       "      <td>0.026286</td>\n",
       "      <td>0.018093</td>\n",
       "      <td>0.014237</td>\n",
       "      <td>0.014030</td>\n",
       "      <td>0.011675</td>\n",
       "      <td>0.008675</td>\n",
       "      <td>0.007470</td>\n",
       "      <td>0.006573</td>\n",
       "    </tr>\n",
       "  </tbody>\n",
       "</table>\n",
       "<p>3 rows × 105 columns</p>\n",
       "</div>"
      ],
      "text/plain": [
       "        0.010     0.020     0.022     0.025     0.029     0.030     0.032   \\\n",
       "5000       NaN  3.299475  3.294318  3.296878  3.322648  3.346679  3.420663   \n",
       "5070       NaN  8.207758  8.570739  8.360968  8.100641  8.246273  8.588257   \n",
       "6050  4.987187  4.872964  4.886946  4.917360  4.974263  4.989475  5.021251   \n",
       "\n",
       "        0.035     0.036     0.040   ...    5.500     6.000     6.500   \\\n",
       "5000  3.494469  3.484067  3.400872  ...  0.090354  0.073390  0.061514   \n",
       "5070  8.664872  8.758323  9.634955  ...  0.130995  0.095859  0.068371   \n",
       "6050  5.086068  5.118983  5.282008  ...  0.037478  0.026359  0.026286   \n",
       "\n",
       "        7.000     7.500     8.000     8.500     9.000     9.500     10.000  \n",
       "5000  0.048606  0.037384  0.029558  0.025172  0.022152  0.017915       NaN  \n",
       "5070  0.049760  0.040178  0.034961  0.031597  0.029066  0.026670  0.024353  \n",
       "6050  0.018093  0.014237  0.014030  0.011675  0.008675  0.007470  0.006573  \n",
       "\n",
       "[3 rows x 105 columns]"
      ]
     },
     "metadata": {},
     "output_type": "display_data"
    },
    {
     "data": {
      "text/plain": [
       "<AxesSubplot:>"
      ]
     },
     "execution_count": 17,
     "metadata": {},
     "output_type": "execute_result"
    },
    {
     "data": {
      "image/png": "[encoded data removed]",
      "text/plain": [
       "<Figure size 432x288 with 1 Axes>"
      ]
     },
     "metadata": {},
     "output_type": "display_data"
    }
   ],
   "source": [
    "X_plot_interp_spl = X_plot.interpolate(method = 'spline', order=2, axis = 1, limit_direction='both')\n",
    "display(X_plot_interp_cub)\n",
    "X_plot_interp_spl.T.plot(logx=True)"
   ]
  },
  {
   "cell_type": "markdown",
   "id": "e5186747-058f-4419-b948-0568476ba0a4",
   "metadata": {
    "tags": []
   },
   "source": [
    "## 2.7 Interpolation method = 'cubicspline'"
   ]
  },
  {
   "cell_type": "code",
   "execution_count": 18,
   "id": "dcc276bb-5272-4d46-925d-795c2ee2cdd8",
   "metadata": {},
   "outputs": [
    {
     "data": {
      "text/html": [
       "<div>\n",
       "<style scoped>\n",
       "    .dataframe tbody tr th:only-of-type {\n",
       "        vertical-align: middle;\n",
       "    }\n",
       "\n",
       "    .dataframe tbody tr th {\n",
       "        vertical-align: top;\n",
       "    }\n",
       "\n",
       "    .dataframe thead th {\n",
       "        text-align: right;\n",
       "    }\n",
       "</style>\n",
       "<table border=\"1\" class=\"dataframe\">\n",
       "  <thead>\n",
       "    <tr style=\"text-align: right;\">\n",
       "      <th></th>\n",
       "      <th>0.010</th>\n",
       "      <th>0.020</th>\n",
       "      <th>0.022</th>\n",
       "      <th>0.025</th>\n",
       "      <th>0.029</th>\n",
       "      <th>0.030</th>\n",
       "      <th>0.032</th>\n",
       "      <th>0.035</th>\n",
       "      <th>0.036</th>\n",
       "      <th>0.040</th>\n",
       "      <th>...</th>\n",
       "      <th>5.500</th>\n",
       "      <th>6.000</th>\n",
       "      <th>6.500</th>\n",
       "      <th>7.000</th>\n",
       "      <th>7.500</th>\n",
       "      <th>8.000</th>\n",
       "      <th>8.500</th>\n",
       "      <th>9.000</th>\n",
       "      <th>9.500</th>\n",
       "      <th>10.000</th>\n",
       "    </tr>\n",
       "  </thead>\n",
       "  <tbody>\n",
       "    <tr>\n",
       "      <th>5000</th>\n",
       "      <td>NaN</td>\n",
       "      <td>3.299475</td>\n",
       "      <td>3.294318</td>\n",
       "      <td>3.296878</td>\n",
       "      <td>3.322648</td>\n",
       "      <td>3.346679</td>\n",
       "      <td>3.420663</td>\n",
       "      <td>3.494469</td>\n",
       "      <td>3.484067</td>\n",
       "      <td>3.400872</td>\n",
       "      <td>...</td>\n",
       "      <td>0.090354</td>\n",
       "      <td>0.073390</td>\n",
       "      <td>0.061514</td>\n",
       "      <td>0.048606</td>\n",
       "      <td>0.037384</td>\n",
       "      <td>0.029558</td>\n",
       "      <td>0.025172</td>\n",
       "      <td>0.022152</td>\n",
       "      <td>0.017915</td>\n",
       "      <td>NaN</td>\n",
       "    </tr>\n",
       "    <tr>\n",
       "      <th>5070</th>\n",
       "      <td>NaN</td>\n",
       "      <td>8.207758</td>\n",
       "      <td>8.570739</td>\n",
       "      <td>8.360968</td>\n",
       "      <td>8.100641</td>\n",
       "      <td>8.246273</td>\n",
       "      <td>8.588257</td>\n",
       "      <td>8.664872</td>\n",
       "      <td>8.758323</td>\n",
       "      <td>9.634955</td>\n",
       "      <td>...</td>\n",
       "      <td>0.130995</td>\n",
       "      <td>0.095859</td>\n",
       "      <td>0.068371</td>\n",
       "      <td>0.049760</td>\n",
       "      <td>0.040178</td>\n",
       "      <td>0.034961</td>\n",
       "      <td>0.031597</td>\n",
       "      <td>0.029066</td>\n",
       "      <td>0.026670</td>\n",
       "      <td>0.024353</td>\n",
       "    </tr>\n",
       "    <tr>\n",
       "      <th>6050</th>\n",
       "      <td>4.987187</td>\n",
       "      <td>4.872964</td>\n",
       "      <td>4.886946</td>\n",
       "      <td>4.917360</td>\n",
       "      <td>4.974263</td>\n",
       "      <td>4.989475</td>\n",
       "      <td>5.021251</td>\n",
       "      <td>5.086068</td>\n",
       "      <td>5.118983</td>\n",
       "      <td>5.282008</td>\n",
       "      <td>...</td>\n",
       "      <td>0.037478</td>\n",
       "      <td>0.026359</td>\n",
       "      <td>0.026286</td>\n",
       "      <td>0.018093</td>\n",
       "      <td>0.014237</td>\n",
       "      <td>0.014030</td>\n",
       "      <td>0.011675</td>\n",
       "      <td>0.008675</td>\n",
       "      <td>0.007470</td>\n",
       "      <td>0.006573</td>\n",
       "    </tr>\n",
       "  </tbody>\n",
       "</table>\n",
       "<p>3 rows × 105 columns</p>\n",
       "</div>"
      ],
      "text/plain": [
       "        0.010     0.020     0.022     0.025     0.029     0.030     0.032   \\\n",
       "5000       NaN  3.299475  3.294318  3.296878  3.322648  3.346679  3.420663   \n",
       "5070       NaN  8.207758  8.570739  8.360968  8.100641  8.246273  8.588257   \n",
       "6050  4.987187  4.872964  4.886946  4.917360  4.974263  4.989475  5.021251   \n",
       "\n",
       "        0.035     0.036     0.040   ...    5.500     6.000     6.500   \\\n",
       "5000  3.494469  3.484067  3.400872  ...  0.090354  0.073390  0.061514   \n",
       "5070  8.664872  8.758323  9.634955  ...  0.130995  0.095859  0.068371   \n",
       "6050  5.086068  5.118983  5.282008  ...  0.037478  0.026359  0.026286   \n",
       "\n",
       "        7.000     7.500     8.000     8.500     9.000     9.500     10.000  \n",
       "5000  0.048606  0.037384  0.029558  0.025172  0.022152  0.017915       NaN  \n",
       "5070  0.049760  0.040178  0.034961  0.031597  0.029066  0.026670  0.024353  \n",
       "6050  0.018093  0.014237  0.014030  0.011675  0.008675  0.007470  0.006573  \n",
       "\n",
       "[3 rows x 105 columns]"
      ]
     },
     "metadata": {},
     "output_type": "display_data"
    },
    {
     "data": {
      "text/plain": [
       "<AxesSubplot:>"
      ]
     },
     "execution_count": 18,
     "metadata": {},
     "output_type": "execute_result"
    },
    {
     "data": {
      "image/png": "[encoded data removed]",
      "text/plain": [
       "<Figure size 432x288 with 1 Axes>"
      ]
     },
     "metadata": {},
     "output_type": "display_data"
    }
   ],
   "source": [
    "X_plot_interp_cubspl = X_plot.interpolate(method = 'cubicspline', axis = 1, limit_direction='both')\n",
    "display(X_plot_interp_cub)\n",
    "X_plot_interp_cubspl.T.plot(logx=True)"
   ]
  },
  {
   "cell_type": "markdown",
   "id": "9ab7bf3f-6a2b-4db1-9266-02988589240f",
   "metadata": {},
   "source": [
    "## 2.8 Deciding which method is the best"
   ]
  },
  {
   "cell_type": "code",
   "execution_count": 19,
   "id": "0444dd1b-3133-4946-9fb3-17666950f8e3",
   "metadata": {},
   "outputs": [
    {
     "data": {
      "text/plain": [
       "[<matplotlib.lines.Line2D at 0x23108cac700>]"
      ]
     },
     "execution_count": 19,
     "metadata": {},
     "output_type": "execute_result"
    },
    {
     "data": {
      "image/png": "[encoded data removed]",
      "text/plain": [
       "<Figure size 432x288 with 1 Axes>"
      ]
     },
     "metadata": {},
     "output_type": "display_data"
    }
   ],
   "source": [
    "# Show Complete rows\n",
    "plt.plot(X_train.iloc[400,:105])"
   ]
  },
  {
   "cell_type": "code",
   "execution_count": 20,
   "id": "887b5b74-9baa-4bdf-8e63-5063c9b11126",
   "metadata": {},
   "outputs": [
    {
     "data": {
      "text/plain": [
       "(0.0, 1.0)"
      ]
     },
     "execution_count": 20,
     "metadata": {},
     "output_type": "execute_result"
    },
    {
     "data": {
      "image/png": "[encoded data removed]",
      "text/plain": [
       "<Figure size 432x288 with 1 Axes>"
      ]
     },
     "metadata": {},
     "output_type": "display_data"
    }
   ],
   "source": [
    "fig5000 = plt.figure(1)\n",
    "plt.title('Results for iloc[5000,:]')\n",
    "plt.plot(Sa_T_values, X_plot_interp_lin.iloc[0,:],  alpha=0.5, label = 'linear')\n",
    "#plt.plot(Sa_T_values, X_plot_interp_values.iloc[0,:], c='green', alpha=0.5, label = 'values')\n",
    "plt.plot(Sa_T_values, X_plot_interp_quad.iloc[0,:], alpha=0.5, label = 'quadratic')\n",
    "#plt.plot(Sa_T_values, X_plot_interp_cub.iloc[0,:], alpha=0.5, label = 'cubic')\n",
    "#plt.plot(Sa_T_values, X_plot_interp_pwpol.iloc[0,:], alpha=0.5, label = 'piecewise_polynomial')\n",
    "#plt.plot(Sa_T_values, X_plot_interp_spl.iloc[0,:], alpha=0.5, label = 'spline, order=2')\n",
    "#plt.plot(Sa_T_values, X_plot_interp_cubspl.iloc[0,:], alpha=0.5, label = 'cubicspline')\n",
    "plt.plot(Sa_T_values, X_plot.iloc[0,:], c='black', alpha=1.0, label = 'original')\n",
    "\n",
    "plt.legend(loc='best')\n",
    "plt.xlabel('Period T [s]')\n",
    "plt.ylabel('Sa(T)')\n",
    "plt.xlim(0,1)"
   ]
  },
  {
   "cell_type": "code",
   "execution_count": 21,
   "id": "a72d4eaa-7248-416d-b0d0-41f181cbd1d0",
   "metadata": {},
   "outputs": [
    {
     "data": {
      "text/plain": [
       "(0.0, 1.0)"
      ]
     },
     "execution_count": 21,
     "metadata": {},
     "output_type": "execute_result"
    },
    {
     "data": {
      "image/png": "[encoded data removed]",
      "text/plain": [
       "<Figure size 432x288 with 1 Axes>"
      ]
     },
     "metadata": {},
     "output_type": "display_data"
    }
   ],
   "source": [
    "fig5070 = plt.figure(2)\n",
    "plt.title('Results for iloc[5070,:]')\n",
    "plt.plot(Sa_T_values, X_plot_interp_lin.iloc[1,:],  alpha=0.5, label = 'linear')\n",
    "#plt.plot(Sa_T_values, X_plot_interp_values.iloc[1,:], c='green', alpha=0.5, label = 'values')\n",
    "plt.plot(Sa_T_values, X_plot_interp_quad.iloc[1,:], alpha=0.5, label = 'quadratic')\n",
    "plt.plot(Sa_T_values, X_plot_interp_cub.iloc[1,:], alpha=0.5, label = 'cubic')\n",
    "#plt.plot(Sa_T_values, X_plot_interp_pwpol.iloc[1,:], alpha=0.5, label = 'piecewise_polynomial')\n",
    "#plt.plot(Sa_T_values, X_plot_interp_spl.iloc[1,:], alpha=0.5, label = 'spline, order=2')\n",
    "#plt.plot(Sa_T_values, X_plot_interp_cubspl.iloc[1,:], alpha=0.5, label = 'cubicspline')\n",
    "plt.plot(Sa_T_values, X_plot.iloc[1,:], c='black', alpha=1.0, label = 'original')\n",
    "\n",
    "plt.legend(loc='best')\n",
    "plt.xlabel('Period T [s]')\n",
    "plt.ylabel('Sa(T)')\n",
    "plt.xlim(0,1)"
   ]
  },
  {
   "cell_type": "code",
   "execution_count": 22,
   "id": "4673fae5-3879-4106-9146-9e5f17c139d6",
   "metadata": {},
   "outputs": [
    {
     "data": {
      "text/plain": [
       "Text(0, 0.5, 'Sa(T)')"
      ]
     },
     "execution_count": 22,
     "metadata": {},
     "output_type": "execute_result"
    },
    {
     "data": {
      "image/png": "[encoded data removed]",
      "text/plain": [
       "<Figure size 432x288 with 1 Axes>"
      ]
     },
     "metadata": {},
     "output_type": "display_data"
    }
   ],
   "source": [
    "fig6000 = plt.figure(3)\n",
    "plt.title('Results for iloc[6000,:]')\n",
    "plt.semilogx(Sa_T_values, X_plot_interp_lin.iloc[2,:],  alpha=0.5, label = 'linear')\n",
    "#plt.semilogx(Sa_T_values, X_plot_interp_values.iloc[2,:], c='green', alpha=0.5, label = 'values')\n",
    "plt.semilogx(Sa_T_values, X_plot_interp_quad.iloc[2,:], alpha=0.5, label = 'quadratic')\n",
    "plt.semilogx(Sa_T_values, X_plot_interp_cub.iloc[2,:], alpha=0.5, label = 'cubic')\n",
    "plt.semilogx(Sa_T_values, X_plot_interp_pwpol.iloc[2,:], alpha=0.5, label = 'piecewise_polynomial')\n",
    "plt.semilogx(Sa_T_values, X_plot_interp_spl.iloc[2,:], alpha=0.5, label = 'spline, order=2')\n",
    "plt.semilogx(Sa_T_values, X_plot_interp_cubspl.iloc[2,:], alpha=0.5, label = 'cubicspline')\n",
    "plt.semilogx(Sa_T_values, X_plot.iloc[2,:], c='black', alpha=1.0, label = 'original')\n",
    "\n",
    "plt.legend(loc='best')\n",
    "plt.xlabel('Period T [s]')\n",
    "plt.ylabel('Sa(T)')\n",
    "#plt.xlim(0,1)\n"
   ]
  },
  {
   "cell_type": "markdown",
   "id": "14420627-55ad-432f-be50-38f4841364d4",
   "metadata": {},
   "source": [
    "## 2.9 Interpolating with method = 'quadratic'"
   ]
  },
  {
   "cell_type": "code",
   "execution_count": 23,
   "id": "54b6e044-85fa-4907-9db1-f89e1ba42fa7",
   "metadata": {},
   "outputs": [],
   "source": [
    "X_train_Sa_T = X_train.iloc[:,:105]\n",
    "X_train_Sa_T.columns=Sa_T_values\n",
    "X_train_Sa_T_interp = X_train_Sa_T.interpolate(method = 'quadratic', axis = 1, limit_direction='both')"
   ]
  },
  {
   "cell_type": "code",
   "execution_count": 24,
   "id": "bc1dcd42-7755-498c-8897-6c2f3363f88f",
   "metadata": {},
   "outputs": [],
   "source": [
    "X_train_Sa_T_interp = X_train_Sa_T_interp.fillna(method = 'bfill')\n",
    "#Chosen linear here instead of quadratic because quadratic cannot fill the first NaNs. So we need to fill backward afterwards..."
   ]
  },
  {
   "cell_type": "code",
   "execution_count": 25,
   "id": "f6e54d53-046f-4228-aba6-b083d0a3fd45",
   "metadata": {},
   "outputs": [
    {
     "name": "stdout",
     "output_type": "stream",
     "text": [
      "Checking if there remains any NaN. \n",
      "There is: 0 rows with NaNs. Ideally, there should remain 0.\n"
     ]
    }
   ],
   "source": [
    "X_train.iloc[:,:105] = X_train_Sa_T_interp\n",
    "print(f'Checking if there remains any NaN. \\nThere is: {np.sum(X_train.isnull().any(axis=0))} rows with NaNs. Ideally, there should remain 0.')"
   ]
  },
  {
   "cell_type": "code",
   "execution_count": 26,
   "id": "423bc680-4bd2-4711-805c-c18bd216c5bf",
   "metadata": {},
   "outputs": [],
   "source": [
    "X_train.to_csv('project-data-interpolated/df_X_train.csv')"
   ]
  },
  {
   "cell_type": "markdown",
   "id": "4689b8e1",
   "metadata": {
    "cell_id": "00022-cff8d2b8-6bcb-4614-af7a-64a9d8118c69",
    "deepnote_cell_height": 108.39999389648438,
    "deepnote_cell_type": "markdown",
    "tags": []
   },
   "source": [
    "# 3. Imputation using regression with sci-kit learn\n",
    "On peut essayer der faire du ML avec les valeurs qu'on a qui sont complète. A voir cb de ligne on a qui sont complet"
   ]
  },
  {
   "cell_type": "markdown",
   "id": "1064b1fe",
   "metadata": {
    "cell_id": "00023-f5a079d2-989b-40fc-b1fe-e225fc323588",
    "deepnote_cell_height": 62,
    "deepnote_cell_type": "markdown"
   },
   "source": [
    "## 3.1 Create full dataset with the ones without any NaN"
   ]
  },
  {
   "cell_type": "code",
   "execution_count": 27,
   "id": "03634192-3599-4c1a-b429-a826749a528c",
   "metadata": {
    "cell_id": "00002-97f92ba4-eeb4-4e7a-adb1-3f2f2d59684f",
    "deepnote_cell_height": 81,
    "deepnote_cell_type": "code",
    "deepnote_to_be_reexecuted": false,
    "execution_millis": 471,
    "execution_start": 1652263164190,
    "source_hash": "b85b4859"
   },
   "outputs": [],
   "source": [
    "X_train = pd.read_csv(\"project-data-merged/df_X_train.csv\", index_col=0)\n",
    "y_train = pd.read_csv(\"project-data-merged/df_y_train.csv\", index_col=0)\n",
    "\n",
    "X_val = pd.read_csv(\"project-data-merged/df_X_val.csv\", index_col=0)\n",
    "y_val = pd.read_csv(\"project-data-merged/df_y_val.csv\", index_col=0)\n",
    "\n",
    "X_test = pd.read_csv(\"project-data-merged/df_X_test.csv\", index_col=0)"
   ]
  },
  {
   "cell_type": "code",
   "execution_count": 28,
   "id": "a279ec90-640c-40d2-897a-bb6b4a2d496e",
   "metadata": {},
   "outputs": [],
   "source": [
    "cols_to_be_changed = np.append(X_train.columns[:106].values, X_train.columns[108])\n",
    "X_train[cols_to_be_changed] = X_train[cols_to_be_changed].mul(X_train['scale factor'], axis=0)\n",
    "X_train = X_train.drop(columns = 'scale factor')\n",
    "\n",
    "X_val[cols_to_be_changed] = X_val[cols_to_be_changed].mul(X_val['scale factor'], axis=0)\n",
    "X_val = X_val.drop(columns = 'scale factor')"
   ]
  },
  {
   "cell_type": "code",
   "execution_count": 29,
   "id": "5e896b86",
   "metadata": {
    "cell_id": "00024-7cf4a015-692a-43c7-8e8d-a35277d4f3c1",
    "deepnote_cell_height": 617,
    "deepnote_cell_type": "code",
    "deepnote_output_heights": [
     399
    ],
    "deepnote_to_be_reexecuted": false,
    "execution_millis": 190,
    "execution_start": 1652263170369,
    "source_hash": "f84b74d4"
   },
   "outputs": [
    {
     "data": {
      "text/html": [
       "<div>\n",
       "<style scoped>\n",
       "    .dataframe tbody tr th:only-of-type {\n",
       "        vertical-align: middle;\n",
       "    }\n",
       "\n",
       "    .dataframe tbody tr th {\n",
       "        vertical-align: top;\n",
       "    }\n",
       "\n",
       "    .dataframe thead th {\n",
       "        text-align: right;\n",
       "    }\n",
       "</style>\n",
       "<table border=\"1\" class=\"dataframe\">\n",
       "  <thead>\n",
       "    <tr style=\"text-align: right;\">\n",
       "      <th></th>\n",
       "      <th>0.01</th>\n",
       "      <th>0.02</th>\n",
       "      <th>0.022</th>\n",
       "      <th>0.025</th>\n",
       "      <th>0.029</th>\n",
       "      <th>0.03</th>\n",
       "      <th>0.032</th>\n",
       "      <th>0.035</th>\n",
       "      <th>0.036</th>\n",
       "      <th>0.04</th>\n",
       "      <th>...</th>\n",
       "      <th>sa_avg</th>\n",
       "      <th>da5_75</th>\n",
       "      <th>da5_95</th>\n",
       "      <th>fiv3</th>\n",
       "      <th>magnitude</th>\n",
       "      <th>distance_closest</th>\n",
       "      <th>lowest_usable_frequency</th>\n",
       "      <th>sa_ratio</th>\n",
       "      <th>fiv3_ratio</th>\n",
       "      <th>is_pulselike</th>\n",
       "    </tr>\n",
       "  </thead>\n",
       "  <tbody>\n",
       "    <tr>\n",
       "      <th>0</th>\n",
       "      <td>10.300729</td>\n",
       "      <td>10.625048</td>\n",
       "      <td>10.570434</td>\n",
       "      <td>10.682532</td>\n",
       "      <td>11.264150</td>\n",
       "      <td>11.607873</td>\n",
       "      <td>11.493882</td>\n",
       "      <td>12.400047</td>\n",
       "      <td>12.341489</td>\n",
       "      <td>11.582892</td>\n",
       "      <td>...</td>\n",
       "      <td>0.971968</td>\n",
       "      <td>5.32652</td>\n",
       "      <td>9.25004</td>\n",
       "      <td>171.467182</td>\n",
       "      <td>5.5</td>\n",
       "      <td>13.76</td>\n",
       "      <td>2.500</td>\n",
       "      <td>0.456032</td>\n",
       "      <td>0.179829</td>\n",
       "      <td>NO</td>\n",
       "    </tr>\n",
       "    <tr>\n",
       "      <th>1</th>\n",
       "      <td>16.050146</td>\n",
       "      <td>16.555485</td>\n",
       "      <td>16.470388</td>\n",
       "      <td>16.645054</td>\n",
       "      <td>17.551305</td>\n",
       "      <td>18.086880</td>\n",
       "      <td>17.909263</td>\n",
       "      <td>19.321211</td>\n",
       "      <td>19.229969</td>\n",
       "      <td>18.047955</td>\n",
       "      <td>...</td>\n",
       "      <td>1.514478</td>\n",
       "      <td>5.32652</td>\n",
       "      <td>9.25004</td>\n",
       "      <td>267.172662</td>\n",
       "      <td>5.5</td>\n",
       "      <td>13.76</td>\n",
       "      <td>2.500</td>\n",
       "      <td>0.456032</td>\n",
       "      <td>0.179829</td>\n",
       "      <td>NO</td>\n",
       "    </tr>\n",
       "    <tr>\n",
       "      <th>2</th>\n",
       "      <td>22.191321</td>\n",
       "      <td>22.890014</td>\n",
       "      <td>22.772358</td>\n",
       "      <td>23.013855</td>\n",
       "      <td>24.266860</td>\n",
       "      <td>25.007358</td>\n",
       "      <td>24.761782</td>\n",
       "      <td>26.713974</td>\n",
       "      <td>26.587821</td>\n",
       "      <td>24.953540</td>\n",
       "      <td>...</td>\n",
       "      <td>2.093954</td>\n",
       "      <td>5.32652</td>\n",
       "      <td>9.25004</td>\n",
       "      <td>369.399397</td>\n",
       "      <td>5.5</td>\n",
       "      <td>13.76</td>\n",
       "      <td>2.500</td>\n",
       "      <td>0.456032</td>\n",
       "      <td>0.179829</td>\n",
       "      <td>NO</td>\n",
       "    </tr>\n",
       "    <tr>\n",
       "      <th>3</th>\n",
       "      <td>32.534075</td>\n",
       "      <td>33.558410</td>\n",
       "      <td>33.385917</td>\n",
       "      <td>33.739969</td>\n",
       "      <td>35.576965</td>\n",
       "      <td>36.662589</td>\n",
       "      <td>36.302556</td>\n",
       "      <td>39.164611</td>\n",
       "      <td>38.979661</td>\n",
       "      <td>36.583687</td>\n",
       "      <td>...</td>\n",
       "      <td>3.069888</td>\n",
       "      <td>5.32652</td>\n",
       "      <td>9.25004</td>\n",
       "      <td>541.566130</td>\n",
       "      <td>5.5</td>\n",
       "      <td>13.76</td>\n",
       "      <td>2.500</td>\n",
       "      <td>0.456032</td>\n",
       "      <td>0.179829</td>\n",
       "      <td>NO</td>\n",
       "    </tr>\n",
       "    <tr>\n",
       "      <th>4</th>\n",
       "      <td>44.288800</td>\n",
       "      <td>45.683232</td>\n",
       "      <td>45.448417</td>\n",
       "      <td>45.930390</td>\n",
       "      <td>48.431101</td>\n",
       "      <td>49.908966</td>\n",
       "      <td>49.418851</td>\n",
       "      <td>53.314981</td>\n",
       "      <td>53.063208</td>\n",
       "      <td>49.801557</td>\n",
       "      <td>...</td>\n",
       "      <td>4.179054</td>\n",
       "      <td>5.32652</td>\n",
       "      <td>9.25004</td>\n",
       "      <td>737.236692</td>\n",
       "      <td>5.5</td>\n",
       "      <td>13.76</td>\n",
       "      <td>2.500</td>\n",
       "      <td>0.456032</td>\n",
       "      <td>0.179829</td>\n",
       "      <td>NO</td>\n",
       "    </tr>\n",
       "    <tr>\n",
       "      <th>...</th>\n",
       "      <td>...</td>\n",
       "      <td>...</td>\n",
       "      <td>...</td>\n",
       "      <td>...</td>\n",
       "      <td>...</td>\n",
       "      <td>...</td>\n",
       "      <td>...</td>\n",
       "      <td>...</td>\n",
       "      <td>...</td>\n",
       "      <td>...</td>\n",
       "      <td>...</td>\n",
       "      <td>...</td>\n",
       "      <td>...</td>\n",
       "      <td>...</td>\n",
       "      <td>...</td>\n",
       "      <td>...</td>\n",
       "      <td>...</td>\n",
       "      <td>...</td>\n",
       "      <td>...</td>\n",
       "      <td>...</td>\n",
       "      <td>...</td>\n",
       "    </tr>\n",
       "    <tr>\n",
       "      <th>117131</th>\n",
       "      <td>0.241531</td>\n",
       "      <td>0.247383</td>\n",
       "      <td>NaN</td>\n",
       "      <td>NaN</td>\n",
       "      <td>0.257561</td>\n",
       "      <td>0.265518</td>\n",
       "      <td>0.274798</td>\n",
       "      <td>0.268693</td>\n",
       "      <td>0.267682</td>\n",
       "      <td>0.286502</td>\n",
       "      <td>...</td>\n",
       "      <td>0.114683</td>\n",
       "      <td>11.32000</td>\n",
       "      <td>27.49000</td>\n",
       "      <td>32.631219</td>\n",
       "      <td>5.0</td>\n",
       "      <td>60.79</td>\n",
       "      <td>0.375</td>\n",
       "      <td>2.323039</td>\n",
       "      <td>0.290045</td>\n",
       "      <td>NO</td>\n",
       "    </tr>\n",
       "    <tr>\n",
       "      <th>117132</th>\n",
       "      <td>0.737684</td>\n",
       "      <td>0.755559</td>\n",
       "      <td>NaN</td>\n",
       "      <td>NaN</td>\n",
       "      <td>0.786645</td>\n",
       "      <td>0.810945</td>\n",
       "      <td>0.839289</td>\n",
       "      <td>0.820643</td>\n",
       "      <td>0.817557</td>\n",
       "      <td>0.875035</td>\n",
       "      <td>...</td>\n",
       "      <td>0.350265</td>\n",
       "      <td>11.32000</td>\n",
       "      <td>27.49000</td>\n",
       "      <td>99.662439</td>\n",
       "      <td>5.0</td>\n",
       "      <td>60.79</td>\n",
       "      <td>0.375</td>\n",
       "      <td>2.323039</td>\n",
       "      <td>0.290045</td>\n",
       "      <td>NO</td>\n",
       "    </tr>\n",
       "    <tr>\n",
       "      <th>117133</th>\n",
       "      <td>1.053039</td>\n",
       "      <td>1.078555</td>\n",
       "      <td>NaN</td>\n",
       "      <td>NaN</td>\n",
       "      <td>1.122930</td>\n",
       "      <td>1.157618</td>\n",
       "      <td>1.198079</td>\n",
       "      <td>1.171462</td>\n",
       "      <td>1.167056</td>\n",
       "      <td>1.249106</td>\n",
       "      <td>...</td>\n",
       "      <td>0.500001</td>\n",
       "      <td>11.32000</td>\n",
       "      <td>27.49000</td>\n",
       "      <td>142.267375</td>\n",
       "      <td>5.0</td>\n",
       "      <td>60.79</td>\n",
       "      <td>0.375</td>\n",
       "      <td>2.323039</td>\n",
       "      <td>0.290045</td>\n",
       "      <td>NO</td>\n",
       "    </tr>\n",
       "    <tr>\n",
       "      <th>117134</th>\n",
       "      <td>0.394700</td>\n",
       "      <td>0.404264</td>\n",
       "      <td>NaN</td>\n",
       "      <td>NaN</td>\n",
       "      <td>0.420897</td>\n",
       "      <td>0.433899</td>\n",
       "      <td>0.449064</td>\n",
       "      <td>0.439088</td>\n",
       "      <td>0.437436</td>\n",
       "      <td>0.468190</td>\n",
       "      <td>...</td>\n",
       "      <td>0.187410</td>\n",
       "      <td>11.32000</td>\n",
       "      <td>27.49000</td>\n",
       "      <td>53.324693</td>\n",
       "      <td>5.0</td>\n",
       "      <td>60.79</td>\n",
       "      <td>0.375</td>\n",
       "      <td>2.323039</td>\n",
       "      <td>0.290045</td>\n",
       "      <td>NO</td>\n",
       "    </tr>\n",
       "    <tr>\n",
       "      <th>117135</th>\n",
       "      <td>0.398073</td>\n",
       "      <td>0.407719</td>\n",
       "      <td>NaN</td>\n",
       "      <td>NaN</td>\n",
       "      <td>0.424494</td>\n",
       "      <td>0.437607</td>\n",
       "      <td>0.452902</td>\n",
       "      <td>0.442840</td>\n",
       "      <td>0.441175</td>\n",
       "      <td>0.472192</td>\n",
       "      <td>...</td>\n",
       "      <td>0.189012</td>\n",
       "      <td>11.32000</td>\n",
       "      <td>27.49000</td>\n",
       "      <td>53.780412</td>\n",
       "      <td>5.0</td>\n",
       "      <td>60.79</td>\n",
       "      <td>0.375</td>\n",
       "      <td>2.323039</td>\n",
       "      <td>0.290045</td>\n",
       "      <td>NO</td>\n",
       "    </tr>\n",
       "  </tbody>\n",
       "</table>\n",
       "<p>117136 rows × 115 columns</p>\n",
       "</div>"
      ],
      "text/plain": [
       "             0.01       0.02      0.022      0.025      0.029       0.03  \\\n",
       "0       10.300729  10.625048  10.570434  10.682532  11.264150  11.607873   \n",
       "1       16.050146  16.555485  16.470388  16.645054  17.551305  18.086880   \n",
       "2       22.191321  22.890014  22.772358  23.013855  24.266860  25.007358   \n",
       "3       32.534075  33.558410  33.385917  33.739969  35.576965  36.662589   \n",
       "4       44.288800  45.683232  45.448417  45.930390  48.431101  49.908966   \n",
       "...           ...        ...        ...        ...        ...        ...   \n",
       "117131   0.241531   0.247383        NaN        NaN   0.257561   0.265518   \n",
       "117132   0.737684   0.755559        NaN        NaN   0.786645   0.810945   \n",
       "117133   1.053039   1.078555        NaN        NaN   1.122930   1.157618   \n",
       "117134   0.394700   0.404264        NaN        NaN   0.420897   0.433899   \n",
       "117135   0.398073   0.407719        NaN        NaN   0.424494   0.437607   \n",
       "\n",
       "            0.032      0.035      0.036       0.04  ...    sa_avg    da5_75  \\\n",
       "0       11.493882  12.400047  12.341489  11.582892  ...  0.971968   5.32652   \n",
       "1       17.909263  19.321211  19.229969  18.047955  ...  1.514478   5.32652   \n",
       "2       24.761782  26.713974  26.587821  24.953540  ...  2.093954   5.32652   \n",
       "3       36.302556  39.164611  38.979661  36.583687  ...  3.069888   5.32652   \n",
       "4       49.418851  53.314981  53.063208  49.801557  ...  4.179054   5.32652   \n",
       "...           ...        ...        ...        ...  ...       ...       ...   \n",
       "117131   0.274798   0.268693   0.267682   0.286502  ...  0.114683  11.32000   \n",
       "117132   0.839289   0.820643   0.817557   0.875035  ...  0.350265  11.32000   \n",
       "117133   1.198079   1.171462   1.167056   1.249106  ...  0.500001  11.32000   \n",
       "117134   0.449064   0.439088   0.437436   0.468190  ...  0.187410  11.32000   \n",
       "117135   0.452902   0.442840   0.441175   0.472192  ...  0.189012  11.32000   \n",
       "\n",
       "          da5_95        fiv3  magnitude  distance_closest  \\\n",
       "0        9.25004  171.467182        5.5             13.76   \n",
       "1        9.25004  267.172662        5.5             13.76   \n",
       "2        9.25004  369.399397        5.5             13.76   \n",
       "3        9.25004  541.566130        5.5             13.76   \n",
       "4        9.25004  737.236692        5.5             13.76   \n",
       "...          ...         ...        ...               ...   \n",
       "117131  27.49000   32.631219        5.0             60.79   \n",
       "117132  27.49000   99.662439        5.0             60.79   \n",
       "117133  27.49000  142.267375        5.0             60.79   \n",
       "117134  27.49000   53.324693        5.0             60.79   \n",
       "117135  27.49000   53.780412        5.0             60.79   \n",
       "\n",
       "        lowest_usable_frequency  sa_ratio  fiv3_ratio  is_pulselike  \n",
       "0                         2.500  0.456032    0.179829            NO  \n",
       "1                         2.500  0.456032    0.179829            NO  \n",
       "2                         2.500  0.456032    0.179829            NO  \n",
       "3                         2.500  0.456032    0.179829            NO  \n",
       "4                         2.500  0.456032    0.179829            NO  \n",
       "...                         ...       ...         ...           ...  \n",
       "117131                    0.375  2.323039    0.290045            NO  \n",
       "117132                    0.375  2.323039    0.290045            NO  \n",
       "117133                    0.375  2.323039    0.290045            NO  \n",
       "117134                    0.375  2.323039    0.290045            NO  \n",
       "117135                    0.375  2.323039    0.290045            NO  \n",
       "\n",
       "[117136 rows x 115 columns]"
      ]
     },
     "metadata": {},
     "output_type": "display_data"
    }
   ],
   "source": [
    "display(X_train)"
   ]
  },
  {
   "cell_type": "markdown",
   "id": "7c183da2",
   "metadata": {
    "cell_id": "00025-1208c0d0-216b-4d62-b1d2-3284d2d8e407",
    "deepnote_cell_height": 88.80000305175781,
    "deepnote_cell_type": "markdown"
   },
   "source": [
    "We already know that the NaN are only on the Sa(T) values. So we look for the rows without any NaN.\n",
    "\n",
    "\n",
    "Get index of no NaN rows: "
   ]
  },
  {
   "cell_type": "code",
   "execution_count": 30,
   "id": "39b1d331",
   "metadata": {
    "cell_id": "00026-692fa7b5-19a7-41e3-ab74-362157aa40f1",
    "deepnote_cell_height": 334.3999938964844,
    "deepnote_cell_type": "code",
    "deepnote_to_be_reexecuted": false,
    "execution_millis": 18,
    "execution_start": 1652263170555,
    "source_hash": "363013f8"
   },
   "outputs": [],
   "source": [
    "#print(X_train.isnull().any(axis=1))\n",
    "#print(np.sum(X_test.isnull().any(axis=1)))"
   ]
  },
  {
   "cell_type": "code",
   "execution_count": 31,
   "id": "7e8baaeb",
   "metadata": {
    "cell_id": "00027-adef56c4-e18f-4843-a896-cfd286b8b43d",
    "deepnote_cell_height": 241.60000610351562,
    "deepnote_cell_type": "code",
    "deepnote_to_be_reexecuted": false,
    "execution_millis": 42,
    "execution_start": 1652263170570,
    "source_hash": "57947672"
   },
   "outputs": [
    {
     "name": "stdout",
     "output_type": "stream",
     "text": [
      "In the TRAINING set; there is: 3431 full rows, which represents: 2.93% of the training set\n",
      "In the VALIDATING set; there is: 2512 full rows, which represents: 100.0% of the validating set\n",
      "In TOTAL, we have: 5024 full rows, which represents 4.2% of the dataset, excluding the test data\n"
     ]
    }
   ],
   "source": [
    "full_rows_train = X_train.index[X_train.isnull().any(axis=1) == False].tolist()\n",
    "full_rows_val = X_val.index[X_val.isnull().any(axis=1) == False].tolist()\n",
    "#print(full_rows)\n",
    "print(f'In the TRAINING set; there is: {np.shape(full_rows_train)[0]} full rows, which represents: {np.round(np.shape(full_rows_train)[0]/np.shape(X_train)[0] * 100,2)}% of the training set')\n",
    "print(f'In the VALIDATING set; there is: {np.shape(full_rows_val)[0]} full rows, which represents: {np.round(np.shape(full_rows_val)[0]/np.shape(X_val)[0] * 100,2)}% of the validating set')\n",
    "print(f'In TOTAL, we have: {np.shape(full_rows_val)[0] + np.shape(full_rows_val)[0]} full rows, which represents {np.round( (np.shape(full_rows_val)[0] + np.shape(full_rows_val)[0]) / (np.shape(X_train)[0] + np.shape(X_val)[0]) * 100,2)}% of the dataset, excluding the test data')\n",
    "#print(f' type(full_rows) = {type(full_rows)}')\n",
    "#print(f' type(full_rows[0]) = {type(full_rows[0])}')\n"
   ]
  },
  {
   "cell_type": "markdown",
   "id": "0ce6bca0",
   "metadata": {
    "cell_id": "00028-c19dab07-2bec-427b-a308-daec1e502257",
    "deepnote_cell_height": 74.80000305175781,
    "deepnote_cell_type": "markdown"
   },
   "source": [
    "We see that we only have 4% of the dataset that is usable to train the regression which is not sufficient. Nonetheless, let's try to see the results. "
   ]
  },
  {
   "cell_type": "markdown",
   "id": "e25f188d",
   "metadata": {
    "cell_id": "8c34b9bd344f4e29996c9016d4b7cdda",
    "deepnote_cell_height": 52.399993896484375,
    "deepnote_cell_type": "markdown",
    "tags": []
   },
   "source": [
    "### Change is_pulse_like = NO to False"
   ]
  },
  {
   "cell_type": "code",
   "execution_count": 32,
   "id": "07561952",
   "metadata": {
    "cell_id": "651a012370724907808fc5ac280a2c59",
    "deepnote_cell_height": 99,
    "deepnote_cell_type": "code",
    "deepnote_to_be_reexecuted": false,
    "execution_millis": 3,
    "execution_start": 1652266498524,
    "source_hash": "a6310317",
    "tags": []
   },
   "outputs": [],
   "source": [
    "X_train.replace(['NO','YES'],[False,True],inplace=True)\n",
    "X_val.replace(['NO','YES'],[False,True],inplace=True)"
   ]
  },
  {
   "cell_type": "markdown",
   "id": "524af8e8-853d-4f60-a4e6-9a215427a646",
   "metadata": {},
   "source": [
    "## 3.2 Start regression "
   ]
  },
  {
   "cell_type": "markdown",
   "id": "9db0001e",
   "metadata": {
    "cell_id": "00029-99f43225-c071-4bd7-8b81-448b45e36c5f",
    "deepnote_cell_height": 52.399993896484375,
    "deepnote_cell_type": "markdown"
   },
   "source": [
    "### Imports for sci-kit learn"
   ]
  },
  {
   "cell_type": "code",
   "execution_count": 33,
   "id": "c6e0457a",
   "metadata": {
    "cell_id": "00030-05c201b9-3571-4bf8-b16e-63138e37c04d",
    "deepnote_cell_height": 117,
    "deepnote_cell_type": "code",
    "deepnote_to_be_reexecuted": false,
    "execution_millis": 44,
    "execution_start": 1652263170611,
    "owner_user_id": "dbb60ec9-fb43-4975-bfb1-9ceed7d857e2",
    "source_hash": "8b1c4371"
   },
   "outputs": [],
   "source": [
    "from sklearn.experimental import enable_iterative_imputer\n",
    "from sklearn.impute import IterativeImputer\n",
    "from sklearn.linear_model import BayesianRidge\n",
    "from sklearn.tree import DecisionTreeRegressor\n",
    "from sklearn.ensemble import ExtraTreesRegressor\n",
    "from sklearn.neighbors import KNeighborsRegressor"
   ]
  },
  {
   "cell_type": "markdown",
   "id": "179cdf04",
   "metadata": {
    "cell_id": "acf26a7cfc834daca54f7f2f0175e1b4",
    "deepnote_cell_height": 52.399993896484375,
    "deepnote_cell_type": "markdown",
    "tags": []
   },
   "source": [
    "### Imputation"
   ]
  },
  {
   "cell_type": "code",
   "execution_count": 34,
   "id": "5f85a850-15d6-480f-831f-3f34dfaef914",
   "metadata": {},
   "outputs": [],
   "source": [
    "#Keep only the rows that are empty\n",
    "empty_rows = X_train.index.to_list()\n",
    "for ele in sorted(full_rows_train, reverse = True):\n",
    "    del empty_rows[ele]"
   ]
  },
  {
   "cell_type": "code",
   "execution_count": 35,
   "id": "e1740af6-96f9-4635-979c-9cd674d53d2f",
   "metadata": {},
   "outputs": [
    {
     "data": {
      "text/plain": [
       "['magnitude', 'distance_closest', 'lowest_usable_frequency']"
      ]
     },
     "execution_count": 35,
     "metadata": {},
     "output_type": "execute_result"
    }
   ],
   "source": [
    "X_train.columns[X_train.eq(-999).any(axis=0) == True].to_list()"
   ]
  },
  {
   "cell_type": "code",
   "execution_count": null,
   "id": "977c5b37-c3ec-4645-b2f0-9583b5a0e99f",
   "metadata": {},
   "outputs": [],
   "source": [
    "X_test.columns[X_train.eq(-999).any(axis=0) == True].to_list()"
   ]
  },
  {
   "cell_type": "code",
   "execution_count": 35,
   "id": "79272e8a-4338-4da3-b07c-a9ddb9eda275",
   "metadata": {},
   "outputs": [],
   "source": [
    "#Values where there is corrupted data, i.e. a value of -999\n",
    "X_values_corrupted = X_train.columns[X_train.eq(-999).any(axis=0) == True].to_list()\n",
    "X_values_corrupted_validate = X_val.columns[X_train.eq(-999).any(axis=0) == True].to_list()"
   ]
  },
  {
   "cell_type": "code",
   "execution_count": 36,
   "id": "2a47f4ba",
   "metadata": {
    "cell_id": "00031-783291c6-3589-4e91-86ff-d9c4908ccbc6",
    "deepnote_cell_height": 225,
    "deepnote_cell_type": "code",
    "deepnote_output_heights": [
     399,
     21
    ],
    "deepnote_to_be_reexecuted": false,
    "execution_millis": 1,
    "execution_start": 1652268174715,
    "source_hash": "ba8ef8bb"
   },
   "outputs": [],
   "source": [
    "X_Values_training = X_train.iloc[full_rows_train,:].drop(columns = X_values_corrupted)\n",
    "X_Values_missing = X_train.iloc[empty_rows,:].drop(columns = X_values_corrupted)\n",
    "X_Values_all = X_train.drop(columns=X_values_corrupted)\n",
    "\n",
    "X_Values_validate = X_val.drop(columns=X_values_corrupted_validate)\n",
    "X_Values_train_val = pd.concat([X_Values_training, X_Values_validate], ignore_index=True)\n",
    "X_Values_train_val_all = pd.concat([X_Values_all, X_Values_validate], ignore_index=True)\n",
    "\n",
    "#display(X_Values_train_val)\n"
   ]
  },
  {
   "cell_type": "code",
   "execution_count": 37,
   "id": "77cd8795",
   "metadata": {
    "cell_id": "d766deacaa444d08aa8ea19accfa4cb6",
    "deepnote_cell_height": 99,
    "deepnote_cell_type": "code",
    "deepnote_output_heights": [
     21,
     258
    ],
    "deepnote_to_be_reexecuted": false,
    "execution_millis": 1,
    "execution_start": 1652265206962,
    "source_hash": "68b20702",
    "tags": []
   },
   "outputs": [],
   "source": [
    "#plt.plot(Sa_T_values ,X_Values_found[23,:105], color = 'blue', alpha = 0.5)\n",
    "#plt.xlim(0,1)"
   ]
  },
  {
   "cell_type": "markdown",
   "id": "fadac236-110c-4c51-b162-a69ce447c097",
   "metadata": {},
   "source": [
    "## 3.3 Results"
   ]
  },
  {
   "cell_type": "markdown",
   "id": "5da06d56-f66c-482a-818a-5c62a7b9a824",
   "metadata": {},
   "source": [
    "### 3.3.1 Using method = DecisionTreeRegressor"
   ]
  },
  {
   "cell_type": "code",
   "execution_count": 38,
   "id": "8f0e85b0",
   "metadata": {
    "cell_id": "00032-304461f9-22d6-48c3-890f-fc079e793032",
    "deepnote_cell_height": 118,
    "deepnote_cell_type": "code",
    "deepnote_output_heights": [
     21
    ],
    "deepnote_to_be_reexecuted": false,
    "execution_millis": 5111,
    "execution_start": 1652268177643,
    "source_hash": "9bf1c081"
   },
   "outputs": [
    {
     "data": {
      "text/plain": [
       "IterativeImputer(estimator=DecisionTreeRegressor(max_features='sqrt',\n",
       "                                                 random_state=0),\n",
       "                 random_state=0)"
      ]
     },
     "execution_count": 38,
     "metadata": {},
     "output_type": "execute_result"
    }
   ],
   "source": [
    "imp_DTR_train_val = IterativeImputer(estimator = DecisionTreeRegressor(max_features='sqrt', random_state=0), max_iter=10, random_state=0) \n",
    "imp_DTR_train = IterativeImputer(estimator = DecisionTreeRegressor(max_features='sqrt', random_state=0), max_iter=10, random_state=0) \n",
    "imp_DTR_val = IterativeImputer(estimator = DecisionTreeRegressor(max_features='sqrt', random_state=0), max_iter=10, random_state=0) \n",
    "#imp_DTR_train_all = IterativeImputer(estimator = DecisionTreeRegressor(max_features='sqrt', random_state=0), max_iter=10, random_state=0) \n",
    "#imp_DTR_train_val_all = IterativeImputer(estimator = DecisionTreeRegressor(max_features='sqrt', random_state=0), max_iter=10, random_state=0) \n",
    "\n",
    "imp_DTR_train_val.fit(X_Values_train_val)\n",
    "imp_DTR_train.fit(X_Values_training)\n",
    "imp_DTR_val.fit(X_Values_validate)\n",
    "#imp_DTR_train_all.fit(X_Values_all)\n",
    "#imp_DTR_train_val_all.fit(X_Values_train_val_all)\n",
    "\n",
    "#imp = IterativeImputer()\n"
   ]
  },
  {
   "cell_type": "code",
   "execution_count": 39,
   "id": "d6fdd009",
   "metadata": {
    "cell_id": "07d7b37fc6a144d891421000158ced69",
    "deepnote_cell_height": 81,
    "deepnote_cell_type": "code",
    "deepnote_to_be_reexecuted": false,
    "execution_millis": 1767,
    "execution_start": 1652268183777,
    "source_hash": "1e57baf4",
    "tags": []
   },
   "outputs": [],
   "source": [
    "X_found_DTR_train_val = imp_DTR_train_val.transform(X_Values_missing)\n",
    "X_found_DTR_train = imp_DTR_train.transform(X_Values_missing)\n",
    "X_found_DTR_val = imp_DTR_val.transform(X_Values_missing)\n",
    "#X_found_DTR_train_all = imp.transform(X_Values_missing)\n",
    "#X_found_DTR_train_val_all = imp.transform(X_Values_missing)\n",
    "\n",
    "#X_Values_found = imp.fit_transform(X_Values_all[:10000])"
   ]
  },
  {
   "cell_type": "code",
   "execution_count": 40,
   "id": "bc455ed1",
   "metadata": {
    "cell_id": "00034-274a2e72-3a5d-486a-b42e-ab94ffbb15f3",
    "deepnote_cell_height": 659,
    "deepnote_cell_type": "code",
    "deepnote_output_heights": [
     21,
     258,
     257
    ],
    "deepnote_to_be_reexecuted": false,
    "execution_millis": 403,
    "execution_start": 1652268252882,
    "source_hash": "b62893ef"
   },
   "outputs": [
    {
     "data": {
      "text/plain": [
       "array([[False, False,  True, ...,  True,  True,  True],\n",
       "       [False, False,  True, ...,  True,  True,  True],\n",
       "       [False, False,  True, ...,  True,  True,  True],\n",
       "       ...,\n",
       "       [ True,  True, False, ...,  True,  True,  True],\n",
       "       [ True,  True, False, ...,  True,  True,  True],\n",
       "       [ True,  True, False, ...,  True,  True,  True]])"
      ]
     },
     "execution_count": 40,
     "metadata": {},
     "output_type": "execute_result"
    },
    {
     "data": {
      "image/png": "[encoded data removed]",
      "text/plain": [
       "<Figure size 432x288 with 1 Axes>"
      ]
     },
     "metadata": {},
     "output_type": "display_data"
    }
   ],
   "source": [
    "fig = plt.figure(1)\n",
    "\n",
    "plt.semilogx(Sa_T_values ,X_found_DTR_train_val[4999-full_rows_train[-1],:105], alpha = 0.5, label='DTR_train_val') #for X_Values_missing\n",
    "plt.semilogx(Sa_T_values ,X_found_DTR_train[4999-full_rows_train[-1],:105], alpha = 0.5, label='DTR_train') #for X_Values_missing\n",
    "plt.semilogx(Sa_T_values ,X_found_DTR_val[4999-full_rows_train[-1],:105], alpha = 0.5, label='DTR_val') #for X_Values_missing\n",
    "\n",
    "X_found_DTR_train_val == X_found_DTR_train\n",
    "plt.semilogx(X_plot.T.iloc[:,0], color = 'black')\n",
    "\n",
    "plt.legend(loc='best')\n",
    "\n",
    "#plt.xlim(0,1)\n",
    "\n",
    "X_found_DTR_train_val == X_found_DTR_train\n"
   ]
  },
  {
   "cell_type": "markdown",
   "id": "5b25201f-2b33-4f06-b84a-2669497d1d98",
   "metadata": {},
   "source": [
    "### 3.3.2. Using method = BayesianRidge"
   ]
  },
  {
   "cell_type": "code",
   "execution_count": 41,
   "id": "89289bc1-f78f-40f1-a9f6-569201011bfe",
   "metadata": {
    "cell_id": "00032-304461f9-22d6-48c3-890f-fc079e793032",
    "deepnote_cell_height": 118,
    "deepnote_cell_type": "code",
    "deepnote_output_heights": [
     21
    ],
    "deepnote_to_be_reexecuted": false,
    "execution_millis": 5111,
    "execution_start": 1652268177643,
    "source_hash": "9bf1c081"
   },
   "outputs": [
    {
     "data": {
      "text/plain": [
       "IterativeImputer(estimator=BayesianRidge(), random_state=0)"
      ]
     },
     "execution_count": 41,
     "metadata": {},
     "output_type": "execute_result"
    }
   ],
   "source": [
    "imp_BR_train_val = IterativeImputer(estimator = BayesianRidge(), max_iter=10, random_state=0) \n",
    "imp_BR_train = IterativeImputer(estimator = BayesianRidge(), max_iter=10, random_state=0) \n",
    "imp_BR_val = IterativeImputer(estimator = BayesianRidge(), max_iter=10, random_state=0) \n",
    "#imp_DTR_train_all = IterativeImputer(estimator = DecisionTreeRegressor(max_features='sqrt', random_state=0), max_iter=10, random_state=0) \n",
    "#imp_DTR_train_val_all = IterativeImputer(estimator = DecisionTreeRegressor(max_features='sqrt', random_state=0), max_iter=10, random_state=0) \n",
    "\n",
    "imp_BR_train_val.fit(X_Values_train_val)\n",
    "imp_BR_train.fit(X_Values_training)\n",
    "imp_BR_val.fit(X_Values_validate)\n",
    "#imp_DTR_train_all.fit(X_Values_all)\n",
    "#imp_DTR_train_val_all.fit(X_Values_train_val_all)\n",
    "\n",
    "#imp = IterativeImputer()\n"
   ]
  },
  {
   "cell_type": "code",
   "execution_count": 42,
   "id": "0fe09cc7-26a7-4592-b8f3-557872966b6c",
   "metadata": {
    "cell_id": "07d7b37fc6a144d891421000158ced69",
    "deepnote_cell_height": 81,
    "deepnote_cell_type": "code",
    "deepnote_to_be_reexecuted": false,
    "execution_millis": 1767,
    "execution_start": 1652268183777,
    "source_hash": "1e57baf4",
    "tags": []
   },
   "outputs": [],
   "source": [
    "X_found_BR_train_val = imp_BR_train_val.transform(X_Values_missing)\n",
    "X_found_BR_train = imp_BR_train.transform(X_Values_missing)\n",
    "X_found_BR_val = imp_BR_val.transform(X_Values_missing)\n",
    "#X_found_DTR_train_all = imp.transform(X_Values_missing)\n",
    "#X_found_DTR_train_val_all = imp.transform(X_Values_missing)\n",
    "\n",
    "#X_Values_found = imp.fit_transform(X_Values_all[:10000])"
   ]
  },
  {
   "cell_type": "code",
   "execution_count": 43,
   "id": "92efae66-512a-46c8-9060-be38c3cb5012",
   "metadata": {
    "cell_id": "00034-274a2e72-3a5d-486a-b42e-ab94ffbb15f3",
    "deepnote_cell_height": 659,
    "deepnote_cell_type": "code",
    "deepnote_output_heights": [
     21,
     258,
     257
    ],
    "deepnote_to_be_reexecuted": false,
    "execution_millis": 403,
    "execution_start": 1652268252882,
    "source_hash": "b62893ef"
   },
   "outputs": [
    {
     "data": {
      "text/plain": [
       "array([[False, False,  True, ...,  True,  True,  True],\n",
       "       [False, False,  True, ...,  True,  True,  True],\n",
       "       [False, False,  True, ...,  True,  True,  True],\n",
       "       ...,\n",
       "       [ True,  True, False, ...,  True,  True,  True],\n",
       "       [ True,  True, False, ...,  True,  True,  True],\n",
       "       [ True,  True, False, ...,  True,  True,  True]])"
      ]
     },
     "execution_count": 43,
     "metadata": {},
     "output_type": "execute_result"
    },
    {
     "data": {
      "image/png": "[encoded data removed]",
      "text/plain": [
       "<Figure size 432x288 with 1 Axes>"
      ]
     },
     "metadata": {},
     "output_type": "display_data"
    }
   ],
   "source": [
    "fig2 = plt.figure(2)\n",
    "\n",
    "plt.semilogx(Sa_T_values ,X_found_BR_train_val[4999-full_rows_train[-1],:105], alpha = 0.5, label='BR_train_val') #for X_Values_missing\n",
    "plt.semilogx(Sa_T_values ,X_found_BR_train[4999-full_rows_train[-1],:105], alpha = 0.5, label='BR_train') #for X_Values_missing\n",
    "plt.semilogx(Sa_T_values ,X_found_BR_val[4999-full_rows_train[-1],:105], alpha = 0.5, label='BR_val') #for X_Values_missing\n",
    "\n",
    "X_found_BR_train_val == X_found_BR_train\n",
    "plt.semilogx(X_plot.T.iloc[:,0], color = 'black')\n",
    "\n",
    "plt.legend(loc='best')\n",
    "\n",
    "#plt.xlim(0,1)\n",
    "\n",
    "X_found_BR_train_val == X_found_BR_train\n"
   ]
  },
  {
   "cell_type": "markdown",
   "id": "2a6d754f-dbc7-491f-8a78-bfcd2c3b0488",
   "metadata": {},
   "source": [
    "### 3.3.3. Using method = ExtraTreesRegressor"
   ]
  },
  {
   "cell_type": "code",
   "execution_count": null,
   "id": "76ced1be-f70d-4526-96f1-1f8df01f0574",
   "metadata": {},
   "outputs": [],
   "source": []
  },
  {
   "cell_type": "markdown",
   "id": "fca8a4b5-eaa8-4559-b6fd-80afe4f26a0d",
   "metadata": {},
   "source": [
    "### 3.3.4. Using method = KNeighborsRegressor"
   ]
  },
  {
   "cell_type": "markdown",
   "id": "f669a5ca-c134-4d17-b1c6-e4ad89f26250",
   "metadata": {},
   "source": [
    "#### 3.3.4.1 n_neigbors = 2"
   ]
  },
  {
   "cell_type": "code",
   "execution_count": 44,
   "id": "a87e7db6-e60e-40ef-afe9-aa29ec65286f",
   "metadata": {
    "cell_id": "00032-304461f9-22d6-48c3-890f-fc079e793032",
    "deepnote_cell_height": 118,
    "deepnote_cell_type": "code",
    "deepnote_output_heights": [
     21
    ],
    "deepnote_to_be_reexecuted": false,
    "execution_millis": 5111,
    "execution_start": 1652268177643,
    "source_hash": "9bf1c081"
   },
   "outputs": [
    {
     "data": {
      "text/plain": [
       "IterativeImputer(estimator=KNeighborsRegressor(n_neighbors=2), random_state=0)"
      ]
     },
     "execution_count": 44,
     "metadata": {},
     "output_type": "execute_result"
    }
   ],
   "source": [
    "imp_KN_train_val = IterativeImputer(estimator = KNeighborsRegressor(n_neighbors=2), max_iter=10, random_state=0) \n",
    "imp_KN_train = IterativeImputer(estimator = KNeighborsRegressor(n_neighbors = 2), max_iter=10, random_state=0) \n",
    "imp_KN_val = IterativeImputer(estimator = KNeighborsRegressor(n_neighbors = 2), max_iter=10, random_state=0) \n",
    "#imp_DTR_train_all = IterativeImputer(estimator = DecisionTreeRegressor(max_features='sqrt', random_state=0), max_iter=10, random_state=0) \n",
    "#imp_DTR_train_val_all = IterativeImputer(estimator = DecisionTreeRegressor(max_features='sqrt', random_state=0), max_iter=10, random_state=0) \n",
    "\n",
    "imp_KN_train_val.fit(X_Values_train_val)\n",
    "imp_KN_train.fit(X_Values_training)\n",
    "imp_KN_val.fit(X_Values_validate)\n",
    "#imp_DTR_train_all.fit(X_Values_all)\n",
    "#imp_DTR_train_val_all.fit(X_Values_train_val_all)\n",
    "\n",
    "#imp = IterativeImputer()\n"
   ]
  },
  {
   "cell_type": "code",
   "execution_count": 45,
   "id": "f8c55515-473f-4985-9aed-30b938f263d2",
   "metadata": {
    "cell_id": "07d7b37fc6a144d891421000158ced69",
    "deepnote_cell_height": 81,
    "deepnote_cell_type": "code",
    "deepnote_to_be_reexecuted": false,
    "execution_millis": 1767,
    "execution_start": 1652268183777,
    "source_hash": "1e57baf4",
    "tags": []
   },
   "outputs": [],
   "source": [
    "#X_found_KN_train_val = imp_KN_train_val.transform(X_Values_missing)\n",
    "#X_found_KN_train = imp_KN_train.transform(X_Values_missing)\n",
    "X_found_KN2_val = imp_KN_val.transform(X_Values_missing)\n",
    "#X_found_DTR_train_all = imp.transform(X_Values_missing)\n",
    "#X_found_DTR_train_val_all = imp.transform(X_Values_missing)\n",
    "\n",
    "#X_Values_found = imp.fit_transform(X_Values_all[:10000])"
   ]
  },
  {
   "cell_type": "code",
   "execution_count": 46,
   "id": "85abccbb-ad22-4b16-b95d-7bdd25f00ab5",
   "metadata": {
    "cell_id": "00034-274a2e72-3a5d-486a-b42e-ab94ffbb15f3",
    "deepnote_cell_height": 659,
    "deepnote_cell_type": "code",
    "deepnote_output_heights": [
     21,
     258,
     257
    ],
    "deepnote_to_be_reexecuted": false,
    "execution_millis": 403,
    "execution_start": 1652268252882,
    "source_hash": "b62893ef"
   },
   "outputs": [
    {
     "data": {
      "text/plain": [
       "<matplotlib.legend.Legend at 0x23712b27a60>"
      ]
     },
     "execution_count": 46,
     "metadata": {},
     "output_type": "execute_result"
    },
    {
     "data": {
      "image/png": "[encoded data removed]",
      "text/plain": [
       "<Figure size 432x288 with 1 Axes>"
      ]
     },
     "metadata": {},
     "output_type": "display_data"
    }
   ],
   "source": [
    "fig2 = plt.figure(2)\n",
    "\n",
    "#plt.semilogx(Sa_T_values ,X_found_KN_train_val[4999-full_rows_train[-1],:105], alpha = 0.5, label = 'KN2_train_val') #for X_Values_missing\n",
    "#plt.semilogx(Sa_T_values ,X_found_KN_train[4999-full_rows_train[-1],:105], alpha = 0.5, label = 'KN2_train_val') #for X_Values_missing\n",
    "plt.semilogx(Sa_T_values ,X_found_KN2_val[4999-full_rows_train[-1],:105], alpha = 0.5, label = 'KN2_train_val') #for X_Values_missing\n",
    "\n",
    "\n",
    "plt.semilogx(X_plot.T.iloc[:,0], color = 'black')\n",
    "\n",
    "plt.legend(loc='best')\n",
    "\n",
    "#plt.xlim(0,1)\n",
    "\n",
    "#X_found_KN_train_val == X_found_KN_train"
   ]
  },
  {
   "cell_type": "markdown",
   "id": "eeef60c7-ffdb-489b-85bf-33d2573b1cae",
   "metadata": {},
   "source": [
    "#### 3.3.4.2 n_neigbors = 3"
   ]
  },
  {
   "cell_type": "code",
   "execution_count": 47,
   "id": "89e257a8-5b73-4774-a075-56a51eb09507",
   "metadata": {
    "cell_id": "00032-304461f9-22d6-48c3-890f-fc079e793032",
    "deepnote_cell_height": 118,
    "deepnote_cell_type": "code",
    "deepnote_output_heights": [
     21
    ],
    "deepnote_to_be_reexecuted": false,
    "execution_millis": 5111,
    "execution_start": 1652268177643,
    "source_hash": "9bf1c081"
   },
   "outputs": [
    {
     "data": {
      "text/plain": [
       "IterativeImputer(estimator=KNeighborsRegressor(n_neighbors=3), random_state=0)"
      ]
     },
     "execution_count": 47,
     "metadata": {},
     "output_type": "execute_result"
    }
   ],
   "source": [
    "imp_KN_train_val = IterativeImputer(estimator = KNeighborsRegressor(n_neighbors=3), max_iter=10, random_state=0) \n",
    "imp_KN_train = IterativeImputer(estimator = KNeighborsRegressor(n_neighbors = 3), max_iter=10, random_state=0) \n",
    "imp_KN_val = IterativeImputer(estimator = KNeighborsRegressor(n_neighbors = 3), max_iter=10, random_state=0) \n",
    "#imp_DTR_train_all = IterativeImputer(estimator = DecisionTreeRegressor(max_features='sqrt', random_state=0), max_iter=10, random_state=0) \n",
    "#imp_DTR_train_val_all = IterativeImputer(estimator = DecisionTreeRegressor(max_features='sqrt', random_state=0), max_iter=10, random_state=0) \n",
    "\n",
    "imp_KN_train_val.fit(X_Values_train_val)\n",
    "imp_KN_train.fit(X_Values_training)\n",
    "imp_KN_val.fit(X_Values_validate)\n",
    "#imp_DTR_train_all.fit(X_Values_all)\n",
    "#imp_DTR_train_val_all.fit(X_Values_train_val_all)\n",
    "\n",
    "#imp = IterativeImputer()\n"
   ]
  },
  {
   "cell_type": "code",
   "execution_count": 62,
   "id": "edaee68f-7d66-4872-a93e-3e736423d320",
   "metadata": {
    "cell_id": "07d7b37fc6a144d891421000158ced69",
    "deepnote_cell_height": 81,
    "deepnote_cell_type": "code",
    "deepnote_to_be_reexecuted": false,
    "execution_millis": 1767,
    "execution_start": 1652268183777,
    "source_hash": "1e57baf4",
    "tags": []
   },
   "outputs": [],
   "source": [
    "#X_found_KN_train_val = imp_KN_train_val.transform(X_Values_missing)\n",
    "X_found_KN3_train = imp_KN_train.transform(X_Values_missing)\n",
    "#X_found_KN3_val = imp_KN_val.transform(X_Values_missing)\n",
    "#X_found_DTR_train_all = imp.transform(X_Values_missing)\n",
    "#X_found_DTR_train_val_all = imp.transform(X_Values_missing)\n",
    "\n",
    "#X_Values_found = imp.fit_transform(X_Values_all[:10000])"
   ]
  },
  {
   "cell_type": "code",
   "execution_count": 63,
   "id": "0ead79e7-5e50-4229-a920-ba3199ccd34c",
   "metadata": {
    "cell_id": "00034-274a2e72-3a5d-486a-b42e-ab94ffbb15f3",
    "deepnote_cell_height": 659,
    "deepnote_cell_type": "code",
    "deepnote_output_heights": [
     21,
     258,
     257
    ],
    "deepnote_to_be_reexecuted": false,
    "execution_millis": 403,
    "execution_start": 1652268252882,
    "source_hash": "b62893ef"
   },
   "outputs": [
    {
     "data": {
      "text/plain": [
       "<matplotlib.legend.Legend at 0x237125fdd60>"
      ]
     },
     "execution_count": 63,
     "metadata": {},
     "output_type": "execute_result"
    },
    {
     "data": {
      "image/png": "[encoded data removed]",
      "text/plain": [
       "<Figure size 432x288 with 1 Axes>"
      ]
     },
     "metadata": {},
     "output_type": "display_data"
    }
   ],
   "source": [
    "fig2 = plt.figure(2)\n",
    "\n",
    "#plt.semilogx(Sa_T_values ,X_found_KN_train_val[4999-full_rows_train[-1],:105], alpha = 0.5, label = 'KN3_train_val') #for X_Values_missing\n",
    "plt.semilogx(Sa_T_values ,X_found_KN3_train[4999-full_rows_train[-1],:105], alpha = 0.5, label = 'KN3_train') #for X_Values_missing\n",
    "plt.semilogx(Sa_T_values ,X_found_KN3_val[4999-full_rows_train[-1],:105], alpha = 0.5, label = 'KN3_val') #for X_Values_missing\n",
    "\n",
    "\n",
    "plt.semilogx(X_plot.T.iloc[:,0], color = 'black')\n",
    "\n",
    "plt.legend(loc='best')\n",
    "\n",
    "#plt.xlim(0,1)\n",
    "\n",
    "#X_found_KN_train_val == X_found_KN_train"
   ]
  },
  {
   "cell_type": "markdown",
   "id": "555320eb-2091-4a1b-87a6-026f7999bd76",
   "metadata": {},
   "source": [
    "#### 3.3.4.2 n_neigbors = 4"
   ]
  },
  {
   "cell_type": "code",
   "execution_count": 50,
   "id": "7cb1e6a5-09e9-429c-b748-d2971e9bea3d",
   "metadata": {
    "cell_id": "00032-304461f9-22d6-48c3-890f-fc079e793032",
    "deepnote_cell_height": 118,
    "deepnote_cell_type": "code",
    "deepnote_output_heights": [
     21
    ],
    "deepnote_to_be_reexecuted": false,
    "execution_millis": 5111,
    "execution_start": 1652268177643,
    "source_hash": "9bf1c081"
   },
   "outputs": [
    {
     "data": {
      "text/plain": [
       "IterativeImputer(estimator=KNeighborsRegressor(n_neighbors=4), random_state=0)"
      ]
     },
     "execution_count": 50,
     "metadata": {},
     "output_type": "execute_result"
    }
   ],
   "source": [
    "imp_KN_train_val = IterativeImputer(estimator = KNeighborsRegressor(n_neighbors=4), max_iter=10, random_state=0) \n",
    "imp_KN_train = IterativeImputer(estimator = KNeighborsRegressor(n_neighbors = 4), max_iter=10, random_state=0) \n",
    "imp_KN_val = IterativeImputer(estimator = KNeighborsRegressor(n_neighbors = 4), max_iter=10, random_state=0) \n",
    "#imp_DTR_train_all = IterativeImputer(estimator = DecisionTreeRegressor(max_features='sqrt', random_state=0), max_iter=10, random_state=0) \n",
    "#imp_DTR_train_val_all = IterativeImputer(estimator = DecisionTreeRegressor(max_features='sqrt', random_state=0), max_iter=10, random_state=0) \n",
    "\n",
    "imp_KN_train_val.fit(X_Values_train_val)\n",
    "imp_KN_train.fit(X_Values_training)\n",
    "imp_KN_val.fit(X_Values_validate)\n",
    "#imp_DTR_train_all.fit(X_Values_all)\n",
    "#imp_DTR_train_val_all.fit(X_Values_train_val_all)\n",
    "\n",
    "#imp = IterativeImputer()\n"
   ]
  },
  {
   "cell_type": "code",
   "execution_count": 51,
   "id": "fe036fb2-6bbe-41f2-89c3-83f1d85cc3af",
   "metadata": {
    "cell_id": "07d7b37fc6a144d891421000158ced69",
    "deepnote_cell_height": 81,
    "deepnote_cell_type": "code",
    "deepnote_to_be_reexecuted": false,
    "execution_millis": 1767,
    "execution_start": 1652268183777,
    "source_hash": "1e57baf4",
    "tags": []
   },
   "outputs": [],
   "source": [
    "#X_found_KN_train_val = imp_KN_train_val.transform(X_Values_missing)\n",
    "#X_found_KN_train = imp_KN_train.transform(X_Values_missing)\n",
    "X_found_KN4_val = imp_KN_val.transform(X_Values_missing)\n",
    "#X_found_DTR_train_all = imp.transform(X_Values_missing)\n",
    "#X_found_DTR_train_val_all = imp.transform(X_Values_missing)\n",
    "\n",
    "#X_Values_found = imp.fit_transform(X_Values_all[:10000])"
   ]
  },
  {
   "cell_type": "code",
   "execution_count": 52,
   "id": "872c33b1-e6ab-4c9e-96e0-7fc4bfa841c0",
   "metadata": {
    "cell_id": "00034-274a2e72-3a5d-486a-b42e-ab94ffbb15f3",
    "deepnote_cell_height": 659,
    "deepnote_cell_type": "code",
    "deepnote_output_heights": [
     21,
     258,
     257
    ],
    "deepnote_to_be_reexecuted": false,
    "execution_millis": 403,
    "execution_start": 1652268252882,
    "source_hash": "b62893ef"
   },
   "outputs": [
    {
     "data": {
      "text/plain": [
       "<matplotlib.legend.Legend at 0x2371324b0d0>"
      ]
     },
     "execution_count": 52,
     "metadata": {},
     "output_type": "execute_result"
    },
    {
     "data": {
      "image/png": "[encoded data removed]",
      "text/plain": [
       "<Figure size 432x288 with 1 Axes>"
      ]
     },
     "metadata": {},
     "output_type": "display_data"
    }
   ],
   "source": [
    "fig2 = plt.figure(2)\n",
    "\n",
    "#plt.semilogx(Sa_T_values ,X_found_KN_train_val[4999-full_rows_train[-1],:105], alpha = 0.5, label = 'KN4_train_val') #for X_Values_missing\n",
    "#plt.semilogx(Sa_T_values ,X_found_KN_train[4999-full_rows_train[-1],:105], alpha = 0.5, label = 'KN4_train_val') #for X_Values_missing\n",
    "plt.semilogx(Sa_T_values ,X_found_KN4_val[4999-full_rows_train[-1],:105], alpha = 0.5, label = 'KN4_train_val') #for X_Values_missing\n",
    "\n",
    "\n",
    "plt.semilogx(X_plot.T.iloc[:,0], color = 'black')\n",
    "\n",
    "plt.legend(loc='best')\n",
    "\n",
    "#plt.xlim(0,1)\n",
    "\n",
    "#X_found_KN_train_val == X_found_KN_train"
   ]
  },
  {
   "cell_type": "markdown",
   "id": "b7554c00-bd0a-4710-9944-fe6afb93eb90",
   "metadata": {},
   "source": [
    "#### 3.3.4.2 n_neigbors = 5"
   ]
  },
  {
   "cell_type": "code",
   "execution_count": 53,
   "id": "f835222b-f8ec-463c-b55b-e2b729529dea",
   "metadata": {
    "cell_id": "00032-304461f9-22d6-48c3-890f-fc079e793032",
    "deepnote_cell_height": 118,
    "deepnote_cell_type": "code",
    "deepnote_output_heights": [
     21
    ],
    "deepnote_to_be_reexecuted": false,
    "execution_millis": 5111,
    "execution_start": 1652268177643,
    "source_hash": "9bf1c081"
   },
   "outputs": [
    {
     "data": {
      "text/plain": [
       "IterativeImputer(estimator=KNeighborsRegressor(), random_state=0)"
      ]
     },
     "execution_count": 53,
     "metadata": {},
     "output_type": "execute_result"
    }
   ],
   "source": [
    "imp_KN_train_val = IterativeImputer(estimator = KNeighborsRegressor(n_neighbors=5), max_iter=10, random_state=0) \n",
    "imp_KN_train = IterativeImputer(estimator = KNeighborsRegressor(n_neighbors = 5), max_iter=10, random_state=0) \n",
    "imp_KN_val = IterativeImputer(estimator = KNeighborsRegressor(n_neighbors = 5), max_iter=10, random_state=0) \n",
    "#imp_DTR_train_all = IterativeImputer(estimator = DecisionTreeRegressor(max_features='sqrt', random_state=0), max_iter=10, random_state=0) \n",
    "#imp_DTR_train_val_all = IterativeImputer(estimator = DecisionTreeRegressor(max_features='sqrt', random_state=0), max_iter=10, random_state=0) \n",
    "\n",
    "imp_KN_train_val.fit(X_Values_train_val)\n",
    "imp_KN_train.fit(X_Values_training)\n",
    "imp_KN_val.fit(X_Values_validate)\n",
    "#imp_DTR_train_all.fit(X_Values_all)\n",
    "#imp_DTR_train_val_all.fit(X_Values_train_val_all)\n",
    "\n",
    "#imp = IterativeImputer()\n"
   ]
  },
  {
   "cell_type": "code",
   "execution_count": 54,
   "id": "a1ea5513-d7f3-4ccf-ac2e-e3f138db4844",
   "metadata": {
    "cell_id": "07d7b37fc6a144d891421000158ced69",
    "deepnote_cell_height": 81,
    "deepnote_cell_type": "code",
    "deepnote_to_be_reexecuted": false,
    "execution_millis": 1767,
    "execution_start": 1652268183777,
    "source_hash": "1e57baf4",
    "tags": []
   },
   "outputs": [],
   "source": [
    "#X_found_KN_train_val = imp_KN_train_val.transform(X_Values_missing)\n",
    "#X_found_KN_train = imp_KN_train.transform(X_Values_missing)\n",
    "X_found_KN5_val = imp_KN_val.transform(X_Values_missing)\n",
    "#X_found_DTR_train_all = imp.transform(X_Values_missing)\n",
    "#X_found_DTR_train_val_all = imp.transform(X_Values_missing)\n",
    "\n",
    "#X_Values_found = imp.fit_transform(X_Values_all[:10000])"
   ]
  },
  {
   "cell_type": "code",
   "execution_count": 55,
   "id": "fda43a00-16b0-4c15-92e8-f2c452d5453a",
   "metadata": {
    "cell_id": "00034-274a2e72-3a5d-486a-b42e-ab94ffbb15f3",
    "deepnote_cell_height": 659,
    "deepnote_cell_type": "code",
    "deepnote_output_heights": [
     21,
     258,
     257
    ],
    "deepnote_to_be_reexecuted": false,
    "execution_millis": 403,
    "execution_start": 1652268252882,
    "source_hash": "b62893ef"
   },
   "outputs": [
    {
     "data": {
      "text/plain": [
       "<matplotlib.legend.Legend at 0x23712ac4eb0>"
      ]
     },
     "execution_count": 55,
     "metadata": {},
     "output_type": "execute_result"
    },
    {
     "data": {
      "image/png": "[encoded data removed]",
      "text/plain": [
       "<Figure size 432x288 with 1 Axes>"
      ]
     },
     "metadata": {},
     "output_type": "display_data"
    }
   ],
   "source": [
    "fig2 = plt.figure(2)\n",
    "\n",
    "#plt.semilogx(Sa_T_values ,X_found_KN_train_val[4999-full_rows_train[-1],:105], alpha = 0.5, label = 'KN5_train_val') #for X_Values_missing\n",
    "#plt.semilogx(Sa_T_values ,X_found_KN_train[4999-full_rows_train[-1],:105], alpha = 0.5, label = 'KN5_train_val') #for X_Values_missing\n",
    "plt.semilogx(Sa_T_values ,X_found_KN5_val[4999-full_rows_train[-1],:105], alpha = 0.5, label = 'KN5_train_val') #for X_Values_missing\n",
    "\n",
    "\n",
    "plt.semilogx(X_plot.T.iloc[:,0], color = 'black')\n",
    "\n",
    "plt.legend(loc='best')\n",
    "\n",
    "#plt.xlim(0,1)\n",
    "\n",
    "#X_found_KN_train_val == X_found_KN_train"
   ]
  },
  {
   "cell_type": "markdown",
   "id": "e6b6285a-75e8-4a9c-ab03-4086abd23921",
   "metadata": {},
   "source": [
    "#### 3.3.4.2 n_neigbors = 6"
   ]
  },
  {
   "cell_type": "code",
   "execution_count": 56,
   "id": "76bafef2-987b-4728-92fb-b34ad19a1f7c",
   "metadata": {
    "cell_id": "00032-304461f9-22d6-48c3-890f-fc079e793032",
    "deepnote_cell_height": 118,
    "deepnote_cell_type": "code",
    "deepnote_output_heights": [
     21
    ],
    "deepnote_to_be_reexecuted": false,
    "execution_millis": 5111,
    "execution_start": 1652268177643,
    "source_hash": "9bf1c081"
   },
   "outputs": [
    {
     "data": {
      "text/plain": [
       "IterativeImputer(estimator=KNeighborsRegressor(n_neighbors=6), random_state=0)"
      ]
     },
     "execution_count": 56,
     "metadata": {},
     "output_type": "execute_result"
    }
   ],
   "source": [
    "imp_KN_train_val = IterativeImputer(estimator = KNeighborsRegressor(n_neighbors=6), max_iter=10, random_state=0) \n",
    "imp_KN_train = IterativeImputer(estimator = KNeighborsRegressor(n_neighbors = 6), max_iter=10, random_state=0) \n",
    "imp_KN_val = IterativeImputer(estimator = KNeighborsRegressor(n_neighbors = 6), max_iter=10, random_state=0) \n",
    "#imp_DTR_train_all = IterativeImputer(estimator = DecisionTreeRegressor(max_features='sqrt', random_state=0), max_iter=10, random_state=0) \n",
    "#imp_DTR_train_val_all = IterativeImputer(estimator = DecisionTreeRegressor(max_features='sqrt', random_state=0), max_iter=10, random_state=0) \n",
    "\n",
    "imp_KN_train_val.fit(X_Values_train_val)\n",
    "imp_KN_train.fit(X_Values_training)\n",
    "imp_KN_val.fit(X_Values_validate)\n",
    "#imp_DTR_train_all.fit(X_Values_all)\n",
    "#imp_DTR_train_val_all.fit(X_Values_train_val_all)\n",
    "\n",
    "#imp = IterativeImputer()\n"
   ]
  },
  {
   "cell_type": "code",
   "execution_count": 57,
   "id": "48d9090f-3c30-479e-82e4-cb0c3ca98f94",
   "metadata": {
    "cell_id": "07d7b37fc6a144d891421000158ced69",
    "deepnote_cell_height": 81,
    "deepnote_cell_type": "code",
    "deepnote_to_be_reexecuted": false,
    "execution_millis": 1767,
    "execution_start": 1652268183777,
    "source_hash": "1e57baf4",
    "tags": []
   },
   "outputs": [],
   "source": [
    "#X_found_KN_train_val = imp_KN_train_val.transform(X_Values_missing)\n",
    "#X_found_KN_train = imp_KN_train.transform(X_Values_missing)\n",
    "X_found_KN6_val = imp_KN_val.transform(X_Values_missing)\n",
    "#X_found_DTR_train_all = imp.transform(X_Values_missing)\n",
    "#X_found_DTR_train_val_all = imp.transform(X_Values_missing)\n",
    "\n",
    "#X_Values_found = imp.fit_transform(X_Values_all[:10000])"
   ]
  },
  {
   "cell_type": "code",
   "execution_count": 58,
   "id": "70101a1f-ef02-41ff-a99f-4e9656993510",
   "metadata": {
    "cell_id": "00034-274a2e72-3a5d-486a-b42e-ab94ffbb15f3",
    "deepnote_cell_height": 659,
    "deepnote_cell_type": "code",
    "deepnote_output_heights": [
     21,
     258,
     257
    ],
    "deepnote_to_be_reexecuted": false,
    "execution_millis": 403,
    "execution_start": 1652268252882,
    "source_hash": "b62893ef"
   },
   "outputs": [
    {
     "data": {
      "text/plain": [
       "<matplotlib.legend.Legend at 0x23722e871c0>"
      ]
     },
     "execution_count": 58,
     "metadata": {},
     "output_type": "execute_result"
    },
    {
     "data": {
      "image/png": "[encoded data removed]",
      "text/plain": [
       "<Figure size 432x288 with 1 Axes>"
      ]
     },
     "metadata": {},
     "output_type": "display_data"
    }
   ],
   "source": [
    "fig2 = plt.figure(2)\n",
    "\n",
    "#plt.semilogx(Sa_T_values ,X_found_KN_train_val[4999-full_rows_train[-1],:105], alpha = 0.5, label = 'KN6_train_val') #for X_Values_missing\n",
    "#plt.semilogx(Sa_T_values ,X_found_KN_train[4999-full_rows_train[-1],:105], alpha = 0.5, label = 'KN6_train_val') #for X_Values_missing\n",
    "plt.semilogx(Sa_T_values ,X_found_KN6_val[4999-full_rows_train[-1],:105], alpha = 0.5, label = 'KN6_train_val') #for X_Values_missing\n",
    "\n",
    "\n",
    "plt.semilogx(X_plot.T.iloc[:,0], color = 'black')\n",
    "\n",
    "plt.legend(loc='best')\n",
    "\n",
    "#plt.xlim(0,1)\n",
    "\n",
    "#X_found_KN_train_val == X_found_KN_train"
   ]
  },
  {
   "cell_type": "markdown",
   "id": "d0144e5b-a8dc-4693-b95c-fa9d7ffc57ac",
   "metadata": {},
   "source": [
    "#### 3.3.4.2 n_neigbors = 7"
   ]
  },
  {
   "cell_type": "code",
   "execution_count": 59,
   "id": "86fe1de4-de97-47e1-bcdd-9bd92c910bb9",
   "metadata": {
    "cell_id": "00032-304461f9-22d6-48c3-890f-fc079e793032",
    "deepnote_cell_height": 118,
    "deepnote_cell_type": "code",
    "deepnote_output_heights": [
     21
    ],
    "deepnote_to_be_reexecuted": false,
    "execution_millis": 5111,
    "execution_start": 1652268177643,
    "source_hash": "9bf1c081"
   },
   "outputs": [
    {
     "data": {
      "text/plain": [
       "IterativeImputer(estimator=KNeighborsRegressor(n_neighbors=7), random_state=0)"
      ]
     },
     "execution_count": 59,
     "metadata": {},
     "output_type": "execute_result"
    }
   ],
   "source": [
    "imp_KN_train_val = IterativeImputer(estimator = KNeighborsRegressor(n_neighbors=7), max_iter=10, random_state=0) \n",
    "imp_KN_train = IterativeImputer(estimator = KNeighborsRegressor(n_neighbors = 7), max_iter=10, random_state=0) \n",
    "imp_KN_val = IterativeImputer(estimator = KNeighborsRegressor(n_neighbors = 7), max_iter=10, random_state=0) \n",
    "#imp_DTR_train_all = IterativeImputer(estimator = DecisionTreeRegressor(max_features='sqrt', random_state=0), max_iter=10, random_state=0) \n",
    "#imp_DTR_train_val_all = IterativeImputer(estimator = DecisionTreeRegressor(max_features='sqrt', random_state=0), max_iter=10, random_state=0) \n",
    "\n",
    "imp_KN_train_val.fit(X_Values_train_val)\n",
    "imp_KN_train.fit(X_Values_training)\n",
    "imp_KN_val.fit(X_Values_validate)\n",
    "#imp_DTR_train_all.fit(X_Values_all)\n",
    "#imp_DTR_train_val_all.fit(X_Values_train_val_all)\n",
    "\n",
    "#imp = IterativeImputer()\n"
   ]
  },
  {
   "cell_type": "code",
   "execution_count": 60,
   "id": "e50a4235-e35f-4da4-8632-96926aed2bac",
   "metadata": {
    "cell_id": "07d7b37fc6a144d891421000158ced69",
    "deepnote_cell_height": 81,
    "deepnote_cell_type": "code",
    "deepnote_to_be_reexecuted": false,
    "execution_millis": 1767,
    "execution_start": 1652268183777,
    "source_hash": "1e57baf4",
    "tags": []
   },
   "outputs": [],
   "source": [
    "#X_found_KN_train_val = imp_KN_train_val.transform(X_Values_missing)\n",
    "#X_found_KN_train = imp_KN_train.transform(X_Values_missing)\n",
    "X_found_KN7_val = imp_KN_val.transform(X_Values_missing)\n",
    "#X_found_DTR_train_all = imp.transform(X_Values_missing)\n",
    "#X_found_DTR_train_val_all = imp.transform(X_Values_missing)\n",
    "\n",
    "#X_Values_found = imp.fit_transform(X_Values_all[:10000])"
   ]
  },
  {
   "cell_type": "code",
   "execution_count": 61,
   "id": "31a0c4a4-e90e-4c1a-b494-6215ec7e9f4a",
   "metadata": {
    "cell_id": "00034-274a2e72-3a5d-486a-b42e-ab94ffbb15f3",
    "deepnote_cell_height": 659,
    "deepnote_cell_type": "code",
    "deepnote_output_heights": [
     21,
     258,
     257
    ],
    "deepnote_to_be_reexecuted": false,
    "execution_millis": 403,
    "execution_start": 1652268252882,
    "source_hash": "b62893ef"
   },
   "outputs": [
    {
     "data": {
      "text/plain": [
       "<matplotlib.legend.Legend at 0x2371365ee50>"
      ]
     },
     "execution_count": 61,
     "metadata": {},
     "output_type": "execute_result"
    },
    {
     "data": {
      "image/png": "[encoded data removed]",
      "text/plain": [
       "<Figure size 432x288 with 1 Axes>"
      ]
     },
     "metadata": {},
     "output_type": "display_data"
    }
   ],
   "source": [
    "fig2 = plt.figure(2)\n",
    "\n",
    "#plt.semilogx(Sa_T_values ,X_found_KN_train_val[4999-full_rows_train[-1],:105], alpha = 0.5, label = 'KN7_train_val') #for X_Values_missing\n",
    "#plt.semilogx(Sa_T_values ,X_found_KN_train[4999-full_rows_train[-1],:105], alpha = 0.5, label = 'KN7_train_val') #for X_Values_missing\n",
    "plt.semilogx(Sa_T_values ,X_found_KN7_val[4999-full_rows_train[-1],:105], alpha = 0.5, label = 'KN7_train_val') #for X_Values_missing\n",
    "\n",
    "\n",
    "plt.semilogx(X_plot.T.iloc[:,0], color = 'black')\n",
    "\n",
    "plt.legend(loc='best')\n",
    "\n",
    "#plt.xlim(0,1)\n",
    "\n",
    "#X_found_KN_train_val == X_found_KN_train"
   ]
  },
  {
   "cell_type": "raw",
   "id": "d27672bd-9e17-4796-8c7e-21b25fa5e1f5",
   "metadata": {},
   "source": [
    "fig2 = plt.figure(2)\n",
    "\n",
    "plt.plot(Sa_T_values ,X_Values_found[5000-full_rows_train[-1],:105], color = 'blue', alpha = 0.5)\n",
    "plt.plot(X_plot_interp_lin.T.iloc[:,0], color = 'red', alpha = 0.5)\n",
    "plt.plot(X_plot.T.iloc[:,0], color = 'black')\n",
    "plt.xlim(0,0.8)"
   ]
  },
  {
   "cell_type": "code",
   "execution_count": null,
   "id": "486262af-08dd-4104-8f8e-75125400d4e5",
   "metadata": {},
   "outputs": [],
   "source": []
  }
 ],
 "metadata": {
  "deepnote": {},
  "deepnote_execution_queue": [],
  "deepnote_notebook_id": "0a027e61-25bf-4aa4-99a1-9f9b88240852",
  "kernelspec": {
   "display_name": "Python 3 (ipykernel)",
   "language": "python",
   "name": "python3"
  },
  "language_info": {
   "codemirror_mode": {
    "name": "ipython",
    "version": 3
   },
   "file_extension": ".py",
   "mimetype": "text/x-python",
   "name": "python",
   "nbconvert_exporter": "python",
   "pygments_lexer": "ipython3",
   "version": "3.8.12"
  },
  "widgets": {
   "application/vnd.jupyter.widget-state+json": {
    "state": {},
    "version_major": 2,
    "version_minor": 0
   }
  }
 },
 "nbformat": 4,
 "nbformat_minor": 5
}
