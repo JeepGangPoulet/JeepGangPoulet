{
 "cells": [
  {
   "cell_type": "markdown",
   "id": "e41a2e93-3397-4c82-b2db-c84f48c0fffa",
   "metadata": {},
   "source": [
    "# Packages import and plot settings"
   ]
  },
  {
   "cell_type": "code",
   "execution_count": 1,
   "id": "d04d8a74-a3ac-48a3-a972-537ef3f16e26",
   "metadata": {},
   "outputs": [],
   "source": [
    "#Package import\n",
    "import pandas as pd\n",
    "import numpy as np\n",
    "import scipy\n",
    "import matplotlib.pyplot as plt\n",
    "import seaborn as sns\n",
    "\n",
    "# PyTorch & torchvision\n",
    "import torch\n",
    "import torch.nn as nn\n",
    "import torch.nn.functional as F\n",
    "import torch.optim as optim\n",
    "\n",
    "import torchvision\n",
    "import torchvision.transforms as transforms\n",
    "from torch.utils.data import Dataset, DataLoader\n",
    "\n",
    "# Progress bar\n",
    "from tqdm.auto import tqdm\n",
    "\n",
    "# Helper files\n",
    "import helpers"
   ]
  },
  {
   "cell_type": "code",
   "execution_count": 2,
   "id": "c5fe1fd3-93a6-4050-9f73-8c766530d1cd",
   "metadata": {},
   "outputs": [],
   "source": [
    "#Settings for the plots \n",
    "sns.set_style(\"ticks\")\n",
    "colors= sns.color_palette('colorblind')\n",
    "plt.rc('xtick', labelsize=12) \n",
    "plt.rc('ytick', labelsize=12) \n",
    "plt.rc('axes', titlesize=18)\n",
    "plt.rc('axes', labelsize=13)\n",
    "plt.rcParams['ytick.major.size'] = 7\n",
    "plt.rcParams['ytick.minor.size'] = 6\n",
    "\n",
    "sns.set_style(\"darkgrid\", {'axes.grid' : False, 'ytick.left': True, 'xtick.bottom': True})"
   ]
  },
  {
   "cell_type": "markdown",
   "id": "eaf31609-23f1-4080-9a6f-fa30ddd36a95",
   "metadata": {},
   "source": [
    "# Clean data"
   ]
  },
  {
   "cell_type": "code",
   "execution_count": 3,
   "id": "d32bc15b-b2a9-4728-b034-0781cc64db27",
   "metadata": {},
   "outputs": [],
   "source": [
    "#Read the merged data \n",
    "X_train_merged = pd.read_csv(\"project-data-merged/df_X_train.csv\", index_col=0) #Nan and  -999\n",
    "y_train_merged = pd.read_csv(\"project-data-merged/df_y_train.csv\", index_col=0)\n",
    "\n",
    "X_val_merged = pd.read_csv(\"project-data-merged/df_X_val.csv\", index_col=0) #no Nan but -999\n",
    "y_val_merged = pd.read_csv(\"project-data-merged/df_y_val.csv\", index_col=0)  \n",
    "\n",
    "X_test_merged = pd.read_csv(\"project-data-merged/df_X_test.csv\", index_col=0) #no Nan but -999"
   ]
  },
  {
   "cell_type": "raw",
   "id": "ec49118f-0dad-4c37-98af-dfff80c8c4e5",
   "metadata": {},
   "source": [
    "display(X_train_merged)\n",
    "display(X_val_merged)\n",
    "display(X_test_merged)"
   ]
  },
  {
   "cell_type": "code",
   "execution_count": 4,
   "id": "2d72701d-f7ae-4339-b326-6bfb51dea92f",
   "metadata": {},
   "outputs": [],
   "source": [
    "#remove columns that have the -999 (Magnitude, distace closest and lowest usable frequency)\n",
    "col_to_erase = ['magnitude','distance_closest','lowest_usable_frequency']\n",
    "\n",
    "X_train_drop = X_train_merged.drop(columns = col_to_erase)\n",
    "#display(X_train_3drop)\n",
    "\n",
    "X_val_drop = X_val_merged.drop(columns = col_to_erase)\n",
    "#display(X_val_3drop)\n",
    "\n",
    "X_test_drop = X_test_merged.drop(columns = col_to_erase)\n",
    "#display(X_test_3drop)\n",
    "                        "
   ]
  },
  {
   "cell_type": "code",
   "execution_count": 5,
   "id": "496fa406-d834-42b4-be94-47ca6833f53a",
   "metadata": {},
   "outputs": [
    {
     "name": "stdout",
     "output_type": "stream",
     "text": [
      "Training:\n",
      "There are no -999 rows to remove \n",
      "\n",
      "Validation:\n",
      "There are no -999 rows to remove \n",
      "\n"
     ]
    }
   ],
   "source": [
    "#Remove -999\n",
    "X_train_red, y_train_red = helpers.check_corrupted(X_train_drop, y_train_merged, 'Training')\n",
    "X_val_red, y_val_red = helpers.check_corrupted(X_val_drop, y_val_merged, 'Validation')\n",
    "X_test_nn = X_test_drop.drop(index=X_test_drop.columns[X_test_drop.eq(-999).any(axis=0)== True])"
   ]
  },
  {
   "cell_type": "code",
   "execution_count": 6,
   "id": "4f11ceda-33f3-4965-83ac-84fad294533f",
   "metadata": {},
   "outputs": [
    {
     "name": "stdout",
     "output_type": "stream",
     "text": [
      "Training:\n",
      "113705 (97.07 %) rows have Nan values and are removed\n",
      "Validation:\n",
      "There are no Nan rows to remove \n",
      "\n"
     ]
    }
   ],
   "source": [
    "#Remove Nan\n",
    "X_train_nn, y_train_nn = helpers.check_Nan(X_train_red, y_train_red, 'Training')\n",
    "X_val_nn, y_val_nn = helpers.check_Nan(X_val_red, y_val_red, 'Validation')"
   ]
  },
  {
   "cell_type": "raw",
   "id": "cb736d40-c6bc-4deb-89b2-7b1933d0b3f8",
   "metadata": {},
   "source": [
    "X_train_nn.describe()"
   ]
  },
  {
   "cell_type": "raw",
   "id": "bd7e8c8b-9b58-4cbd-a677-46eade87d7c9",
   "metadata": {},
   "source": [
    "X_val_nn.describe()"
   ]
  },
  {
   "cell_type": "raw",
   "id": "3b203863-047a-4d30-a1a5-d337154877a5",
   "metadata": {},
   "source": [
    "X_test_nn.describe()"
   ]
  },
  {
   "cell_type": "raw",
   "id": "7d3b5af6-735b-4b8e-9755-89241655d6a7",
   "metadata": {},
   "source": [
    "display(X_train_nn)\n",
    "display(X_val_nn)\n",
    "display(X_test_nn)"
   ]
  },
  {
   "cell_type": "code",
   "execution_count": 7,
   "id": "5a13a863-cec2-43f8-b8f5-a7719e6286b3",
   "metadata": {},
   "outputs": [],
   "source": [
    "#define the train data as a PyTorch tensor\n",
    "X_train_final = helpers.numpy_converter(X_train_nn)\n",
    "y_train_final = helpers.numpy_converter(y_train_nn)\n",
    "\n",
    "X_val_final = helpers.numpy_converter(X_val_nn)\n",
    "y_val_final = helpers.numpy_converter(y_val_nn)\n",
    "\n",
    "X_test_final = helpers.numpy_converter(X_test_nn)"
   ]
  },
  {
   "cell_type": "code",
   "execution_count": 8,
   "id": "b818ca9e-6e89-475e-a6ca-87c6514dc49a",
   "metadata": {},
   "outputs": [
    {
     "name": "stdout",
     "output_type": "stream",
     "text": [
      "Number of 0 in train dataset: 2208 \n",
      "Number of 1 in train dataset: 1223 \n"
     ]
    }
   ],
   "source": [
    "n_zeros = np.count_nonzero(y_train_final==0)\n",
    "n_ones = np.count_nonzero(y_train_final==1)\n",
    "\n",
    "\n",
    "print(\"Number of 0 in train dataset: {} \".format(n_zeros))\n",
    "print(\"Number of 1 in train dataset: {} \".format(n_ones))"
   ]
  },
  {
   "cell_type": "code",
   "execution_count": 9,
   "id": "c2389377-93ce-4faa-91af-a53a172b196c",
   "metadata": {},
   "outputs": [],
   "source": [
    "#Normalize\n",
    "X_train_final = helpers.normalize(X_train_final, X_train_final.mean(axis=0), X_train_final.std(axis=0))\n",
    "\n",
    "X_val_final = helpers.normalize(X_val_final, X_train_final.mean(axis=0), X_train_final.std(axis=0))\n",
    "\n",
    "X_test_final = helpers.normalize(X_test_final, X_train_final.mean(axis=0), X_train_final.std(axis=0))"
   ]
  },
  {
   "cell_type": "code",
   "execution_count": 10,
   "id": "9a9af041-9210-4bab-a085-4e87a5538a10",
   "metadata": {},
   "outputs": [
    {
     "name": "stdout",
     "output_type": "stream",
     "text": [
      "(3431, 112)\n",
      "(2512, 112)\n",
      "(48352, 112)\n",
      "(3431, 1)\n",
      "(2512, 1)\n"
     ]
    }
   ],
   "source": [
    "print(X_train_final.shape)\n",
    "print(X_val_final.shape)\n",
    "print(X_test_final.shape)\n",
    "print(y_train_final.shape)\n",
    "print(y_val_final.shape)"
   ]
  },
  {
   "cell_type": "markdown",
   "id": "af673871-6e9d-4446-8b4b-e93242d86f51",
   "metadata": {
    "tags": []
   },
   "source": [
    "# Neural Net"
   ]
  },
  {
   "cell_type": "code",
   "execution_count": 11,
   "id": "21cd0270-bc21-4ee8-ab55-cbb57b868954",
   "metadata": {},
   "outputs": [],
   "source": [
    "#Hyper-parameters\n",
    "epochs = 400\n",
    "batch_size = 64\n",
    "lr = 0.005"
   ]
  },
  {
   "cell_type": "code",
   "execution_count": 12,
   "id": "a791a265-7b4e-432d-ac48-d0def0b9693d",
   "metadata": {},
   "outputs": [],
   "source": [
    "class TrainData(Dataset):\n",
    "    \n",
    "    def __init__(self, X_data, y_data): #for initialization operations (reading and preprocess data)\n",
    "        self.X_data = X_data\n",
    "        self.y_data = y_data\n",
    "        \n",
    "    def __getitem__(self, index):  #returns data in batches\n",
    "        return self.X_data[index], self.y_data[index]\n",
    "        \n",
    "    def __len__ (self):\n",
    "        return len(self.X_data)\n",
    "\n",
    "#Initialize the TrainData object (use Tensor type inputs)\n",
    "train_data = TrainData(torch.FloatTensor(X_train_final), torch.FloatTensor(y_train_final))"
   ]
  },
  {
   "cell_type": "code",
   "execution_count": 13,
   "id": "d4782725-3fb2-41ed-9761-83cece67fd13",
   "metadata": {},
   "outputs": [],
   "source": [
    "class ValData(Dataset):\n",
    "    def __init__(self, X_data, y_data): #for initialization operations (reading and preprocess data)\n",
    "        self.X_data = X_data\n",
    "        self.y_data = y_data\n",
    "        \n",
    "    def __getitem__(self, index):  #returns data in batches\n",
    "        return self.X_data[index], self.y_data[index]\n",
    "        \n",
    "    def __len__ (self):\n",
    "        return len(self.X_data)\n",
    "\n",
    "#Initialize the TrainData object (use Tensor type inputs)\n",
    "val_data = ValData(torch.FloatTensor(X_val_final), torch.FloatTensor(y_val_final))"
   ]
  },
  {
   "cell_type": "code",
   "execution_count": 14,
   "id": "cd0a6d6e-1590-48f7-937a-bf3696650a13",
   "metadata": {},
   "outputs": [],
   "source": [
    "class TestData(Dataset):\n",
    "    \n",
    "    def __init__(self, X_data):\n",
    "        self.X_data = X_data\n",
    "        \n",
    "    def __getitem__(self, index):\n",
    "        return self.X_data[index]\n",
    "        \n",
    "    def __len__ (self):\n",
    "        return len(self.X_data)\n",
    "    \n",
    "test_data = TestData(torch.FloatTensor(X_test_final))"
   ]
  },
  {
   "cell_type": "code",
   "execution_count": 15,
   "id": "ad5f8daa-0b9f-4188-addf-8810f2b15f31",
   "metadata": {},
   "outputs": [],
   "source": [
    "#Dataloader used to read data in batches\n",
    "train_loader = DataLoader(dataset=train_data, batch_size=batch_size, shuffle=True)\n",
    "\n",
    "val_loader = DataLoader(dataset=val_data, batch_size=X_val_final.shape[0], shuffle=True)\n",
    "#val_loader = DataLoader(dataset=val_data, batch_size=1, shuffle=True)\n",
    "\n",
    "test_loader = DataLoader(dataset=test_data, batch_size=1, shuffle=False)\n",
    "\n",
    "\n",
    "#inizializazzione\n",
    "#optimization hyperparameters\n",
    "#Softmax\n",
    "#optimizer ttrheshlodn\n",
    "#changer groundtruth"
   ]
  },
  {
   "cell_type": "code",
   "execution_count": 16,
   "id": "48e77e04-c83c-41c7-935a-59a405541d17",
   "metadata": {},
   "outputs": [],
   "source": [
    "class Model(nn.Module):\n",
    "\n",
    "    def __init__(self):\n",
    "\n",
    "        super(Model, self).__init__()\n",
    "        self.l1 = nn.Linear(X_train_final.shape[1], 50)\n",
    "        self.l2 = nn.Linear(50, 1)\n",
    "        #self.l3 = nn.Linear(80, 1)\n",
    "        self.Relu = nn.ReLU()\n",
    "\n",
    "    def forward(self, x):\n",
    "    \n",
    "        out1 = self.Relu(self.l1(x))\n",
    "        #out2 = self.Relu(self.l2(out1))\n",
    "        y_pred = self.l2(out1)\n",
    "        return y_pred\n",
    "    \n",
    "model = Model()\n",
    "\n",
    "#check if GPU active \n",
    "device = torch.device(\"cuda:0\" if torch.cuda.is_available() else \"cpu\")"
   ]
  },
  {
   "cell_type": "code",
   "execution_count": 17,
   "id": "3ff7b226-e5c6-4208-bc86-09c1ada70366",
   "metadata": {},
   "outputs": [
    {
     "data": {
      "text/plain": [
       "Model(\n",
       "  (l1): Linear(in_features=112, out_features=50, bias=True)\n",
       "  (l2): Linear(in_features=50, out_features=1, bias=True)\n",
       "  (Relu): ReLU()\n",
       ")"
      ]
     },
     "execution_count": 17,
     "metadata": {},
     "output_type": "execute_result"
    }
   ],
   "source": [
    "#Define the loss function and the optimizer\n",
    "criterion = nn.BCEWithLogitsLoss()\n",
    "optimizer = optim.Adam(model.parameters(), lr=lr , weight_decay=0.03)\n",
    "\n",
    "#move model on the GPU if active\n",
    "model.to(device)"
   ]
  },
  {
   "cell_type": "code",
   "execution_count": 18,
   "id": "e079883c-5abc-45cb-81bb-607a12f5a7e8",
   "metadata": {},
   "outputs": [],
   "source": [
    "def b_acc(y_pred, y_test):\n",
    "    y_pred_tag = torch.round(torch.sigmoid(y_pred))\n",
    "\n",
    "    correct_results_sum = (y_pred_tag == y_test).sum().float()\n",
    "    acc = correct_results_sum/y_test.shape[0]\n",
    "    acc = torch.round(acc * 100)\n",
    "    \n",
    "    return acc"
   ]
  },
  {
   "cell_type": "markdown",
   "id": "5cd161b0-54a4-41e2-8a35-4eb922a38ac4",
   "metadata": {},
   "source": [
    "# Train"
   ]
  },
  {
   "cell_type": "code",
   "execution_count": 19,
   "id": "88f8ce93-a4db-4f15-a1aa-b7c7fb3e8aa2",
   "metadata": {
    "tags": []
   },
   "outputs": [],
   "source": [
    "def train(model: torch.nn.Module, train_loader: torch.utils.data.DataLoader, val_loader: torch.utils.data.DataLoader, loss_fn: torch.nn.Module, optimizer: torch.optim.Optimizer, epochs: int):\n",
    "    model.train()\n",
    "    \n",
    "    accs_train = []\n",
    "    losses_train = []\n",
    "    \n",
    "    accs_val = []\n",
    "    losses_val = []\n",
    "    \n",
    "    for e in range(1, epochs+1):\n",
    "        epoch_loss_train = 0\n",
    "        epoch_acc_train = 0\n",
    "        \n",
    "        epoch_loss_val = 0\n",
    "        epoch_acc_val = 0\n",
    "        \n",
    "        #TRAINING LOOP FOR EACH EPOCH\n",
    "        for X_batch, y_batch in train_loader:\n",
    "            X_batch, y_batch = X_batch.to(device), y_batch.to(device)\n",
    "            optimizer.zero_grad()\n",
    "\n",
    "            y_pred = model(X_batch)\n",
    "\n",
    "            loss = criterion(y_pred, y_batch)\n",
    "            acc_train = b_acc(y_pred, y_batch)\n",
    "            \n",
    "            loss.backward()\n",
    "            optimizer.step()\n",
    "\n",
    "            epoch_loss_train += loss.item()\n",
    "            epoch_acc_train += acc_train.item()\n",
    "\n",
    "        #np.append(losses_train,epoch_loss_train/len(train_loader))\n",
    "        #np.append(accs_train,epoch_loss_train/len(train_loader))\n",
    "        losses_train.append(epoch_loss_train/len(train_loader))\n",
    "        accs_train.append(epoch_acc_train/len(train_loader))\n",
    "        \n",
    "    \n",
    "        #VALIDATION LOOP FOR EACH EPOCH\n",
    "        with torch.no_grad():\n",
    "            for X_batch, y_batch in val_loader:\n",
    "                X_batch, y_batch = X_batch.to(device), y_batch.to(device)\n",
    "\n",
    "                y_val_pred = model(X_batch)\n",
    "\n",
    "                loss_val = criterion(y_val_pred, y_batch)\n",
    "                acc_val = b_acc(y_val_pred, y_batch)\n",
    "\n",
    "                epoch_loss_val += loss_val.item()\n",
    "                epoch_acc_val += acc_val.item()\n",
    "\n",
    "            losses_val.append(epoch_loss_val/len(val_loader))\n",
    "            accs_val.append(epoch_acc_val/len(val_loader))\n",
    "            #np.append(losses_val,epoch_loss_train/len(val_loader))\n",
    "            #np.append(accs_val,epoch_loss_train/len(val_loader))\n",
    "            \n",
    "        \n",
    "        #print(f'Epoch {e+0:03}: | Train Loss: {epoch_loss_train/len(train_loader):.5f} | Train Acc: {epoch_acc_train/len(train_loader):.3f}')\n",
    "    return losses_train, accs_train, losses_val, accs_val"
   ]
  },
  {
   "cell_type": "code",
   "execution_count": 20,
   "id": "5fb70145-3e79-4439-be58-58476ce79521",
   "metadata": {},
   "outputs": [],
   "source": [
    "loss_train, acc_train, loss_val, acc_val =  train(model,val_loader,train_loader,criterion,optimizer,epochs)"
   ]
  },
  {
   "cell_type": "code",
   "execution_count": 21,
   "id": "24417a40-dcdb-4e61-8fd8-83f7736a3bdd",
   "metadata": {},
   "outputs": [
    {
     "data": {
      "text/plain": [
       "Text(0, 0.5, 'Loss')"
      ]
     },
     "execution_count": 21,
     "metadata": {},
     "output_type": "execute_result"
    },
    {
     "data": {
      "image/png": "[encoded data removed]",
      "text/plain": [
       "<Figure size 432x288 with 1 Axes>"
      ]
     },
     "metadata": {
      "needs_background": "light"
     },
     "output_type": "display_data"
    }
   ],
   "source": [
    "fig1=plt.figure()\n",
    "plt.title('Loss with respect to epochs')\n",
    "plt.plot(loss_train)\n",
    "plt.plot(loss_val)\n",
    "plt.legend(['Training', 'Validation'])\n",
    "plt.xlabel('epochs')\n",
    "plt.ylabel('Loss')"
   ]
  },
  {
   "cell_type": "code",
   "execution_count": 22,
   "id": "b181a146-98a8-4f2e-a1ab-58a7066ab651",
   "metadata": {},
   "outputs": [
    {
     "data": {
      "text/plain": [
       "Text(0, 0.5, 'Accuracy')"
      ]
     },
     "execution_count": 22,
     "metadata": {},
     "output_type": "execute_result"
    },
    {
     "data": {
      "image/png": "[encoded data removed]",
      "text/plain": [
       "<Figure size 432x288 with 1 Axes>"
      ]
     },
     "metadata": {
      "needs_background": "light"
     },
     "output_type": "display_data"
    }
   ],
   "source": [
    "fig2=plt.figure()\n",
    "plt.title('Accuracy with respect to epochs')\n",
    "plt.plot(acc_train)\n",
    "plt.plot(acc_val)\n",
    "plt.legend(['Training', 'Validation'])\n",
    "plt.xlabel('epochs')\n",
    "plt.ylabel('Accuracy')"
   ]
  },
  {
   "cell_type": "markdown",
   "id": "cd39eb6d-8d1b-4057-95cc-ed31de7e9cf9",
   "metadata": {},
   "source": [
    "# Validation"
   ]
  },
  {
   "cell_type": "code",
   "execution_count": 23,
   "id": "ff72dc46-778c-4e72-88a7-7f2a80500d6d",
   "metadata": {},
   "outputs": [],
   "source": [
    "def validation (model: torch.nn.Module, dataloader: torch.utils.data.DataLoader):\n",
    "    \n",
    "        with torch.no_grad():\n",
    "            for X_batch , y_batch in val_loader:\n",
    "                X_batch, y_batch = X_batch.to(device), y_batch.to(device)\n",
    "\n",
    "                y_val_pred = model(X_batch)\n",
    "\n",
    "            val_acc = b_acc(y_val_pred,y_batch)\n",
    "        return y_val_pred, val_acc"
   ]
  },
  {
   "cell_type": "code",
   "execution_count": 24,
   "id": "18b6dbfd-2ba6-457c-9ad5-59b30d2069bf",
   "metadata": {},
   "outputs": [
    {
     "name": "stdout",
     "output_type": "stream",
     "text": [
      "tensor(82.)\n",
      "torch.Size([2512, 1])\n"
     ]
    }
   ],
   "source": [
    "y_pred_val, val_acc=validation(model,val_loader)\n",
    "print(val_acc)\n",
    "print(y_pred_val.shape)"
   ]
  },
  {
   "cell_type": "markdown",
   "id": "34c0b532-15c8-4f66-87ea-d1b17bbd2930",
   "metadata": {},
   "source": [
    "# Test"
   ]
  },
  {
   "cell_type": "code",
   "execution_count": 25,
   "id": "67248d9e-fc32-4325-8ec4-3267a0f7b57c",
   "metadata": {},
   "outputs": [],
   "source": [
    "def test(model: torch.nn.Module, dataloader: torch.utils.data.DataLoader):\n",
    "    model.eval()\n",
    "        \n",
    "    y_pred_test = [] #initialize vector with predictions\n",
    "   \n",
    "    with torch.no_grad():\n",
    "        for X_batch in test_loader:\n",
    "            X_batch = X_batch.to(device)\n",
    "            y_test_pred = model(X_batch)\n",
    "            y_test_pred = torch.sigmoid(y_test_pred)\n",
    "            y_pred_tag = torch.round(y_test_pred)\n",
    "            y_pred_test.append(y_pred_tag.cpu().numpy())\n",
    "\n",
    "    y_pred_test = [int(a.squeeze().tolist()) for a in y_pred_test]\n",
    "    return y_pred_test"
   ]
  },
  {
   "cell_type": "code",
   "execution_count": 26,
   "id": "ffd7c10e-cfa9-4b62-8c1d-6af08e2f9cc5",
   "metadata": {},
   "outputs": [],
   "source": [
    "label=pd.DataFrame(test(model,test_loader))\n",
    "label.columns = [\"label\"]\n",
    "label.to_csv(\"out_raf/label.csv\", index = False, header = True)"
   ]
  },
  {
   "cell_type": "code",
   "execution_count": 27,
   "id": "c7e2f157-ee66-481a-8f1e-670ff8de35cc",
   "metadata": {},
   "outputs": [
    {
     "name": "stdout",
     "output_type": "stream",
     "text": [
      "Number of predicted 0 is: 29055 \n",
      "Number of predicted 1 is: 19297 \n"
     ]
    }
   ],
   "source": [
    "#display(label)\n",
    "count0 = (label['label'] == 0).sum()\n",
    "count1 = (label['label'] == 1).sum()\n",
    "print(\"Number of predicted 0 is: {} \".format(count0))\n",
    "print(\"Number of predicted 1 is: {} \".format(count1))"
   ]
  }
 ],
 "metadata": {
  "kernelspec": {
   "display_name": "Python 3 (ipykernel)",
   "language": "python",
   "name": "python3"
  },
  "language_info": {
   "codemirror_mode": {
    "name": "ipython",
    "version": 3
   },
   "file_extension": ".py",
   "mimetype": "text/x-python",
   "name": "python",
   "nbconvert_exporter": "python",
   "pygments_lexer": "ipython3",
   "version": "3.8.13"
  }
 },
 "nbformat": 4,
 "nbformat_minor": 5
}
