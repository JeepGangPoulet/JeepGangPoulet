{
 "cells": [
  {
   "cell_type": "code",
   "execution_count": 1,
   "id": "77a9a701-3993-4728-b49a-8c762e997785",
   "metadata": {},
   "outputs": [],
   "source": [
    "#Package import\n",
    "import pandas as pd\n",
    "import numpy as np\n",
    "import scipy\n",
    "import matplotlib.pyplot as plt\n",
    "import seaborn as sns\n",
    "\n",
    "from typing import Any, Callable\n",
    "\n",
    "# Progress bar\n",
    "from tqdm import tqdm\n",
    "from zipfile import ZipFile\n",
    "\n",
    "\n",
    "\n",
    "# Scikit Learn\n",
    "from sklearn.linear_model import LinearRegression\n",
    "from sklearn.metrics import mean_squared_error, r2_score\n",
    "from sklearn.model_selection import cross_val_score\n",
    "from sklearn.neural_network import MLPRegressor\n",
    "from sklearn.model_selection import train_test_split\n",
    "from sklearn.preprocessing import StandardScaler\n",
    "from sklearn.svm import SVC\n",
    "from sklearn.decomposition import PCA\n",
    "\n",
    "# PyTorch & torchvision\n",
    "import torch\n",
    "import torch.nn as nn\n",
    "import torch.nn.functional as F\n",
    "import torch.optim as optim\n",
    "\n",
    "import torchvision\n",
    "import torchvision.transforms as transforms\n",
    "from torch.utils.data import Dataset, DataLoader\n",
    "\n",
    "# Helpers file\n",
    "import helpers"
   ]
  },
  {
   "cell_type": "markdown",
   "id": "151ac58f-ee03-4553-89c3-5c9ddf217061",
   "metadata": {
    "cell_id": "0de3197d7cfb42d898c089f3e874a009",
    "deepnote_cell_height": 62,
    "deepnote_cell_type": "markdown",
    "tags": []
   },
   "source": [
    "# 5. Data pre-processing"
   ]
  },
  {
   "cell_type": "code",
   "execution_count": 2,
   "id": "a040c9a7-c059-477e-8c1f-02047bceabe4",
   "metadata": {},
   "outputs": [],
   "source": [
    "IMPORT_INTERP = True\n",
    "\n",
    "if IMPORT_INTERP :\n",
    "    df_X_train = pd.read_csv(\"project-data-interpolated-corrected/df_X_train.csv\", index_col=0)\n",
    "    df_X_test = pd.read_csv(\"project-data-interpolated-corrected/df_X_test.csv\", index_col=0)\n",
    "    df_X_val = pd.read_csv(\"project-data-interpolated-corrected/df_X_val.csv\", index_col=0)\n",
    "    df_y_train = pd.read_csv(\"project-data-interpolated-corrected/df_y_train.csv\", index_col=0)\n",
    "    df_y_val = pd.read_csv(\"project-data-interpolated-corrected/df_y_val.csv\", index_col=0)"
   ]
  },
  {
   "cell_type": "code",
   "execution_count": null,
   "id": "62e53b25-0ad5-4960-b977-2153a0d21948",
   "metadata": {},
   "outputs": [],
   "source": []
  },
  {
   "cell_type": "code",
   "execution_count": 3,
   "id": "66586245-8fd5-47e0-8c3a-48925580819f",
   "metadata": {},
   "outputs": [],
   "source": [
    "DROP = True \n",
    "\n",
    "if DROP :\n",
    "    cols =['magnitude', 'distance_closest', 'lowest_usable_frequency']\n",
    "    df_X_train.drop(columns=cols, inplace=True)\n",
    "    df_X_val.drop(columns=cols, inplace=True)\n",
    "    df_X_test.drop(columns=cols, inplace=True)"
   ]
  },
  {
   "cell_type": "markdown",
   "id": "72e94e13-78a1-4ed6-9bb9-08dad3b9a25e",
   "metadata": {
    "tags": []
   },
   "source": [
    "### 5.1 Boolean to numerical conversion"
   ]
  },
  {
   "cell_type": "code",
   "execution_count": 4,
   "id": "7ae788a9-5506-41b2-b08f-2ac574915580",
   "metadata": {},
   "outputs": [],
   "source": [
    "df_X_train = helpers.bool_to_num(df_X_train)\n",
    "df_X_val = helpers.bool_to_num(df_X_val)\n",
    "df_X_test = helpers.bool_to_num(df_X_test)"
   ]
  },
  {
   "cell_type": "code",
   "execution_count": 5,
   "id": "a24edc6e-de35-43e5-940e-6a8c9cb86362",
   "metadata": {},
   "outputs": [],
   "source": [
    "if IMPORT_INTERP:\n",
    "    df_y_train = helpers.bool_to_num(df_y_train)\n",
    "    df_y_val = helpers.bool_to_num(df_y_val)\n",
    "    \n",
    "if not(IMPORT_INTERP):   \n",
    "    df_y_train = helpers.bool_to_num(pd.DataFrame(df_y_train))\n",
    "    df_y_val = helpers.bool_to_num(pd.DataFrame(df_y_val))"
   ]
  },
  {
   "cell_type": "markdown",
   "id": "38cff29b-fbc8-43e2-b404-d8beffbb4b09",
   "metadata": {
    "tags": []
   },
   "source": [
    "### 5.2 Pandas to Numpy conversion"
   ]
  },
  {
   "cell_type": "code",
   "execution_count": 6,
   "id": "cfe7d21f-ac6a-476e-b20c-a759ef8ba597",
   "metadata": {},
   "outputs": [],
   "source": [
    "X_train = helpers.numpy_converter(df_X_train)\n",
    "X_val = helpers.numpy_converter(df_X_val)\n",
    "X_test = helpers.numpy_converter(df_X_test)\n",
    "\n",
    "y_train_final = helpers.numpy_converter(df_y_train)\n",
    "y_val_final = helpers.numpy_converter(df_y_val)"
   ]
  },
  {
   "cell_type": "markdown",
   "id": "e11de1f2-e9d7-4801-b0a0-3ae19b56e9d0",
   "metadata": {
    "tags": []
   },
   "source": [
    "### 5.3 Normalization"
   ]
  },
  {
   "cell_type": "code",
   "execution_count": 7,
   "id": "4ecb9db7-402a-434a-8763-54ce9192388c",
   "metadata": {},
   "outputs": [],
   "source": [
    "sc = StandardScaler()\n",
    "sc.fit(X_train)\n",
    "X_train_final = sc.transform(X_train)\n",
    "X_val_final = sc.transform(X_val)\n",
    "X_test_final = sc.transform(X_test)"
   ]
  },
  {
   "cell_type": "markdown",
   "id": "32b06e58-8b38-4a8d-8263-204e97a7a4e1",
   "metadata": {
    "tags": []
   },
   "source": [
    "### 5.4 Principal Component Analysis"
   ]
  },
  {
   "cell_type": "markdown",
   "id": "73937743-4afc-4ccf-a5ca-a260c2a1eaca",
   "metadata": {},
   "source": [
    "Fit and tranform the data to reduce the number of features (`features` to `PC`)"
   ]
  },
  {
   "cell_type": "markdown",
   "id": "c006b37c-5373-4b02-81d3-8a7733593456",
   "metadata": {
    "tags": []
   },
   "source": [
    "#### PCA with all the features and without the -999 rows"
   ]
  },
  {
   "cell_type": "raw",
   "id": "cbe468ec-45b3-47e1-a8f3-e5833721976f",
   "metadata": {},
   "source": [
    "pca = PCA(n_components=0.95)\n",
    "#pca = PCA(n_components=5)\n",
    "pca.fit(X_train)\n",
    "X_train_pca = pca.transform(X_train)"
   ]
  },
  {
   "cell_type": "raw",
   "id": "00f03b48-e40f-482a-8e42-e942d1568f88",
   "metadata": {},
   "source": [
    "# number of components\n",
    "pca_nber = pca.components_.shape[0]\n",
    "\n",
    "# get the index of the most important feature on EACH component\n",
    "most_important = [np.abs(pca.components_[i]).argmax() for i in range(pca_nber)]\n",
    "\n",
    "feature_names = df_X_train.columns\n",
    "# get the names\n",
    "most_important_names = [feature_names[most_important[i]] for i in range(pca_nber)]\n",
    "\n",
    "# LIST COMPREHENSION HERE AGAIN\n",
    "dic = {'PC{}'.format(i): most_important_names[i] for i in range(pca_nber)}\n",
    "dic\n",
    "\n",
    "# build the dataframe\n",
    "pca_features = pd.DataFrame(dic.items(), columns=['PCA', 'max_var_feature'])\n",
    "pca_features['var_explained_by_PC'] = pca.explained_variance_ratio_*100\n",
    "pca_features"
   ]
  },
  {
   "cell_type": "raw",
   "id": "249ce41a-6795-46a4-9c0d-d7858afbe0a5",
   "metadata": {},
   "source": [
    "pd.DataFrame(np.round(pca.components_, 3), columns=feature_names)"
   ]
  },
  {
   "cell_type": "raw",
   "id": "83c75f74-5711-4516-811f-43e79b70e272",
   "metadata": {},
   "source": [
    "fig, ax = plt.subplots()\n",
    "ax.plot(np.cumsum(pca_features['var_explained_by_PC']), marker='o', linestyle='dashed',linewidth=2, markersize=12)\n",
    "ax.set_xlabel('Name of components')\n",
    "ax.set_ylabel('Explained variance [%]')\n",
    "ax.set_ylim((50,100))\n",
    "ax.set_xlim((-0.5,pca_nber))\n",
    "ax.set_xticks(np.arange(0,pca_nber))\n",
    "ax.set_xticklabels(pca_features['max_var_feature'], rotation=45)\n",
    "fig.suptitle('')\n",
    "plt.show()"
   ]
  },
  {
   "cell_type": "markdown",
   "id": "95b8dd5b-073c-4684-9fef-fc85d98fc441",
   "metadata": {
    "tags": []
   },
   "source": [
    "#### PCA with the Sa(t) and without the columns contained -999"
   ]
  },
  {
   "cell_type": "raw",
   "id": "19723c8e-c609-40d0-b7c6-1757ea4876c5",
   "metadata": {},
   "source": [
    "#pca_drop = PCA(n_components=0.95)\n",
    "pca_drop = PCA(n_components=50)\n",
    "pca_drop.fit(X_train_final)"
   ]
  },
  {
   "cell_type": "raw",
   "id": "c8205ff3-f232-4b8b-8ecd-8fe98b32893e",
   "metadata": {},
   "source": [
    "# number of components\n",
    "pca_nber = pca_drop.components_.shape[0]\n",
    "\n",
    "# get the index of the most important feature on EACH component\n",
    "most_important = [np.abs(pca_drop.components_[i]).argmax() for i in range(pca_nber)]\n",
    "\n",
    "feature_names = df_X_train.columns\n",
    "# get the names\n",
    "most_important_names = [feature_names[most_important[i]] for i in range(pca_nber)]\n",
    "\n",
    "# LIST COMPREHENSION HERE AGAIN\n",
    "dic = {'PC{}'.format(i): most_important_names[i] for i in range(pca_nber)}\n",
    "dic\n",
    "\n",
    "# build the dataframe\n",
    "pca_features = pd.DataFrame(dic.items(), columns=['PCA', 'max_var_feature'])\n",
    "pca_features['var_explained_by_PC'] = pca_drop.explained_variance_ratio_*100\n",
    "pca_features"
   ]
  },
  {
   "cell_type": "raw",
   "id": "8848b692-3caa-4b82-bec7-e2e2052a9cd8",
   "metadata": {},
   "source": [
    "X_train_final = pca_drop.transform(X_train_final)\n",
    "X_val_final = pca_drop.transform(X_val_final)\n",
    "X_test_final = pca_drop.transform(X_test_final)"
   ]
  },
  {
   "cell_type": "markdown",
   "id": "0118d587-b79f-4f62-95eb-8723347e79d7",
   "metadata": {
    "cell_id": "9febfdf56b374f99b9717e38fc811df5",
    "deepnote_cell_height": 62,
    "deepnote_cell_type": "markdown",
    "tags": []
   },
   "source": [
    "# 6. Machine Learning Models"
   ]
  },
  {
   "cell_type": "markdown",
   "id": "452c7deb-9b50-4b91-803a-e69e2e544c48",
   "metadata": {
    "cell_id": "0afa1762c3154c71a4967cefbb84d462",
    "deepnote_cell_height": 54,
    "deepnote_cell_type": "markdown",
    "tags": []
   },
   "source": [
    "## Neural Network"
   ]
  },
  {
   "cell_type": "markdown",
   "id": "6bd243e9-1af3-4dee-b834-ac141fc93890",
   "metadata": {
    "cell_id": "6f660f1d6b7e49c39187b328777cb0c7",
    "deepnote_cell_height": 81,
    "deepnote_cell_type": "code",
    "deepnote_to_be_reexecuted": true,
    "source_hash": "b623e53d",
    "tags": []
   },
   "source": [
    "### 6.1 Define the hyperparameters"
   ]
  },
  {
   "cell_type": "code",
   "execution_count": 8,
   "id": "762598ef-bc23-4220-b612-9c8eb9adceb1",
   "metadata": {},
   "outputs": [],
   "source": [
    "#number times that the learning algorithm will work through the entire training dataset\n",
    "epochs = 15   \n",
    "\n",
    "#number of samples to work through before updating the internal model parameters\n",
    "batch_size =128  #if 64 slower but similar results\n",
    "\n",
    "#\n",
    "lr = 0.01 \n",
    "\n",
    "#\n",
    "weight_decay = 1e-5 #if 1e-1 less overfitting and curves loss are closer but worst results\n",
    "\n",
    "#\n",
    "batch_norm_momentum = 0.1 #not good if bigger\n",
    "\n",
    "\n",
    "#randomly zeroes some of the elements of the input tensor during training with probability=dropout using a Bernoulli distribution\n",
    "dropout=0.1    #small is better \n",
    "\n",
    "#\n",
    "coef_sheduler = 0.60 #0.60 best results, if increased -->  training accuracy above 0.83 but increases overfitting so worst final result"
   ]
  },
  {
   "cell_type": "markdown",
   "id": "5a907758-cf9a-4ebd-8dfc-a5bc4029da3b",
   "metadata": {
    "tags": []
   },
   "source": [
    "### 6.2 Data as a PyTorch Dataset class"
   ]
  },
  {
   "cell_type": "markdown",
   "id": "5696f5ba-c1e4-413b-9fbe-c7e1d2a0b949",
   "metadata": {
    "tags": []
   },
   "source": [
    "#### Define the Dataset class for each dataset"
   ]
  },
  {
   "cell_type": "code",
   "execution_count": 9,
   "id": "6167154d-1f36-41ca-a23c-ce85f7fc86bb",
   "metadata": {},
   "outputs": [],
   "source": [
    "class TrainData(Dataset):\n",
    "    \n",
    "    def __init__(self, X_data, y_data): #for initialization operations (reading and preprocess data)\n",
    "        self.X_data = X_data\n",
    "        self.y_data = y_data\n",
    "        \n",
    "    def __getitem__(self, index):  #returns data in batches\n",
    "        return self.X_data[index], self.y_data[index]\n",
    "        \n",
    "    def __len__ (self):\n",
    "        return len(self.X_data)"
   ]
  },
  {
   "cell_type": "code",
   "execution_count": 10,
   "id": "6e2b18d0-b6e3-49f2-8f86-b2dc40281f94",
   "metadata": {},
   "outputs": [],
   "source": [
    "class ValData(Dataset):\n",
    "    def __init__(self, X_data, y_data): #for initialization operations (reading and preprocess data)\n",
    "        self.X_data = X_data\n",
    "        self.y_data = y_data\n",
    "        \n",
    "    def __getitem__(self, index):  #returns data in batches\n",
    "        return self.X_data[index], self.y_data[index]\n",
    "        \n",
    "    def __len__ (self):\n",
    "        return len(self.X_data)"
   ]
  },
  {
   "cell_type": "code",
   "execution_count": 11,
   "id": "7ff33801-6975-4333-9440-cfa7475760cb",
   "metadata": {},
   "outputs": [],
   "source": [
    "class TestData(Dataset):\n",
    "    \n",
    "    def __init__(self, X_data):\n",
    "        self.X_data = X_data\n",
    "        \n",
    "    def __getitem__(self, index):\n",
    "        return self.X_data[index]\n",
    "        \n",
    "    def __len__ (self):\n",
    "        return len(self.X_data)"
   ]
  },
  {
   "cell_type": "markdown",
   "id": "dd6abd78-6e72-4d95-b105-5ba1e308c986",
   "metadata": {},
   "source": [
    "#### Create the data classes"
   ]
  },
  {
   "cell_type": "code",
   "execution_count": 12,
   "id": "0f4467a8-82b0-41d6-8be5-dc670dc4a74b",
   "metadata": {},
   "outputs": [],
   "source": [
    "train_data = TrainData(torch.FloatTensor(X_train_final), torch.FloatTensor(y_train_final))\n",
    "val_data = ValData(torch.FloatTensor(X_val_final), torch.FloatTensor(y_val_final))\n",
    "test_data = TestData(torch.FloatTensor(X_test_final))"
   ]
  },
  {
   "cell_type": "markdown",
   "id": "62aae059-e926-42dc-9330-6b87ce1d5cb4",
   "metadata": {},
   "source": [
    "#### Load the data as DataLoader class"
   ]
  },
  {
   "cell_type": "markdown",
   "id": "9395ba28-e653-44a8-afa9-69b5bf428e4a",
   "metadata": {},
   "source": [
    "To be able to use mini-batch for the gradient descent, the data must be configured with the DataLoader \\\n",
    "The `batch_size` is defined as a hyperparameter at the beginning of the section"
   ]
  },
  {
   "cell_type": "code",
   "execution_count": 13,
   "id": "baedc95e-3a23-46e8-bee8-988440a1f3b8",
   "metadata": {},
   "outputs": [],
   "source": [
    "train_loader = DataLoader(dataset=train_data, batch_size=batch_size, shuffle=True)\n",
    "val_loader = DataLoader(dataset=val_data, batch_size=X_val_final.shape[0], shuffle=True)\n",
    "test_loader = DataLoader(dataset=test_data, batch_size=1, shuffle=False)"
   ]
  },
  {
   "cell_type": "markdown",
   "id": "418f7473-d082-4aba-86fe-bb3dd4bec04c",
   "metadata": {},
   "source": [
    "### 6.3 Model Setup"
   ]
  },
  {
   "cell_type": "markdown",
   "id": "9515fa6d-bd08-477f-b2e7-b6a21e39dab4",
   "metadata": {},
   "source": [
    "#### 6.3.1 The Model"
   ]
  },
  {
   "cell_type": "markdown",
   "id": "fc3bf7f6-b981-4878-8fbf-c2afd7e26c25",
   "metadata": {},
   "source": [
    "#### Define the model class"
   ]
  },
  {
   "cell_type": "code",
   "execution_count": 14,
   "id": "f5064ed1-a0af-413e-b001-2026fe161b51",
   "metadata": {},
   "outputs": [],
   "source": [
    "class Model(nn.Module):\n",
    "\n",
    "    def __init__(self):\n",
    "        super(Model, self).__init__()\n",
    "        self.l1 = nn.Linear(X_train_final.shape[1], 80)\n",
    "        self.bnm1 = nn.BatchNorm1d(80, momentum=batch_norm_momentum)\n",
    "        self.l2 = nn.Linear(80, 30)\n",
    "        self.bnm2 = nn.BatchNorm1d(30, momentum=batch_norm_momentum)\n",
    "        self.l3 = nn.Linear(30, 20)\n",
    "        self.bnm3 = nn.BatchNorm1d(20, momentum=batch_norm_momentum)\n",
    "        self.l4 = nn.Linear(20, 1)\n",
    "       \n",
    "        \n",
    "        self.dropout = nn.Dropout(dropout)\n",
    "        \n",
    "        self.Relu = nn.ReLU()\n",
    "        \n",
    "        self.initialize_weights()\n",
    "\n",
    "    def forward(self, x):\n",
    "        x = self.Relu(self.l1(x))\n",
    "        x = self.dropout(x)\n",
    "        x = self.bnm1(x)\n",
    "        x = self.Relu(self.l2(x))\n",
    "        x = self.dropout(x)\n",
    "        x = self.bnm2(x)\n",
    "        x = self.Relu(self.l3(x))\n",
    "        x = self.dropout(x)\n",
    "        x = self.bnm3(x)\n",
    "        y_pred = self.l4(x)\n",
    "        return y_pred\n",
    "    \n",
    "    def initialize_weights(self):  \n",
    "        for m in self.modules():\n",
    "            if isinstance(m,nn.Linear):\n",
    "                nn.init.kaiming_uniform_(m.weight)\n",
    "                nn.init.constant_(m.bias,0)"
   ]
  },
  {
   "cell_type": "markdown",
   "id": "f3cdaf44-763a-42b2-9b74-cbdddc1cb4a9",
   "metadata": {
    "tags": []
   },
   "source": [
    "#### Create the model from the class"
   ]
  },
  {
   "cell_type": "code",
   "execution_count": 15,
   "id": "bd05cbec-7bbd-4476-8617-7772a1a1e403",
   "metadata": {},
   "outputs": [],
   "source": [
    "model = Model()"
   ]
  },
  {
   "cell_type": "markdown",
   "id": "a19ab074-f9af-44c4-a394-d94274904801",
   "metadata": {},
   "source": [
    "Use the GPU if available otherwise the CPU"
   ]
  },
  {
   "cell_type": "code",
   "execution_count": 16,
   "id": "9c68c5ea-805d-427c-bf52-67451861fedf",
   "metadata": {},
   "outputs": [],
   "source": [
    "device = torch.device(\"cuda:0\" if torch.cuda.is_available() else \"cpu\")"
   ]
  },
  {
   "cell_type": "markdown",
   "id": "156499fc-0e7b-4bd0-bc79-261759b702c1",
   "metadata": {},
   "source": [
    "Move model on the GPU if active"
   ]
  },
  {
   "cell_type": "code",
   "execution_count": 17,
   "id": "3f51b4d1-6c26-4d29-9794-8ea7b5a3479c",
   "metadata": {},
   "outputs": [
    {
     "data": {
      "text/plain": [
       "Model(\n",
       "  (l1): Linear(in_features=112, out_features=80, bias=True)\n",
       "  (bnm1): BatchNorm1d(80, eps=1e-05, momentum=0.1, affine=True, track_running_stats=True)\n",
       "  (l2): Linear(in_features=80, out_features=30, bias=True)\n",
       "  (bnm2): BatchNorm1d(30, eps=1e-05, momentum=0.1, affine=True, track_running_stats=True)\n",
       "  (l3): Linear(in_features=30, out_features=20, bias=True)\n",
       "  (bnm3): BatchNorm1d(20, eps=1e-05, momentum=0.1, affine=True, track_running_stats=True)\n",
       "  (l4): Linear(in_features=20, out_features=1, bias=True)\n",
       "  (dropout): Dropout(p=0.1, inplace=False)\n",
       "  (Relu): ReLU()\n",
       ")"
      ]
     },
     "execution_count": 17,
     "metadata": {},
     "output_type": "execute_result"
    }
   ],
   "source": [
    "model.to(device)"
   ]
  },
  {
   "cell_type": "markdown",
   "id": "c2d7142d-26a5-4a18-872d-d51848932aca",
   "metadata": {
    "tags": []
   },
   "source": [
    "#### 6.3.2 Specify the optimizer "
   ]
  },
  {
   "cell_type": "markdown",
   "id": "e860a16c-da2b-4082-85f7-08b93ae4d14c",
   "metadata": {},
   "source": [
    "Write about Adam optimizer, maybe add few formulas to describe or idk"
   ]
  },
  {
   "cell_type": "code",
   "execution_count": 18,
   "id": "6c2cf1d5-196d-4c01-8ab0-ec83b07e4760",
   "metadata": {},
   "outputs": [],
   "source": [
    "optimizer = optim.Adam(model.parameters(), lr=lr , weight_decay=weight_decay)"
   ]
  },
  {
   "cell_type": "markdown",
   "id": "6ed86941-7fee-44bf-ba47-553d541728de",
   "metadata": {
    "tags": []
   },
   "source": [
    "#### 6.3.3 Specify the loss function"
   ]
  },
  {
   "cell_type": "markdown",
   "id": "67f00e2a-321f-4918-a350-9815a515adb3",
   "metadata": {},
   "source": [
    "write also about this loss function"
   ]
  },
  {
   "cell_type": "code",
   "execution_count": 19,
   "id": "03ebdb5c-11f6-4e2c-9011-30a1430498b7",
   "metadata": {},
   "outputs": [],
   "source": [
    "criterion = nn.BCEWithLogitsLoss()"
   ]
  },
  {
   "cell_type": "markdown",
   "id": "72a99b53-d6ec-4b84-9aa6-b6466986e5a2",
   "metadata": {},
   "source": [
    "#### 6.3.4 Adjust learning rate"
   ]
  },
  {
   "cell_type": "markdown",
   "id": "d23075ef-7fd3-4ab6-b485-f6a24a724644",
   "metadata": {},
   "source": [
    "explain chosen scheduler etc "
   ]
  },
  {
   "cell_type": "code",
   "execution_count": 20,
   "id": "9370bd22-5554-4aca-aa02-2697806c928e",
   "metadata": {},
   "outputs": [],
   "source": [
    "lambda_scheduler = lambda epoch: coef_sheduler ** epoch\n",
    "scheduler = torch.optim.lr_scheduler.LambdaLR(optimizer, lr_lambda=lambda_scheduler)\n"
   ]
  },
  {
   "cell_type": "markdown",
   "id": "6c6188a4-0cac-4599-a9ba-8205138123cc",
   "metadata": {
    "tags": []
   },
   "source": [
    "#### 6.3.4 Accuracy calculation"
   ]
  },
  {
   "cell_type": "code",
   "execution_count": 21,
   "id": "cde494ed-2521-4411-b24f-e7624fcb4ae3",
   "metadata": {},
   "outputs": [],
   "source": [
    "def b_acc(y_pred, y_test):\n",
    "    y_pred_tag = torch.round(torch.sigmoid(y_pred))\n",
    "\n",
    "    correct_results_sum = (y_pred_tag == y_test).sum().float()\n",
    "    acc = correct_results_sum/y_test.shape[0]\n",
    "    acc = acc * 100\n",
    "    \n",
    "    return acc"
   ]
  },
  {
   "cell_type": "markdown",
   "id": "efaf4374-fea1-4f9b-9be6-5c971f77c28f",
   "metadata": {
    "tags": []
   },
   "source": [
    "### 6.4 Training"
   ]
  },
  {
   "cell_type": "markdown",
   "id": "6c706d60-a0bb-4180-80d3-a5f845ff0c7c",
   "metadata": {
    "tags": []
   },
   "source": [
    "#### Create a function to train the model and validate it at each epoch"
   ]
  },
  {
   "cell_type": "code",
   "execution_count": 22,
   "id": "55f81006-0197-47d0-9e0b-3be43c14b15b",
   "metadata": {},
   "outputs": [],
   "source": [
    "def train(model: torch.nn.Module, train_loader: torch.utils.data.DataLoader, val_loader: torch.utils.data.DataLoader, loss_fn: torch.nn.Module, optimizer: torch.optim.Optimizer, epochs: int):\n",
    "    accs_train = []\n",
    "    losses_train = []\n",
    "    accs_val = []\n",
    "    losses_val = []\n",
    "    \n",
    "    for e in range(1, epochs+1):\n",
    "        epoch_loss_train = 0\n",
    "        epoch_acc_train = 0\n",
    "        epoch_loss_val = 0\n",
    "        epoch_acc_val = 0\n",
    "        \n",
    "        #TRAINING LOOP FOR EACH EPOCH\n",
    "        model.train()\n",
    "        for X_batch, y_batch in train_loader:\n",
    "            X_batch, y_batch = X_batch.to(device), y_batch.to(device)\n",
    "            optimizer.zero_grad()\n",
    "\n",
    "            y_pred = model(X_batch)\n",
    "\n",
    "            loss = criterion(y_pred, y_batch)\n",
    "            acc_train = b_acc(y_pred, y_batch)\n",
    "            \n",
    "            loss.backward()\n",
    "            optimizer.step()\n",
    "\n",
    "            epoch_loss_train += loss.item()\n",
    "            epoch_acc_train += acc_train.item()\n",
    "            \n",
    "        scheduler.step()\n",
    "        \n",
    "        losses_train.append(epoch_loss_train/len(train_loader))\n",
    "        accs_train.append(epoch_acc_train/len(train_loader))\n",
    "        \n",
    "    \n",
    "        #VALIDATION LOOP FOR EACH EPOCH\n",
    "        model.eval()\n",
    "        with torch.no_grad():\n",
    "            for X_batch, y_batch in val_loader:\n",
    "                X_batch, y_batch = X_batch.to(device), y_batch.to(device)\n",
    "\n",
    "                y_val_pred = model(X_batch)\n",
    "\n",
    "                loss_val = criterion(y_val_pred, y_batch)\n",
    "                acc_val = b_acc(y_val_pred, y_batch)\n",
    "\n",
    "                epoch_loss_val += loss_val.item()\n",
    "                epoch_acc_val += acc_val.item()\n",
    "\n",
    "            losses_val.append(epoch_loss_val/len(val_loader))\n",
    "            accs_val.append(epoch_acc_val/len(val_loader))          \n",
    "        \n",
    "        print(f'Epoch {e+0:03}: | Train Loss: {epoch_loss_train/len(train_loader):.5f} | Val Loss: {epoch_loss_val/len(val_loader):.5f} | Train Acc: {epoch_acc_train/len(train_loader):.3f} | Val Acc: {epoch_acc_val/len(val_loader):.3f}')\n",
    "    return losses_train, accs_train, losses_val, accs_val"
   ]
  },
  {
   "cell_type": "markdown",
   "id": "a4bb265c-88cf-4b01-a6b3-224f3e91e8ed",
   "metadata": {},
   "source": [
    "#### Train the model"
   ]
  },
  {
   "cell_type": "code",
   "execution_count": 23,
   "id": "563ff4a1-1656-4dff-8346-dd656acf0432",
   "metadata": {},
   "outputs": [
    {
     "name": "stdout",
     "output_type": "stream",
     "text": [
      "Epoch 001: | Train Loss: 0.41710 | Val Loss: 0.39451 | Train Acc: 80.435 | Val Acc: 80.295\n",
      "Epoch 002: | Train Loss: 0.39326 | Val Loss: 0.38319 | Train Acc: 81.328 | Val Acc: 80.533\n",
      "Epoch 003: | Train Loss: 0.38707 | Val Loss: 0.38989 | Train Acc: 81.765 | Val Acc: 80.295\n",
      "Epoch 004: | Train Loss: 0.38153 | Val Loss: 0.38350 | Train Acc: 82.011 | Val Acc: 80.971\n",
      "Epoch 005: | Train Loss: 0.37866 | Val Loss: 0.38521 | Train Acc: 82.270 | Val Acc: 80.892\n",
      "Epoch 006: | Train Loss: 0.37629 | Val Loss: 0.37902 | Train Acc: 82.340 | Val Acc: 81.369\n",
      "Epoch 007: | Train Loss: 0.37359 | Val Loss: 0.38649 | Train Acc: 82.508 | Val Acc: 81.330\n",
      "Epoch 008: | Train Loss: 0.37254 | Val Loss: 0.38223 | Train Acc: 82.575 | Val Acc: 81.568\n",
      "Epoch 009: | Train Loss: 0.37206 | Val Loss: 0.37722 | Train Acc: 82.592 | Val Acc: 81.250\n",
      "Epoch 010: | Train Loss: 0.37168 | Val Loss: 0.38713 | Train Acc: 82.590 | Val Acc: 81.290\n",
      "Epoch 011: | Train Loss: 0.37146 | Val Loss: 0.38116 | Train Acc: 82.544 | Val Acc: 81.768\n",
      "Epoch 012: | Train Loss: 0.37174 | Val Loss: 0.37842 | Train Acc: 82.630 | Val Acc: 81.728\n",
      "Epoch 013: | Train Loss: 0.37204 | Val Loss: 0.38966 | Train Acc: 82.548 | Val Acc: 81.807\n",
      "Epoch 014: | Train Loss: 0.37124 | Val Loss: 0.38088 | Train Acc: 82.696 | Val Acc: 81.608\n",
      "Epoch 015: | Train Loss: 0.37133 | Val Loss: 0.39145 | Train Acc: 82.625 | Val Acc: 81.250\n"
     ]
    }
   ],
   "source": [
    "loss_train, acc_train, loss_val, acc_val =  train(model, train_loader, val_loader, criterion, optimizer, epochs)"
   ]
  },
  {
   "cell_type": "markdown",
   "id": "4873972b-7228-406b-86fd-a4f0e5af25bd",
   "metadata": {},
   "source": [
    "### 6.5 Validation"
   ]
  },
  {
   "cell_type": "markdown",
   "id": "e810f76b-1b64-4bfd-9279-2b1afe76a0ca",
   "metadata": {},
   "source": [
    "Plot the evolution of the loss and the accuracy with the epoch"
   ]
  },
  {
   "cell_type": "code",
   "execution_count": 24,
   "id": "b115ba7b-3dca-445d-bfc9-daf65029e873",
   "metadata": {},
   "outputs": [
    {
     "data": {
      "text/plain": [
       "Text(0, 0.5, 'Accuracy')"
      ]
     },
     "execution_count": 24,
     "metadata": {},
     "output_type": "execute_result"
    },
    {
     "data": {
      "image/png": "[encoded data removed]",
      "text/plain": [
       "<Figure size 1008x432 with 2 Axes>"
      ]
     },
     "metadata": {
      "needs_background": "light"
     },
     "output_type": "display_data"
    }
   ],
   "source": [
    "fig, ax = plt.subplots(nrows=1, ncols=2, figsize=(14,6))\n",
    "\n",
    "ax[0].set_title('Loss with respect to epochs')\n",
    "ax[0].plot(loss_train)\n",
    "ax[0].plot(loss_val)\n",
    "ax[0].legend(['Training', 'Validation'])\n",
    "ax[0].set_xlabel('epochs')\n",
    "ax[0].set_ylabel('Loss')\n",
    "\n",
    "ax[1].set_title('Accuracy with respect to epochs')\n",
    "ax[1].plot(acc_train)\n",
    "ax[1].plot(acc_val)\n",
    "ax[1].legend(['Training', 'Validation'])\n",
    "ax[1].set_xlabel('epochs')\n",
    "ax[1].set_ylabel('Accuracy')"
   ]
  },
  {
   "cell_type": "code",
   "execution_count": 25,
   "id": "8c80f5ab-a5b6-476e-aa85-27b3350b4275",
   "metadata": {},
   "outputs": [
    {
     "data": {
      "text/html": [
       "<style>\n",
       "table {float:left}\n",
       "</style>\n"
      ],
      "text/plain": [
       "<IPython.core.display.HTML object>"
      ]
     },
     "metadata": {},
     "output_type": "display_data"
    }
   ],
   "source": [
    "%%html\n",
    "<style>\n",
    "table {float:left}\n",
    "</style>"
   ]
  },
  {
   "cell_type": "code",
   "execution_count": 26,
   "id": "1d66e107-dd08-48a0-af90-6364d3e7d05f",
   "metadata": {
    "cell_id": "4589abe226a94c468b836c141ae07243",
    "deepnote_cell_height": 261,
    "deepnote_cell_type": "code",
    "deepnote_to_be_reexecuted": false,
    "execution_millis": 2,
    "execution_start": 1652270973292,
    "source_hash": "705f51f9",
    "tags": []
   },
   "outputs": [],
   "source": [
    "#Settings for the plots \n",
    "sns.set_style(\"ticks\")\n",
    "colors= sns.color_palette('colorblind')\n",
    "plt.rc('xtick', labelsize=12) \n",
    "plt.rc('ytick', labelsize=12) \n",
    "plt.rc('axes', titlesize=18)\n",
    "plt.rc('axes', labelsize=13)\n",
    "plt.rcParams['ytick.major.size'] = 7\n",
    "plt.rcParams['ytick.minor.size'] = 6\n",
    "\n",
    "sns.set_style(\"darkgrid\", {'axes.grid' : False, 'ytick.left': True, 'xtick.bottom': True})"
   ]
  },
  {
   "cell_type": "markdown",
   "id": "462cef1e-5f5a-46df-b43c-637e2f6fd40a",
   "metadata": {
    "cell_id": "0de3197d7cfb42d898c089f3e874a009",
    "deepnote_cell_height": 62,
    "deepnote_cell_type": "markdown",
    "tags": []
   },
   "source": [
    "# 5. Data pre-processing"
   ]
  },
  {
   "cell_type": "code",
   "execution_count": 27,
   "id": "b83cf465-2e70-47bb-beb3-dcc4a3c79890",
   "metadata": {},
   "outputs": [],
   "source": [
    "IMPORT_INTERP = True\n",
    "\n",
    "if IMPORT_INTERP :\n",
    "    df_X_train = pd.read_csv(\"project-data-interpolated-corrected/df_X_train.csv\", index_col=0)\n",
    "    df_X_test = pd.read_csv(\"project-data-interpolated-corrected/df_X_test.csv\", index_col=0)\n",
    "    df_X_val = pd.read_csv(\"project-data-interpolated-corrected/df_X_val.csv\", index_col=0)\n",
    "    df_y_train = pd.read_csv(\"project-data-interpolated-corrected/df_y_train.csv\", index_col=0)\n",
    "    df_y_val = pd.read_csv(\"project-data-interpolated-corrected/df_y_val.csv\", index_col=0)"
   ]
  },
  {
   "cell_type": "code",
   "execution_count": 28,
   "id": "535f5bec-bc7a-41d9-b1a0-f8814b3d1a55",
   "metadata": {},
   "outputs": [],
   "source": [
    "DROP = False \n",
    "\n",
    "if DROP :\n",
    "    cols =['magnitude', 'distance_closest', 'lowest_usable_frequency']\n",
    "    df_X_train.drop(columns=cols, inplace=True)\n",
    "    df_X_val.drop(columns=cols, inplace=True)\n",
    "    df_X_test.drop(columns=cols, inplace=True)"
   ]
  },
  {
   "cell_type": "markdown",
   "id": "bb44ef42-c3f0-47f0-896c-f623e7cf4d5e",
   "metadata": {
    "tags": []
   },
   "source": [
    "### 5.1 Boolean to numerical conversion"
   ]
  },
  {
   "cell_type": "code",
   "execution_count": 29,
   "id": "2a69923c-3360-4713-8795-30dadd0d1d20",
   "metadata": {},
   "outputs": [],
   "source": [
    "df_X_train = helpers.bool_to_num(df_X_train)\n",
    "df_X_val = helpers.bool_to_num(df_X_val)\n",
    "df_X_test = helpers.bool_to_num(df_X_test)"
   ]
  },
  {
   "cell_type": "code",
   "execution_count": 30,
   "id": "c5d47a5c-9ea3-4593-a0d6-1b74fbdafadd",
   "metadata": {},
   "outputs": [],
   "source": [
    "if IMPORT_INTERP:\n",
    "    df_y_train = helpers.bool_to_num(df_y_train)\n",
    "    df_y_val = helpers.bool_to_num(df_y_val)\n",
    "    \n",
    "if not(IMPORT_INTERP):   \n",
    "    df_y_train = helpers.bool_to_num(pd.DataFrame(df_y_train))\n",
    "    df_y_val = helpers.bool_to_num(pd.DataFrame(df_y_val))"
   ]
  },
  {
   "cell_type": "markdown",
   "id": "3f573b79-e5e2-40c6-8c44-6dbaab6838da",
   "metadata": {
    "tags": []
   },
   "source": [
    "### 5.2 Pandas to Numpy conversion"
   ]
  },
  {
   "cell_type": "code",
   "execution_count": 31,
   "id": "4eabd36b-d653-44fd-84e3-d0651d483199",
   "metadata": {},
   "outputs": [],
   "source": [
    "X_train = helpers.numpy_converter(df_X_train)\n",
    "X_val = helpers.numpy_converter(df_X_val)\n",
    "X_test = helpers.numpy_converter(df_X_test)\n",
    "\n",
    "y_train_final = helpers.numpy_converter(df_y_train)\n",
    "y_val_final = helpers.numpy_converter(df_y_val)"
   ]
  },
  {
   "cell_type": "markdown",
   "id": "981ea532-7119-452e-ae3f-a3e98d8d1d44",
   "metadata": {
    "tags": []
   },
   "source": [
    "### 5.3 Normalization"
   ]
  },
  {
   "cell_type": "code",
   "execution_count": 32,
   "id": "dfa9376f-7389-4326-ba10-7b5a75beb28f",
   "metadata": {},
   "outputs": [],
   "source": [
    "sc = StandardScaler()\n",
    "sc.fit(X_train)\n",
    "X_train_final = sc.transform(X_train)\n",
    "X_val_final = sc.transform(X_val)\n",
    "X_test_final = sc.transform(X_test)"
   ]
  },
  {
   "cell_type": "markdown",
   "id": "0493c93e-95af-4019-bf1b-619b1a9bb8c0",
   "metadata": {
    "tags": []
   },
   "source": [
    "### 5.4 Principal Component Analysis"
   ]
  },
  {
   "cell_type": "markdown",
   "id": "dd96097f-0837-445f-b977-0df18ea2e72d",
   "metadata": {},
   "source": [
    "Fit and tranform the data to reduce the number of features (`features` to `PC`)"
   ]
  },
  {
   "cell_type": "markdown",
   "id": "35013784-3806-4182-8fe9-4e726d2156a3",
   "metadata": {
    "tags": []
   },
   "source": [
    "#### PCA with all the features and without the -999 rows"
   ]
  },
  {
   "cell_type": "raw",
   "id": "f3c629e1-5815-4af8-96b0-51cc27188cfe",
   "metadata": {},
   "source": [
    "pca = PCA(n_components=0.95)\n",
    "#pca = PCA(n_components=5)\n",
    "pca.fit(X_train)\n",
    "X_train_pca = pca.transform(X_train)"
   ]
  },
  {
   "cell_type": "raw",
   "id": "e953a33d-9737-4608-8b2a-d594555d208d",
   "metadata": {},
   "source": [
    "# number of components\n",
    "pca_nber = pca.components_.shape[0]\n",
    "\n",
    "# get the index of the most important feature on EACH component\n",
    "most_important = [np.abs(pca.components_[i]).argmax() for i in range(pca_nber)]\n",
    "\n",
    "feature_names = df_X_train.columns\n",
    "# get the names\n",
    "most_important_names = [feature_names[most_important[i]] for i in range(pca_nber)]\n",
    "\n",
    "# LIST COMPREHENSION HERE AGAIN\n",
    "dic = {'PC{}'.format(i): most_important_names[i] for i in range(pca_nber)}\n",
    "dic\n",
    "\n",
    "# build the dataframe\n",
    "pca_features = pd.DataFrame(dic.items(), columns=['PCA', 'max_var_feature'])\n",
    "pca_features['var_explained_by_PC'] = pca.explained_variance_ratio_*100\n",
    "pca_features"
   ]
  },
  {
   "cell_type": "raw",
   "id": "2abd57c9-20ec-4e5e-b16d-df7ac89922d2",
   "metadata": {},
   "source": [
    "pd.DataFrame(np.round(pca.components_, 3), columns=feature_names)"
   ]
  },
  {
   "cell_type": "raw",
   "id": "cc7bdcaf-7a44-4d45-9b72-7e71543d7958",
   "metadata": {},
   "source": [
    "fig, ax = plt.subplots()\n",
    "ax.plot(np.cumsum(pca_features['var_explained_by_PC']), marker='o', linestyle='dashed',linewidth=2, markersize=12)\n",
    "ax.set_xlabel('Name of components')\n",
    "ax.set_ylabel('Explained variance [%]')\n",
    "ax.set_ylim((50,100))\n",
    "ax.set_xlim((-0.5,pca_nber))\n",
    "ax.set_xticks(np.arange(0,pca_nber))\n",
    "ax.set_xticklabels(pca_features['max_var_feature'], rotation=45)\n",
    "fig.suptitle('')\n",
    "plt.show()"
   ]
  },
  {
   "cell_type": "markdown",
   "id": "b4971d89-e575-4d40-bb0d-e08f32668046",
   "metadata": {
    "tags": []
   },
   "source": [
    "#### PCA with the Sa(t) and without the columns contained -999"
   ]
  },
  {
   "cell_type": "raw",
   "id": "bf4ac4e7-d8d7-45aa-ae2d-648b3826a060",
   "metadata": {},
   "source": [
    "#pca_drop = PCA(n_components=0.95)\n",
    "pca_drop = PCA(n_components=50)\n",
    "pca_drop.fit(X_train_final)"
   ]
  },
  {
   "cell_type": "raw",
   "id": "976fec43-0e22-47ff-88b5-05eea81fd786",
   "metadata": {},
   "source": [
    "# number of components\n",
    "pca_nber = pca_drop.components_.shape[0]\n",
    "\n",
    "# get the index of the most important feature on EACH component\n",
    "most_important = [np.abs(pca_drop.components_[i]).argmax() for i in range(pca_nber)]\n",
    "\n",
    "feature_names = df_X_train.columns\n",
    "# get the names\n",
    "most_important_names = [feature_names[most_important[i]] for i in range(pca_nber)]\n",
    "\n",
    "# LIST COMPREHENSION HERE AGAIN\n",
    "dic = {'PC{}'.format(i): most_important_names[i] for i in range(pca_nber)}\n",
    "dic\n",
    "\n",
    "# build the dataframe\n",
    "pca_features = pd.DataFrame(dic.items(), columns=['PCA', 'max_var_feature'])\n",
    "pca_features['var_explained_by_PC'] = pca_drop.explained_variance_ratio_*100\n",
    "pca_features"
   ]
  },
  {
   "cell_type": "raw",
   "id": "4017ea8a-ad1d-4593-af30-5daee3f88353",
   "metadata": {},
   "source": [
    "X_train_final = pca_drop.transform(X_train_final)\n",
    "X_val_final = pca_drop.transform(X_val_final)\n",
    "X_test_final = pca_drop.transform(X_test_final)"
   ]
  },
  {
   "cell_type": "markdown",
   "id": "1f09c033-dc4c-4cac-b08d-e20e9dca9149",
   "metadata": {
    "cell_id": "9febfdf56b374f99b9717e38fc811df5",
    "deepnote_cell_height": 62,
    "deepnote_cell_type": "markdown",
    "tags": []
   },
   "source": [
    "# 6. Machine Learning Models"
   ]
  },
  {
   "cell_type": "markdown",
   "id": "c63da1d6-9546-4201-bc5a-40c326b62d2d",
   "metadata": {
    "cell_id": "0afa1762c3154c71a4967cefbb84d462",
    "deepnote_cell_height": 54,
    "deepnote_cell_type": "markdown",
    "tags": []
   },
   "source": [
    "## Neural Network"
   ]
  },
  {
   "cell_type": "markdown",
   "id": "326268f2-ed1f-477c-a8f6-bbb3c4bcbd83",
   "metadata": {
    "cell_id": "6f660f1d6b7e49c39187b328777cb0c7",
    "deepnote_cell_height": 81,
    "deepnote_cell_type": "code",
    "deepnote_to_be_reexecuted": true,
    "source_hash": "b623e53d",
    "tags": []
   },
   "source": [
    "### 6.1 Define the hyperparameters"
   ]
  },
  {
   "cell_type": "code",
   "execution_count": 33,
   "id": "08f40b40-4045-4a59-99da-2398ebaec959",
   "metadata": {},
   "outputs": [],
   "source": [
    "#number times that the learning algorithm will work through the entire training dataset\n",
    "epochs = 30     \n",
    "\n",
    "#number of samples to work through before updating the internal model parameters\n",
    "batch_size =128  #if 64 slower but similar results\n",
    "\n",
    "#\n",
    "lr = 0.01 \n",
    "\n",
    "#\n",
    "weight_decay = 1e-5 #if 1e-1 less overfitting and curves loss are closer but worst results\n",
    "\n",
    "#\n",
    "batch_norm_momentum = 0.1 #not good if bigger\n",
    "\n",
    "\n",
    "#randomly zeroes some of the elements of the input tensor during training with probability=dropout using a Bernoulli distribution\n",
    "dropout=0.1    #small is better \n",
    "\n",
    "#\n",
    "coef_sheduler = 0.60 #0.60 best results, if increased -->  training accuracy above 0.83 but increases overfitting so worst final result"
   ]
  },
  {
   "cell_type": "markdown",
   "id": "6959d9ee-be78-4f75-8866-194adb98ce7d",
   "metadata": {
    "tags": []
   },
   "source": [
    "### 6.2 Data as a PyTorch Dataset class"
   ]
  },
  {
   "cell_type": "markdown",
   "id": "bd79dd53-4452-403e-aff9-20afb0287838",
   "metadata": {
    "tags": []
   },
   "source": [
    "#### Define the Dataset class for each dataset"
   ]
  },
  {
   "cell_type": "code",
   "execution_count": 34,
   "id": "4bba38cd-430a-421b-8a75-3c826c50fcd1",
   "metadata": {},
   "outputs": [],
   "source": [
    "class TrainData(Dataset):\n",
    "    \n",
    "    def __init__(self, X_data, y_data): #for initialization operations (reading and preprocess data)\n",
    "        self.X_data = X_data\n",
    "        self.y_data = y_data\n",
    "        \n",
    "    def __getitem__(self, index):  #returns data in batches\n",
    "        return self.X_data[index], self.y_data[index]\n",
    "        \n",
    "    def __len__ (self):\n",
    "        return len(self.X_data)"
   ]
  },
  {
   "cell_type": "code",
   "execution_count": 35,
   "id": "cf9a3331-9992-467a-b77f-2ed442efea23",
   "metadata": {},
   "outputs": [],
   "source": [
    "class ValData(Dataset):\n",
    "    def __init__(self, X_data, y_data): #for initialization operations (reading and preprocess data)\n",
    "        self.X_data = X_data\n",
    "        self.y_data = y_data\n",
    "        \n",
    "    def __getitem__(self, index):  #returns data in batches\n",
    "        return self.X_data[index], self.y_data[index]\n",
    "        \n",
    "    def __len__ (self):\n",
    "        return len(self.X_data)"
   ]
  },
  {
   "cell_type": "code",
   "execution_count": 36,
   "id": "531ac691-81ad-4f6e-93e7-3dc5e04d2a94",
   "metadata": {},
   "outputs": [],
   "source": [
    "class TestData(Dataset):\n",
    "    \n",
    "    def __init__(self, X_data):\n",
    "        self.X_data = X_data\n",
    "        \n",
    "    def __getitem__(self, index):\n",
    "        return self.X_data[index]\n",
    "        \n",
    "    def __len__ (self):\n",
    "        return len(self.X_data)"
   ]
  },
  {
   "cell_type": "markdown",
   "id": "784281e5-43b5-4ca5-a5bd-a720d6e07ca9",
   "metadata": {},
   "source": [
    "#### Create the data classes"
   ]
  },
  {
   "cell_type": "code",
   "execution_count": 37,
   "id": "7e0d733d-1e9d-4026-a6c7-5ad46e84dc00",
   "metadata": {},
   "outputs": [],
   "source": [
    "train_data = TrainData(torch.FloatTensor(X_train_final), torch.FloatTensor(y_train_final))\n",
    "val_data = ValData(torch.FloatTensor(X_val_final), torch.FloatTensor(y_val_final))\n",
    "test_data = TestData(torch.FloatTensor(X_test_final))"
   ]
  },
  {
   "cell_type": "markdown",
   "id": "6a222cbc-caf5-4c1b-a041-56c2b1d1c6ef",
   "metadata": {},
   "source": [
    "#### Load the data as DataLoader class"
   ]
  },
  {
   "cell_type": "markdown",
   "id": "533a2756-34ad-48f4-8851-d8435d7b2489",
   "metadata": {},
   "source": [
    "To be able to use mini-batch for the gradient descent, the data must be configured with the DataLoader \\\n",
    "The `batch_size` is defined as a hyperparameter at the beginning of the section"
   ]
  },
  {
   "cell_type": "code",
   "execution_count": 38,
   "id": "8af0632d-5a94-4675-b988-35097acacc50",
   "metadata": {},
   "outputs": [],
   "source": [
    "train_loader = DataLoader(dataset=train_data, batch_size=batch_size, shuffle=True)\n",
    "val_loader = DataLoader(dataset=val_data, batch_size=X_val_final.shape[0], shuffle=True)\n",
    "test_loader = DataLoader(dataset=test_data, batch_size=1, shuffle=False)"
   ]
  },
  {
   "cell_type": "markdown",
   "id": "90306e77-fc35-4e1a-a0dd-822280c7c919",
   "metadata": {},
   "source": [
    "### 6.3 Model Setup"
   ]
  },
  {
   "cell_type": "markdown",
   "id": "e0c7c289-c318-425b-9cfb-2093f64ae35a",
   "metadata": {},
   "source": [
    "#### 6.3.1 The Model"
   ]
  },
  {
   "cell_type": "markdown",
   "id": "dc9b8a5d-c5c6-4e96-8f85-847b3a5797e3",
   "metadata": {},
   "source": [
    "#### Define the model class"
   ]
  },
  {
   "cell_type": "code",
   "execution_count": 39,
   "id": "1aff8b75-499f-4b79-8e8d-280e098ab46e",
   "metadata": {},
   "outputs": [],
   "source": [
    "class Model(nn.Module):\n",
    "\n",
    "    def __init__(self):\n",
    "        super(Model, self).__init__()\n",
    "        self.l1 = nn.Linear(X_train_final.shape[1], 80)\n",
    "        self.bnm1 = nn.BatchNorm1d(80, momentum=batch_norm_momentum)\n",
    "        self.l2 = nn.Linear(80, 30)\n",
    "        self.bnm2 = nn.BatchNorm1d(30, momentum=batch_norm_momentum)\n",
    "        self.l3 = nn.Linear(30, 20)\n",
    "        self.bnm3 = nn.BatchNorm1d(20, momentum=batch_norm_momentum)\n",
    "        self.l4 = nn.Linear(20, 1)\n",
    "       \n",
    "        \n",
    "        self.dropout = nn.Dropout(dropout)\n",
    "        \n",
    "        self.Relu = nn.ReLU()\n",
    "        \n",
    "        self.initialize_weights()\n",
    "\n",
    "    def forward(self, x):\n",
    "        x = self.Relu(self.l1(x))\n",
    "        x = self.dropout(x)\n",
    "        x = self.bnm1(x)\n",
    "        x = self.Relu(self.l2(x))\n",
    "        x = self.dropout(x)\n",
    "        x = self.bnm2(x)\n",
    "        x = self.Relu(self.l3(x))\n",
    "        x = self.dropout(x)\n",
    "        x = self.bnm3(x)\n",
    "        y_pred = self.l4(x)\n",
    "        return y_pred\n",
    "    \n",
    "    def initialize_weights(self):  \n",
    "        for m in self.modules():\n",
    "            if isinstance(m,nn.Linear):\n",
    "                nn.init.kaiming_uniform_(m.weight)\n",
    "                nn.init.constant_(m.bias,0)"
   ]
  },
  {
   "cell_type": "markdown",
   "id": "7b0aa67a-bd71-4ab8-b352-942812e8f333",
   "metadata": {
    "tags": []
   },
   "source": [
    "#### Create the model from the class"
   ]
  },
  {
   "cell_type": "code",
   "execution_count": 40,
   "id": "fbb7e64b-b818-4a98-a657-85dcfb806b90",
   "metadata": {},
   "outputs": [],
   "source": [
    "model = Model()"
   ]
  },
  {
   "cell_type": "markdown",
   "id": "749f6bc5-84c0-420d-8425-2a7b9f625f76",
   "metadata": {},
   "source": [
    "Use the GPU if available otherwise the CPU"
   ]
  },
  {
   "cell_type": "code",
   "execution_count": 41,
   "id": "54d5e5bc-8e29-494c-8150-3fada2c44547",
   "metadata": {},
   "outputs": [],
   "source": [
    "device = torch.device(\"cuda:0\" if torch.cuda.is_available() else \"cpu\")"
   ]
  },
  {
   "cell_type": "markdown",
   "id": "3e801f83-0caf-4dbf-a06e-bc5023d2b81e",
   "metadata": {},
   "source": [
    "Move model on the GPU if active"
   ]
  },
  {
   "cell_type": "code",
   "execution_count": 42,
   "id": "a33907e2-3f80-4b5b-9c3b-84e4399bc18f",
   "metadata": {},
   "outputs": [
    {
     "data": {
      "text/plain": [
       "Model(\n",
       "  (l1): Linear(in_features=115, out_features=80, bias=True)\n",
       "  (bnm1): BatchNorm1d(80, eps=1e-05, momentum=0.1, affine=True, track_running_stats=True)\n",
       "  (l2): Linear(in_features=80, out_features=30, bias=True)\n",
       "  (bnm2): BatchNorm1d(30, eps=1e-05, momentum=0.1, affine=True, track_running_stats=True)\n",
       "  (l3): Linear(in_features=30, out_features=20, bias=True)\n",
       "  (bnm3): BatchNorm1d(20, eps=1e-05, momentum=0.1, affine=True, track_running_stats=True)\n",
       "  (l4): Linear(in_features=20, out_features=1, bias=True)\n",
       "  (dropout): Dropout(p=0.1, inplace=False)\n",
       "  (Relu): ReLU()\n",
       ")"
      ]
     },
     "execution_count": 42,
     "metadata": {},
     "output_type": "execute_result"
    }
   ],
   "source": [
    "model.to(device)"
   ]
  },
  {
   "cell_type": "markdown",
   "id": "bc4aec55-54e4-416b-b08e-2c32dc91e79e",
   "metadata": {
    "tags": []
   },
   "source": [
    "#### 6.3.2 Specify the optimizer "
   ]
  },
  {
   "cell_type": "markdown",
   "id": "b9013be7-e472-4c57-9cca-a388a120d602",
   "metadata": {},
   "source": [
    "Write about Adam optimizer, maybe add few formulas to describe or idk"
   ]
  },
  {
   "cell_type": "code",
   "execution_count": 43,
   "id": "81a92151-f2b2-4404-a74c-8892b5167877",
   "metadata": {},
   "outputs": [],
   "source": [
    "optimizer = optim.Adam(model.parameters(), lr=lr , weight_decay=weight_decay)"
   ]
  },
  {
   "cell_type": "markdown",
   "id": "5ad46290-62b4-4fa5-af59-2a658af63152",
   "metadata": {
    "tags": []
   },
   "source": [
    "#### 6.3.3 Specify the loss function"
   ]
  },
  {
   "cell_type": "markdown",
   "id": "8d400f6e-e271-49c9-85dc-85f367e408ca",
   "metadata": {},
   "source": [
    "write also about this loss function"
   ]
  },
  {
   "cell_type": "code",
   "execution_count": 44,
   "id": "b7800632-68df-47c4-ad94-ff5416b3a20e",
   "metadata": {},
   "outputs": [],
   "source": [
    "criterion = nn.BCEWithLogitsLoss()"
   ]
  },
  {
   "cell_type": "markdown",
   "id": "a6b6af21-c09e-4d9d-af03-6c92e0377419",
   "metadata": {},
   "source": [
    "#### 6.3.4 Adjust learning rate"
   ]
  },
  {
   "cell_type": "markdown",
   "id": "8ea87f7a-5a3b-4486-ada4-54c84b4439ea",
   "metadata": {},
   "source": [
    "explain chosen scheduler etc "
   ]
  },
  {
   "cell_type": "code",
   "execution_count": 45,
   "id": "a5c986a0-3721-48df-a974-6f14caf2cd85",
   "metadata": {},
   "outputs": [],
   "source": [
    "lambda_scheduler = lambda epoch: coef_sheduler ** epoch\n",
    "scheduler = torch.optim.lr_scheduler.LambdaLR(optimizer, lr_lambda=lambda_scheduler)\n"
   ]
  },
  {
   "cell_type": "markdown",
   "id": "7ada9fef-fa68-4c66-88be-c2d8512ba8ce",
   "metadata": {
    "tags": []
   },
   "source": [
    "#### 6.3.4 Accuracy calculation"
   ]
  },
  {
   "cell_type": "code",
   "execution_count": 46,
   "id": "99cb9f14-1e9b-48d5-bb37-0b9eea56e0c9",
   "metadata": {},
   "outputs": [],
   "source": [
    "def b_acc(y_pred, y_test):\n",
    "    y_pred_tag = torch.round(torch.sigmoid(y_pred))\n",
    "\n",
    "    correct_results_sum = (y_pred_tag == y_test).sum().float()\n",
    "    acc = correct_results_sum/y_test.shape[0]\n",
    "    acc = acc * 100\n",
    "    \n",
    "    return acc"
   ]
  },
  {
   "cell_type": "markdown",
   "id": "55ebbb12-0ac6-48e2-b6dc-89c83c227b0e",
   "metadata": {
    "tags": []
   },
   "source": [
    "### 6.4 Training"
   ]
  },
  {
   "cell_type": "markdown",
   "id": "b3d5b291-a0de-4dca-8259-ecea848c29e3",
   "metadata": {
    "tags": []
   },
   "source": [
    "#### Create a function to train the model and validate it at each epoch"
   ]
  },
  {
   "cell_type": "code",
   "execution_count": 47,
   "id": "e9c3e1e2-e983-4729-94e3-f908b11bee9a",
   "metadata": {},
   "outputs": [],
   "source": [
    "def train(model: torch.nn.Module, train_loader: torch.utils.data.DataLoader, val_loader: torch.utils.data.DataLoader, loss_fn: torch.nn.Module, optimizer: torch.optim.Optimizer, epochs: int):\n",
    "    accs_train = []\n",
    "    losses_train = []\n",
    "    accs_val = []\n",
    "    losses_val = []\n",
    "    \n",
    "    for e in range(1, epochs+1):\n",
    "        epoch_loss_train = 0\n",
    "        epoch_acc_train = 0\n",
    "        epoch_loss_val = 0\n",
    "        epoch_acc_val = 0\n",
    "        \n",
    "        #TRAINING LOOP FOR EACH EPOCH\n",
    "        model.train()\n",
    "        for X_batch, y_batch in train_loader:\n",
    "            X_batch, y_batch = X_batch.to(device), y_batch.to(device)\n",
    "            optimizer.zero_grad()\n",
    "\n",
    "            y_pred = model(X_batch)\n",
    "\n",
    "            loss = criterion(y_pred, y_batch)\n",
    "            acc_train = b_acc(y_pred, y_batch)\n",
    "            \n",
    "            loss.backward()\n",
    "            optimizer.step()\n",
    "\n",
    "            epoch_loss_train += loss.item()\n",
    "            epoch_acc_train += acc_train.item()\n",
    "            \n",
    "        scheduler.step()\n",
    "        \n",
    "        losses_train.append(epoch_loss_train/len(train_loader))\n",
    "        accs_train.append(epoch_acc_train/len(train_loader))\n",
    "        \n",
    "    \n",
    "        #VALIDATION LOOP FOR EACH EPOCH\n",
    "        model.eval()\n",
    "        with torch.no_grad():\n",
    "            for X_batch, y_batch in val_loader:\n",
    "                X_batch, y_batch = X_batch.to(device), y_batch.to(device)\n",
    "\n",
    "                y_val_pred = model(X_batch)\n",
    "\n",
    "                loss_val = criterion(y_val_pred, y_batch)\n",
    "                acc_val = b_acc(y_val_pred, y_batch)\n",
    "\n",
    "                epoch_loss_val += loss_val.item()\n",
    "                epoch_acc_val += acc_val.item()\n",
    "\n",
    "            losses_val.append(epoch_loss_val/len(val_loader))\n",
    "            accs_val.append(epoch_acc_val/len(val_loader))          \n",
    "        \n",
    "        print(f'Epoch {e+0:03}: | Train Loss: {epoch_loss_train/len(train_loader):.5f} | Val Loss: {epoch_loss_val/len(val_loader):.5f} | Train Acc: {epoch_acc_train/len(train_loader):.3f} | Val Acc: {epoch_acc_val/len(val_loader):.3f}')\n",
    "    return losses_train, accs_train, losses_val, accs_val"
   ]
  },
  {
   "cell_type": "markdown",
   "id": "1e06f6cc-60fd-4157-a838-24357eb6081a",
   "metadata": {},
   "source": [
    "#### Train the model"
   ]
  },
  {
   "cell_type": "code",
   "execution_count": 48,
   "id": "2f2d8701-e35b-4e63-804a-5b76f225ae19",
   "metadata": {},
   "outputs": [
    {
     "name": "stdout",
     "output_type": "stream",
     "text": [
      "Epoch 001: | Train Loss: 0.41093 | Val Loss: 0.38578 | Train Acc: 80.518 | Val Acc: 80.812\n",
      "Epoch 002: | Train Loss: 0.38703 | Val Loss: 0.38218 | Train Acc: 81.673 | Val Acc: 81.250\n",
      "Epoch 003: | Train Loss: 0.37823 | Val Loss: 0.37774 | Train Acc: 82.030 | Val Acc: 81.210\n",
      "Epoch 004: | Train Loss: 0.37271 | Val Loss: 0.37193 | Train Acc: 82.234 | Val Acc: 81.449\n",
      "Epoch 005: | Train Loss: 0.36748 | Val Loss: 0.37111 | Train Acc: 82.484 | Val Acc: 81.449\n",
      "Epoch 006: | Train Loss: 0.36583 | Val Loss: 0.37493 | Train Acc: 82.716 | Val Acc: 81.489\n",
      "Epoch 007: | Train Loss: 0.36315 | Val Loss: 0.36987 | Train Acc: 82.941 | Val Acc: 80.971\n",
      "Epoch 008: | Train Loss: 0.36257 | Val Loss: 0.36633 | Train Acc: 82.863 | Val Acc: 81.250\n",
      "Epoch 009: | Train Loss: 0.36156 | Val Loss: 0.37226 | Train Acc: 82.933 | Val Acc: 80.932\n",
      "Epoch 010: | Train Loss: 0.36028 | Val Loss: 0.37165 | Train Acc: 82.976 | Val Acc: 81.091\n",
      "Epoch 011: | Train Loss: 0.35980 | Val Loss: 0.36310 | Train Acc: 82.986 | Val Acc: 81.330\n",
      "Epoch 012: | Train Loss: 0.35934 | Val Loss: 0.36894 | Train Acc: 82.998 | Val Acc: 81.131\n",
      "Epoch 013: | Train Loss: 0.35959 | Val Loss: 0.37382 | Train Acc: 83.039 | Val Acc: 80.732\n",
      "Epoch 014: | Train Loss: 0.35929 | Val Loss: 0.37817 | Train Acc: 83.073 | Val Acc: 81.529\n",
      "Epoch 015: | Train Loss: 0.35884 | Val Loss: 0.36634 | Train Acc: 83.027 | Val Acc: 80.812\n",
      "Epoch 016: | Train Loss: 0.35920 | Val Loss: 0.37317 | Train Acc: 83.097 | Val Acc: 80.772\n",
      "Epoch 017: | Train Loss: 0.35940 | Val Loss: 0.36881 | Train Acc: 83.054 | Val Acc: 81.250\n",
      "Epoch 018: | Train Loss: 0.35907 | Val Loss: 0.36984 | Train Acc: 83.104 | Val Acc: 81.409\n",
      "Epoch 019: | Train Loss: 0.35931 | Val Loss: 0.36918 | Train Acc: 83.054 | Val Acc: 81.369\n",
      "Epoch 020: | Train Loss: 0.35938 | Val Loss: 0.36775 | Train Acc: 82.996 | Val Acc: 80.494\n",
      "Epoch 021: | Train Loss: 0.35873 | Val Loss: 0.36845 | Train Acc: 83.132 | Val Acc: 81.131\n",
      "Epoch 022: | Train Loss: 0.35927 | Val Loss: 0.37472 | Train Acc: 83.139 | Val Acc: 81.409\n",
      "Epoch 023: | Train Loss: 0.35966 | Val Loss: 0.37157 | Train Acc: 83.114 | Val Acc: 81.290\n",
      "Epoch 024: | Train Loss: 0.35924 | Val Loss: 0.36683 | Train Acc: 83.071 | Val Acc: 80.932\n",
      "Epoch 025: | Train Loss: 0.35934 | Val Loss: 0.36565 | Train Acc: 83.108 | Val Acc: 81.170\n",
      "Epoch 026: | Train Loss: 0.35875 | Val Loss: 0.36698 | Train Acc: 83.120 | Val Acc: 81.051\n",
      "Epoch 027: | Train Loss: 0.35932 | Val Loss: 0.37189 | Train Acc: 83.083 | Val Acc: 81.290\n",
      "Epoch 028: | Train Loss: 0.35969 | Val Loss: 0.36682 | Train Acc: 83.188 | Val Acc: 80.932\n",
      "Epoch 029: | Train Loss: 0.35973 | Val Loss: 0.36777 | Train Acc: 83.019 | Val Acc: 80.812\n",
      "Epoch 030: | Train Loss: 0.35842 | Val Loss: 0.37455 | Train Acc: 83.115 | Val Acc: 81.131\n"
     ]
    }
   ],
   "source": [
    "loss_train, acc_train, loss_val, acc_val =  train(model, train_loader, val_loader, criterion, optimizer, epochs)"
   ]
  },
  {
   "cell_type": "markdown",
   "id": "ede83ee8-9f9b-4066-aa0b-f694b2236901",
   "metadata": {},
   "source": [
    "### 6.5 Validation"
   ]
  },
  {
   "cell_type": "markdown",
   "id": "45890c6f-4114-4e67-aecb-eea1d954e75f",
   "metadata": {},
   "source": [
    "Plot the evolution of the loss and the accuracy with the epoch"
   ]
  },
  {
   "cell_type": "code",
   "execution_count": 49,
   "id": "1ed19b0b-2c43-40d8-ac12-ea16798edde6",
   "metadata": {},
   "outputs": [
    {
     "data": {
      "text/plain": [
       "Text(0, 0.5, 'Accuracy')"
      ]
     },
     "execution_count": 49,
     "metadata": {},
     "output_type": "execute_result"
    },
    {
     "data": {
      "image/png": "[encoded data removed]",
      "text/plain": [
       "<Figure size 1008x432 with 2 Axes>"
      ]
     },
     "metadata": {},
     "output_type": "display_data"
    }
   ],
   "source": [
    "fig, ax = plt.subplots(nrows=1, ncols=2, figsize=(14,6))\n",
    "\n",
    "ax[0].set_title('Loss with respect to epochs')\n",
    "ax[0].plot(loss_train)\n",
    "ax[0].plot(loss_val)\n",
    "ax[0].legend(['Training', 'Validation'])\n",
    "ax[0].set_xlabel('epochs')\n",
    "ax[0].set_ylabel('Loss')\n",
    "\n",
    "ax[1].set_title('Accuracy with respect to epochs')\n",
    "ax[1].plot(acc_train)\n",
    "ax[1].plot(acc_val)\n",
    "ax[1].legend(['Training', 'Validation'])\n",
    "ax[1].set_xlabel('epochs')\n",
    "ax[1].set_ylabel('Accuracy')"
   ]
  },
  {
   "cell_type": "markdown",
   "id": "58883622-e4a1-4cbd-9e8d-f018cad11e57",
   "metadata": {
    "cell_id": "0de3197d7cfb42d898c089f3e874a009",
    "deepnote_cell_height": 62,
    "deepnote_cell_type": "markdown",
    "tags": []
   },
   "source": [
    "# 5. Data pre-processing"
   ]
  },
  {
   "cell_type": "code",
   "execution_count": 50,
   "id": "ceb4f8ee-7d51-4fd3-a5ed-fc7ccbb59057",
   "metadata": {},
   "outputs": [],
   "source": [
    "IMPORT_INTERP = True\n",
    "\n",
    "if IMPORT_INTERP :\n",
    "    df_X_train = pd.read_csv(\"project-data-interpolated-corrected/df_X_train.csv\", index_col=0)\n",
    "    df_X_test = pd.read_csv(\"project-data-interpolated-corrected/df_X_test.csv\", index_col=0)\n",
    "    df_X_val = pd.read_csv(\"project-data-interpolated-corrected/df_X_val.csv\", index_col=0)\n",
    "    df_y_train = pd.read_csv(\"project-data-interpolated-corrected/df_y_train.csv\", index_col=0)\n",
    "    df_y_val = pd.read_csv(\"project-data-interpolated-corrected/df_y_val.csv\", index_col=0)"
   ]
  },
  {
   "cell_type": "code",
   "execution_count": null,
   "id": "0b63e5b2-0416-4b3e-a9ca-9763c19d2844",
   "metadata": {},
   "outputs": [],
   "source": []
  },
  {
   "cell_type": "code",
   "execution_count": 51,
   "id": "ecaa0adf-878a-4fbe-87a5-81c9176634f7",
   "metadata": {},
   "outputs": [],
   "source": [
    "DROP = True \n",
    "\n",
    "if DROP :\n",
    "    cols =['magnitude', 'distance_closest', 'lowest_usable_frequency']\n",
    "    df_X_train.drop(columns=cols, inplace=True)\n",
    "    df_X_val.drop(columns=cols, inplace=True)\n",
    "    df_X_test.drop(columns=cols, inplace=True)"
   ]
  },
  {
   "cell_type": "markdown",
   "id": "5bcb44f1-83cc-4881-8ccb-a568280b4597",
   "metadata": {
    "tags": []
   },
   "source": [
    "### 5.1 Boolean to numerical conversion"
   ]
  },
  {
   "cell_type": "code",
   "execution_count": 52,
   "id": "77dce727-c260-422b-9b38-d40837dea246",
   "metadata": {},
   "outputs": [],
   "source": [
    "df_X_train = helpers.bool_to_num(df_X_train)\n",
    "df_X_val = helpers.bool_to_num(df_X_val)\n",
    "df_X_test = helpers.bool_to_num(df_X_test)"
   ]
  },
  {
   "cell_type": "code",
   "execution_count": 53,
   "id": "11f6a4f5-64d8-4cd5-b39d-36a1aca25e5e",
   "metadata": {},
   "outputs": [],
   "source": [
    "if IMPORT_INTERP:\n",
    "    df_y_train = helpers.bool_to_num(df_y_train)\n",
    "    df_y_val = helpers.bool_to_num(df_y_val)\n",
    "    \n",
    "if not(IMPORT_INTERP):   \n",
    "    df_y_train = helpers.bool_to_num(pd.DataFrame(df_y_train))\n",
    "    df_y_val = helpers.bool_to_num(pd.DataFrame(df_y_val))"
   ]
  },
  {
   "cell_type": "markdown",
   "id": "53bfc06d-5507-4ca3-b4a5-4dbea849c53d",
   "metadata": {
    "tags": []
   },
   "source": [
    "### 5.2 Pandas to Numpy conversion"
   ]
  },
  {
   "cell_type": "code",
   "execution_count": 54,
   "id": "f84277eb-617c-4bef-bbe3-7d295c1e6a6d",
   "metadata": {},
   "outputs": [],
   "source": [
    "X_train = helpers.numpy_converter(df_X_train)\n",
    "X_val = helpers.numpy_converter(df_X_val)\n",
    "X_test = helpers.numpy_converter(df_X_test)\n",
    "\n",
    "y_train_final = helpers.numpy_converter(df_y_train)\n",
    "y_val_final = helpers.numpy_converter(df_y_val)"
   ]
  },
  {
   "cell_type": "markdown",
   "id": "08bd36a2-5e6a-4b7a-b858-6e13e867d9c3",
   "metadata": {
    "tags": []
   },
   "source": [
    "### 5.3 Normalization"
   ]
  },
  {
   "cell_type": "code",
   "execution_count": 55,
   "id": "49cc17f5-e6ca-4f69-bede-b28dd54f44ec",
   "metadata": {},
   "outputs": [],
   "source": [
    "sc = StandardScaler()\n",
    "sc.fit(X_train)\n",
    "X_train_final = sc.transform(X_train)\n",
    "X_val_final = sc.transform(X_val)\n",
    "X_test_final = sc.transform(X_test)"
   ]
  },
  {
   "cell_type": "markdown",
   "id": "5668b4b7-2345-41fd-a5cd-4a2511335493",
   "metadata": {
    "tags": []
   },
   "source": [
    "### 5.4 Principal Component Analysis"
   ]
  },
  {
   "cell_type": "markdown",
   "id": "37fcc14d-15a6-49ea-8593-ea19387a2670",
   "metadata": {},
   "source": [
    "Fit and tranform the data to reduce the number of features (`features` to `PC`)"
   ]
  },
  {
   "cell_type": "markdown",
   "id": "e7941227-aa16-45a9-bbcb-16e8cea2b955",
   "metadata": {
    "tags": []
   },
   "source": [
    "#### PCA with all the features and without the -999 rows"
   ]
  },
  {
   "cell_type": "raw",
   "id": "0d00e57b-477e-4de7-be81-a0f52022f05c",
   "metadata": {},
   "source": [
    "pca = PCA(n_components=0.95)\n",
    "#pca = PCA(n_components=5)\n",
    "pca.fit(X_train)\n",
    "X_train_pca = pca.transform(X_train)"
   ]
  },
  {
   "cell_type": "raw",
   "id": "57f70fb9-c2c0-44c2-bfd3-cada2c64a7f5",
   "metadata": {},
   "source": [
    "# number of components\n",
    "pca_nber = pca.components_.shape[0]\n",
    "\n",
    "# get the index of the most important feature on EACH component\n",
    "most_important = [np.abs(pca.components_[i]).argmax() for i in range(pca_nber)]\n",
    "\n",
    "feature_names = df_X_train.columns\n",
    "# get the names\n",
    "most_important_names = [feature_names[most_important[i]] for i in range(pca_nber)]\n",
    "\n",
    "# LIST COMPREHENSION HERE AGAIN\n",
    "dic = {'PC{}'.format(i): most_important_names[i] for i in range(pca_nber)}\n",
    "dic\n",
    "\n",
    "# build the dataframe\n",
    "pca_features = pd.DataFrame(dic.items(), columns=['PCA', 'max_var_feature'])\n",
    "pca_features['var_explained_by_PC'] = pca.explained_variance_ratio_*100\n",
    "pca_features"
   ]
  },
  {
   "cell_type": "raw",
   "id": "eb1e779c-6b4c-4149-b603-ea6a154c62f8",
   "metadata": {},
   "source": [
    "pd.DataFrame(np.round(pca.components_, 3), columns=feature_names)"
   ]
  },
  {
   "cell_type": "raw",
   "id": "43f16125-3f13-4276-a0bc-3c763f829b2f",
   "metadata": {},
   "source": [
    "fig, ax = plt.subplots()\n",
    "ax.plot(np.cumsum(pca_features['var_explained_by_PC']), marker='o', linestyle='dashed',linewidth=2, markersize=12)\n",
    "ax.set_xlabel('Name of components')\n",
    "ax.set_ylabel('Explained variance [%]')\n",
    "ax.set_ylim((50,100))\n",
    "ax.set_xlim((-0.5,pca_nber))\n",
    "ax.set_xticks(np.arange(0,pca_nber))\n",
    "ax.set_xticklabels(pca_features['max_var_feature'], rotation=45)\n",
    "fig.suptitle('')\n",
    "plt.show()"
   ]
  },
  {
   "cell_type": "markdown",
   "id": "6598c4d8-fd15-45ad-a0fd-5d92c1e45e51",
   "metadata": {
    "tags": []
   },
   "source": [
    "#### PCA with the Sa(t) and without the columns contained -999"
   ]
  },
  {
   "cell_type": "raw",
   "id": "9967be76-be78-4942-92b7-df8b652a2fe4",
   "metadata": {},
   "source": [
    "#pca_drop = PCA(n_components=0.95)\n",
    "pca_drop = PCA(n_components=50)\n",
    "pca_drop.fit(X_train_final)"
   ]
  },
  {
   "cell_type": "raw",
   "id": "53578afb-f1cf-4157-b3aa-35209ef3d756",
   "metadata": {},
   "source": [
    "# number of components\n",
    "pca_nber = pca_drop.components_.shape[0]\n",
    "\n",
    "# get the index of the most important feature on EACH component\n",
    "most_important = [np.abs(pca_drop.components_[i]).argmax() for i in range(pca_nber)]\n",
    "\n",
    "feature_names = df_X_train.columns\n",
    "# get the names\n",
    "most_important_names = [feature_names[most_important[i]] for i in range(pca_nber)]\n",
    "\n",
    "# LIST COMPREHENSION HERE AGAIN\n",
    "dic = {'PC{}'.format(i): most_important_names[i] for i in range(pca_nber)}\n",
    "dic\n",
    "\n",
    "# build the dataframe\n",
    "pca_features = pd.DataFrame(dic.items(), columns=['PCA', 'max_var_feature'])\n",
    "pca_features['var_explained_by_PC'] = pca_drop.explained_variance_ratio_*100\n",
    "pca_features"
   ]
  },
  {
   "cell_type": "raw",
   "id": "28d98328-c08b-4570-a865-fcc109be8ca1",
   "metadata": {},
   "source": [
    "X_train_final = pca_drop.transform(X_train_final)\n",
    "X_val_final = pca_drop.transform(X_val_final)\n",
    "X_test_final = pca_drop.transform(X_test_final)"
   ]
  },
  {
   "cell_type": "markdown",
   "id": "8a993f0e-dde4-436a-a743-bd0c67886c78",
   "metadata": {
    "cell_id": "9febfdf56b374f99b9717e38fc811df5",
    "deepnote_cell_height": 62,
    "deepnote_cell_type": "markdown",
    "tags": []
   },
   "source": [
    "# 6. Machine Learning Models"
   ]
  },
  {
   "cell_type": "markdown",
   "id": "522fdf5f-8773-4714-b50a-15f0ff9fedcb",
   "metadata": {
    "cell_id": "0afa1762c3154c71a4967cefbb84d462",
    "deepnote_cell_height": 54,
    "deepnote_cell_type": "markdown",
    "tags": []
   },
   "source": [
    "## Neural Network"
   ]
  },
  {
   "cell_type": "markdown",
   "id": "86061a1e-ff1c-49aa-b00d-b46d939b9bc2",
   "metadata": {
    "cell_id": "6f660f1d6b7e49c39187b328777cb0c7",
    "deepnote_cell_height": 81,
    "deepnote_cell_type": "code",
    "deepnote_to_be_reexecuted": true,
    "source_hash": "b623e53d",
    "tags": []
   },
   "source": [
    "### 6.1 Define the hyperparameters"
   ]
  },
  {
   "cell_type": "code",
   "execution_count": 56,
   "id": "6193375a-db87-48da-af14-633dc5b287a5",
   "metadata": {},
   "outputs": [],
   "source": [
    "#number times that the learning algorithm will work through the entire training dataset\n",
    "epochs = 30     \n",
    "\n",
    "#number of samples to work through before updating the internal model parameters\n",
    "batch_size =128  #if 64 slower but similar results\n",
    "\n",
    "#\n",
    "lr = 0.01 \n",
    "\n",
    "#\n",
    "weight_decay = 1e-5 #if 1e-1 less overfitting and curves loss are closer but worst results\n",
    "\n",
    "#\n",
    "batch_norm_momentum = 0.1 #not good if bigger\n",
    "\n",
    "\n",
    "#randomly zeroes some of the elements of the input tensor during training with probability=dropout using a Bernoulli distribution\n",
    "dropout=0.1    #small is better \n",
    "\n",
    "#\n",
    "coef_sheduler = 0.60 #0.60 best results, if increased -->  training accuracy above 0.83 but increases overfitting so worst final result"
   ]
  },
  {
   "cell_type": "markdown",
   "id": "7aec5702-699d-4e4c-96b1-228b1ddc54ca",
   "metadata": {
    "tags": []
   },
   "source": [
    "### 6.2 Data as a PyTorch Dataset class"
   ]
  },
  {
   "cell_type": "markdown",
   "id": "c21894a4-0a52-4a7a-9508-1b2bbaeddc24",
   "metadata": {
    "tags": []
   },
   "source": [
    "#### Define the Dataset class for each dataset"
   ]
  },
  {
   "cell_type": "code",
   "execution_count": 57,
   "id": "3a7cd16f-fff5-4ae0-8172-5b6be03d8db1",
   "metadata": {},
   "outputs": [],
   "source": [
    "class TrainData(Dataset):\n",
    "    \n",
    "    def __init__(self, X_data, y_data): #for initialization operations (reading and preprocess data)\n",
    "        self.X_data = X_data\n",
    "        self.y_data = y_data\n",
    "        \n",
    "    def __getitem__(self, index):  #returns data in batches\n",
    "        return self.X_data[index], self.y_data[index]\n",
    "        \n",
    "    def __len__ (self):\n",
    "        return len(self.X_data)"
   ]
  },
  {
   "cell_type": "code",
   "execution_count": 58,
   "id": "2720a5f8-3848-4cd3-b8b8-09b00c60b13a",
   "metadata": {},
   "outputs": [],
   "source": [
    "class ValData(Dataset):\n",
    "    def __init__(self, X_data, y_data): #for initialization operations (reading and preprocess data)\n",
    "        self.X_data = X_data\n",
    "        self.y_data = y_data\n",
    "        \n",
    "    def __getitem__(self, index):  #returns data in batches\n",
    "        return self.X_data[index], self.y_data[index]\n",
    "        \n",
    "    def __len__ (self):\n",
    "        return len(self.X_data)"
   ]
  },
  {
   "cell_type": "code",
   "execution_count": 59,
   "id": "4de47d3a-564b-4c36-aeae-f986c0815f9d",
   "metadata": {},
   "outputs": [],
   "source": [
    "class TestData(Dataset):\n",
    "    \n",
    "    def __init__(self, X_data):\n",
    "        self.X_data = X_data\n",
    "        \n",
    "    def __getitem__(self, index):\n",
    "        return self.X_data[index]\n",
    "        \n",
    "    def __len__ (self):\n",
    "        return len(self.X_data)"
   ]
  },
  {
   "cell_type": "markdown",
   "id": "117be696-2176-4f4a-a9c2-ab46320e4639",
   "metadata": {},
   "source": [
    "#### Create the data classes"
   ]
  },
  {
   "cell_type": "code",
   "execution_count": 60,
   "id": "a51e5054-23dd-4274-a2ec-bfbaa85f4fda",
   "metadata": {},
   "outputs": [],
   "source": [
    "train_data = TrainData(torch.FloatTensor(X_train_final), torch.FloatTensor(y_train_final))\n",
    "val_data = ValData(torch.FloatTensor(X_val_final), torch.FloatTensor(y_val_final))\n",
    "test_data = TestData(torch.FloatTensor(X_test_final))"
   ]
  },
  {
   "cell_type": "markdown",
   "id": "883a2ee7-72fc-4da7-b818-061a1b26a69e",
   "metadata": {},
   "source": [
    "#### Load the data as DataLoader class"
   ]
  },
  {
   "cell_type": "markdown",
   "id": "31bf0154-d478-4902-8eac-ad0f3bc3fdf0",
   "metadata": {},
   "source": [
    "To be able to use mini-batch for the gradient descent, the data must be configured with the DataLoader \\\n",
    "The `batch_size` is defined as a hyperparameter at the beginning of the section"
   ]
  },
  {
   "cell_type": "code",
   "execution_count": 61,
   "id": "9192e1cd-d6c2-4a2e-842d-70b3e27bdfe1",
   "metadata": {},
   "outputs": [],
   "source": [
    "train_loader = DataLoader(dataset=train_data, batch_size=batch_size, shuffle=True)\n",
    "val_loader = DataLoader(dataset=val_data, batch_size=X_val_final.shape[0], shuffle=True)\n",
    "test_loader = DataLoader(dataset=test_data, batch_size=1, shuffle=False)"
   ]
  },
  {
   "cell_type": "markdown",
   "id": "43764026-88bc-4762-9740-f6ee5c90552d",
   "metadata": {},
   "source": [
    "### 6.3 Model Setup"
   ]
  },
  {
   "cell_type": "markdown",
   "id": "a93305d4-aaeb-4050-9025-f80b521446f3",
   "metadata": {},
   "source": [
    "#### 6.3.1 The Model"
   ]
  },
  {
   "cell_type": "markdown",
   "id": "8d43a8ac-e844-4742-8a5f-b883014e43bd",
   "metadata": {},
   "source": [
    "#### Define the model class"
   ]
  },
  {
   "cell_type": "code",
   "execution_count": 62,
   "id": "1ba28f25-5c63-456b-a67c-ea675616000c",
   "metadata": {},
   "outputs": [],
   "source": [
    "class Model(nn.Module):\n",
    "\n",
    "    def __init__(self):\n",
    "        super(Model, self).__init__()\n",
    "        self.l1 = nn.Linear(X_train_final.shape[1], 80)\n",
    "        self.bnm1 = nn.BatchNorm1d(80, momentum=batch_norm_momentum)\n",
    "        self.l2 = nn.Linear(80, 30)\n",
    "        self.bnm2 = nn.BatchNorm1d(30, momentum=batch_norm_momentum)\n",
    "        self.l3 = nn.Linear(30, 20)\n",
    "        self.bnm3 = nn.BatchNorm1d(20, momentum=batch_norm_momentum)\n",
    "        self.l4 = nn.Linear(20, 1)\n",
    "       \n",
    "        \n",
    "        self.dropout = nn.Dropout(dropout)\n",
    "        \n",
    "        self.Relu = nn.ReLU()\n",
    "        \n",
    "        self.initialize_weights()\n",
    "\n",
    "    def forward(self, x):\n",
    "        x = self.Relu(self.l1(x))\n",
    "        x = self.dropout(x)\n",
    "        x = self.bnm1(x)\n",
    "        x = self.Relu(self.l2(x))\n",
    "        x = self.dropout(x)\n",
    "        x = self.bnm2(x)\n",
    "        x = self.Relu(self.l3(x))\n",
    "        x = self.dropout(x)\n",
    "        x = self.bnm3(x)\n",
    "        y_pred = self.l4(x)\n",
    "        return y_pred\n",
    "    \n",
    "    def initialize_weights(self):  \n",
    "        for m in self.modules():\n",
    "            if isinstance(m,nn.Linear):\n",
    "                nn.init.kaiming_uniform_(m.weight)\n",
    "                nn.init.constant_(m.bias,0)"
   ]
  },
  {
   "cell_type": "markdown",
   "id": "e57a1400-1f62-44e5-9026-209b479fcf3d",
   "metadata": {
    "tags": []
   },
   "source": [
    "#### Create the model from the class"
   ]
  },
  {
   "cell_type": "code",
   "execution_count": 63,
   "id": "5b406dbb-9c51-493b-b1da-4c9ab213d080",
   "metadata": {},
   "outputs": [],
   "source": [
    "model = Model()"
   ]
  },
  {
   "cell_type": "markdown",
   "id": "3e101696-93aa-4565-b45c-1c62fa722fcc",
   "metadata": {},
   "source": [
    "Use the GPU if available otherwise the CPU"
   ]
  },
  {
   "cell_type": "code",
   "execution_count": 64,
   "id": "6c895e09-4384-4e56-8b82-d7d7f3732e67",
   "metadata": {},
   "outputs": [],
   "source": [
    "device = torch.device(\"cuda:0\" if torch.cuda.is_available() else \"cpu\")"
   ]
  },
  {
   "cell_type": "markdown",
   "id": "f1001b5f-fb7c-47ef-9f43-50aeb6b6e7b6",
   "metadata": {},
   "source": [
    "Move model on the GPU if active"
   ]
  },
  {
   "cell_type": "code",
   "execution_count": 65,
   "id": "80c4b717-a0e5-4142-abd4-45c6e9945544",
   "metadata": {},
   "outputs": [
    {
     "data": {
      "text/plain": [
       "Model(\n",
       "  (l1): Linear(in_features=112, out_features=80, bias=True)\n",
       "  (bnm1): BatchNorm1d(80, eps=1e-05, momentum=0.1, affine=True, track_running_stats=True)\n",
       "  (l2): Linear(in_features=80, out_features=30, bias=True)\n",
       "  (bnm2): BatchNorm1d(30, eps=1e-05, momentum=0.1, affine=True, track_running_stats=True)\n",
       "  (l3): Linear(in_features=30, out_features=20, bias=True)\n",
       "  (bnm3): BatchNorm1d(20, eps=1e-05, momentum=0.1, affine=True, track_running_stats=True)\n",
       "  (l4): Linear(in_features=20, out_features=1, bias=True)\n",
       "  (dropout): Dropout(p=0.1, inplace=False)\n",
       "  (Relu): ReLU()\n",
       ")"
      ]
     },
     "execution_count": 65,
     "metadata": {},
     "output_type": "execute_result"
    }
   ],
   "source": [
    "model.to(device)"
   ]
  },
  {
   "cell_type": "markdown",
   "id": "84bc31f7-e68c-4a37-b6ad-82ce55809841",
   "metadata": {
    "tags": []
   },
   "source": [
    "#### 6.3.2 Specify the optimizer "
   ]
  },
  {
   "cell_type": "markdown",
   "id": "f275b3ce-4d77-4851-bf9f-52137db471ac",
   "metadata": {},
   "source": [
    "Write about Adam optimizer, maybe add few formulas to describe or idk"
   ]
  },
  {
   "cell_type": "code",
   "execution_count": 66,
   "id": "ac543903-9cc5-4ed9-8899-71d94d97e20e",
   "metadata": {},
   "outputs": [],
   "source": [
    "optimizer = optim.Adam(model.parameters(), lr=lr , weight_decay=weight_decay)"
   ]
  },
  {
   "cell_type": "markdown",
   "id": "e81b0d3b-d74b-42f4-b075-cce555d2a780",
   "metadata": {
    "tags": []
   },
   "source": [
    "#### 6.3.3 Specify the loss function"
   ]
  },
  {
   "cell_type": "markdown",
   "id": "01ddc50b-b2c0-43df-ae0d-3988b0d887d3",
   "metadata": {},
   "source": [
    "write also about this loss function"
   ]
  },
  {
   "cell_type": "code",
   "execution_count": 67,
   "id": "ad670d58-7ebf-44f3-8ac3-292781f90e7f",
   "metadata": {},
   "outputs": [],
   "source": [
    "criterion = nn.BCEWithLogitsLoss()"
   ]
  },
  {
   "cell_type": "markdown",
   "id": "3e890cca-a32e-4d4a-8ccc-c0c5d5d58467",
   "metadata": {},
   "source": [
    "#### 6.3.4 Adjust learning rate"
   ]
  },
  {
   "cell_type": "markdown",
   "id": "d91906bc-2266-4fa5-b02f-ee05da694788",
   "metadata": {},
   "source": [
    "explain chosen scheduler etc "
   ]
  },
  {
   "cell_type": "code",
   "execution_count": 68,
   "id": "90106514-2174-4772-9033-751002065dce",
   "metadata": {},
   "outputs": [],
   "source": [
    "lambda_scheduler = lambda epoch: coef_sheduler ** epoch\n",
    "scheduler = torch.optim.lr_scheduler.LambdaLR(optimizer, lr_lambda=lambda_scheduler)\n"
   ]
  },
  {
   "cell_type": "markdown",
   "id": "347c7561-eb08-4766-9794-498d2c62c0ce",
   "metadata": {
    "tags": []
   },
   "source": [
    "#### 6.3.4 Accuracy calculation"
   ]
  },
  {
   "cell_type": "code",
   "execution_count": 69,
   "id": "8bc80f85-6f7d-41ac-8ebb-161feb4df6f1",
   "metadata": {},
   "outputs": [],
   "source": [
    "def b_acc(y_pred, y_test):\n",
    "    y_pred_tag = torch.round(torch.sigmoid(y_pred))\n",
    "\n",
    "    correct_results_sum = (y_pred_tag == y_test).sum().float()\n",
    "    acc = correct_results_sum/y_test.shape[0]\n",
    "    acc = acc * 100\n",
    "    \n",
    "    return acc"
   ]
  },
  {
   "cell_type": "markdown",
   "id": "a0e91185-dd19-4f34-b471-c90f54fcb03b",
   "metadata": {
    "tags": []
   },
   "source": [
    "### 6.4 Training"
   ]
  },
  {
   "cell_type": "markdown",
   "id": "7f9cb47e-c57c-4c6f-abb5-588b6a541be9",
   "metadata": {
    "tags": []
   },
   "source": [
    "#### Create a function to train the model and validate it at each epoch"
   ]
  },
  {
   "cell_type": "code",
   "execution_count": 70,
   "id": "af6db7d9-9d7d-413c-999e-2eb9a15f5bf6",
   "metadata": {},
   "outputs": [],
   "source": [
    "def train(model: torch.nn.Module, train_loader: torch.utils.data.DataLoader, val_loader: torch.utils.data.DataLoader, loss_fn: torch.nn.Module, optimizer: torch.optim.Optimizer, epochs: int):\n",
    "    accs_train = []\n",
    "    losses_train = []\n",
    "    accs_val = []\n",
    "    losses_val = []\n",
    "    \n",
    "    for e in range(1, epochs+1):\n",
    "        epoch_loss_train = 0\n",
    "        epoch_acc_train = 0\n",
    "        epoch_loss_val = 0\n",
    "        epoch_acc_val = 0\n",
    "        \n",
    "        #TRAINING LOOP FOR EACH EPOCH\n",
    "        model.train()\n",
    "        for X_batch, y_batch in train_loader:\n",
    "            X_batch, y_batch = X_batch.to(device), y_batch.to(device)\n",
    "            optimizer.zero_grad()\n",
    "\n",
    "            y_pred = model(X_batch)\n",
    "\n",
    "            loss = criterion(y_pred, y_batch)\n",
    "            acc_train = b_acc(y_pred, y_batch)\n",
    "            \n",
    "            loss.backward()\n",
    "            optimizer.step()\n",
    "\n",
    "            epoch_loss_train += loss.item()\n",
    "            epoch_acc_train += acc_train.item()\n",
    "            \n",
    "        scheduler.step()\n",
    "        \n",
    "        losses_train.append(epoch_loss_train/len(train_loader))\n",
    "        accs_train.append(epoch_acc_train/len(train_loader))\n",
    "        \n",
    "    \n",
    "        #VALIDATION LOOP FOR EACH EPOCH\n",
    "        model.eval()\n",
    "        with torch.no_grad():\n",
    "            for X_batch, y_batch in val_loader:\n",
    "                X_batch, y_batch = X_batch.to(device), y_batch.to(device)\n",
    "\n",
    "                y_val_pred = model(X_batch)\n",
    "\n",
    "                loss_val = criterion(y_val_pred, y_batch)\n",
    "                acc_val = b_acc(y_val_pred, y_batch)\n",
    "\n",
    "                epoch_loss_val += loss_val.item()\n",
    "                epoch_acc_val += acc_val.item()\n",
    "\n",
    "            losses_val.append(epoch_loss_val/len(val_loader))\n",
    "            accs_val.append(epoch_acc_val/len(val_loader))          \n",
    "        \n",
    "        print(f'Epoch {e+0:03}: | Train Loss: {epoch_loss_train/len(train_loader):.5f} | Val Loss: {epoch_loss_val/len(val_loader):.5f} | Train Acc: {epoch_acc_train/len(train_loader):.3f} | Val Acc: {epoch_acc_val/len(val_loader):.3f}')\n",
    "    return losses_train, accs_train, losses_val, accs_val"
   ]
  },
  {
   "cell_type": "markdown",
   "id": "833c9c0e-76d6-42a7-907c-7465bdab9942",
   "metadata": {},
   "source": [
    "#### Train the model"
   ]
  },
  {
   "cell_type": "code",
   "execution_count": 71,
   "id": "49f5930d-306e-4da3-b7c4-cea2c5195777",
   "metadata": {},
   "outputs": [
    {
     "name": "stdout",
     "output_type": "stream",
     "text": [
      "Epoch 001: | Train Loss: 0.41613 | Val Loss: 0.40349 | Train Acc: 80.453 | Val Acc: 79.737\n",
      "Epoch 002: | Train Loss: 0.39365 | Val Loss: 0.38435 | Train Acc: 81.433 | Val Acc: 81.489\n",
      "Epoch 003: | Train Loss: 0.38682 | Val Loss: 0.39024 | Train Acc: 81.816 | Val Acc: 80.772\n",
      "Epoch 004: | Train Loss: 0.38267 | Val Loss: 0.37605 | Train Acc: 81.971 | Val Acc: 80.732\n",
      "Epoch 005: | Train Loss: 0.37886 | Val Loss: 0.38573 | Train Acc: 82.134 | Val Acc: 81.091\n",
      "Epoch 006: | Train Loss: 0.37672 | Val Loss: 0.38122 | Train Acc: 82.282 | Val Acc: 80.414\n",
      "Epoch 007: | Train Loss: 0.37413 | Val Loss: 0.38019 | Train Acc: 82.345 | Val Acc: 80.932\n",
      "Epoch 008: | Train Loss: 0.37273 | Val Loss: 0.38612 | Train Acc: 82.488 | Val Acc: 80.693\n",
      "Epoch 009: | Train Loss: 0.37222 | Val Loss: 0.38300 | Train Acc: 82.528 | Val Acc: 81.011\n",
      "Epoch 010: | Train Loss: 0.37209 | Val Loss: 0.38055 | Train Acc: 82.532 | Val Acc: 81.250\n",
      "Epoch 011: | Train Loss: 0.37103 | Val Loss: 0.38008 | Train Acc: 82.559 | Val Acc: 80.653\n",
      "Epoch 012: | Train Loss: 0.37178 | Val Loss: 0.38517 | Train Acc: 82.509 | Val Acc: 80.932\n",
      "Epoch 013: | Train Loss: 0.37241 | Val Loss: 0.38185 | Train Acc: 82.482 | Val Acc: 80.852\n",
      "Epoch 014: | Train Loss: 0.37154 | Val Loss: 0.37982 | Train Acc: 82.627 | Val Acc: 80.892\n",
      "Epoch 015: | Train Loss: 0.37102 | Val Loss: 0.38277 | Train Acc: 82.526 | Val Acc: 81.369\n",
      "Epoch 016: | Train Loss: 0.37052 | Val Loss: 0.38259 | Train Acc: 82.597 | Val Acc: 81.051\n",
      "Epoch 017: | Train Loss: 0.37012 | Val Loss: 0.38504 | Train Acc: 82.502 | Val Acc: 80.971\n",
      "Epoch 018: | Train Loss: 0.37045 | Val Loss: 0.38222 | Train Acc: 82.625 | Val Acc: 81.210\n",
      "Epoch 019: | Train Loss: 0.37129 | Val Loss: 0.38153 | Train Acc: 82.590 | Val Acc: 80.971\n",
      "Epoch 020: | Train Loss: 0.37221 | Val Loss: 0.38208 | Train Acc: 82.497 | Val Acc: 81.131\n",
      "Epoch 021: | Train Loss: 0.37106 | Val Loss: 0.37611 | Train Acc: 82.618 | Val Acc: 81.011\n",
      "Epoch 022: | Train Loss: 0.37081 | Val Loss: 0.37287 | Train Acc: 82.498 | Val Acc: 81.369\n",
      "Epoch 023: | Train Loss: 0.37132 | Val Loss: 0.37917 | Train Acc: 82.570 | Val Acc: 81.051\n",
      "Epoch 024: | Train Loss: 0.37108 | Val Loss: 0.38379 | Train Acc: 82.619 | Val Acc: 81.170\n",
      "Epoch 025: | Train Loss: 0.37009 | Val Loss: 0.37740 | Train Acc: 82.546 | Val Acc: 81.091\n",
      "Epoch 026: | Train Loss: 0.37006 | Val Loss: 0.38435 | Train Acc: 82.608 | Val Acc: 81.051\n",
      "Epoch 027: | Train Loss: 0.37004 | Val Loss: 0.38272 | Train Acc: 82.638 | Val Acc: 81.290\n",
      "Epoch 028: | Train Loss: 0.37160 | Val Loss: 0.37661 | Train Acc: 82.460 | Val Acc: 81.170\n",
      "Epoch 029: | Train Loss: 0.37060 | Val Loss: 0.37665 | Train Acc: 82.566 | Val Acc: 81.250\n",
      "Epoch 030: | Train Loss: 0.37091 | Val Loss: 0.38038 | Train Acc: 82.562 | Val Acc: 81.051\n"
     ]
    }
   ],
   "source": [
    "loss_train, acc_train, loss_val, acc_val =  train(model, train_loader, val_loader, criterion, optimizer, epochs)"
   ]
  },
  {
   "cell_type": "markdown",
   "id": "d77d843f-8b21-4bf9-9730-6f68b068674b",
   "metadata": {},
   "source": [
    "### 6.5 Validation"
   ]
  },
  {
   "cell_type": "markdown",
   "id": "50400192-3359-40b6-bb68-ab5cb8914fb7",
   "metadata": {},
   "source": [
    "Plot the evolution of the loss and the accuracy with the epoch"
   ]
  },
  {
   "cell_type": "code",
   "execution_count": 72,
   "id": "6fbf7fd3-6562-486f-8505-d1b10ec6811e",
   "metadata": {},
   "outputs": [
    {
     "data": {
      "text/plain": [
       "Text(0, 0.5, 'Accuracy')"
      ]
     },
     "execution_count": 72,
     "metadata": {},
     "output_type": "execute_result"
    },
    {
     "data": {
      "image/png": "[encoded data removed]",
      "text/plain": [
       "<Figure size 1008x432 with 2 Axes>"
      ]
     },
     "metadata": {},
     "output_type": "display_data"
    }
   ],
   "source": [
    "fig, ax = plt.subplots(nrows=1, ncols=2, figsize=(14,6))\n",
    "\n",
    "ax[0].set_title('Loss with respect to epochs')\n",
    "ax[0].plot(loss_train)\n",
    "ax[0].plot(loss_val)\n",
    "ax[0].legend(['Training', 'Validation'])\n",
    "ax[0].set_xlabel('epochs')\n",
    "ax[0].set_ylabel('Loss')\n",
    "\n",
    "ax[1].set_title('Accuracy with respect to epochs')\n",
    "ax[1].plot(acc_train)\n",
    "ax[1].plot(acc_val)\n",
    "ax[1].legend(['Training', 'Validation'])\n",
    "ax[1].set_xlabel('epochs')\n",
    "ax[1].set_ylabel('Accuracy')"
   ]
  }
 ],
 "metadata": {
  "kernelspec": {
   "display_name": "Python 3 (ipykernel)",
   "language": "python",
   "name": "python3"
  },
  "language_info": {
   "codemirror_mode": {
    "name": "ipython",
    "version": 3
   },
   "file_extension": ".py",
   "mimetype": "text/x-python",
   "name": "python",
   "nbconvert_exporter": "python",
   "pygments_lexer": "ipython3",
   "version": "3.8.12"
  },
  "widgets": {
   "application/vnd.jupyter.widget-state+json": {
    "state": {},
    "version_major": 2,
    "version_minor": 0
   }
  }
 },
 "nbformat": 4,
 "nbformat_minor": 5
}
