{
 "cells": [
  {
   "cell_type": "markdown",
   "id": "57da75c6-9378-4cbb-aff7-9bc016fc8072",
   "metadata": {
    "tags": []
   },
   "source": [
    "# 0. Imports"
   ]
  },
  {
   "cell_type": "code",
   "execution_count": 1,
   "id": "2102ca8f-4d72-4eb2-a361-09244c8d9968",
   "metadata": {
    "cell_id": "3f85548a-39d6-4cda-83bc-61ce3077eb94",
    "deepnote_cell_height": 189,
    "deepnote_cell_type": "code",
    "deepnote_to_be_reexecuted": false,
    "execution_millis": 2730,
    "execution_start": 1652263161409,
    "source_hash": "fd9ca64a",
    "tags": []
   },
   "outputs": [],
   "source": [
    "import pandas as pd\n",
    "import numpy as np\n",
    "import scipy\n",
    "from typing import Any, Callable\n",
    "import helpers\n",
    "import matplotlib.pyplot as plt\n",
    "import seaborn as sns\n",
    "from sklearn.linear_model import LinearRegression\n",
    "from sklearn.metrics import mean_squared_error, r2_score\n",
    "from tqdm import tqdm\n",
    "from sklearn.model_selection import cross_val_score\n",
    "from sklearn.neural_network import MLPRegressor\n",
    "from sklearn.model_selection import train_test_split\n",
    "from zipfile import ZipFile"
   ]
  },
  {
   "cell_type": "code",
   "execution_count": 2,
   "id": "af990389-5317-4bc0-b8a8-96172839eb01",
   "metadata": {},
   "outputs": [
    {
     "data": {
      "text/html": [
       "<style>\n",
       "table {float:left}\n",
       "</style>\n"
      ],
      "text/plain": [
       "<IPython.core.display.HTML object>"
      ]
     },
     "metadata": {},
     "output_type": "display_data"
    }
   ],
   "source": [
    "%%html\n",
    "<style>\n",
    "table {float:left}\n",
    "</style>"
   ]
  },
  {
   "cell_type": "code",
   "execution_count": 3,
   "id": "1c5a7eb4-a91c-4199-bced-3cad9df3d0c7",
   "metadata": {
    "cell_id": "00001-ec7f0b25-463d-4360-a8b8-d46f48175ef8",
    "deepnote_cell_height": 261,
    "deepnote_cell_type": "code",
    "deepnote_to_be_reexecuted": false,
    "execution_millis": 4,
    "execution_start": 1652263164142,
    "source_hash": "705f51f9",
    "tags": []
   },
   "outputs": [],
   "source": [
    "#Settings for the plots \n",
    "sns.set_style(\"ticks\")\n",
    "colors= sns.color_palette('colorblind')\n",
    "plt.rc('xtick', labelsize=12) \n",
    "plt.rc('ytick', labelsize=12) \n",
    "plt.rc('axes', titlesize=18)\n",
    "plt.rc('axes', labelsize=13)\n",
    "plt.rcParams['ytick.major.size'] = 7\n",
    "plt.rcParams['ytick.minor.size'] = 6\n",
    "\n",
    "sns.set_style(\"darkgrid\", {'axes.grid' : False, 'ytick.left': True, 'xtick.bottom': True})"
   ]
  },
  {
   "cell_type": "code",
   "execution_count": 4,
   "id": "f57ef8d9-9559-4272-9b74-5b3560825e20",
   "metadata": {
    "cell_id": "00002-97f92ba4-eeb4-4e7a-adb1-3f2f2d59684f",
    "deepnote_cell_height": 81,
    "deepnote_cell_type": "code",
    "deepnote_to_be_reexecuted": false,
    "execution_millis": 471,
    "execution_start": 1652263164190,
    "source_hash": "b85b4859"
   },
   "outputs": [],
   "source": [
    "X_train = pd.read_csv(\"project-data-merged/df_X_train.csv\", index_col=0)\n",
    "y_train = pd.read_csv(\"project-data-merged/df_y_train.csv\", index_col=0)\n",
    "\n",
    "X_val = pd.read_csv(\"project-data-merged/df_X_val.csv\", index_col=0)\n",
    "y_val = pd.read_csv(\"project-data-merged/df_y_val.csv\", index_col=0)\n",
    "\n",
    "X_test = pd.read_csv(\"project-data-merged/df_X_test.csv\", index_col=0)"
   ]
  },
  {
   "cell_type": "code",
   "execution_count": 1,
   "id": "ab50e9a9-1d33-46d9-85aa-7228608e4980",
   "metadata": {},
   "outputs": [
    {
     "ename": "NameError",
     "evalue": "name 'X_train' is not defined",
     "output_type": "error",
     "traceback": [
      "\u001b[1;31m---------------------------------------------------------------------------\u001b[0m",
      "\u001b[1;31mNameError\u001b[0m                                 Traceback (most recent call last)",
      "Input \u001b[1;32mIn [1]\u001b[0m, in \u001b[0;36m<module>\u001b[1;34m\u001b[0m\n\u001b[1;32m----> 1\u001b[0m display(\u001b[43mX_train\u001b[49m)\n",
      "\u001b[1;31mNameError\u001b[0m: name 'X_train' is not defined"
     ]
    }
   ],
   "source": [
    "display(X_train);"
   ]
  },
  {
   "cell_type": "code",
   "execution_count": 6,
   "id": "b4a8c660-3e5e-4345-b28f-825fce796619",
   "metadata": {
    "cell_id": "651a012370724907808fc5ac280a2c59",
    "deepnote_cell_height": 99,
    "deepnote_cell_type": "code",
    "deepnote_to_be_reexecuted": false,
    "execution_millis": 3,
    "execution_start": 1652266498524,
    "source_hash": "a6310317",
    "tags": []
   },
   "outputs": [],
   "source": [
    "X_train.replace(['NO','YES'],[False,True],inplace=True)\n",
    "X_val.replace(['NO','YES'],[False,True],inplace=True)\n",
    "Sa_T_values = [float(x) for x in X_train.columns[:105]]"
   ]
  },
  {
   "cell_type": "markdown",
   "id": "508d14b6-1f09-4445-9224-4afd32f012ad",
   "metadata": {},
   "source": [
    "# 1. Imputation using Sci-Kit Learn"
   ]
  },
  {
   "cell_type": "markdown",
   "id": "ce94a6d9-aed2-43d6-a60f-be10c98e5596",
   "metadata": {},
   "source": [
    "## 1.1. Create training and testing dataset"
   ]
  },
  {
   "cell_type": "markdown",
   "id": "e73b1052-7b44-4603-83ab-1cec7d00590b",
   "metadata": {},
   "source": [
    "First we look how many full rows we have in the training and validation set"
   ]
  },
  {
   "cell_type": "code",
   "execution_count": 7,
   "id": "5cdb1040-68aa-40fe-91a8-01d583c33414",
   "metadata": {
    "cell_id": "00027-adef56c4-e18f-4843-a896-cfd286b8b43d",
    "deepnote_cell_height": 241.60000610351562,
    "deepnote_cell_type": "code",
    "deepnote_to_be_reexecuted": false,
    "execution_millis": 42,
    "execution_start": 1652263170570,
    "source_hash": "57947672"
   },
   "outputs": [
    {
     "name": "stdout",
     "output_type": "stream",
     "text": [
      "In the TRAINING set; there is: 3431 full rows, which represents: 2.93% of the training set\n",
      "In the VALIDATING set; there is: 2512 full rows, which represents: 100.0% of the validating set\n",
      "In TOTAL, we have: 5024 full rows, which represents 4.2% of the dataset, excluding the test data\n",
      "In the TESTING set; there is: 48352 full rows, which represents: 100.0% of the testing set\n"
     ]
    }
   ],
   "source": [
    "full_rows_train = X_train.index[X_train.isnull().any(axis=1) == False].tolist()\n",
    "full_rows_val = X_val.index[X_val.isnull().any(axis=1) == False].tolist()\n",
    "full_rows_test = X_test.index[X_test.isnull().any(axis=1) == False].tolist()\n",
    "#print(full_rows)\n",
    "print(f'In the TRAINING set; there is: {np.shape(full_rows_train)[0]} full rows, which represents: {np.round(np.shape(full_rows_train)[0]/np.shape(X_train)[0] * 100,2)}% of the training set')\n",
    "print(f'In the VALIDATING set; there is: {np.shape(full_rows_val)[0]} full rows, which represents: {np.round(np.shape(full_rows_val)[0]/np.shape(X_val)[0] * 100,2)}% of the validating set')\n",
    "print(f'In TOTAL, we have: {np.shape(full_rows_val)[0] + np.shape(full_rows_val)[0]} full rows, which represents {np.round( (np.shape(full_rows_val)[0] + np.shape(full_rows_val)[0]) / (np.shape(X_train)[0] + np.shape(X_val)[0]) * 100,2)}% of the dataset, excluding the test data')\n",
    "print(f'In the TESTING set; there is: {np.shape(full_rows_test)[0]} full rows, which represents: {np.round(np.shape(full_rows_test)[0]/np.shape(X_test)[0] * 100,2)}% of the testing set')\n",
    "\n",
    "\n",
    "#print(f' type(full_rows) = {type(full_rows)}')\n",
    "#print(f' type(full_rows[0]) = {type(full_rows[0])}')\n"
   ]
  },
  {
   "cell_type": "markdown",
   "id": "3fd72df5-6b71-43b9-bc69-6fcc8bfb97ad",
   "metadata": {},
   "source": [
    "We create a new dataset which merges all the rows of X_train whoes rows are full with the X_val dataset."
   ]
  },
  {
   "cell_type": "code",
   "execution_count": 8,
   "id": "b5096c23-da92-48da-a015-323bb61a06dc",
   "metadata": {},
   "outputs": [],
   "source": [
    "#Keep only the rows that are empty\n",
    "empty_rows = X_train.index.to_list()\n",
    "for ele in sorted(full_rows_train, reverse = True):\n",
    "    del empty_rows[ele]"
   ]
  },
  {
   "cell_type": "code",
   "execution_count": 9,
   "id": "3a689137-b411-4876-b4c4-b8377bce53b8",
   "metadata": {},
   "outputs": [],
   "source": [
    "#Values where there is corrupted data, i.e. a value of -999\n",
    "corrupted_columns = X_train.columns[X_train.eq(-999).any(axis=0) == True].to_list()\n",
    "corrupted_columns_validate = X_val.columns[X_train.eq(-999).any(axis=0) == True].to_list()"
   ]
  },
  {
   "cell_type": "code",
   "execution_count": 10,
   "id": "297b65d5-6f4b-4440-a53a-6fd91c4d3b97",
   "metadata": {},
   "outputs": [],
   "source": [
    "X_data = pd.concat([X_train.iloc[full_rows_train].drop(columns = corrupted_columns), X_val.drop(columns=corrupted_columns_validate)], ignore_index=True)"
   ]
  },
  {
   "cell_type": "markdown",
   "id": "f4f8ec22-46d6-43cc-b5ea-0872cb1c3446",
   "metadata": {},
   "source": [
    "We then split the new X_train, X_val merged dataset called X_data into two sets, one for training the algorithm and the second one to test it. The rows are first mixed before the splitting."
   ]
  },
  {
   "cell_type": "code",
   "execution_count": 11,
   "id": "25bb2d95-8b0a-4f39-9f65-93d5ff29dc9b",
   "metadata": {},
   "outputs": [],
   "source": [
    "X_training, X_testing = helpers.create_train_test_dataset_for_regression(X_data,0.95,0.05)"
   ]
  },
  {
   "cell_type": "markdown",
   "id": "ea34b92b-8155-401a-9a64-eacd06590d68",
   "metadata": {},
   "source": [
    "## 1.2. Remove some of the data (as np.nan)"
   ]
  },
  {
   "cell_type": "markdown",
   "id": "c94220ff-9660-4138-a91b-d7c2bb6687e3",
   "metadata": {},
   "source": [
    "We then need to hide a few values of the testing set in order to validate the model. To do so, first we look how the missing values are disperesed in the original dataset in order to create our own testing set which reflects the same missing values."
   ]
  },
  {
   "cell_type": "markdown",
   "id": "1e96f4d4-ef28-4993-b943-78e3121f0bf0",
   "metadata": {},
   "source": [
    "### 1.2.1. Check the % of missing values in the raw database"
   ]
  },
  {
   "cell_type": "code",
   "execution_count": 12,
   "id": "6c3ae38d-b2cb-4a9b-b737-6b4e989d0ed6",
   "metadata": {},
   "outputs": [
    {
     "name": "stdout",
     "output_type": "stream",
     "text": [
      " mean is: 0.2995\n",
      " variance is: 0.00474\n"
     ]
    },
    {
     "data": {
      "image/png": "[encoded data removed]",
      "text/plain": [
       "<Figure size 432x288 with 1 Axes>"
      ]
     },
     "metadata": {},
     "output_type": "display_data"
    }
   ],
   "source": [
    "sum_empty = X_train.iloc[empty_rows,:105].isnull().sum(axis=0).to_numpy()/np.shape(X_train.iloc[empty_rows,:105].isnull())[0]\n",
    "Sa_T_values = [float(x) for x in X_train.columns[:105]]\n",
    "plt.bar(Sa_T_values, sum_empty)\n",
    "plt.title('sum of NaN per columns')\n",
    "plt.xlabel('T in Sa(T)')\n",
    "plt.ylabel('sum of the NaN in the column')\n",
    "print(f' mean is: {np.round(np.mean(sum_empty),5)}')\n",
    "print(f' variance is: {np.round(np.std(sum_empty),5)}')"
   ]
  },
  {
   "cell_type": "markdown",
   "id": "a45dd302-e55d-41e0-a6fb-496f44aacd6a",
   "metadata": {},
   "source": [
    "We see that in average 30% of the data is missing and that the variance is pretty small"
   ]
  },
  {
   "cell_type": "markdown",
   "id": "1e6fffdf-bfeb-47f4-b208-4dd580a17c0f",
   "metadata": {},
   "source": [
    "### 1.2.2. Remove some values of the testing set"
   ]
  },
  {
   "cell_type": "markdown",
   "id": "6f022a23-3abf-4778-a4c5-0168e65152fd",
   "metadata": {},
   "source": [
    "We therefore hide 30% of the dataset while also keeping the original datas to be able to assess the quality of the model"
   ]
  },
  {
   "cell_type": "code",
   "execution_count": 13,
   "id": "f453981a-902d-4d22-87c3-bd02562c6ffb",
   "metadata": {},
   "outputs": [],
   "source": [
    "X_testing_original, X_testing_missing_values = helpers.hide_values_SaT(X_testing)"
   ]
  },
  {
   "cell_type": "code",
   "execution_count": 14,
   "id": "f237b754-1b65-4351-a444-55fed6cf9a5a",
   "metadata": {},
   "outputs": [
    {
     "name": "stdout",
     "output_type": "stream",
     "text": [
      " mean is: 0.2906\n",
      " variance is: 0.02745\n"
     ]
    },
    {
     "data": {
      "image/png": "[encoded data removed]",
      "text/plain": [
       "<Figure size 432x288 with 1 Axes>"
      ]
     },
     "metadata": {},
     "output_type": "display_data"
    }
   ],
   "source": [
    "X_testing_original, X_testing_missing_values = helpers.hide_values_SaT(X_testing)\n",
    "\n",
    "sum_empty = X_testing_missing_values.iloc[:,:105].isnull().sum(axis=0).to_numpy()/np.shape(X_testing_missing_values.iloc[:,:105])[0]\n",
    "plt.bar(Sa_T_values, sum_empty[:105])\n",
    "plt.title('sum of NaN per columns')\n",
    "plt.xlabel('T in Sa(T)')\n",
    "plt.ylabel('sum of the NaN in the column')\n",
    "print(f' mean is: {np.round(np.mean(sum_empty),5)}')\n",
    "print(f' variance is: {np.round(np.std(sum_empty),5)}')"
   ]
  },
  {
   "cell_type": "markdown",
   "id": "401b31c8-8d4f-4d01-84c2-0b069acdb42d",
   "metadata": {},
   "source": [
    "Sanity check, in red the missing values "
   ]
  },
  {
   "cell_type": "code",
   "execution_count": 15,
   "id": "db09f2b6-96d6-4cd0-a4df-eabca3b0cc5d",
   "metadata": {},
   "outputs": [
    {
     "data": {
      "text/plain": [
       "<matplotlib.collections.PathCollection at 0x2b289312f10>"
      ]
     },
     "execution_count": 15,
     "metadata": {},
     "output_type": "execute_result"
    },
    {
     "data": {
      "image/png": "[encoded data removed]",
      "text/plain": [
       "<Figure size 432x288 with 1 Axes>"
      ]
     },
     "metadata": {},
     "output_type": "display_data"
    }
   ],
   "source": [
    "plt.scatter(Sa_T_values,X_testing_original.iloc[10,:105],color='r')\n",
    "plt.scatter(Sa_T_values,X_testing_missing_values.iloc[10,:105],color='b')"
   ]
  },
  {
   "cell_type": "markdown",
   "id": "7e9fd07e-3579-41d5-9c04-c2ac91c6886f",
   "metadata": {},
   "source": [
    "## 1.3. Training the model and guessing the missing values"
   ]
  },
  {
   "cell_type": "markdown",
   "id": "0421c8ad-a6d0-4e24-85e7-ee7d6d85b99c",
   "metadata": {
    "cell_id": "00029-99f43225-c071-4bd7-8b81-448b45e36c5f",
    "deepnote_cell_height": 52.399993896484375,
    "deepnote_cell_type": "markdown"
   },
   "source": [
    "### 1.3.1. Imports for sci-kit learn"
   ]
  },
  {
   "cell_type": "code",
   "execution_count": 16,
   "id": "09805c7a-d932-457f-b3b1-7f648bc7e01e",
   "metadata": {
    "cell_id": "00030-05c201b9-3571-4bf8-b16e-63138e37c04d",
    "deepnote_cell_height": 117,
    "deepnote_cell_type": "code",
    "deepnote_to_be_reexecuted": false,
    "execution_millis": 44,
    "execution_start": 1652263170611,
    "owner_user_id": "dbb60ec9-fb43-4975-bfb1-9ceed7d857e2",
    "source_hash": "8b1c4371"
   },
   "outputs": [],
   "source": [
    "from sklearn.experimental import enable_iterative_imputer\n",
    "from sklearn.impute import IterativeImputer\n",
    "from sklearn.linear_model import BayesianRidge\n",
    "from sklearn.tree import DecisionTreeRegressor\n",
    "from sklearn.ensemble import ExtraTreesRegressor\n",
    "from sklearn.neighbors import KNeighborsRegressor"
   ]
  },
  {
   "cell_type": "markdown",
   "id": "9b4fcd82-7fb3-4c6e-9d5f-4552e7e9c964",
   "metadata": {},
   "source": [
    "Normalize the training set "
   ]
  },
  {
   "cell_type": "code",
   "execution_count": 17,
   "id": "603bbcd4-3838-4172-9148-e430fdaaf2c0",
   "metadata": {},
   "outputs": [],
   "source": [
    "X_training.iloc[:,:105] = (X_training.iloc[:,:105]-X_training.iloc[:,:105].mean())/X_training.iloc[:,:105].std()"
   ]
  },
  {
   "cell_type": "markdown",
   "id": "8c1eaaf8-32a5-4b10-9024-147d42ed81f2",
   "metadata": {
    "tags": []
   },
   "source": [
    "### 1.3.2 method = KNNRegressor"
   ]
  },
  {
   "cell_type": "markdown",
   "id": "d372310c-b2bc-4d01-9092-6f1a6e406e22",
   "metadata": {},
   "source": [
    "Try the `KNearestNeigbhour` imputation method for several different values of `K`."
   ]
  },
  {
   "cell_type": "code",
   "execution_count": null,
   "id": "9b867e52-d98f-4235-a155-1ea599bfebbd",
   "metadata": {},
   "outputs": [
    {
     "name": "stderr",
     "output_type": "stream",
     "text": [
      "  9%|███████                                                                            | 3/35 [00:08<01:26,  2.71s/it]"
     ]
    }
   ],
   "source": [
    "K_value = 35\n",
    "estimations, score = helpers.KNNReg_K_finder(training=X_training, missing=X_testing_missing_values, original=X_testing_original, K=K_value)"
   ]
  },
  {
   "cell_type": "markdown",
   "id": "6fc36e0d-5767-4460-840f-01bb185c6ae5",
   "metadata": {},
   "source": [
    "Evolution of the score (evaluated using the mean square root error, MSRE) with respect to the values of `K`. The higher the score, the worst is the model."
   ]
  },
  {
   "cell_type": "code",
   "execution_count": null,
   "id": "8cbe71bf-dedb-48d0-857a-43e248ccbbca",
   "metadata": {},
   "outputs": [],
   "source": [
    "plt.plot(range(2,K_value+1),score,marker='o', markersize=7)\n",
    "plt.suptitle('Score in with resepect to K', y=1.05, fontsize=25)\n",
    "plt.title('The higher the score, the less good is the method', fontsize=15)\n",
    "plt.xlabel('K')\n",
    "plt.ylabel('score (MSRE)')"
   ]
  },
  {
   "cell_type": "markdown",
   "id": "e2766678-a5bb-4247-9c5c-e45186307aa2",
   "metadata": {},
   "source": [
    "Example of a curve being fitted by the model with `K=2`. "
   ]
  },
  {
   "cell_type": "code",
   "execution_count": null,
   "id": "2c32905e-b26f-4639-9509-63d3a1417b2f",
   "metadata": {},
   "outputs": [],
   "source": [
    "curve_nbr = 250\n",
    "fig1 = plt.figure()\n",
    "plt.plot(Sa_T_values, estimations[0,curve_nbr,:105],color='blue',alpha=0.5,label='K=2')\n",
    "plt.plot(Sa_T_values, X_testing_original.iloc[curve_nbr,:105], color='black', label='original')\n",
    "plt.xlim(0,1)\n",
    "plt.legend()"
   ]
  },
  {
   "cell_type": "markdown",
   "id": "e33ff61d-d394-447e-8bbe-1c1d385801f0",
   "metadata": {},
   "source": [
    "We see that the score seems pretty high compared to the classical interpolation methods (see section #2). "
   ]
  },
  {
   "cell_type": "markdown",
   "id": "e2a851a5-6809-4817-9de0-1b554d6c7d78",
   "metadata": {},
   "source": [
    "### 1.3.3. method = BayesianRidge"
   ]
  },
  {
   "cell_type": "code",
   "execution_count": null,
   "id": "f7c117ff-2333-4568-9ffc-c81f84170535",
   "metadata": {},
   "outputs": [],
   "source": [
    "imp = IterativeImputer(estimator = BayesianRidge(), max_iter=25)\n",
    "#X_training.iloc[:,:105] = (X_training.iloc[:,:105]-X_training.iloc[:,:105].mean())/X_training.iloc[:,:105].std()\n",
    "imp.fit(X_training)\n",
    "estim_BR = imp.transform(X_testing_missing_values)\n",
    "\n",
    "score_BR = helpers.score_estimation(X_testing_original.iloc[:,:105].to_numpy(), estim_BR[:,:105])\n",
    "print(f'score_BR = {score_BR}')"
   ]
  },
  {
   "cell_type": "markdown",
   "id": "2d189bce-eaa3-47eb-893e-2fc5ab4eae1c",
   "metadata": {},
   "source": [
    "The score is even higher using this method. "
   ]
  },
  {
   "cell_type": "markdown",
   "id": "d32d14f3-9718-4daa-9305-09de46fa650d",
   "metadata": {},
   "source": [
    "# 2. Interpolation using df.interpolate()"
   ]
  },
  {
   "cell_type": "markdown",
   "id": "d0d555ce-9062-4d8d-8096-8e34d359bc12",
   "metadata": {},
   "source": [
    "This section studies the results when we use a simpler method: interpolation."
   ]
  },
  {
   "cell_type": "markdown",
   "id": "88b5f47d-1638-4097-9dd5-7271caf13208",
   "metadata": {},
   "source": [
    "## 2.1. Trying different methods"
   ]
  },
  {
   "cell_type": "markdown",
   "id": "9a9f7be1-025e-4ff6-95fb-66838992cd77",
   "metadata": {},
   "source": [
    "We compare several interpolation methods, namely:\n",
    "`linear`, `values`, `quadratic`, `cubic`, `piecewise_polynomial`, `spline` and `cubicspline`. "
   ]
  },
  {
   "cell_type": "markdown",
   "id": "efd59668-851e-4bcc-bcb0-6a226387015d",
   "metadata": {},
   "source": [
    "First, we recreate a testing set but this time there is no training set needed. Hence we simply take all the values of the dataset X_data and hide 30% of each rows."
   ]
  },
  {
   "cell_type": "code",
   "execution_count": null,
   "id": "1b2d8ef2-0786-494c-8386-531c066e9661",
   "metadata": {},
   "outputs": [],
   "source": [
    "X_interp_train, X_interp_testing = helpers.create_train_test_dataset_for_regression(X_data,0.0,1.0)\n",
    "\n",
    "X_interp_original, X_interp_missing = helpers.hide_values_SaT(X_interp_testing)\n",
    "\n",
    "X_interp_missing = X_interp_missing.iloc[:,:105]\n",
    "X_interp_missing.columns = Sa_T_values"
   ]
  },
  {
   "cell_type": "markdown",
   "id": "efad0cbe-7a64-49ff-9014-e148a8d8b6bf",
   "metadata": {},
   "source": [
    "We then test the different methods. "
   ]
  },
  {
   "cell_type": "code",
   "execution_count": null,
   "id": "8249e6f1-5f9e-446e-93b9-6ddbe7962bad",
   "metadata": {},
   "outputs": [],
   "source": [
    "X_interp_lin = X_interp_missing.copy(deep=True)\n",
    "X_interp_lin = X_interp_missing.interpolate(method='linear', axis = 1, limit_direction='both')\n",
    "\n",
    "X_interp_quad = X_interp_missing.copy(deep=True)\n",
    "\n",
    "X_interp_quad = X_interp_missing.interpolate(method='quadratic', axis = 1, limit_direction='both')\n",
    "X_interp_quad = X_interp_quad.fillna(method = 'bfill',axis=1)\n",
    "X_interp_quad = X_interp_quad.fillna(method = 'ffill',axis=1)\n",
    "\n",
    "X_interp_cub = X_interp_missing.copy(deep=True)\n",
    "X_interp_cub = X_interp_missing.interpolate(method='cubic', axis = 1, limit_direction='both')\n",
    "X_interp_cub = X_interp_cub.fillna(method = 'bfill',axis=1)\n",
    "X_interp_cub = X_interp_cub.fillna(method = 'ffill',axis=1)\n",
    "\n",
    "X_interp_ppl = X_interp_missing.copy(deep=True)\n",
    "X_interp_ppl = X_interp_missing.interpolate(method='piecewise_polynomial', axis = 1, limit_direction='both')\n",
    "X_interp_ppl = X_interp_ppl.fillna(method = 'bfill',axis=1)\n",
    "X_interp_ppl = X_interp_ppl.fillna(method = 'ffill',axis=1)\n",
    "\n",
    "X_interp_spl = X_interp_missing.copy(deep=True)\n",
    "X_interp_spl = X_interp_missing.interpolate(method='spline', order=2, axis = 1, limit_direction='both')\n",
    "\n",
    "X_interp_cubspl = X_interp_missing.copy(deep=True)\n",
    "X_interp_cubspl = X_interp_missing.interpolate(method='cubicspline', axis = 1, limit_direction='both')"
   ]
  },
  {
   "cell_type": "markdown",
   "id": "52f990ba-8417-4527-a798-6c854d977728",
   "metadata": {},
   "source": [
    "And compute it's score using MSRE."
   ]
  },
  {
   "cell_type": "code",
   "execution_count": null,
   "id": "ec8a9162-3f7c-4542-84f7-5aff6b2fcdf3",
   "metadata": {},
   "outputs": [],
   "source": [
    "score_lin = helpers.score_estimation(original=X_interp_original.iloc[:,:105].to_numpy(), estimated=X_interp_lin.to_numpy())\n",
    "score_quad = helpers.score_estimation(original=X_interp_original.iloc[:,:105].to_numpy(), estimated=X_interp_quad.to_numpy())\n",
    "score_cub = helpers.score_estimation(original=X_interp_original.iloc[:,:105].to_numpy(), estimated=X_interp_cub.to_numpy())\n",
    "score_ppl = helpers.score_estimation(original=X_interp_original.iloc[:,:105].to_numpy(), estimated=X_interp_ppl.to_numpy())\n",
    "score_spl = helpers.score_estimation(original=X_interp_original.iloc[:,:105].to_numpy(), estimated=X_interp_spl.to_numpy())\n",
    "score_cubspl = helpers.score_estimation(original=X_interp_original.iloc[:,:105].to_numpy(), estimated=X_interp_cubspl.to_numpy())\n",
    "print(f' score_lin = {score_lin} \\n score_quad = {score_quad} \\n score_cub = {score_cub}')\n",
    "print(f' score_ppl = {score_ppl} \\n score_spl = {score_spl} \\n score_cubspl = {score_cubspl}')"
   ]
  },
  {
   "cell_type": "code",
   "execution_count": null,
   "id": "61caa9ed-c4f9-4a25-a128-e98d25573b35",
   "metadata": {},
   "outputs": [],
   "source": [
    "fig1=plt.figure(1)\n",
    "plt.title('Score depending on the method used')\n",
    "plt.scatter(1,score_lin,color='b',marker='o',s=50,label='1-linear')\n",
    "plt.scatter(2,score_quad,color='b',marker='o',s=50,label='2-quadratic')\n",
    "plt.scatter(3,score_cub,color='b',marker='o',s=50,label='3-quadratic')\n",
    "plt.scatter(4,score_ppl,color='b',marker='o',s=50,label='4-piecewise_polynomial')\n",
    "plt.scatter(5,score_spl,color='b',marker='o',s=50,label='5-spline')\n",
    "plt.scatter(6,score_cubspl,color='b',marker='o',s=50,label='6-cubic_spline')\n",
    "plt.ylim(0,20)\n",
    "plt.xlabel('Method used')\n",
    "plt.ylabel('Score (MSRE)')\n",
    "plt.legend(loc='upper left')"
   ]
  },
  {
   "cell_type": "code",
   "execution_count": null,
   "id": "c6df2418-c3ce-4344-8ad5-0aae997cc0e0",
   "metadata": {},
   "outputs": [],
   "source": [
    "curve_nbr=250\n",
    "fig1 = plt.figure()\n",
    "plt.plot(Sa_T_values, X_interp_lin.iloc[curve_nbr,:105], color='blue', alpha = 0.5, label='linear')\n",
    "plt.plot(Sa_T_values, X_interp_quad.iloc[curve_nbr,:105], color='green', alpha = 0.5, label='quadratic')\n",
    "plt.plot(Sa_T_values, X_interp_cub.iloc[curve_nbr,:105], color='red', alpha = 0.5, label='cubic')\n",
    "plt.plot(Sa_T_values, X_interp_ppl.iloc[curve_nbr,:105], color='magenta', alpha = 0.5, label='piecewise-poly')\n",
    "plt.semilogx(Sa_T_values, X_interp_original.iloc[curve_nbr,:105], color='black', alpha = 1, label='original')\n",
    "#plt.xlim(0,1)\n",
    "plt.legend()"
   ]
  },
  {
   "cell_type": "markdown",
   "id": "76abf8b0-0eea-49e5-9452-0d56ffeb24ed",
   "metadata": {},
   "source": [
    "We intuiively see that the `linear`, `quadratic` and `piecewise_polynomial` methods performs the better. Nonetheless, we need to iterate several times and average to be able to assessexactly which methods works best."
   ]
  },
  {
   "cell_type": "markdown",
   "id": "ffddecd6-7cbd-4d87-845e-85b0ebf50cff",
   "metadata": {},
   "source": [
    "## 2.2. Looping for more precision"
   ]
  },
  {
   "cell_type": "code",
   "execution_count": null,
   "id": "a18f3093-65bd-4973-851b-8597cce1c53f",
   "metadata": {},
   "outputs": [],
   "source": [
    "Score_lin = np.ndarray(0)\n",
    "Score_quad = np.ndarray(0)\n",
    "Score_cub = np.ndarray(0)\n",
    "Score_ppl = np.ndarray(0)\n",
    "Score_spl = np.ndarray(0)\n",
    "Score_cubspl = np.ndarray(0)\n",
    "iterations = 30"
   ]
  },
  {
   "cell_type": "code",
   "execution_count": null,
   "id": "89186d2f-976f-4a70-974c-16822791cd4a",
   "metadata": {},
   "outputs": [],
   "source": [
    "for i in tqdm(range(0,iterations)):\n",
    "    #Prepare the original and missing datas:\n",
    "    X_interp_train, X_interp_testing = helpers.create_train_test_dataset_for_regression(X_data,0.0,1.0)\n",
    "\n",
    "    X_interp_original, X_interp_missing = helpers.hide_values_SaT(X_interp_testing)\n",
    "\n",
    "    X_interp_missing = X_interp_missing.iloc[:,:105]\n",
    "    X_interp_missing.columns = Sa_T_values\n",
    "\n",
    "    #Start interpolating and evaluating\n",
    "    X_interp_lin = X_interp_missing.copy(deep=True)\n",
    "    X_interp_lin = X_interp_missing.interpolate(method='linear', axis = 1, limit_direction='both')\n",
    "\n",
    "    X_interp_quad = X_interp_missing.copy(deep=True)\n",
    "\n",
    "    X_interp_quad = X_interp_missing.interpolate(method='quadratic', axis = 1, limit_direction='both')\n",
    "    X_interp_quad = X_interp_quad.fillna(method = 'bfill',axis=1)\n",
    "    X_interp_quad = X_interp_quad.fillna(method = 'ffill',axis=1)\n",
    "\n",
    "    X_interp_cub = X_interp_missing.copy(deep=True)\n",
    "    X_interp_cub = X_interp_missing.interpolate(method='cubic', axis = 1, limit_direction='both')\n",
    "    X_interp_cub = X_interp_cub.fillna(method = 'bfill',axis=1)\n",
    "    X_interp_cub = X_interp_cub.fillna(method = 'ffill',axis=1)\n",
    "\n",
    "    X_interp_ppl = X_interp_missing.copy(deep=True)\n",
    "    X_interp_ppl = X_interp_missing.interpolate(method='piecewise_polynomial', axis = 1, limit_direction='both')\n",
    "    X_interp_ppl = X_interp_ppl.fillna(method = 'bfill',axis=1)\n",
    "    X_interp_ppl = X_interp_ppl.fillna(method = 'ffill',axis=1)\n",
    "\n",
    "    X_interp_spl = X_interp_missing.copy(deep=True)\n",
    "    X_interp_spl = X_interp_missing.interpolate(method='spline', order=2, axis = 1, limit_direction='both')\n",
    "\n",
    "    X_interp_cubspl = X_interp_missing.copy(deep=True)\n",
    "    X_interp_cubspl = X_interp_missing.interpolate(method='cubicspline', axis = 1, limit_direction='both')\n",
    "\n",
    "    score_lin = helpers.score_estimation(original=X_interp_original.iloc[:,:105].to_numpy(), estimated=X_interp_lin.to_numpy())\n",
    "    score_quad = helpers.score_estimation(original=X_interp_original.iloc[:,:105].to_numpy(), estimated=X_interp_quad.to_numpy())\n",
    "    score_cub = helpers.score_estimation(original=X_interp_original.iloc[:,:105].to_numpy(), estimated=X_interp_cub.to_numpy())\n",
    "    score_ppl = helpers.score_estimation(original=X_interp_original.iloc[:,:105].to_numpy(), estimated=X_interp_ppl.to_numpy())\n",
    "    score_spl = helpers.score_estimation(original=X_interp_original.iloc[:,:105].to_numpy(), estimated=X_interp_spl.to_numpy())\n",
    "    score_cubspl = helpers.score_estimation(original=X_interp_original.iloc[:,:105].to_numpy(), estimated=X_interp_cubspl.to_numpy())\n",
    "    \n",
    "    Score_lin = np.append(Score_lin,score_lin)\n",
    "    Score_quad = np.append(Score_quad,score_quad)\n",
    "    Score_cub = np.append(Score_cub,score_cub)\n",
    "    Score_ppl = np.append(Score_ppl,score_ppl)\n",
    "    Score_spl = np.append(Score_spl,score_spl)\n",
    "    Score_cubspl = np.append(Score_cubspl,score_cubspl)"
   ]
  },
  {
   "cell_type": "code",
   "execution_count": null,
   "id": "cf3762e2-729b-4c1b-9850-c752f331e6be",
   "metadata": {},
   "outputs": [],
   "source": [
    "print('MSR ERROR:')\n",
    "print(f' score_lin = {np.mean(Score_lin)} \\n score_quad = {np.mean(Score_quad)} \\n score_cub = {np.mean(Score_cub)}')\n",
    "print(f' score_ppl = {np.mean(Score_ppl)} \\n score_spl = {np.mean(Score_spl)} \\n score_cubspl = {np.mean(Score_cubspl)}')\n",
    "fig3 = plt.figure(3)\n",
    "plt.title('Mean Square Root Error')\n",
    "plt.plot(range(0,iterations), Score_lin, color='b',label='linear')\n",
    "plt.plot(range(0,iterations), Score_quad, color='r',label='quad')\n",
    "plt.plot(range(0,iterations), Score_cub, color='green',label='cub')\n",
    "plt.plot(range(0,iterations), Score_ppl, color='magenta',label='ppl')\n",
    "plt.plot(range(0,iterations), Score_spl, color='yellow',label='spl')\n",
    "plt.plot(range(0,iterations), Score_cubspl, color='purple',label='cubspl')\n",
    "plt.xlabel('iteration')\n",
    "plt.ylabel('MSRE')\n",
    "plt.legend()\n",
    "plt.ylim(0,1.5)\n",
    "plt.xlim(0,iterations-1)"
   ]
  },
  {
   "cell_type": "markdown",
   "id": "83732029-8b65-4c6b-8bb6-8cfa93d63299",
   "metadata": {},
   "source": [
    "We see that in general the `quadratic` method works the best and gives the best results, even though it has a higher variance. The second best choice would be the `linear` method as it is more robust, but the error is in average higher. "
   ]
  },
  {
   "cell_type": "markdown",
   "id": "f1610696-5c18-4f4c-a3f5-d881b62ca9ec",
   "metadata": {},
   "source": [
    "# 3. Conclusion and exports"
   ]
  },
  {
   "cell_type": "markdown",
   "id": "04a3b625-ed28-41ec-91c3-1132787ce1ec",
   "metadata": {},
   "source": [
    "We saw that the method having the smallest error is quadratic interpolation and then back and forth filling for the NaNs at the edges. \n",
    "\n",
    "Hence we will re-import all files, interpolate the missing data in X_train and export them.  "
   ]
  },
  {
   "cell_type": "raw",
   "id": "39cef6ee-8786-469a-8e8a-62ff3fe80414",
   "metadata": {
    "cell_id": "00002-97f92ba4-eeb4-4e7a-adb1-3f2f2d59684f",
    "deepnote_cell_height": 81,
    "deepnote_cell_type": "code",
    "deepnote_to_be_reexecuted": false,
    "execution_millis": 471,
    "execution_start": 1652263164190,
    "source_hash": "b85b4859"
   },
   "source": [
    "X_train = pd.read_csv(\"project-data-merged/df_X_train.csv\", index_col=0)\n",
    "y_train = pd.read_csv(\"project-data-merged/df_y_train.csv\", index_col=0)\n",
    "\n",
    "X_val = pd.read_csv(\"project-data-merged/df_X_val.csv\", index_col=0)\n",
    "y_val = pd.read_csv(\"project-data-merged/df_y_val.csv\", index_col=0)\n",
    "\n",
    "X_test = pd.read_csv(\"project-data-merged/df_X_test.csv\", index_col=0)"
   ]
  },
  {
   "cell_type": "raw",
   "id": "7e5b41ea-7be6-4487-a968-fcf3ef6ee1e2",
   "metadata": {},
   "source": [
    "Sa_T_values = [float(x) for x in X_train.columns[:105]]\n",
    "X_SaT = X_train.iloc[:,:105]\n",
    "X_SaT.columns=Sa_T_values"
   ]
  },
  {
   "cell_type": "raw",
   "id": "537fb76c-8174-4a37-b593-e002305a2378",
   "metadata": {},
   "source": [
    "X_SaT = X_SaT.interpolate(method='quadratic', axis = 1, limit_direction='both')\n",
    "X_SaT = X_SaT.fillna(method = 'bfill',axis=1)\n",
    "X_SaT = X_SaT.fillna(method = 'ffill',axis=1)"
   ]
  },
  {
   "cell_type": "raw",
   "id": "cfe1838a-0733-4168-a056-dec5b34c77d9",
   "metadata": {},
   "source": [
    "X_train.iloc[:,:105] = X_SaT"
   ]
  },
  {
   "cell_type": "markdown",
   "id": "08122b80-5749-4a53-b159-94c6013ee0b8",
   "metadata": {},
   "source": [
    "Sanity check:"
   ]
  },
  {
   "cell_type": "raw",
   "id": "42686235-8bcb-49fb-b6a8-64fea49cae44",
   "metadata": {},
   "source": [
    "assert np.sum(X_train.isnull().any(axis=0))==0"
   ]
  },
  {
   "cell_type": "markdown",
   "id": "70d60a35-0c55-4a3e-8c01-40839208a1c4",
   "metadata": {},
   "source": [
    "Work done, no more NaNs in the training set. We can export the data."
   ]
  },
  {
   "cell_type": "raw",
   "id": "7848eafd-2e92-4b69-b0c9-555b52dee334",
   "metadata": {},
   "source": [
    "X_train.to_csv(\"project-data-interpolated/df_X_train.csv\")\n",
    "y_train.to_csv(\"project-data-interpolated/df_y_train.csv\")\n",
    "\n",
    "X_val.to_csv(\"project-data-interpolated/df_X_val.csv\")\n",
    "y_val.to_csv(\"project-data-interpolated/df_y_val.csv\")\n",
    "\n",
    "X_test.to_csv(\"project-data-interpolated/df_X_test.csv\")"
   ]
  },
  {
   "cell_type": "raw",
   "id": "bb55acb3-4bb2-48b9-8b06-0521bb12bd6c",
   "metadata": {},
   "source": [
    "# create a ZipFile object\n",
    "zipObj = ZipFile('project-data-interpolated/data-interpolated.zip', 'w')\n",
    "\n",
    "# Add multiple files to the zip\n",
    "zipObj.write('project-data-interpolated/df_X_train.csv')\n",
    "zipObj.write('project-data-interpolated/df_y_train.csv')\n",
    "zipObj.write('project-data-interpolated/df_X_val.csv')\n",
    "zipObj.write('project-data-interpolated/df_y_val.csv')\n",
    "zipObj.write('project-data-interpolated/df_X_test.csv')\n",
    "\n",
    "# close the Zip File\n",
    "zipObj.close()"
   ]
  }
 ],
 "metadata": {
  "kernelspec": {
   "display_name": "Python 3 (ipykernel)",
   "language": "python",
   "name": "python3"
  },
  "language_info": {
   "codemirror_mode": {
    "name": "ipython",
    "version": 3
   },
   "file_extension": ".py",
   "mimetype": "text/x-python",
   "name": "python",
   "nbconvert_exporter": "python",
   "pygments_lexer": "ipython3",
   "version": "3.8.12"
  },
  "widgets": {
   "application/vnd.jupyter.widget-state+json": {
    "state": {},
    "version_major": 2,
    "version_minor": 0
   }
  }
 },
 "nbformat": 4,
 "nbformat_minor": 5
}
