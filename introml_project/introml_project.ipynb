{
 "cells": [
  {
   "cell_type": "markdown",
   "metadata": {
    "cell_id": "b85b8682850746a0998908376260ae77",
    "deepnote_cell_height": 62,
    "deepnote_cell_type": "markdown",
    "tags": []
   },
   "source": [
    "# 0.0 Import libraries"
   ]
  },
  {
   "cell_type": "code",
   "execution_count": 1,
   "metadata": {},
   "outputs": [],
   "source": [
    "#Package import\n",
    "import pandas as pd\n",
    "import numpy as np\n",
    "import scipy\n",
    "import matplotlib.pyplot as plt\n",
    "import seaborn as sns\n",
    "\n",
    "from typing import Any, Callable\n",
    "\n",
    "# Progress bar\n",
    "from tqdm import tqdm\n",
    "from zipfile import ZipFile\n",
    "\n",
    "\n",
    "\n",
    "# Scikit Learn\n",
    "from sklearn.linear_model import LinearRegression\n",
    "from sklearn.metrics import mean_squared_error, r2_score\n",
    "from sklearn.model_selection import cross_val_score\n",
    "from sklearn.neural_network import MLPRegressor\n",
    "from sklearn.model_selection import train_test_split\n",
    "from sklearn.preprocessing import StandardScaler\n",
    "from sklearn.svm import SVC\n",
    "from sklearn.decomposition import PCA\n",
    "\n",
    "# PyTorch & torchvision\n",
    "import torch\n",
    "import torch.nn as nn\n",
    "import torch.nn.functional as F\n",
    "import torch.optim as optim\n",
    "\n",
    "import torchvision\n",
    "import torchvision.transforms as transforms\n",
    "from torch.utils.data import Dataset, DataLoader\n",
    "\n",
    "# Helpers file\n",
    "import helpers"
   ]
  },
  {
   "cell_type": "code",
   "execution_count": 2,
   "metadata": {},
   "outputs": [
    {
     "data": {
      "text/html": [
       "<style>\n",
       "table {float:left}\n",
       "</style>\n"
      ],
      "text/plain": [
       "<IPython.core.display.HTML object>"
      ]
     },
     "metadata": {},
     "output_type": "display_data"
    }
   ],
   "source": [
    "%%html\n",
    "<style>\n",
    "table {float:left}\n",
    "</style>"
   ]
  },
  {
   "cell_type": "code",
   "execution_count": 3,
   "metadata": {
    "cell_id": "4589abe226a94c468b836c141ae07243",
    "deepnote_cell_height": 261,
    "deepnote_cell_type": "code",
    "deepnote_to_be_reexecuted": false,
    "execution_millis": 2,
    "execution_start": 1652270973292,
    "source_hash": "705f51f9",
    "tags": []
   },
   "outputs": [],
   "source": [
    "#Settings for the plots \n",
    "sns.set_style(\"ticks\")\n",
    "colors= sns.color_palette('colorblind')\n",
    "plt.rc('xtick', labelsize=12) \n",
    "plt.rc('ytick', labelsize=12) \n",
    "plt.rc('axes', titlesize=18)\n",
    "plt.rc('axes', labelsize=13)\n",
    "plt.rcParams['ytick.major.size'] = 7\n",
    "plt.rcParams['ytick.minor.size'] = 6\n",
    "\n",
    "sns.set_style(\"darkgrid\", {'axes.grid' : False, 'ytick.left': True, 'xtick.bottom': True})"
   ]
  },
  {
   "cell_type": "markdown",
   "metadata": {
    "cell_id": "5479738a660f40a5ae7b9b9384e3473d",
    "deepnote_cell_height": 62,
    "deepnote_cell_type": "markdown",
    "jp-MarkdownHeadingCollapsed": true,
    "tags": []
   },
   "source": [
    "# 0.1 Import data"
   ]
  },
  {
   "cell_type": "code",
   "execution_count": 4,
   "metadata": {
    "cell_id": "e2ad46df92a04a868ef9ad589486f818",
    "deepnote_cell_height": 171,
    "deepnote_cell_type": "code",
    "deepnote_to_be_reexecuted": false,
    "execution_millis": 881,
    "execution_start": 1652270973296,
    "owner_user_id": "dbb60ec9-fb43-4975-bfb1-9ceed7d857e2",
    "source_hash": "82d98357",
    "tags": []
   },
   "outputs": [],
   "source": [
    "features_train = pd.read_csv(\"project-data-raw/features_train.csv\")\n",
    "features_test = pd.read_csv(\"project-data-raw/features_test.csv\")\n",
    "features_val = pd.read_csv(\"project-data-raw/features_val.csv\")\n",
    "targets_train = pd.read_csv(\"project-data-raw/targets_train.csv\")\n",
    "targets_test = pd.read_csv(\"project-data-raw/targets_test.csv\")\n",
    "targets_val = pd.read_csv(\"project-data-raw/targets_val.csv\")"
   ]
  },
  {
   "cell_type": "markdown",
   "metadata": {
    "cell_id": "bb6c35f71d084553a963579821673b1b",
    "deepnote_cell_height": 62,
    "deepnote_cell_type": "markdown",
    "jp-MarkdownHeadingCollapsed": true,
    "tags": []
   },
   "source": [
    "# 1. Describe data"
   ]
  },
  {
   "cell_type": "markdown",
   "metadata": {},
   "source": [
    "### 1.1 Shape of the datasets"
   ]
  },
  {
   "cell_type": "code",
   "execution_count": null,
   "metadata": {
    "cell_id": "4cfa294e1880457c93d417794d3c2598",
    "deepnote_cell_height": 381.79998779296875,
    "deepnote_cell_type": "code",
    "deepnote_to_be_reexecuted": false,
    "execution_millis": 15,
    "execution_start": 1652270974183,
    "source_hash": "9d10e508",
    "tags": []
   },
   "outputs": [],
   "source": [
    "print(f'features_train.shape: {features_train.shape}')\n",
    "print(f'targets_train.shape: {targets_train.shape} \\n')\n",
    "print(f'features_val.shape: {features_val.shape}')\n",
    "print(f'targets_val.shape: {targets_val.shape} \\n')\n",
    "print(f'features_test.shape: {features_test.shape}')\n",
    "print(f'targets_test.shape: {targets_test.shape} \\n')"
   ]
  },
  {
   "cell_type": "markdown",
   "metadata": {},
   "source": [
    "### 1.2 Main caracteristics of the features"
   ]
  },
  {
   "cell_type": "code",
   "execution_count": null,
   "metadata": {
    "cell_id": "577b188e0175446a9c7bda3b16c8038c",
    "deepnote_cell_height": 535,
    "deepnote_cell_type": "code",
    "deepnote_to_be_reexecuted": false,
    "execution_millis": 776,
    "execution_start": 1652270974198,
    "source_hash": "ed940146",
    "tags": []
   },
   "outputs": [],
   "source": [
    "features_train.drop(columns=['Unnamed: 0']).describe()"
   ]
  },
  {
   "cell_type": "code",
   "execution_count": null,
   "metadata": {},
   "outputs": [],
   "source": [
    "features_val.drop(columns=['Unnamed: 0']).describe()"
   ]
  },
  {
   "cell_type": "code",
   "execution_count": null,
   "metadata": {},
   "outputs": [],
   "source": [
    "features_test.drop(columns=['Unnamed: 0']).describe()"
   ]
  },
  {
   "cell_type": "markdown",
   "metadata": {
    "tags": []
   },
   "source": [
    "In total, in the raw features data, there are 116 initial features :\n",
    "- 105 features for the spectral acceleration, each corresponding to the spectral acceleration at a specific period ranging from 0.01 to 10 in [g]\n",
    "- The geometric mean of the spectral accelerations in [g]: `sa_avg`\n",
    "- The signification durations of the ground motions in [s]: `da5_75` and `da5_95`\n",
    "- The filtered incremental velocity in [cm/s]: `fiv3`\n",
    "- The magnitude in Richter scale: `magnitude`\n",
    "- The distance at which the earthquake happened from the site where the ground motion was recorded in [km]: `distance_closest`\n",
    "- The lowest frequency recorded in the ground motion in [Hz]: `lowest_usable_frequency`\n",
    "- The ratio Sa(T1)/sa_avg in [-]: `sa_ratio`\n",
    "- The ratio fiv3/sa_avg in [-]: `fiv3_ratio`\n",
    "- A boolean indicating if the 'string velocity pulse' is present in the data: `is_pulselike`\n",
    "- The ground motion corresponding to each features: `Ground Motion ID`"
   ]
  },
  {
   "cell_type": "markdown",
   "metadata": {},
   "source": [
    "### 1.3 Random samples of the features"
   ]
  },
  {
   "cell_type": "code",
   "execution_count": null,
   "metadata": {
    "cell_id": "63483f19e4a44a18a7b058b5be4f7773",
    "deepnote_cell_height": 430,
    "deepnote_cell_type": "code",
    "deepnote_table_loading": false,
    "deepnote_table_state": {
     "filters": [],
     "pageIndex": 0,
     "pageSize": 10,
     "sortBy": []
    },
    "deepnote_to_be_reexecuted": false,
    "execution_millis": 1022,
    "execution_start": 1652270974996,
    "source_hash": "a6a93212",
    "tags": []
   },
   "outputs": [],
   "source": [
    "features_train.drop(columns=['Unnamed: 0']).sample(5)"
   ]
  },
  {
   "cell_type": "markdown",
   "metadata": {},
   "source": [
    "### 1.4 Random samples of the targets"
   ]
  },
  {
   "cell_type": "code",
   "execution_count": null,
   "metadata": {
    "cell_id": "024a1ce67ff5448ba6e20bfeae945154",
    "deepnote_cell_height": 413,
    "deepnote_cell_type": "code",
    "deepnote_to_be_reexecuted": false,
    "execution_millis": 475,
    "execution_start": 1652270975553,
    "source_hash": "5bfe5a99",
    "tags": []
   },
   "outputs": [],
   "source": [
    "targets_train.drop(columns=['Unnamed: 0']).sample(5)"
   ]
  },
  {
   "cell_type": "markdown",
   "metadata": {},
   "source": [
    "In the raw targets data, there are :\n",
    "- The number by which the ground motion and its corresponding features were scaled to obtain the issue of the numerical analysis: `scale factor`\n",
    "- The ground motion of the corresponding features for which the numerical analysis was performed: `Groumd Motion ID`\n",
    "- The issue of the simulation `is_collapse`"
   ]
  },
  {
   "cell_type": "markdown",
   "metadata": {
    "cell_id": "4c92049428f848e99dd73aabc5a3dfe8",
    "deepnote_cell_height": 52.399993896484375,
    "deepnote_cell_type": "markdown",
    "jp-MarkdownHeadingCollapsed": true,
    "tags": []
   },
   "source": [
    "# 2. Data merging\n"
   ]
  },
  {
   "cell_type": "markdown",
   "metadata": {},
   "source": [
    "The dataset have to be merged together using `Ground Motion ID` to constitute the final dataset with the `Scaling factor` as a feature "
   ]
  },
  {
   "cell_type": "code",
   "execution_count": null,
   "metadata": {},
   "outputs": [],
   "source": [
    "df_X_train, df_y_train = helpers.dataset_processing(features_train, targets_train, testing=False)\n",
    "df_X_val, df_y_val = helpers.dataset_processing(features_val, targets_val, testing=False)\n",
    "df_X_test = helpers.dataset_processing(features_test, targets_test, testing=True)"
   ]
  },
  {
   "cell_type": "markdown",
   "metadata": {},
   "source": [
    "In the merged features data, there are 115 resulting features :\n",
    "- 105 features for the spectral acceleration, each corresponding to the spectral acceleration at a specific period ranging from 0.01 to 10\n",
    "- The geometric mean of the spectral accelerations `sa_avg`\n",
    "- The signification durations of the ground motions `da5_75` and `da5_95`\n",
    "- The filtered incremental velocity `fiv3`\n",
    "- The magnitude `magnitude`\n",
    "- The distance at which the earthquake happened from the site where the ground motion was recorded: `distance_closest`\n",
    "- The lowest frequency recorded in the ground motion: `lowest_usable_frequency`\n",
    "- The ratio Sa(T1)/sa_avg: `sa_ratio`\n",
    "- The ratio fiv3/sa_avg: `fiv3_ratio`\n",
    "- A boolean indicating if the 'string velocity pulse' is present in the data: `is_pulselike`\n",
    "\n",
    "In the merged targets data, there is\n",
    "- The issue of the simulation `is_collapse`"
   ]
  },
  {
   "cell_type": "code",
   "execution_count": null,
   "metadata": {
    "cell_id": "871fb44a0201440ba06d1aa477661b35",
    "deepnote_cell_height": 278.6000061035156,
    "deepnote_cell_type": "code",
    "deepnote_to_be_reexecuted": false,
    "execution_millis": 5,
    "execution_start": 1652270977040,
    "source_hash": "264b22bd",
    "tags": []
   },
   "outputs": [],
   "source": [
    "samples_train = df_X_train.shape[0]\n",
    "samples_val = df_X_val.shape[0]\n",
    "samples_test = df_X_test.shape[0]\n",
    "samples_tot = samples_train + samples_val + samples_test\n",
    "\n",
    "print(f'Traning dataset represents {samples_train/samples_tot*100:.2f} % of the total data available')\n",
    "print(f'Validation dataset represents {samples_val/samples_tot*100:.2f} % of the total data available')\n",
    "print(f'Testing dataset represents {samples_test/samples_tot*100:.2f} % of the total data available')"
   ]
  },
  {
   "cell_type": "code",
   "execution_count": null,
   "metadata": {},
   "outputs": [],
   "source": [
    "print(f'features_train.shape: {df_X_train.shape}')\n",
    "print(f'targets_train.shape: {df_y_train.shape} \\n')\n",
    "print(f'features_val.shape: {df_X_val.shape}')\n",
    "print(f'targets_val.shape: {df_y_val.shape} \\n')\n",
    "print(f'features_test.shape: {df_X_test.shape}')"
   ]
  },
  {
   "cell_type": "markdown",
   "metadata": {},
   "source": [
    "### Exporting the merged dataframes"
   ]
  },
  {
   "cell_type": "markdown",
   "metadata": {},
   "source": [
    "Change `EXPORT` to `True` to export the merged data, otherwise leave it as `False`"
   ]
  },
  {
   "cell_type": "code",
   "execution_count": null,
   "metadata": {},
   "outputs": [],
   "source": [
    "EXPORT = True\n",
    "\n",
    "if EXPORT :\n",
    "    df_X_train.to_csv(\"project-data-merged/df_X_train.csv\")\n",
    "    df_y_train.to_csv(\"project-data-merged/df_y_train.csv\")\n",
    "\n",
    "    df_X_val.to_csv(\"project-data-merged/df_X_val.csv\")\n",
    "    df_y_val.to_csv(\"project-data-merged/df_y_val.csv\")\n",
    "\n",
    "    df_X_test.to_csv(\"project-data-merged/df_X_test.csv\")\n",
    "    \n",
    "    # create a ZipFile object\n",
    "    zipObj = ZipFile('project-data-merged/data-interpolated.zip', 'w')\n",
    "\n",
    "    # Add multiple files to the zip\n",
    "    zipObj.write('project-data-merged/df_X_train.csv')\n",
    "    zipObj.write('project-data-merged/df_y_train.csv')\n",
    "    zipObj.write('project-data-merged/df_X_val.csv')\n",
    "    zipObj.write('project-data-merged/df_y_val.csv')\n",
    "    zipObj.write('project-data-merged/df_X_test.csv')\n",
    "\n",
    "    # close the Zip File\n",
    "    zipObj.close()"
   ]
  },
  {
   "cell_type": "markdown",
   "metadata": {
    "cell_id": "69c9d6909a7348feb0052ed03d47709a",
    "deepnote_cell_height": 62,
    "deepnote_cell_type": "markdown",
    "jp-MarkdownHeadingCollapsed": true,
    "tags": []
   },
   "source": [
    "# 3. Data cleaning"
   ]
  },
  {
   "cell_type": "markdown",
   "metadata": {},
   "source": [
    "### 3.1 Check for identical rows"
   ]
  },
  {
   "cell_type": "code",
   "execution_count": null,
   "metadata": {},
   "outputs": [],
   "source": [
    "df_X_train, df_y_train = helpers.check_duplicates(df_X_train, df_y_train, 'Training')\n",
    "df_X_val, df_y_val = helpers.check_duplicates(df_X_val, df_y_val, 'Validation')"
   ]
  },
  {
   "cell_type": "markdown",
   "metadata": {},
   "source": [
    "### 3.3 Deal with missing data"
   ]
  },
  {
   "cell_type": "markdown",
   "metadata": {},
   "source": [
    "Note: There are only missing values in the training dataset therefore this step is done only for the training and not for the validation nor the testing dataset"
   ]
  },
  {
   "cell_type": "markdown",
   "metadata": {},
   "source": [
    "Replace column names, currently as strings, to float to be able to do the interpolation "
   ]
  },
  {
   "cell_type": "code",
   "execution_count": null,
   "metadata": {},
   "outputs": [],
   "source": [
    "Sa_T_floats = [float(x) for x in df_X_train.columns[:105]]\n",
    "df_X_SaT = df_X_train.iloc[:,:105]\n",
    "df_X_SaT.columns = Sa_T_floats"
   ]
  },
  {
   "cell_type": "markdown",
   "metadata": {},
   "source": [
    "- Fill the missing values using a quadratic interpolation\n",
    "- Values at the beginning and at the end are still `NaN`, hence a backward and forward fill is done"
   ]
  },
  {
   "cell_type": "code",
   "execution_count": null,
   "metadata": {},
   "outputs": [],
   "source": [
    "df_X_SaT = df_X_SaT.interpolate(method='quadratic', axis = 1, limit_direction='both')\n",
    "df_X_SaT = df_X_SaT.fillna(method = 'bfill',axis=1)\n",
    "df_X_SaT = df_X_SaT.fillna(method = 'ffill',axis=1)"
   ]
  },
  {
   "cell_type": "markdown",
   "metadata": {},
   "source": [
    "Replace whole Sa(T) with the new interpolated values"
   ]
  },
  {
   "cell_type": "code",
   "execution_count": null,
   "metadata": {},
   "outputs": [],
   "source": [
    "df_X_train.iloc[:,:105] = df_X_SaT"
   ]
  },
  {
   "cell_type": "markdown",
   "metadata": {
    "tags": []
   },
   "source": [
    "Change `EXPORT` to `True` to export the interpolated data, otherwise leave it as `False`"
   ]
  },
  {
   "cell_type": "code",
   "execution_count": null,
   "metadata": {},
   "outputs": [],
   "source": [
    "EXPORT = True\n",
    "\n",
    "if EXPORT:\n",
    "    df_X_train.to_csv(\"project-data-interpolated/df_X_train.csv\")\n",
    "    df_y_train.to_csv(\"project-data-interpolated/df_y_train.csv\")\n",
    "\n",
    "    df_X_val.to_csv(\"project-data-interpolated/df_X_val.csv\")\n",
    "    df_y_val.to_csv(\"project-data-interpolated/df_y_val.csv\")\n",
    "\n",
    "    df_X_test.to_csv(\"project-data-interpolated/df_X_test.csv\")\n",
    "    \n",
    "    # create a ZipFile object\n",
    "    zipObj = ZipFile('project-data-interpolated/data-interpolated.zip', 'w')\n",
    "\n",
    "    # Add multiple files to the zip\n",
    "    zipObj.write('project-data-interpolated/df_X_train.csv')\n",
    "    zipObj.write('project-data-interpolated/df_y_train.csv')\n",
    "    zipObj.write('project-data-interpolated/df_X_val.csv')\n",
    "    zipObj.write('project-data-interpolated/df_y_val.csv')\n",
    "    zipObj.write('project-data-interpolated/df_X_test.csv')\n",
    "\n",
    "    # close the Zip File\n",
    "    zipObj.close()"
   ]
  },
  {
   "cell_type": "markdown",
   "metadata": {
    "tags": []
   },
   "source": [
    "### 3.2 Deal with corrupted data"
   ]
  },
  {
   "cell_type": "markdown",
   "metadata": {},
   "source": [
    "Remove the rows with `-999`"
   ]
  },
  {
   "cell_type": "code",
   "execution_count": null,
   "metadata": {
    "scrolled": true
   },
   "outputs": [],
   "source": [
    "df_X_train_red, df_y_train_red = helpers.check_corrupted(df_X_train, df_y_train, 'Training')\n",
    "df_X_val_red, df_y_val_red = helpers.check_corrupted(df_X_val, df_y_val, 'Validation')"
   ]
  },
  {
   "cell_type": "code",
   "execution_count": null,
   "metadata": {},
   "outputs": [],
   "source": [
    "df_X_train_red"
   ]
  },
  {
   "cell_type": "markdown",
   "metadata": {
    "jp-MarkdownHeadingCollapsed": true,
    "tags": []
   },
   "source": [
    "# 4.Data visualization"
   ]
  },
  {
   "cell_type": "markdown",
   "metadata": {
    "cell_id": "8eeab5e3b61346c7b033af6cee83d7e7",
    "deepnote_cell_height": 54,
    "deepnote_cell_type": "markdown",
    "tags": []
   },
   "source": [
    "### 4.1 Plot features\n",
    "Check the influence of removing the `-999` on the distribution of the features"
   ]
  },
  {
   "cell_type": "code",
   "execution_count": null,
   "metadata": {
    "cell_id": "c4544e9b45794cdb8d9727a0c5c2566c",
    "deepnote_cell_height": 117,
    "deepnote_cell_type": "code",
    "deepnote_to_be_reexecuted": false,
    "execution_millis": 14,
    "execution_start": 1652270977048,
    "source_hash": "308e5d70",
    "tags": []
   },
   "outputs": [],
   "source": [
    "features_to_plot = df_X_train_red.columns[-10:]\n",
    "df_plot = df_X_train[features_to_plot]\n",
    "df_plot_red = df_X_train_red[features_to_plot]"
   ]
  },
  {
   "cell_type": "code",
   "execution_count": null,
   "metadata": {
    "allow_embed": false,
    "cell_id": "34cda386d065417197df6ef79544d95f",
    "deepnote_cell_height": 1158,
    "deepnote_cell_type": "code",
    "deepnote_output_heights": [
     611
    ],
    "deepnote_to_be_reexecuted": false,
    "execution_millis": 6419,
    "execution_start": 1652270977064,
    "source_hash": "9299def",
    "tags": []
   },
   "outputs": [],
   "source": [
    "fig, axes = plt.subplots(nrows=4, ncols=3, figsize=(30,30))\n",
    "fig.set_size_inches(20, 20)\n",
    "list_axes = axes.flatten()\n",
    "i=0\n",
    "\n",
    "while i < df_plot.shape[1]:\n",
    "    to_plot = df_plot.iloc[:, i]\n",
    "    to_plot= to_plot.loc[~(to_plot == -999)]\n",
    "    to_plot_red = df_plot_red.iloc[:, i]\n",
    "\n",
    "    name = df_plot.iloc[:, i].name\n",
    "    ax = list_axes[i]\n",
    "\n",
    "    to_plot.hist(ax=ax, bins=20, grid=False, color=colors[-1], alpha=0.5, log=[False, True])\n",
    "    to_plot_red.hist(ax=ax, bins=20, grid=False, color=colors[-2], alpha=0.5, log=[False, True])\n",
    "    ax.set_title(str(name), size=25)\n",
    "    ax.tick_params(axis='both', which='major', labelsize=15)\n",
    "    \n",
    "    if i % 3 == 0:\n",
    "        ax.set_ylabel('Count', size=16)\n",
    "        \n",
    "    i += 1\n",
    "\n",
    "plt.suptitle('Distributions of features columns (except spectral acceleration)', size=30)\n",
    "plt.tight_layout(pad=5)\n",
    "fig.legend(['Training set original', 'Training dataset without the -999'], fontsize=30, loc='lower right')\n",
    "plt.show()"
   ]
  },
  {
   "cell_type": "markdown",
   "metadata": {},
   "source": [
    "Description of the influence :\n",
    "bablaalbalal"
   ]
  },
  {
   "cell_type": "markdown",
   "metadata": {},
   "source": [
    "### 4.2 Plot the correlation and distribution of the data "
   ]
  },
  {
   "cell_type": "raw",
   "metadata": {},
   "source": [
    "g = sns.PairGrid(df_plot_red.drop(columns='is_pulselike'))\n",
    "g.map_diag(sns.histplot)\n",
    "g.map_lower(sns.scatterplot)"
   ]
  },
  {
   "cell_type": "markdown",
   "metadata": {
    "cell_id": "0de3197d7cfb42d898c089f3e874a009",
    "deepnote_cell_height": 62,
    "deepnote_cell_type": "markdown",
    "tags": []
   },
   "source": [
    "# 5. Data pre-processing"
   ]
  },
  {
   "cell_type": "code",
   "execution_count": 14,
   "metadata": {},
   "outputs": [],
   "source": [
    "IMPORT_INTERP = True\n",
    "\n",
    "if IMPORT_INTERP :\n",
    "    df_X_train = pd.read_csv(\"project-data-interpolated-corrected/df_X_train.csv\", index_col=0)\n",
    "    df_X_test = pd.read_csv(\"project-data-interpolated-corrected/df_X_test.csv\", index_col=0)\n",
    "    df_X_val = pd.read_csv(\"project-data-interpolated-corrected/df_X_val.csv\", index_col=0)\n",
    "    df_y_train = pd.read_csv(\"project-data-interpolated-corrected/df_y_train.csv\", index_col=0)\n",
    "    df_y_val = pd.read_csv(\"project-data-interpolated-corrected/df_y_val.csv\", index_col=0)"
   ]
  },
  {
   "cell_type": "code",
   "execution_count": null,
   "metadata": {},
   "outputs": [],
   "source": []
  },
  {
   "cell_type": "code",
   "execution_count": 5,
   "metadata": {},
   "outputs": [],
   "source": [
    "DROP = True \n",
    "\n",
    "if DROP :\n",
    "    cols =['magnitude', 'distance_closest', 'lowest_usable_frequency']\n",
    "    df_X_train.drop(columns=cols, inplace=True)\n",
    "    df_X_val.drop(columns=cols, inplace=True)\n",
    "    df_X_test.drop(columns=cols, inplace=True)"
   ]
  },
  {
   "cell_type": "markdown",
   "metadata": {
    "tags": []
   },
   "source": [
    "### 5.1 Boolean to numerical conversion"
   ]
  },
  {
   "cell_type": "code",
   "execution_count": 6,
   "metadata": {},
   "outputs": [],
   "source": [
    "df_X_train = helpers.bool_to_num(df_X_train)\n",
    "df_X_val = helpers.bool_to_num(df_X_val)\n",
    "df_X_test = helpers.bool_to_num(df_X_test)"
   ]
  },
  {
   "cell_type": "code",
   "execution_count": 7,
   "metadata": {},
   "outputs": [],
   "source": [
    "if IMPORT_INTERP:\n",
    "    df_y_train = helpers.bool_to_num(df_y_train)\n",
    "    df_y_val = helpers.bool_to_num(df_y_val)\n",
    "    \n",
    "if not(IMPORT_INTERP):   \n",
    "    df_y_train = helpers.bool_to_num(pd.DataFrame(df_y_train))\n",
    "    df_y_val = helpers.bool_to_num(pd.DataFrame(df_y_val))"
   ]
  },
  {
   "cell_type": "markdown",
   "metadata": {
    "tags": []
   },
   "source": [
    "### 5.2 Pandas to Numpy conversion"
   ]
  },
  {
   "cell_type": "code",
   "execution_count": 8,
   "metadata": {},
   "outputs": [],
   "source": [
    "X_train = helpers.numpy_converter(df_X_train)\n",
    "X_val = helpers.numpy_converter(df_X_val)\n",
    "X_test = helpers.numpy_converter(df_X_test)\n",
    "\n",
    "y_train_final = helpers.numpy_converter(df_y_train)\n",
    "y_val_final = helpers.numpy_converter(df_y_val)"
   ]
  },
  {
   "cell_type": "markdown",
   "metadata": {
    "tags": []
   },
   "source": [
    "### 5.3 Normalization"
   ]
  },
  {
   "cell_type": "code",
   "execution_count": 9,
   "metadata": {},
   "outputs": [],
   "source": [
    "sc = StandardScaler()\n",
    "sc.fit(X_train)\n",
    "X_train_final = sc.transform(X_train)\n",
    "X_val_final = sc.transform(X_val)\n",
    "X_test_final = sc.transform(X_test)"
   ]
  },
  {
   "cell_type": "markdown",
   "metadata": {
    "tags": []
   },
   "source": [
    "### 5.4 Principal Component Analysis"
   ]
  },
  {
   "cell_type": "markdown",
   "metadata": {},
   "source": [
    "Fit and tranform the data to reduce the number of features (`features` to `PC`)"
   ]
  },
  {
   "cell_type": "markdown",
   "metadata": {
    "tags": []
   },
   "source": [
    "#### PCA with all the features and without the -999 rows"
   ]
  },
  {
   "cell_type": "raw",
   "metadata": {},
   "source": [
    "pca = PCA(n_components=0.95)\n",
    "#pca = PCA(n_components=5)\n",
    "pca.fit(X_train)\n",
    "X_train_pca = pca.transform(X_train)"
   ]
  },
  {
   "cell_type": "raw",
   "metadata": {},
   "source": [
    "# number of components\n",
    "pca_nber = pca.components_.shape[0]\n",
    "\n",
    "# get the index of the most important feature on EACH component\n",
    "most_important = [np.abs(pca.components_[i]).argmax() for i in range(pca_nber)]\n",
    "\n",
    "feature_names = df_X_train.columns\n",
    "# get the names\n",
    "most_important_names = [feature_names[most_important[i]] for i in range(pca_nber)]\n",
    "\n",
    "# LIST COMPREHENSION HERE AGAIN\n",
    "dic = {'PC{}'.format(i): most_important_names[i] for i in range(pca_nber)}\n",
    "dic\n",
    "\n",
    "# build the dataframe\n",
    "pca_features = pd.DataFrame(dic.items(), columns=['PCA', 'max_var_feature'])\n",
    "pca_features['var_explained_by_PC'] = pca.explained_variance_ratio_*100\n",
    "pca_features"
   ]
  },
  {
   "cell_type": "raw",
   "metadata": {},
   "source": [
    "pd.DataFrame(np.round(pca.components_, 3), columns=feature_names)"
   ]
  },
  {
   "cell_type": "raw",
   "metadata": {},
   "source": [
    "fig, ax = plt.subplots()\n",
    "ax.plot(np.cumsum(pca_features['var_explained_by_PC']), marker='o', linestyle='dashed',linewidth=2, markersize=12)\n",
    "ax.set_xlabel('Name of components')\n",
    "ax.set_ylabel('Explained variance [%]')\n",
    "ax.set_ylim((50,100))\n",
    "ax.set_xlim((-0.5,pca_nber))\n",
    "ax.set_xticks(np.arange(0,pca_nber))\n",
    "ax.set_xticklabels(pca_features['max_var_feature'], rotation=45)\n",
    "fig.suptitle('')\n",
    "plt.show()"
   ]
  },
  {
   "cell_type": "markdown",
   "metadata": {
    "tags": []
   },
   "source": [
    "#### PCA with the Sa(t) and without the columns contained -999"
   ]
  },
  {
   "cell_type": "raw",
   "metadata": {},
   "source": [
    "#pca_drop = PCA(n_components=0.95)\n",
    "pca_drop = PCA(n_components=50)\n",
    "pca_drop.fit(X_train_final)"
   ]
  },
  {
   "cell_type": "raw",
   "metadata": {},
   "source": [
    "# number of components\n",
    "pca_nber = pca_drop.components_.shape[0]\n",
    "\n",
    "# get the index of the most important feature on EACH component\n",
    "most_important = [np.abs(pca_drop.components_[i]).argmax() for i in range(pca_nber)]\n",
    "\n",
    "feature_names = df_X_train.columns\n",
    "# get the names\n",
    "most_important_names = [feature_names[most_important[i]] for i in range(pca_nber)]\n",
    "\n",
    "# LIST COMPREHENSION HERE AGAIN\n",
    "dic = {'PC{}'.format(i): most_important_names[i] for i in range(pca_nber)}\n",
    "dic\n",
    "\n",
    "# build the dataframe\n",
    "pca_features = pd.DataFrame(dic.items(), columns=['PCA', 'max_var_feature'])\n",
    "pca_features['var_explained_by_PC'] = pca_drop.explained_variance_ratio_*100\n",
    "pca_features"
   ]
  },
  {
   "cell_type": "raw",
   "metadata": {},
   "source": [
    "X_train_final = pca_drop.transform(X_train_final)\n",
    "X_val_final = pca_drop.transform(X_val_final)\n",
    "X_test_final = pca_drop.transform(X_test_final)"
   ]
  },
  {
   "cell_type": "markdown",
   "metadata": {
    "cell_id": "9febfdf56b374f99b9717e38fc811df5",
    "deepnote_cell_height": 62,
    "deepnote_cell_type": "markdown",
    "tags": []
   },
   "source": [
    "# 6. Machine Learning Models"
   ]
  },
  {
   "cell_type": "markdown",
   "metadata": {
    "cell_id": "0afa1762c3154c71a4967cefbb84d462",
    "deepnote_cell_height": 54,
    "deepnote_cell_type": "markdown",
    "tags": []
   },
   "source": [
    "## Neural Network"
   ]
  },
  {
   "cell_type": "markdown",
   "metadata": {
    "cell_id": "6f660f1d6b7e49c39187b328777cb0c7",
    "deepnote_cell_height": 81,
    "deepnote_cell_type": "code",
    "deepnote_to_be_reexecuted": true,
    "source_hash": "b623e53d",
    "tags": []
   },
   "source": [
    "### 6.1 Define the hyperparameters"
   ]
  },
  {
   "cell_type": "code",
   "execution_count": 10,
   "metadata": {},
   "outputs": [],
   "source": [
    "#number times that the learning algorithm will work through the entire training dataset\n",
    "epochs = 30     \n",
    "\n",
    "#number of samples to work through before updating the internal model parameters\n",
    "batch_size =128  #if 64 slower but similar results\n",
    "\n",
    "#\n",
    "lr = 0.01 \n",
    "\n",
    "#\n",
    "weight_decay = 1e-5 #if 1e-1 less overfitting and curves loss are closer but worst results\n",
    "\n",
    "#\n",
    "batch_norm_momentum = 0.1 #not good if bigger\n",
    "\n",
    "\n",
    "#randomly zeroes some of the elements of the input tensor during training with probability=dropout using a Bernoulli distribution\n",
    "dropout=0.1    #small is better \n",
    "\n",
    "#\n",
    "coef_sheduler = 0.60 #0.60 best results, if increased -->  training accuracy above 0.83 but increases overfitting so worst final result"
   ]
  },
  {
   "cell_type": "markdown",
   "metadata": {
    "tags": []
   },
   "source": [
    "### 6.2 Data as a PyTorch Dataset class"
   ]
  },
  {
   "cell_type": "markdown",
   "metadata": {
    "tags": []
   },
   "source": [
    "#### Define the Dataset class for each dataset"
   ]
  },
  {
   "cell_type": "code",
   "execution_count": 11,
   "metadata": {},
   "outputs": [],
   "source": [
    "class TrainData(Dataset):\n",
    "    \n",
    "    def __init__(self, X_data, y_data): #for initialization operations (reading and preprocess data)\n",
    "        self.X_data = X_data\n",
    "        self.y_data = y_data\n",
    "        \n",
    "    def __getitem__(self, index):  #returns data in batches\n",
    "        return self.X_data[index], self.y_data[index]\n",
    "        \n",
    "    def __len__ (self):\n",
    "        return len(self.X_data)"
   ]
  },
  {
   "cell_type": "code",
   "execution_count": 12,
   "metadata": {},
   "outputs": [],
   "source": [
    "class ValData(Dataset):\n",
    "    def __init__(self, X_data, y_data): #for initialization operations (reading and preprocess data)\n",
    "        self.X_data = X_data\n",
    "        self.y_data = y_data\n",
    "        \n",
    "    def __getitem__(self, index):  #returns data in batches\n",
    "        return self.X_data[index], self.y_data[index]\n",
    "        \n",
    "    def __len__ (self):\n",
    "        return len(self.X_data)"
   ]
  },
  {
   "cell_type": "code",
   "execution_count": 13,
   "metadata": {},
   "outputs": [],
   "source": [
    "class TestData(Dataset):\n",
    "    \n",
    "    def __init__(self, X_data):\n",
    "        self.X_data = X_data\n",
    "        \n",
    "    def __getitem__(self, index):\n",
    "        return self.X_data[index]\n",
    "        \n",
    "    def __len__ (self):\n",
    "        return len(self.X_data)"
   ]
  },
  {
   "cell_type": "markdown",
   "metadata": {},
   "source": [
    "#### Create the data classes"
   ]
  },
  {
   "cell_type": "code",
   "execution_count": 14,
   "metadata": {},
   "outputs": [],
   "source": [
    "train_data = TrainData(torch.FloatTensor(X_train_final), torch.FloatTensor(y_train_final))\n",
    "val_data = ValData(torch.FloatTensor(X_val_final), torch.FloatTensor(y_val_final))\n",
    "test_data = TestData(torch.FloatTensor(X_test_final))"
   ]
  },
  {
   "cell_type": "markdown",
   "metadata": {},
   "source": [
    "#### Load the data as DataLoader class"
   ]
  },
  {
   "cell_type": "markdown",
   "metadata": {},
   "source": [
    "To be able to use mini-batch for the gradient descent, the data must be configured with the DataLoader \\\n",
    "The `batch_size` is defined as a hyperparameter at the beginning of the section"
   ]
  },
  {
   "cell_type": "code",
   "execution_count": 15,
   "metadata": {},
   "outputs": [],
   "source": [
    "train_loader = DataLoader(dataset=train_data, batch_size=batch_size, shuffle=True)\n",
    "val_loader = DataLoader(dataset=val_data, batch_size=X_val_final.shape[0], shuffle=True)\n",
    "test_loader = DataLoader(dataset=test_data, batch_size=1, shuffle=False)"
   ]
  },
  {
   "cell_type": "markdown",
   "metadata": {},
   "source": [
    "### 6.3 Model Setup"
   ]
  },
  {
   "cell_type": "markdown",
   "metadata": {},
   "source": [
    "#### 6.3.1 The Model"
   ]
  },
  {
   "cell_type": "markdown",
   "metadata": {},
   "source": [
    "#### Define the model class"
   ]
  },
  {
   "cell_type": "code",
   "execution_count": 16,
   "metadata": {},
   "outputs": [],
   "source": [
    "class Model(nn.Module):\n",
    "\n",
    "    def __init__(self):\n",
    "        super(Model, self).__init__()\n",
    "        self.l1 = nn.Linear(X_train_final.shape[1], 80)\n",
    "        self.bnm1 = nn.BatchNorm1d(80, momentum=batch_norm_momentum)\n",
    "        self.l2 = nn.Linear(80, 30)\n",
    "        self.bnm2 = nn.BatchNorm1d(30, momentum=batch_norm_momentum)\n",
    "        self.l3 = nn.Linear(30, 20)\n",
    "        self.bnm3 = nn.BatchNorm1d(20, momentum=batch_norm_momentum)\n",
    "        self.l4 = nn.Linear(20, 1)\n",
    "       \n",
    "        \n",
    "        self.dropout = nn.Dropout(dropout)\n",
    "        \n",
    "        self.Relu = nn.ReLU()\n",
    "        \n",
    "        self.initialize_weights()\n",
    "\n",
    "    def forward(self, x):\n",
    "        x = self.Relu(self.l1(x))\n",
    "        x = self.dropout(x)\n",
    "        x = self.bnm1(x)\n",
    "        x = self.Relu(self.l2(x))\n",
    "        x = self.dropout(x)\n",
    "        x = self.bnm2(x)\n",
    "        x = self.Relu(self.l3(x))\n",
    "        x = self.dropout(x)\n",
    "        x = self.bnm3(x)\n",
    "        y_pred = self.l4(x)\n",
    "        return y_pred\n",
    "    \n",
    "    def initialize_weights(self):  \n",
    "        for m in self.modules():\n",
    "            if isinstance(m,nn.Linear):\n",
    "                nn.init.kaiming_uniform_(m.weight)\n",
    "                nn.init.constant_(m.bias,0)"
   ]
  },
  {
   "cell_type": "markdown",
   "metadata": {
    "tags": []
   },
   "source": [
    "#### Create the model from the class"
   ]
  },
  {
   "cell_type": "code",
   "execution_count": 17,
   "metadata": {},
   "outputs": [],
   "source": [
    "model = Model()"
   ]
  },
  {
   "cell_type": "markdown",
   "metadata": {},
   "source": [
    "Use the GPU if available otherwise the CPU"
   ]
  },
  {
   "cell_type": "code",
   "execution_count": 18,
   "metadata": {},
   "outputs": [],
   "source": [
    "device = torch.device(\"cuda:0\" if torch.cuda.is_available() else \"cpu\")"
   ]
  },
  {
   "cell_type": "markdown",
   "metadata": {},
   "source": [
    "Move model on the GPU if active"
   ]
  },
  {
   "cell_type": "code",
   "execution_count": 19,
   "metadata": {},
   "outputs": [
    {
     "data": {
      "text/plain": [
       "Model(\n",
       "  (l1): Linear(in_features=112, out_features=80, bias=True)\n",
       "  (bnm1): BatchNorm1d(80, eps=1e-05, momentum=0.1, affine=True, track_running_stats=True)\n",
       "  (l2): Linear(in_features=80, out_features=30, bias=True)\n",
       "  (bnm2): BatchNorm1d(30, eps=1e-05, momentum=0.1, affine=True, track_running_stats=True)\n",
       "  (l3): Linear(in_features=30, out_features=20, bias=True)\n",
       "  (bnm3): BatchNorm1d(20, eps=1e-05, momentum=0.1, affine=True, track_running_stats=True)\n",
       "  (l4): Linear(in_features=20, out_features=1, bias=True)\n",
       "  (dropout): Dropout(p=0.1, inplace=False)\n",
       "  (Relu): ReLU()\n",
       ")"
      ]
     },
     "execution_count": 19,
     "metadata": {},
     "output_type": "execute_result"
    }
   ],
   "source": [
    "model.to(device)"
   ]
  },
  {
   "cell_type": "markdown",
   "metadata": {
    "tags": []
   },
   "source": [
    "#### 6.3.2 Specify the optimizer "
   ]
  },
  {
   "cell_type": "markdown",
   "metadata": {},
   "source": [
    "Write about Adam optimizer, maybe add few formulas to describe or idk"
   ]
  },
  {
   "cell_type": "code",
   "execution_count": 20,
   "metadata": {},
   "outputs": [],
   "source": [
    "optimizer = optim.Adam(model.parameters(), lr=lr , weight_decay=weight_decay)"
   ]
  },
  {
   "cell_type": "markdown",
   "metadata": {
    "tags": []
   },
   "source": [
    "#### 6.3.3 Specify the loss function"
   ]
  },
  {
   "cell_type": "markdown",
   "metadata": {},
   "source": [
    "write also about this loss function"
   ]
  },
  {
   "cell_type": "code",
   "execution_count": 21,
   "metadata": {},
   "outputs": [],
   "source": [
    "criterion = nn.BCEWithLogitsLoss()"
   ]
  },
  {
   "cell_type": "markdown",
   "metadata": {},
   "source": [
    "#### 6.3.4 Adjust learning rate"
   ]
  },
  {
   "cell_type": "markdown",
   "metadata": {},
   "source": [
    "explain chosen scheduler etc "
   ]
  },
  {
   "cell_type": "code",
   "execution_count": 22,
   "metadata": {},
   "outputs": [],
   "source": [
    "lambda_scheduler = lambda epoch: coef_sheduler ** epoch\n",
    "scheduler = torch.optim.lr_scheduler.LambdaLR(optimizer, lr_lambda=lambda_scheduler)\n"
   ]
  },
  {
   "cell_type": "markdown",
   "metadata": {
    "tags": []
   },
   "source": [
    "#### 6.3.4 Accuracy calculation"
   ]
  },
  {
   "cell_type": "code",
   "execution_count": 23,
   "metadata": {},
   "outputs": [],
   "source": [
    "def b_acc(y_pred, y_test):\n",
    "    y_pred_tag = torch.round(torch.sigmoid(y_pred))\n",
    "\n",
    "    correct_results_sum = (y_pred_tag == y_test).sum().float()\n",
    "    acc = correct_results_sum/y_test.shape[0]\n",
    "    acc = acc * 100\n",
    "    \n",
    "    return acc"
   ]
  },
  {
   "cell_type": "markdown",
   "metadata": {
    "tags": []
   },
   "source": [
    "### 6.4 Training"
   ]
  },
  {
   "cell_type": "markdown",
   "metadata": {
    "tags": []
   },
   "source": [
    "#### Create a function to train the model and validate it at each epoch"
   ]
  },
  {
   "cell_type": "code",
   "execution_count": 24,
   "metadata": {},
   "outputs": [],
   "source": [
    "def train(model: torch.nn.Module, train_loader: torch.utils.data.DataLoader, val_loader: torch.utils.data.DataLoader, loss_fn: torch.nn.Module, optimizer: torch.optim.Optimizer, epochs: int):\n",
    "    accs_train = []\n",
    "    losses_train = []\n",
    "    accs_val = []\n",
    "    losses_val = []\n",
    "    \n",
    "    for e in range(1, epochs+1):\n",
    "        epoch_loss_train = 0\n",
    "        epoch_acc_train = 0\n",
    "        epoch_loss_val = 0\n",
    "        epoch_acc_val = 0\n",
    "        \n",
    "        #TRAINING LOOP FOR EACH EPOCH\n",
    "        model.train()\n",
    "        for X_batch, y_batch in train_loader:\n",
    "            X_batch, y_batch = X_batch.to(device), y_batch.to(device)\n",
    "            optimizer.zero_grad()\n",
    "\n",
    "            y_pred = model(X_batch)\n",
    "\n",
    "            loss = criterion(y_pred, y_batch)\n",
    "            acc_train = b_acc(y_pred, y_batch)\n",
    "            \n",
    "            loss.backward()\n",
    "            optimizer.step()\n",
    "\n",
    "            epoch_loss_train += loss.item()\n",
    "            epoch_acc_train += acc_train.item()\n",
    "            \n",
    "        scheduler.step()\n",
    "        \n",
    "        losses_train.append(epoch_loss_train/len(train_loader))\n",
    "        accs_train.append(epoch_acc_train/len(train_loader))\n",
    "        \n",
    "    \n",
    "        #VALIDATION LOOP FOR EACH EPOCH\n",
    "        model.eval()\n",
    "        with torch.no_grad():\n",
    "            for X_batch, y_batch in val_loader:\n",
    "                X_batch, y_batch = X_batch.to(device), y_batch.to(device)\n",
    "\n",
    "                y_val_pred = model(X_batch)\n",
    "\n",
    "                loss_val = criterion(y_val_pred, y_batch)\n",
    "                acc_val = b_acc(y_val_pred, y_batch)\n",
    "\n",
    "                epoch_loss_val += loss_val.item()\n",
    "                epoch_acc_val += acc_val.item()\n",
    "\n",
    "            losses_val.append(epoch_loss_val/len(val_loader))\n",
    "            accs_val.append(epoch_acc_val/len(val_loader))          \n",
    "        \n",
    "        print(f'Epoch {e+0:03}: | Train Loss: {epoch_loss_train/len(train_loader):.5f} | Val Loss: {epoch_loss_val/len(val_loader):.5f} | Train Acc: {epoch_acc_train/len(train_loader):.3f} | Val Acc: {epoch_acc_val/len(val_loader):.3f}')\n",
    "    return losses_train, accs_train, losses_val, accs_val"
   ]
  },
  {
   "cell_type": "markdown",
   "metadata": {},
   "source": [
    "#### Train the model"
   ]
  },
  {
   "cell_type": "code",
   "execution_count": 25,
   "metadata": {},
   "outputs": [
    {
     "name": "stdout",
     "output_type": "stream",
     "text": [
      "Epoch 001: | Train Loss: 0.41517 | Val Loss: 0.39412 | Train Acc: 80.476 | Val Acc: 80.374\n",
      "Epoch 002: | Train Loss: 0.39314 | Val Loss: 0.38400 | Train Acc: 81.466 | Val Acc: 81.608\n",
      "Epoch 003: | Train Loss: 0.38709 | Val Loss: 0.38820 | Train Acc: 81.820 | Val Acc: 81.011\n",
      "Epoch 004: | Train Loss: 0.38184 | Val Loss: 0.38141 | Train Acc: 81.951 | Val Acc: 81.290\n",
      "Epoch 005: | Train Loss: 0.37782 | Val Loss: 0.37892 | Train Acc: 82.227 | Val Acc: 81.967\n",
      "Epoch 006: | Train Loss: 0.37467 | Val Loss: 0.38439 | Train Acc: 82.301 | Val Acc: 81.887\n",
      "Epoch 007: | Train Loss: 0.37375 | Val Loss: 0.37928 | Train Acc: 82.358 | Val Acc: 81.847\n",
      "Epoch 008: | Train Loss: 0.37221 | Val Loss: 0.38228 | Train Acc: 82.505 | Val Acc: 81.688\n",
      "Epoch 009: | Train Loss: 0.37139 | Val Loss: 0.38243 | Train Acc: 82.524 | Val Acc: 81.807\n",
      "Epoch 010: | Train Loss: 0.37098 | Val Loss: 0.37941 | Train Acc: 82.532 | Val Acc: 82.365\n",
      "Epoch 011: | Train Loss: 0.37064 | Val Loss: 0.37849 | Train Acc: 82.610 | Val Acc: 81.688\n",
      "Epoch 012: | Train Loss: 0.37002 | Val Loss: 0.37601 | Train Acc: 82.505 | Val Acc: 82.086\n",
      "Epoch 013: | Train Loss: 0.37036 | Val Loss: 0.38739 | Train Acc: 82.648 | Val Acc: 81.608\n",
      "Epoch 014: | Train Loss: 0.37021 | Val Loss: 0.37353 | Train Acc: 82.575 | Val Acc: 81.648\n",
      "Epoch 015: | Train Loss: 0.37122 | Val Loss: 0.39028 | Train Acc: 82.598 | Val Acc: 81.967\n",
      "Epoch 016: | Train Loss: 0.37129 | Val Loss: 0.37885 | Train Acc: 82.550 | Val Acc: 81.807\n",
      "Epoch 017: | Train Loss: 0.37058 | Val Loss: 0.38053 | Train Acc: 82.587 | Val Acc: 82.205\n",
      "Epoch 018: | Train Loss: 0.37023 | Val Loss: 0.38626 | Train Acc: 82.546 | Val Acc: 81.608\n",
      "Epoch 019: | Train Loss: 0.37014 | Val Loss: 0.37838 | Train Acc: 82.636 | Val Acc: 82.046\n",
      "Epoch 020: | Train Loss: 0.37083 | Val Loss: 0.37403 | Train Acc: 82.622 | Val Acc: 82.046\n",
      "Epoch 021: | Train Loss: 0.37082 | Val Loss: 0.38267 | Train Acc: 82.605 | Val Acc: 81.728\n",
      "Epoch 022: | Train Loss: 0.37002 | Val Loss: 0.37753 | Train Acc: 82.620 | Val Acc: 81.927\n",
      "Epoch 023: | Train Loss: 0.36989 | Val Loss: 0.38092 | Train Acc: 82.612 | Val Acc: 82.365\n",
      "Epoch 024: | Train Loss: 0.37121 | Val Loss: 0.38350 | Train Acc: 82.556 | Val Acc: 81.489\n",
      "Epoch 025: | Train Loss: 0.37001 | Val Loss: 0.37760 | Train Acc: 82.606 | Val Acc: 81.847\n",
      "Epoch 026: | Train Loss: 0.37080 | Val Loss: 0.38472 | Train Acc: 82.534 | Val Acc: 81.409\n",
      "Epoch 027: | Train Loss: 0.36976 | Val Loss: 0.38123 | Train Acc: 82.635 | Val Acc: 81.449\n",
      "Epoch 028: | Train Loss: 0.36986 | Val Loss: 0.37946 | Train Acc: 82.605 | Val Acc: 81.728\n",
      "Epoch 029: | Train Loss: 0.37032 | Val Loss: 0.38416 | Train Acc: 82.753 | Val Acc: 81.688\n",
      "Epoch 030: | Train Loss: 0.37032 | Val Loss: 0.37841 | Train Acc: 82.553 | Val Acc: 82.086\n"
     ]
    }
   ],
   "source": [
    "loss_train, acc_train, loss_val, acc_val =  train(model, train_loader, val_loader, criterion, optimizer, epochs)"
   ]
  },
  {
   "cell_type": "markdown",
   "metadata": {},
   "source": [
    "### 6.5 Validation"
   ]
  },
  {
   "cell_type": "markdown",
   "metadata": {},
   "source": [
    "Plot the evolution of the loss and the accuracy with the epoch"
   ]
  },
  {
   "cell_type": "code",
   "execution_count": 26,
   "metadata": {},
   "outputs": [
    {
     "data": {
      "text/plain": [
       "Text(0, 0.5, 'Accuracy')"
      ]
     },
     "execution_count": 26,
     "metadata": {},
     "output_type": "execute_result"
    },
    {
     "data": {
      "image/png": "[encoded data removed]",
      "text/plain": [
       "<Figure size 1008x432 with 2 Axes>"
      ]
     },
     "metadata": {},
     "output_type": "display_data"
    }
   ],
   "source": [
    "fig, ax = plt.subplots(nrows=1, ncols=2, figsize=(14,6))\n",
    "\n",
    "ax[0].set_title('Loss with respect to epochs')\n",
    "ax[0].plot(loss_train)\n",
    "ax[0].plot(loss_val)\n",
    "ax[0].legend(['Training', 'Validation'])\n",
    "ax[0].set_xlabel('epochs')\n",
    "ax[0].set_ylabel('Loss')\n",
    "\n",
    "ax[1].set_title('Accuracy with respect to epochs')\n",
    "ax[1].plot(acc_train)\n",
    "ax[1].plot(acc_val)\n",
    "ax[1].legend(['Training', 'Validation'])\n",
    "ax[1].set_xlabel('epochs')\n",
    "ax[1].set_ylabel('Accuracy')"
   ]
  },
  {
   "cell_type": "markdown",
   "metadata": {},
   "source": [
    "### 6.6 Testing"
   ]
  },
  {
   "cell_type": "markdown",
   "metadata": {},
   "source": [
    "Function to test the model"
   ]
  },
  {
   "cell_type": "code",
   "execution_count": 27,
   "metadata": {},
   "outputs": [],
   "source": [
    "def test(model: torch.nn.Module, dataloader: torch.utils.data.DataLoader):\n",
    "    model.eval()\n",
    "        \n",
    "    y_pred_test = [] #initialize vector with predictions\n",
    "   \n",
    "    with torch.no_grad():\n",
    "        for X_batch in test_loader:\n",
    "            X_batch = X_batch.to(device)\n",
    "            y_test_pred = model(X_batch)\n",
    "            y_test_pred = torch.sigmoid(y_test_pred)\n",
    "            y_pred_tag = torch.round(y_test_pred)\n",
    "            y_pred_test.append(y_pred_tag.cpu().numpy())\n",
    "\n",
    "    y_pred_test = [int(a.squeeze().tolist()) for a in y_pred_test]\n",
    "    return y_pred_test"
   ]
  },
  {
   "cell_type": "markdown",
   "metadata": {},
   "source": [
    "Test the model"
   ]
  },
  {
   "cell_type": "code",
   "execution_count": 28,
   "metadata": {},
   "outputs": [],
   "source": [
    "label = pd.DataFrame(test(model,test_loader))\n",
    "label.columns = [\"label\"]"
   ]
  },
  {
   "cell_type": "markdown",
   "metadata": {},
   "source": [
    "Overview of the results"
   ]
  },
  {
   "cell_type": "code",
   "execution_count": 29,
   "metadata": {},
   "outputs": [
    {
     "name": "stdout",
     "output_type": "stream",
     "text": [
      "Number of predicted 0 is: 23594 \n",
      "Number of predicted 1 is: 24758 \n"
     ]
    }
   ],
   "source": [
    "count0 = (label['label'] == 0).sum()\n",
    "count1 = (label['label'] == 1).sum()\n",
    "print(\"Number of predicted 0 is: {} \".format(count0))\n",
    "print(\"Number of predicted 1 is: {} \".format(count1))"
   ]
  },
  {
   "cell_type": "markdown",
   "metadata": {},
   "source": [
    "Export the results as .csv"
   ]
  },
  {
   "cell_type": "code",
   "execution_count": null,
   "metadata": {},
   "outputs": [],
   "source": [
    "EXPORT = True\n",
    "if EXPORT:\n",
    "    label.to_csv(\"out/label.csv\", index = False, header = True)"
   ]
  },
  {
   "cell_type": "code",
   "execution_count": null,
   "metadata": {},
   "outputs": [],
   "source": []
  }
 ],
 "metadata": {
  "deepnote": {},
  "deepnote_execution_queue": [],
  "deepnote_notebook_id": "467bb249-6bb0-4cbe-9174-230bf93e90fd",
  "kernelspec": {
   "display_name": "Python 3 (ipykernel)",
   "language": "python",
   "name": "python3"
  },
  "language_info": {
   "codemirror_mode": {
    "name": "ipython",
    "version": 3
   },
   "file_extension": ".py",
   "mimetype": "text/x-python",
   "name": "python",
   "nbconvert_exporter": "python",
   "pygments_lexer": "ipython3",
   "version": "3.8.12"
  },
  "widgets": {
   "application/vnd.jupyter.widget-state+json": {
    "state": {},
    "version_major": 2,
    "version_minor": 0
   }
  }
 },
 "nbformat": 4,
 "nbformat_minor": 4
}
