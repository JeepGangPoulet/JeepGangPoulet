{
 "cells": [
  {
   "cell_type": "markdown",
   "id": "52fc83a5-7aa8-4d59-a24d-90def154020b",
   "metadata": {},
   "source": [
    "$N_h = \\frac{N_s} {(\\alpha * (N_i + N_o))}$ and $\\alpha = 2-10$"
   ]
  },
  {
   "cell_type": "code",
   "execution_count": 6,
   "id": "a9c06fff-4150-429f-b170-d18847f955c2",
   "metadata": {},
   "outputs": [
    {
     "name": "stdout",
     "output_type": "stream",
     "text": [
      "504.8965517241379\n"
     ]
    }
   ],
   "source": [
    "Ns = 117136 #number of samples in train\n",
    "Ni = 115  #number of input neurons\n",
    "No = 1 #number of output neurons\n",
    "alpha = 2 #coeff between 2 and 10\n",
    "\n",
    "Nh = Ns/(alpha*(Ni+No)) #number of neurons to not exceed to prevent overfitting\n",
    "print(Nh)"
   ]
  }
 ],
 "metadata": {
  "kernelspec": {
   "display_name": "Python 3 (ipykernel)",
   "language": "python",
   "name": "python3"
  },
  "language_info": {
   "codemirror_mode": {
    "name": "ipython",
    "version": 3
   },
   "file_extension": ".py",
   "mimetype": "text/x-python",
   "name": "python",
   "nbconvert_exporter": "python",
   "pygments_lexer": "ipython3",
   "version": "3.8.12"
  },
  "widgets": {
   "application/vnd.jupyter.widget-state+json": {
    "state": {},
    "version_major": 2,
    "version_minor": 0
   }
  }
 },
 "nbformat": 4,
 "nbformat_minor": 5
}
